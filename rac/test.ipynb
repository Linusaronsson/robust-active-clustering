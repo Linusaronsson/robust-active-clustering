{
 "cells": [
  {
   "cell_type": "code",
   "execution_count": 6,
   "metadata": {},
   "outputs": [],
   "source": [
    "config = {\n",
    "    \"general_options\": {\n",
    "        \"experiment_name\": \"maxexp_experiment\",\n",
    "        \"num_repeats\": 15,\n",
    "        \"n_workers\": 15,\n",
    "        \"local\": False,\n",
    "        \"verbose\": False\n",
    "    },\n",
    "    \"experiment_options\": {\n",
    "        \"seed\": 33,\n",
    "        \"num_feedback\": 5,\n",
    "        \"noise_level\": [0.0, 0.2, 0.3, 0.4],\n",
    "        \"persistent_noise_level\": [0.0],\n",
    "        \"force_global_update\": True,\n",
    "        \"save_matrix_data\": False\n",
    "    },\n",
    "    \"sim_init_options\": {\n",
    "        \"K_init\": 10,\n",
    "        \"sim_init\": 0.1,\n",
    "        \"sim_init_type\": [\"custom\", \"uniform_random\"]\n",
    "    },\n",
    "    \"query_strategy_options\": {\n",
    "        \"query_strategy\": [\"random\", \"frequency\", \"uncertainty\", \"maxmin\", \"maxexp\"],\n",
    "        \"cluster_query_strategy\": [\"global\", \"inconsistency\"],\n",
    "        \"eps\": [0.0, 0.3],\n",
    "        \"beta\": 1,\n",
    "        \"tau\": [-1, 10],\n",
    "        \"alpha\": 1,\n",
    "        \"soft_cluster_selection\": False,\n",
    "        \"normalize\": True,\n",
    "    },\n",
    "    \"dataset_options\": {\n",
    "        \"dataset\": \"synthetic\",\n",
    "        \"n_samples\": 250,\n",
    "        \"n_clusters\": 10,\n",
    "        \"class_balance\": None,\n",
    "    }\n",
    "}"
   ]
  },
  {
   "cell_type": "code",
   "execution_count": 7,
   "metadata": {},
   "outputs": [
    {
     "name": "stdout",
     "output_type": "stream",
     "text": [
      "start filtering\n",
      "{'seed': 33, 'num_feedback': 5, 'noise_level': 0.0, 'persistent_noise_level': 0.0, 'force_global_update': True, 'save_matrix_data': False, 'K_init': 10, 'sim_init': 0.1, 'sim_init_type': 'custom', 'eps': 0.0, 'beta': 1, 'tau': -1, 'alpha': 1, 'soft_cluster_selection': False, 'normalize': True, 'dataset': 'synthetic', 'n_samples': 250, 'n_clusters': 10, 'class_balance': None, 'query_strategy': ['random', 'frequency', 'uncertainty', 'maxmin', 'maxexp'], 'cluster_query_strategy': ['global', 'inconsistency'], 'metric': 'rand'}\n",
      "end filtering\n",
      "start filtering\n",
      "{'seed': 33, 'num_feedback': 5, 'noise_level': 0.0, 'persistent_noise_level': 0.0, 'force_global_update': True, 'save_matrix_data': False, 'K_init': 10, 'sim_init': 0.1, 'sim_init_type': 'custom', 'eps': 0.0, 'beta': 1, 'tau': -1, 'alpha': 1, 'soft_cluster_selection': False, 'normalize': True, 'dataset': 'synthetic', 'n_samples': 250, 'n_clusters': 10, 'class_balance': None, 'query_strategy': ['random', 'frequency', 'uncertainty', 'maxmin', 'maxexp'], 'cluster_query_strategy': ['global', 'inconsistency'], 'metric': 'ami'}\n",
      "end filtering\n",
      "start filtering\n",
      "{'seed': 33, 'num_feedback': 5, 'noise_level': 0.0, 'persistent_noise_level': 0.0, 'force_global_update': True, 'save_matrix_data': False, 'K_init': 10, 'sim_init': 0.1, 'sim_init_type': 'custom', 'eps': 0.0, 'beta': 1, 'tau': 10, 'alpha': 1, 'soft_cluster_selection': False, 'normalize': True, 'dataset': 'synthetic', 'n_samples': 250, 'n_clusters': 10, 'class_balance': None, 'query_strategy': ['random', 'frequency', 'uncertainty', 'maxmin', 'maxexp'], 'cluster_query_strategy': ['global', 'inconsistency'], 'metric': 'rand'}\n",
      "end filtering\n",
      "start filtering\n",
      "{'seed': 33, 'num_feedback': 5, 'noise_level': 0.0, 'persistent_noise_level': 0.0, 'force_global_update': True, 'save_matrix_data': False, 'K_init': 10, 'sim_init': 0.1, 'sim_init_type': 'custom', 'eps': 0.0, 'beta': 1, 'tau': 10, 'alpha': 1, 'soft_cluster_selection': False, 'normalize': True, 'dataset': 'synthetic', 'n_samples': 250, 'n_clusters': 10, 'class_balance': None, 'query_strategy': ['random', 'frequency', 'uncertainty', 'maxmin', 'maxexp'], 'cluster_query_strategy': ['global', 'inconsistency'], 'metric': 'ami'}\n",
      "end filtering\n",
      "start filtering\n",
      "{'seed': 33, 'num_feedback': 5, 'noise_level': 0.0, 'persistent_noise_level': 0.0, 'force_global_update': True, 'save_matrix_data': False, 'K_init': 10, 'sim_init': 0.1, 'sim_init_type': 'custom', 'eps': 0.3, 'beta': 1, 'tau': -1, 'alpha': 1, 'soft_cluster_selection': False, 'normalize': True, 'dataset': 'synthetic', 'n_samples': 250, 'n_clusters': 10, 'class_balance': None, 'query_strategy': ['random', 'frequency', 'uncertainty', 'maxmin', 'maxexp'], 'cluster_query_strategy': ['global', 'inconsistency'], 'metric': 'rand'}\n",
      "end filtering\n",
      "start filtering\n",
      "{'seed': 33, 'num_feedback': 5, 'noise_level': 0.0, 'persistent_noise_level': 0.0, 'force_global_update': True, 'save_matrix_data': False, 'K_init': 10, 'sim_init': 0.1, 'sim_init_type': 'custom', 'eps': 0.3, 'beta': 1, 'tau': -1, 'alpha': 1, 'soft_cluster_selection': False, 'normalize': True, 'dataset': 'synthetic', 'n_samples': 250, 'n_clusters': 10, 'class_balance': None, 'query_strategy': ['random', 'frequency', 'uncertainty', 'maxmin', 'maxexp'], 'cluster_query_strategy': ['global', 'inconsistency'], 'metric': 'ami'}\n",
      "end filtering\n",
      "start filtering\n",
      "{'seed': 33, 'num_feedback': 5, 'noise_level': 0.0, 'persistent_noise_level': 0.0, 'force_global_update': True, 'save_matrix_data': False, 'K_init': 10, 'sim_init': 0.1, 'sim_init_type': 'custom', 'eps': 0.3, 'beta': 1, 'tau': 10, 'alpha': 1, 'soft_cluster_selection': False, 'normalize': True, 'dataset': 'synthetic', 'n_samples': 250, 'n_clusters': 10, 'class_balance': None, 'query_strategy': ['random', 'frequency', 'uncertainty', 'maxmin', 'maxexp'], 'cluster_query_strategy': ['global', 'inconsistency'], 'metric': 'rand'}\n",
      "end filtering\n",
      "start filtering\n",
      "{'seed': 33, 'num_feedback': 5, 'noise_level': 0.0, 'persistent_noise_level': 0.0, 'force_global_update': True, 'save_matrix_data': False, 'K_init': 10, 'sim_init': 0.1, 'sim_init_type': 'custom', 'eps': 0.3, 'beta': 1, 'tau': 10, 'alpha': 1, 'soft_cluster_selection': False, 'normalize': True, 'dataset': 'synthetic', 'n_samples': 250, 'n_clusters': 10, 'class_balance': None, 'query_strategy': ['random', 'frequency', 'uncertainty', 'maxmin', 'maxexp'], 'cluster_query_strategy': ['global', 'inconsistency'], 'metric': 'ami'}\n",
      "end filtering\n",
      "start filtering\n",
      "{'seed': 33, 'num_feedback': 5, 'noise_level': 0.0, 'persistent_noise_level': 0.0, 'force_global_update': True, 'save_matrix_data': False, 'K_init': 10, 'sim_init': 0.1, 'sim_init_type': 'uniform_random', 'eps': 0.0, 'beta': 1, 'tau': -1, 'alpha': 1, 'soft_cluster_selection': False, 'normalize': True, 'dataset': 'synthetic', 'n_samples': 250, 'n_clusters': 10, 'class_balance': None, 'query_strategy': ['random', 'frequency', 'uncertainty', 'maxmin', 'maxexp'], 'cluster_query_strategy': ['global', 'inconsistency'], 'metric': 'rand'}\n",
      "end filtering\n",
      "start filtering\n",
      "{'seed': 33, 'num_feedback': 5, 'noise_level': 0.0, 'persistent_noise_level': 0.0, 'force_global_update': True, 'save_matrix_data': False, 'K_init': 10, 'sim_init': 0.1, 'sim_init_type': 'uniform_random', 'eps': 0.0, 'beta': 1, 'tau': -1, 'alpha': 1, 'soft_cluster_selection': False, 'normalize': True, 'dataset': 'synthetic', 'n_samples': 250, 'n_clusters': 10, 'class_balance': None, 'query_strategy': ['random', 'frequency', 'uncertainty', 'maxmin', 'maxexp'], 'cluster_query_strategy': ['global', 'inconsistency'], 'metric': 'ami'}\n",
      "end filtering\n",
      "start filtering\n",
      "{'seed': 33, 'num_feedback': 5, 'noise_level': 0.0, 'persistent_noise_level': 0.0, 'force_global_update': True, 'save_matrix_data': False, 'K_init': 10, 'sim_init': 0.1, 'sim_init_type': 'uniform_random', 'eps': 0.0, 'beta': 1, 'tau': 10, 'alpha': 1, 'soft_cluster_selection': False, 'normalize': True, 'dataset': 'synthetic', 'n_samples': 250, 'n_clusters': 10, 'class_balance': None, 'query_strategy': ['random', 'frequency', 'uncertainty', 'maxmin', 'maxexp'], 'cluster_query_strategy': ['global', 'inconsistency'], 'metric': 'rand'}\n",
      "end filtering\n",
      "start filtering\n",
      "{'seed': 33, 'num_feedback': 5, 'noise_level': 0.0, 'persistent_noise_level': 0.0, 'force_global_update': True, 'save_matrix_data': False, 'K_init': 10, 'sim_init': 0.1, 'sim_init_type': 'uniform_random', 'eps': 0.0, 'beta': 1, 'tau': 10, 'alpha': 1, 'soft_cluster_selection': False, 'normalize': True, 'dataset': 'synthetic', 'n_samples': 250, 'n_clusters': 10, 'class_balance': None, 'query_strategy': ['random', 'frequency', 'uncertainty', 'maxmin', 'maxexp'], 'cluster_query_strategy': ['global', 'inconsistency'], 'metric': 'ami'}\n",
      "end filtering\n",
      "start filtering\n",
      "{'seed': 33, 'num_feedback': 5, 'noise_level': 0.0, 'persistent_noise_level': 0.0, 'force_global_update': True, 'save_matrix_data': False, 'K_init': 10, 'sim_init': 0.1, 'sim_init_type': 'uniform_random', 'eps': 0.3, 'beta': 1, 'tau': -1, 'alpha': 1, 'soft_cluster_selection': False, 'normalize': True, 'dataset': 'synthetic', 'n_samples': 250, 'n_clusters': 10, 'class_balance': None, 'query_strategy': ['random', 'frequency', 'uncertainty', 'maxmin', 'maxexp'], 'cluster_query_strategy': ['global', 'inconsistency'], 'metric': 'rand'}\n",
      "end filtering\n",
      "start filtering\n",
      "{'seed': 33, 'num_feedback': 5, 'noise_level': 0.0, 'persistent_noise_level': 0.0, 'force_global_update': True, 'save_matrix_data': False, 'K_init': 10, 'sim_init': 0.1, 'sim_init_type': 'uniform_random', 'eps': 0.3, 'beta': 1, 'tau': -1, 'alpha': 1, 'soft_cluster_selection': False, 'normalize': True, 'dataset': 'synthetic', 'n_samples': 250, 'n_clusters': 10, 'class_balance': None, 'query_strategy': ['random', 'frequency', 'uncertainty', 'maxmin', 'maxexp'], 'cluster_query_strategy': ['global', 'inconsistency'], 'metric': 'ami'}\n",
      "end filtering\n",
      "start filtering\n",
      "{'seed': 33, 'num_feedback': 5, 'noise_level': 0.0, 'persistent_noise_level': 0.0, 'force_global_update': True, 'save_matrix_data': False, 'K_init': 10, 'sim_init': 0.1, 'sim_init_type': 'uniform_random', 'eps': 0.3, 'beta': 1, 'tau': 10, 'alpha': 1, 'soft_cluster_selection': False, 'normalize': True, 'dataset': 'synthetic', 'n_samples': 250, 'n_clusters': 10, 'class_balance': None, 'query_strategy': ['random', 'frequency', 'uncertainty', 'maxmin', 'maxexp'], 'cluster_query_strategy': ['global', 'inconsistency'], 'metric': 'rand'}\n",
      "end filtering\n",
      "start filtering\n",
      "{'seed': 33, 'num_feedback': 5, 'noise_level': 0.0, 'persistent_noise_level': 0.0, 'force_global_update': True, 'save_matrix_data': False, 'K_init': 10, 'sim_init': 0.1, 'sim_init_type': 'uniform_random', 'eps': 0.3, 'beta': 1, 'tau': 10, 'alpha': 1, 'soft_cluster_selection': False, 'normalize': True, 'dataset': 'synthetic', 'n_samples': 250, 'n_clusters': 10, 'class_balance': None, 'query_strategy': ['random', 'frequency', 'uncertainty', 'maxmin', 'maxexp'], 'cluster_query_strategy': ['global', 'inconsistency'], 'metric': 'ami'}\n",
      "end filtering\n",
      "start filtering\n",
      "{'seed': 33, 'num_feedback': 5, 'noise_level': 0.2, 'persistent_noise_level': 0.0, 'force_global_update': True, 'save_matrix_data': False, 'K_init': 10, 'sim_init': 0.1, 'sim_init_type': 'custom', 'eps': 0.0, 'beta': 1, 'tau': -1, 'alpha': 1, 'soft_cluster_selection': False, 'normalize': True, 'dataset': 'synthetic', 'n_samples': 250, 'n_clusters': 10, 'class_balance': None, 'query_strategy': ['random', 'frequency', 'uncertainty', 'maxmin', 'maxexp'], 'cluster_query_strategy': ['global', 'inconsistency'], 'metric': 'rand'}\n",
      "end filtering\n",
      "start filtering\n",
      "{'seed': 33, 'num_feedback': 5, 'noise_level': 0.2, 'persistent_noise_level': 0.0, 'force_global_update': True, 'save_matrix_data': False, 'K_init': 10, 'sim_init': 0.1, 'sim_init_type': 'custom', 'eps': 0.0, 'beta': 1, 'tau': -1, 'alpha': 1, 'soft_cluster_selection': False, 'normalize': True, 'dataset': 'synthetic', 'n_samples': 250, 'n_clusters': 10, 'class_balance': None, 'query_strategy': ['random', 'frequency', 'uncertainty', 'maxmin', 'maxexp'], 'cluster_query_strategy': ['global', 'inconsistency'], 'metric': 'ami'}\n",
      "end filtering\n",
      "start filtering\n",
      "{'seed': 33, 'num_feedback': 5, 'noise_level': 0.2, 'persistent_noise_level': 0.0, 'force_global_update': True, 'save_matrix_data': False, 'K_init': 10, 'sim_init': 0.1, 'sim_init_type': 'custom', 'eps': 0.0, 'beta': 1, 'tau': 10, 'alpha': 1, 'soft_cluster_selection': False, 'normalize': True, 'dataset': 'synthetic', 'n_samples': 250, 'n_clusters': 10, 'class_balance': None, 'query_strategy': ['random', 'frequency', 'uncertainty', 'maxmin', 'maxexp'], 'cluster_query_strategy': ['global', 'inconsistency'], 'metric': 'rand'}\n",
      "end filtering\n",
      "start filtering\n",
      "{'seed': 33, 'num_feedback': 5, 'noise_level': 0.2, 'persistent_noise_level': 0.0, 'force_global_update': True, 'save_matrix_data': False, 'K_init': 10, 'sim_init': 0.1, 'sim_init_type': 'custom', 'eps': 0.0, 'beta': 1, 'tau': 10, 'alpha': 1, 'soft_cluster_selection': False, 'normalize': True, 'dataset': 'synthetic', 'n_samples': 250, 'n_clusters': 10, 'class_balance': None, 'query_strategy': ['random', 'frequency', 'uncertainty', 'maxmin', 'maxexp'], 'cluster_query_strategy': ['global', 'inconsistency'], 'metric': 'ami'}\n",
      "end filtering\n",
      "start filtering\n",
      "{'seed': 33, 'num_feedback': 5, 'noise_level': 0.2, 'persistent_noise_level': 0.0, 'force_global_update': True, 'save_matrix_data': False, 'K_init': 10, 'sim_init': 0.1, 'sim_init_type': 'custom', 'eps': 0.3, 'beta': 1, 'tau': -1, 'alpha': 1, 'soft_cluster_selection': False, 'normalize': True, 'dataset': 'synthetic', 'n_samples': 250, 'n_clusters': 10, 'class_balance': None, 'query_strategy': ['random', 'frequency', 'uncertainty', 'maxmin', 'maxexp'], 'cluster_query_strategy': ['global', 'inconsistency'], 'metric': 'rand'}\n",
      "end filtering\n",
      "start filtering\n",
      "{'seed': 33, 'num_feedback': 5, 'noise_level': 0.2, 'persistent_noise_level': 0.0, 'force_global_update': True, 'save_matrix_data': False, 'K_init': 10, 'sim_init': 0.1, 'sim_init_type': 'custom', 'eps': 0.3, 'beta': 1, 'tau': -1, 'alpha': 1, 'soft_cluster_selection': False, 'normalize': True, 'dataset': 'synthetic', 'n_samples': 250, 'n_clusters': 10, 'class_balance': None, 'query_strategy': ['random', 'frequency', 'uncertainty', 'maxmin', 'maxexp'], 'cluster_query_strategy': ['global', 'inconsistency'], 'metric': 'ami'}\n",
      "end filtering\n",
      "start filtering\n",
      "{'seed': 33, 'num_feedback': 5, 'noise_level': 0.2, 'persistent_noise_level': 0.0, 'force_global_update': True, 'save_matrix_data': False, 'K_init': 10, 'sim_init': 0.1, 'sim_init_type': 'custom', 'eps': 0.3, 'beta': 1, 'tau': 10, 'alpha': 1, 'soft_cluster_selection': False, 'normalize': True, 'dataset': 'synthetic', 'n_samples': 250, 'n_clusters': 10, 'class_balance': None, 'query_strategy': ['random', 'frequency', 'uncertainty', 'maxmin', 'maxexp'], 'cluster_query_strategy': ['global', 'inconsistency'], 'metric': 'rand'}\n",
      "end filtering\n",
      "start filtering\n",
      "{'seed': 33, 'num_feedback': 5, 'noise_level': 0.2, 'persistent_noise_level': 0.0, 'force_global_update': True, 'save_matrix_data': False, 'K_init': 10, 'sim_init': 0.1, 'sim_init_type': 'custom', 'eps': 0.3, 'beta': 1, 'tau': 10, 'alpha': 1, 'soft_cluster_selection': False, 'normalize': True, 'dataset': 'synthetic', 'n_samples': 250, 'n_clusters': 10, 'class_balance': None, 'query_strategy': ['random', 'frequency', 'uncertainty', 'maxmin', 'maxexp'], 'cluster_query_strategy': ['global', 'inconsistency'], 'metric': 'ami'}\n",
      "end filtering\n",
      "start filtering\n",
      "{'seed': 33, 'num_feedback': 5, 'noise_level': 0.2, 'persistent_noise_level': 0.0, 'force_global_update': True, 'save_matrix_data': False, 'K_init': 10, 'sim_init': 0.1, 'sim_init_type': 'uniform_random', 'eps': 0.0, 'beta': 1, 'tau': -1, 'alpha': 1, 'soft_cluster_selection': False, 'normalize': True, 'dataset': 'synthetic', 'n_samples': 250, 'n_clusters': 10, 'class_balance': None, 'query_strategy': ['random', 'frequency', 'uncertainty', 'maxmin', 'maxexp'], 'cluster_query_strategy': ['global', 'inconsistency'], 'metric': 'rand'}\n",
      "end filtering\n",
      "start filtering\n",
      "{'seed': 33, 'num_feedback': 5, 'noise_level': 0.2, 'persistent_noise_level': 0.0, 'force_global_update': True, 'save_matrix_data': False, 'K_init': 10, 'sim_init': 0.1, 'sim_init_type': 'uniform_random', 'eps': 0.0, 'beta': 1, 'tau': -1, 'alpha': 1, 'soft_cluster_selection': False, 'normalize': True, 'dataset': 'synthetic', 'n_samples': 250, 'n_clusters': 10, 'class_balance': None, 'query_strategy': ['random', 'frequency', 'uncertainty', 'maxmin', 'maxexp'], 'cluster_query_strategy': ['global', 'inconsistency'], 'metric': 'ami'}\n",
      "end filtering\n",
      "start filtering\n",
      "{'seed': 33, 'num_feedback': 5, 'noise_level': 0.2, 'persistent_noise_level': 0.0, 'force_global_update': True, 'save_matrix_data': False, 'K_init': 10, 'sim_init': 0.1, 'sim_init_type': 'uniform_random', 'eps': 0.0, 'beta': 1, 'tau': 10, 'alpha': 1, 'soft_cluster_selection': False, 'normalize': True, 'dataset': 'synthetic', 'n_samples': 250, 'n_clusters': 10, 'class_balance': None, 'query_strategy': ['random', 'frequency', 'uncertainty', 'maxmin', 'maxexp'], 'cluster_query_strategy': ['global', 'inconsistency'], 'metric': 'rand'}\n",
      "end filtering\n",
      "start filtering\n",
      "{'seed': 33, 'num_feedback': 5, 'noise_level': 0.2, 'persistent_noise_level': 0.0, 'force_global_update': True, 'save_matrix_data': False, 'K_init': 10, 'sim_init': 0.1, 'sim_init_type': 'uniform_random', 'eps': 0.0, 'beta': 1, 'tau': 10, 'alpha': 1, 'soft_cluster_selection': False, 'normalize': True, 'dataset': 'synthetic', 'n_samples': 250, 'n_clusters': 10, 'class_balance': None, 'query_strategy': ['random', 'frequency', 'uncertainty', 'maxmin', 'maxexp'], 'cluster_query_strategy': ['global', 'inconsistency'], 'metric': 'ami'}\n",
      "end filtering\n",
      "start filtering\n",
      "{'seed': 33, 'num_feedback': 5, 'noise_level': 0.2, 'persistent_noise_level': 0.0, 'force_global_update': True, 'save_matrix_data': False, 'K_init': 10, 'sim_init': 0.1, 'sim_init_type': 'uniform_random', 'eps': 0.3, 'beta': 1, 'tau': -1, 'alpha': 1, 'soft_cluster_selection': False, 'normalize': True, 'dataset': 'synthetic', 'n_samples': 250, 'n_clusters': 10, 'class_balance': None, 'query_strategy': ['random', 'frequency', 'uncertainty', 'maxmin', 'maxexp'], 'cluster_query_strategy': ['global', 'inconsistency'], 'metric': 'rand'}\n",
      "end filtering\n",
      "start filtering\n",
      "{'seed': 33, 'num_feedback': 5, 'noise_level': 0.2, 'persistent_noise_level': 0.0, 'force_global_update': True, 'save_matrix_data': False, 'K_init': 10, 'sim_init': 0.1, 'sim_init_type': 'uniform_random', 'eps': 0.3, 'beta': 1, 'tau': -1, 'alpha': 1, 'soft_cluster_selection': False, 'normalize': True, 'dataset': 'synthetic', 'n_samples': 250, 'n_clusters': 10, 'class_balance': None, 'query_strategy': ['random', 'frequency', 'uncertainty', 'maxmin', 'maxexp'], 'cluster_query_strategy': ['global', 'inconsistency'], 'metric': 'ami'}\n",
      "end filtering\n",
      "start filtering\n",
      "{'seed': 33, 'num_feedback': 5, 'noise_level': 0.2, 'persistent_noise_level': 0.0, 'force_global_update': True, 'save_matrix_data': False, 'K_init': 10, 'sim_init': 0.1, 'sim_init_type': 'uniform_random', 'eps': 0.3, 'beta': 1, 'tau': 10, 'alpha': 1, 'soft_cluster_selection': False, 'normalize': True, 'dataset': 'synthetic', 'n_samples': 250, 'n_clusters': 10, 'class_balance': None, 'query_strategy': ['random', 'frequency', 'uncertainty', 'maxmin', 'maxexp'], 'cluster_query_strategy': ['global', 'inconsistency'], 'metric': 'rand'}\n",
      "end filtering\n",
      "start filtering\n",
      "{'seed': 33, 'num_feedback': 5, 'noise_level': 0.2, 'persistent_noise_level': 0.0, 'force_global_update': True, 'save_matrix_data': False, 'K_init': 10, 'sim_init': 0.1, 'sim_init_type': 'uniform_random', 'eps': 0.3, 'beta': 1, 'tau': 10, 'alpha': 1, 'soft_cluster_selection': False, 'normalize': True, 'dataset': 'synthetic', 'n_samples': 250, 'n_clusters': 10, 'class_balance': None, 'query_strategy': ['random', 'frequency', 'uncertainty', 'maxmin', 'maxexp'], 'cluster_query_strategy': ['global', 'inconsistency'], 'metric': 'ami'}\n",
      "end filtering\n",
      "start filtering\n",
      "{'seed': 33, 'num_feedback': 5, 'noise_level': 0.3, 'persistent_noise_level': 0.0, 'force_global_update': True, 'save_matrix_data': False, 'K_init': 10, 'sim_init': 0.1, 'sim_init_type': 'custom', 'eps': 0.0, 'beta': 1, 'tau': -1, 'alpha': 1, 'soft_cluster_selection': False, 'normalize': True, 'dataset': 'synthetic', 'n_samples': 250, 'n_clusters': 10, 'class_balance': None, 'query_strategy': ['random', 'frequency', 'uncertainty', 'maxmin', 'maxexp'], 'cluster_query_strategy': ['global', 'inconsistency'], 'metric': 'rand'}\n",
      "end filtering\n",
      "start filtering\n",
      "{'seed': 33, 'num_feedback': 5, 'noise_level': 0.3, 'persistent_noise_level': 0.0, 'force_global_update': True, 'save_matrix_data': False, 'K_init': 10, 'sim_init': 0.1, 'sim_init_type': 'custom', 'eps': 0.0, 'beta': 1, 'tau': -1, 'alpha': 1, 'soft_cluster_selection': False, 'normalize': True, 'dataset': 'synthetic', 'n_samples': 250, 'n_clusters': 10, 'class_balance': None, 'query_strategy': ['random', 'frequency', 'uncertainty', 'maxmin', 'maxexp'], 'cluster_query_strategy': ['global', 'inconsistency'], 'metric': 'ami'}\n",
      "end filtering\n",
      "start filtering\n",
      "{'seed': 33, 'num_feedback': 5, 'noise_level': 0.3, 'persistent_noise_level': 0.0, 'force_global_update': True, 'save_matrix_data': False, 'K_init': 10, 'sim_init': 0.1, 'sim_init_type': 'custom', 'eps': 0.0, 'beta': 1, 'tau': 10, 'alpha': 1, 'soft_cluster_selection': False, 'normalize': True, 'dataset': 'synthetic', 'n_samples': 250, 'n_clusters': 10, 'class_balance': None, 'query_strategy': ['random', 'frequency', 'uncertainty', 'maxmin', 'maxexp'], 'cluster_query_strategy': ['global', 'inconsistency'], 'metric': 'rand'}\n",
      "end filtering\n",
      "start filtering\n",
      "{'seed': 33, 'num_feedback': 5, 'noise_level': 0.3, 'persistent_noise_level': 0.0, 'force_global_update': True, 'save_matrix_data': False, 'K_init': 10, 'sim_init': 0.1, 'sim_init_type': 'custom', 'eps': 0.0, 'beta': 1, 'tau': 10, 'alpha': 1, 'soft_cluster_selection': False, 'normalize': True, 'dataset': 'synthetic', 'n_samples': 250, 'n_clusters': 10, 'class_balance': None, 'query_strategy': ['random', 'frequency', 'uncertainty', 'maxmin', 'maxexp'], 'cluster_query_strategy': ['global', 'inconsistency'], 'metric': 'ami'}\n",
      "end filtering\n",
      "start filtering\n",
      "{'seed': 33, 'num_feedback': 5, 'noise_level': 0.3, 'persistent_noise_level': 0.0, 'force_global_update': True, 'save_matrix_data': False, 'K_init': 10, 'sim_init': 0.1, 'sim_init_type': 'custom', 'eps': 0.3, 'beta': 1, 'tau': -1, 'alpha': 1, 'soft_cluster_selection': False, 'normalize': True, 'dataset': 'synthetic', 'n_samples': 250, 'n_clusters': 10, 'class_balance': None, 'query_strategy': ['random', 'frequency', 'uncertainty', 'maxmin', 'maxexp'], 'cluster_query_strategy': ['global', 'inconsistency'], 'metric': 'rand'}\n",
      "end filtering\n",
      "start filtering\n",
      "{'seed': 33, 'num_feedback': 5, 'noise_level': 0.3, 'persistent_noise_level': 0.0, 'force_global_update': True, 'save_matrix_data': False, 'K_init': 10, 'sim_init': 0.1, 'sim_init_type': 'custom', 'eps': 0.3, 'beta': 1, 'tau': -1, 'alpha': 1, 'soft_cluster_selection': False, 'normalize': True, 'dataset': 'synthetic', 'n_samples': 250, 'n_clusters': 10, 'class_balance': None, 'query_strategy': ['random', 'frequency', 'uncertainty', 'maxmin', 'maxexp'], 'cluster_query_strategy': ['global', 'inconsistency'], 'metric': 'ami'}\n",
      "end filtering\n",
      "start filtering\n",
      "{'seed': 33, 'num_feedback': 5, 'noise_level': 0.3, 'persistent_noise_level': 0.0, 'force_global_update': True, 'save_matrix_data': False, 'K_init': 10, 'sim_init': 0.1, 'sim_init_type': 'custom', 'eps': 0.3, 'beta': 1, 'tau': 10, 'alpha': 1, 'soft_cluster_selection': False, 'normalize': True, 'dataset': 'synthetic', 'n_samples': 250, 'n_clusters': 10, 'class_balance': None, 'query_strategy': ['random', 'frequency', 'uncertainty', 'maxmin', 'maxexp'], 'cluster_query_strategy': ['global', 'inconsistency'], 'metric': 'rand'}\n",
      "end filtering\n",
      "start filtering\n",
      "{'seed': 33, 'num_feedback': 5, 'noise_level': 0.3, 'persistent_noise_level': 0.0, 'force_global_update': True, 'save_matrix_data': False, 'K_init': 10, 'sim_init': 0.1, 'sim_init_type': 'custom', 'eps': 0.3, 'beta': 1, 'tau': 10, 'alpha': 1, 'soft_cluster_selection': False, 'normalize': True, 'dataset': 'synthetic', 'n_samples': 250, 'n_clusters': 10, 'class_balance': None, 'query_strategy': ['random', 'frequency', 'uncertainty', 'maxmin', 'maxexp'], 'cluster_query_strategy': ['global', 'inconsistency'], 'metric': 'ami'}\n",
      "end filtering\n",
      "start filtering\n",
      "{'seed': 33, 'num_feedback': 5, 'noise_level': 0.3, 'persistent_noise_level': 0.0, 'force_global_update': True, 'save_matrix_data': False, 'K_init': 10, 'sim_init': 0.1, 'sim_init_type': 'uniform_random', 'eps': 0.0, 'beta': 1, 'tau': -1, 'alpha': 1, 'soft_cluster_selection': False, 'normalize': True, 'dataset': 'synthetic', 'n_samples': 250, 'n_clusters': 10, 'class_balance': None, 'query_strategy': ['random', 'frequency', 'uncertainty', 'maxmin', 'maxexp'], 'cluster_query_strategy': ['global', 'inconsistency'], 'metric': 'rand'}\n",
      "end filtering\n",
      "start filtering\n",
      "{'seed': 33, 'num_feedback': 5, 'noise_level': 0.3, 'persistent_noise_level': 0.0, 'force_global_update': True, 'save_matrix_data': False, 'K_init': 10, 'sim_init': 0.1, 'sim_init_type': 'uniform_random', 'eps': 0.0, 'beta': 1, 'tau': -1, 'alpha': 1, 'soft_cluster_selection': False, 'normalize': True, 'dataset': 'synthetic', 'n_samples': 250, 'n_clusters': 10, 'class_balance': None, 'query_strategy': ['random', 'frequency', 'uncertainty', 'maxmin', 'maxexp'], 'cluster_query_strategy': ['global', 'inconsistency'], 'metric': 'ami'}\n",
      "end filtering\n",
      "start filtering\n",
      "{'seed': 33, 'num_feedback': 5, 'noise_level': 0.3, 'persistent_noise_level': 0.0, 'force_global_update': True, 'save_matrix_data': False, 'K_init': 10, 'sim_init': 0.1, 'sim_init_type': 'uniform_random', 'eps': 0.0, 'beta': 1, 'tau': 10, 'alpha': 1, 'soft_cluster_selection': False, 'normalize': True, 'dataset': 'synthetic', 'n_samples': 250, 'n_clusters': 10, 'class_balance': None, 'query_strategy': ['random', 'frequency', 'uncertainty', 'maxmin', 'maxexp'], 'cluster_query_strategy': ['global', 'inconsistency'], 'metric': 'rand'}\n",
      "end filtering\n",
      "start filtering\n",
      "{'seed': 33, 'num_feedback': 5, 'noise_level': 0.3, 'persistent_noise_level': 0.0, 'force_global_update': True, 'save_matrix_data': False, 'K_init': 10, 'sim_init': 0.1, 'sim_init_type': 'uniform_random', 'eps': 0.0, 'beta': 1, 'tau': 10, 'alpha': 1, 'soft_cluster_selection': False, 'normalize': True, 'dataset': 'synthetic', 'n_samples': 250, 'n_clusters': 10, 'class_balance': None, 'query_strategy': ['random', 'frequency', 'uncertainty', 'maxmin', 'maxexp'], 'cluster_query_strategy': ['global', 'inconsistency'], 'metric': 'ami'}\n",
      "end filtering\n",
      "start filtering\n",
      "{'seed': 33, 'num_feedback': 5, 'noise_level': 0.3, 'persistent_noise_level': 0.0, 'force_global_update': True, 'save_matrix_data': False, 'K_init': 10, 'sim_init': 0.1, 'sim_init_type': 'uniform_random', 'eps': 0.3, 'beta': 1, 'tau': -1, 'alpha': 1, 'soft_cluster_selection': False, 'normalize': True, 'dataset': 'synthetic', 'n_samples': 250, 'n_clusters': 10, 'class_balance': None, 'query_strategy': ['random', 'frequency', 'uncertainty', 'maxmin', 'maxexp'], 'cluster_query_strategy': ['global', 'inconsistency'], 'metric': 'rand'}\n",
      "end filtering\n",
      "start filtering\n",
      "{'seed': 33, 'num_feedback': 5, 'noise_level': 0.3, 'persistent_noise_level': 0.0, 'force_global_update': True, 'save_matrix_data': False, 'K_init': 10, 'sim_init': 0.1, 'sim_init_type': 'uniform_random', 'eps': 0.3, 'beta': 1, 'tau': -1, 'alpha': 1, 'soft_cluster_selection': False, 'normalize': True, 'dataset': 'synthetic', 'n_samples': 250, 'n_clusters': 10, 'class_balance': None, 'query_strategy': ['random', 'frequency', 'uncertainty', 'maxmin', 'maxexp'], 'cluster_query_strategy': ['global', 'inconsistency'], 'metric': 'ami'}\n",
      "end filtering\n",
      "start filtering\n",
      "{'seed': 33, 'num_feedback': 5, 'noise_level': 0.3, 'persistent_noise_level': 0.0, 'force_global_update': True, 'save_matrix_data': False, 'K_init': 10, 'sim_init': 0.1, 'sim_init_type': 'uniform_random', 'eps': 0.3, 'beta': 1, 'tau': 10, 'alpha': 1, 'soft_cluster_selection': False, 'normalize': True, 'dataset': 'synthetic', 'n_samples': 250, 'n_clusters': 10, 'class_balance': None, 'query_strategy': ['random', 'frequency', 'uncertainty', 'maxmin', 'maxexp'], 'cluster_query_strategy': ['global', 'inconsistency'], 'metric': 'rand'}\n",
      "end filtering\n",
      "start filtering\n",
      "{'seed': 33, 'num_feedback': 5, 'noise_level': 0.3, 'persistent_noise_level': 0.0, 'force_global_update': True, 'save_matrix_data': False, 'K_init': 10, 'sim_init': 0.1, 'sim_init_type': 'uniform_random', 'eps': 0.3, 'beta': 1, 'tau': 10, 'alpha': 1, 'soft_cluster_selection': False, 'normalize': True, 'dataset': 'synthetic', 'n_samples': 250, 'n_clusters': 10, 'class_balance': None, 'query_strategy': ['random', 'frequency', 'uncertainty', 'maxmin', 'maxexp'], 'cluster_query_strategy': ['global', 'inconsistency'], 'metric': 'ami'}\n",
      "end filtering\n",
      "start filtering\n",
      "{'seed': 33, 'num_feedback': 5, 'noise_level': 0.4, 'persistent_noise_level': 0.0, 'force_global_update': True, 'save_matrix_data': False, 'K_init': 10, 'sim_init': 0.1, 'sim_init_type': 'custom', 'eps': 0.0, 'beta': 1, 'tau': -1, 'alpha': 1, 'soft_cluster_selection': False, 'normalize': True, 'dataset': 'synthetic', 'n_samples': 250, 'n_clusters': 10, 'class_balance': None, 'query_strategy': ['random', 'frequency', 'uncertainty', 'maxmin', 'maxexp'], 'cluster_query_strategy': ['global', 'inconsistency'], 'metric': 'rand'}\n",
      "end filtering\n",
      "start filtering\n",
      "{'seed': 33, 'num_feedback': 5, 'noise_level': 0.4, 'persistent_noise_level': 0.0, 'force_global_update': True, 'save_matrix_data': False, 'K_init': 10, 'sim_init': 0.1, 'sim_init_type': 'custom', 'eps': 0.0, 'beta': 1, 'tau': -1, 'alpha': 1, 'soft_cluster_selection': False, 'normalize': True, 'dataset': 'synthetic', 'n_samples': 250, 'n_clusters': 10, 'class_balance': None, 'query_strategy': ['random', 'frequency', 'uncertainty', 'maxmin', 'maxexp'], 'cluster_query_strategy': ['global', 'inconsistency'], 'metric': 'ami'}\n",
      "end filtering\n",
      "start filtering\n",
      "{'seed': 33, 'num_feedback': 5, 'noise_level': 0.4, 'persistent_noise_level': 0.0, 'force_global_update': True, 'save_matrix_data': False, 'K_init': 10, 'sim_init': 0.1, 'sim_init_type': 'custom', 'eps': 0.0, 'beta': 1, 'tau': 10, 'alpha': 1, 'soft_cluster_selection': False, 'normalize': True, 'dataset': 'synthetic', 'n_samples': 250, 'n_clusters': 10, 'class_balance': None, 'query_strategy': ['random', 'frequency', 'uncertainty', 'maxmin', 'maxexp'], 'cluster_query_strategy': ['global', 'inconsistency'], 'metric': 'rand'}\n",
      "end filtering\n",
      "start filtering\n",
      "{'seed': 33, 'num_feedback': 5, 'noise_level': 0.4, 'persistent_noise_level': 0.0, 'force_global_update': True, 'save_matrix_data': False, 'K_init': 10, 'sim_init': 0.1, 'sim_init_type': 'custom', 'eps': 0.0, 'beta': 1, 'tau': 10, 'alpha': 1, 'soft_cluster_selection': False, 'normalize': True, 'dataset': 'synthetic', 'n_samples': 250, 'n_clusters': 10, 'class_balance': None, 'query_strategy': ['random', 'frequency', 'uncertainty', 'maxmin', 'maxexp'], 'cluster_query_strategy': ['global', 'inconsistency'], 'metric': 'ami'}\n",
      "end filtering\n",
      "start filtering\n",
      "{'seed': 33, 'num_feedback': 5, 'noise_level': 0.4, 'persistent_noise_level': 0.0, 'force_global_update': True, 'save_matrix_data': False, 'K_init': 10, 'sim_init': 0.1, 'sim_init_type': 'custom', 'eps': 0.3, 'beta': 1, 'tau': -1, 'alpha': 1, 'soft_cluster_selection': False, 'normalize': True, 'dataset': 'synthetic', 'n_samples': 250, 'n_clusters': 10, 'class_balance': None, 'query_strategy': ['random', 'frequency', 'uncertainty', 'maxmin', 'maxexp'], 'cluster_query_strategy': ['global', 'inconsistency'], 'metric': 'rand'}\n",
      "end filtering\n",
      "start filtering\n",
      "{'seed': 33, 'num_feedback': 5, 'noise_level': 0.4, 'persistent_noise_level': 0.0, 'force_global_update': True, 'save_matrix_data': False, 'K_init': 10, 'sim_init': 0.1, 'sim_init_type': 'custom', 'eps': 0.3, 'beta': 1, 'tau': -1, 'alpha': 1, 'soft_cluster_selection': False, 'normalize': True, 'dataset': 'synthetic', 'n_samples': 250, 'n_clusters': 10, 'class_balance': None, 'query_strategy': ['random', 'frequency', 'uncertainty', 'maxmin', 'maxexp'], 'cluster_query_strategy': ['global', 'inconsistency'], 'metric': 'ami'}\n",
      "end filtering\n",
      "start filtering\n",
      "{'seed': 33, 'num_feedback': 5, 'noise_level': 0.4, 'persistent_noise_level': 0.0, 'force_global_update': True, 'save_matrix_data': False, 'K_init': 10, 'sim_init': 0.1, 'sim_init_type': 'custom', 'eps': 0.3, 'beta': 1, 'tau': 10, 'alpha': 1, 'soft_cluster_selection': False, 'normalize': True, 'dataset': 'synthetic', 'n_samples': 250, 'n_clusters': 10, 'class_balance': None, 'query_strategy': ['random', 'frequency', 'uncertainty', 'maxmin', 'maxexp'], 'cluster_query_strategy': ['global', 'inconsistency'], 'metric': 'rand'}\n",
      "end filtering\n",
      "start filtering\n",
      "{'seed': 33, 'num_feedback': 5, 'noise_level': 0.4, 'persistent_noise_level': 0.0, 'force_global_update': True, 'save_matrix_data': False, 'K_init': 10, 'sim_init': 0.1, 'sim_init_type': 'custom', 'eps': 0.3, 'beta': 1, 'tau': 10, 'alpha': 1, 'soft_cluster_selection': False, 'normalize': True, 'dataset': 'synthetic', 'n_samples': 250, 'n_clusters': 10, 'class_balance': None, 'query_strategy': ['random', 'frequency', 'uncertainty', 'maxmin', 'maxexp'], 'cluster_query_strategy': ['global', 'inconsistency'], 'metric': 'ami'}\n",
      "end filtering\n",
      "start filtering\n",
      "{'seed': 33, 'num_feedback': 5, 'noise_level': 0.4, 'persistent_noise_level': 0.0, 'force_global_update': True, 'save_matrix_data': False, 'K_init': 10, 'sim_init': 0.1, 'sim_init_type': 'uniform_random', 'eps': 0.0, 'beta': 1, 'tau': -1, 'alpha': 1, 'soft_cluster_selection': False, 'normalize': True, 'dataset': 'synthetic', 'n_samples': 250, 'n_clusters': 10, 'class_balance': None, 'query_strategy': ['random', 'frequency', 'uncertainty', 'maxmin', 'maxexp'], 'cluster_query_strategy': ['global', 'inconsistency'], 'metric': 'rand'}\n",
      "end filtering\n",
      "start filtering\n",
      "{'seed': 33, 'num_feedback': 5, 'noise_level': 0.4, 'persistent_noise_level': 0.0, 'force_global_update': True, 'save_matrix_data': False, 'K_init': 10, 'sim_init': 0.1, 'sim_init_type': 'uniform_random', 'eps': 0.0, 'beta': 1, 'tau': -1, 'alpha': 1, 'soft_cluster_selection': False, 'normalize': True, 'dataset': 'synthetic', 'n_samples': 250, 'n_clusters': 10, 'class_balance': None, 'query_strategy': ['random', 'frequency', 'uncertainty', 'maxmin', 'maxexp'], 'cluster_query_strategy': ['global', 'inconsistency'], 'metric': 'ami'}\n",
      "end filtering\n",
      "start filtering\n",
      "{'seed': 33, 'num_feedback': 5, 'noise_level': 0.4, 'persistent_noise_level': 0.0, 'force_global_update': True, 'save_matrix_data': False, 'K_init': 10, 'sim_init': 0.1, 'sim_init_type': 'uniform_random', 'eps': 0.0, 'beta': 1, 'tau': 10, 'alpha': 1, 'soft_cluster_selection': False, 'normalize': True, 'dataset': 'synthetic', 'n_samples': 250, 'n_clusters': 10, 'class_balance': None, 'query_strategy': ['random', 'frequency', 'uncertainty', 'maxmin', 'maxexp'], 'cluster_query_strategy': ['global', 'inconsistency'], 'metric': 'rand'}\n",
      "end filtering\n",
      "start filtering\n",
      "{'seed': 33, 'num_feedback': 5, 'noise_level': 0.4, 'persistent_noise_level': 0.0, 'force_global_update': True, 'save_matrix_data': False, 'K_init': 10, 'sim_init': 0.1, 'sim_init_type': 'uniform_random', 'eps': 0.0, 'beta': 1, 'tau': 10, 'alpha': 1, 'soft_cluster_selection': False, 'normalize': True, 'dataset': 'synthetic', 'n_samples': 250, 'n_clusters': 10, 'class_balance': None, 'query_strategy': ['random', 'frequency', 'uncertainty', 'maxmin', 'maxexp'], 'cluster_query_strategy': ['global', 'inconsistency'], 'metric': 'ami'}\n",
      "end filtering\n",
      "start filtering\n",
      "{'seed': 33, 'num_feedback': 5, 'noise_level': 0.4, 'persistent_noise_level': 0.0, 'force_global_update': True, 'save_matrix_data': False, 'K_init': 10, 'sim_init': 0.1, 'sim_init_type': 'uniform_random', 'eps': 0.3, 'beta': 1, 'tau': -1, 'alpha': 1, 'soft_cluster_selection': False, 'normalize': True, 'dataset': 'synthetic', 'n_samples': 250, 'n_clusters': 10, 'class_balance': None, 'query_strategy': ['random', 'frequency', 'uncertainty', 'maxmin', 'maxexp'], 'cluster_query_strategy': ['global', 'inconsistency'], 'metric': 'rand'}\n",
      "end filtering\n",
      "start filtering\n",
      "{'seed': 33, 'num_feedback': 5, 'noise_level': 0.4, 'persistent_noise_level': 0.0, 'force_global_update': True, 'save_matrix_data': False, 'K_init': 10, 'sim_init': 0.1, 'sim_init_type': 'uniform_random', 'eps': 0.3, 'beta': 1, 'tau': -1, 'alpha': 1, 'soft_cluster_selection': False, 'normalize': True, 'dataset': 'synthetic', 'n_samples': 250, 'n_clusters': 10, 'class_balance': None, 'query_strategy': ['random', 'frequency', 'uncertainty', 'maxmin', 'maxexp'], 'cluster_query_strategy': ['global', 'inconsistency'], 'metric': 'ami'}\n",
      "end filtering\n",
      "start filtering\n",
      "{'seed': 33, 'num_feedback': 5, 'noise_level': 0.4, 'persistent_noise_level': 0.0, 'force_global_update': True, 'save_matrix_data': False, 'K_init': 10, 'sim_init': 0.1, 'sim_init_type': 'uniform_random', 'eps': 0.3, 'beta': 1, 'tau': 10, 'alpha': 1, 'soft_cluster_selection': False, 'normalize': True, 'dataset': 'synthetic', 'n_samples': 250, 'n_clusters': 10, 'class_balance': None, 'query_strategy': ['random', 'frequency', 'uncertainty', 'maxmin', 'maxexp'], 'cluster_query_strategy': ['global', 'inconsistency'], 'metric': 'rand'}\n",
      "end filtering\n",
      "start filtering\n",
      "{'seed': 33, 'num_feedback': 5, 'noise_level': 0.4, 'persistent_noise_level': 0.0, 'force_global_update': True, 'save_matrix_data': False, 'K_init': 10, 'sim_init': 0.1, 'sim_init_type': 'uniform_random', 'eps': 0.3, 'beta': 1, 'tau': 10, 'alpha': 1, 'soft_cluster_selection': False, 'normalize': True, 'dataset': 'synthetic', 'n_samples': 250, 'n_clusters': 10, 'class_balance': None, 'query_strategy': ['random', 'frequency', 'uncertainty', 'maxmin', 'maxexp'], 'cluster_query_strategy': ['global', 'inconsistency'], 'metric': 'ami'}\n",
      "end filtering\n"
     ]
    },
    {
     "data": {
      "text/plain": [
       "<Figure size 640x480 with 0 Axes>"
      ]
     },
     "metadata": {},
     "output_type": "display_data"
    }
   ],
   "source": [
    "from rac.ac_experiment_data import ACExperimentReader\n",
    "metrics = [\"rand\", \"ami\"]\n",
    "ac = ACExperimentReader(metrics=metrics)\n",
    "data = ac.read_all_data(folder=\"../experiment_results/maxexp_experiment\")\n",
    "ac.generate_AL_curves(\n",
    "    data,\n",
    "    save_location=\"../plots\",\n",
    "    categorize=[\"noise_level\", \"sim_init_type\", \"eps\", \"tau\"],\n",
    "    compare=[\"query_strategy\", \"cluster_query_strategy\"], \n",
    "    vary=[\"x\"],\n",
    "    auc=True,\n",
    "    summary_method=\"auc_max_ind\",\n",
    "    indices=[], \n",
    "    threshold=1,\n",
    "    **config\n",
    ")"
   ]
  },
  {
   "cell_type": "code",
   "execution_count": 21,
   "metadata": {},
   "outputs": [
    {
     "data": {
      "text/plain": [
       "<Figure size 7200x7200 with 0 Axes>"
      ]
     },
     "metadata": {},
     "output_type": "display_data"
    }
   ],
   "source": [
    "from rac.ac_experiment_data import ACExperimentReader\n",
    "metrics = [\"rand\", \"ami\"]\n",
    "ac = ACExperimentReader(metrics=metrics)\n",
    "data = ac.read_all_data(folder=\"../experiment_results/maxexp_experiment\")\n",
    "ac.generate_AL_curves(\n",
    "    data,\n",
    "    save_location=\"../plots\",\n",
    "    categorize=[\"sim_init_type\", \"eps\", \"tau\"],\n",
    "    compare=[\"acq_fn\", \"local_regions\"], \n",
    "    vary=[\"noise_level\"],\n",
    "    auc=True,\n",
    "    summary_method=\"auc_max_ind\",\n",
    "    indices=[], \n",
    "    threshold=1,\n",
    "    err_style=\"bars\",\n",
    "    marker=\"o\",\n",
    "    markersize=6,\n",
    "    capsize=6,\n",
    "    linestyle=\"solid\",\n",
    "    **config\n",
    ")"
   ]
  },
  {
   "cell_type": "code",
   "execution_count": null,
   "metadata": {},
   "outputs": [],
   "source": []
  },
  {
   "cell_type": "code",
   "execution_count": 21,
   "metadata": {},
   "outputs": [],
   "source": [
    "config= {\n",
    "    \"general_options\": {\n",
    "        \"experiment_name\": \"TEST_EXPERIMENT\",\n",
    "        \"num_repeats\": 2,\n",
    "        \"n_workers\": 5,\n",
    "        \"local\": True,\n",
    "        \"verbose\": True\n",
    "    },\n",
    "    \"experiment_options\": {\n",
    "        \"seed\": 33,\n",
    "        \"num_feedback\": 0.002,\n",
    "        \"noise_level\": [0.0, 0.4],\n",
    "        \"persistent_noise_level\": 0.0,\n",
    "        \"force_global_update\": True,\n",
    "        \"save_matrix_data\": False,\n",
    "        \"infer_sims\": [False,True],\n",
    "        \"infer_sims2\": [False,True]\n",
    "    },\n",
    "    \"sim_init_options\": {\n",
    "        \"K_init\": 10,\n",
    "        \"sim_init\": 0.1,\n",
    "        \"sim_init_type\": \"custom\"\n",
    "    },\n",
    "    \"query_strategy_options\": {\n",
    "        \"acq_fn\": [\"unif\", \"uncert\", \"freq\", \"incon_ucb\"],\n",
    "        \"local_regions\": [\"pairs\", \"clusters\"],\n",
    "        \"eps\": 0.0,\n",
    "        \"beta\": 1,\n",
    "        \"tau\": -1,\n",
    "        \"alpha\": 1\n",
    "    },\n",
    "    \"dataset_options\": {\n",
    "        \"dataset\": \"synthetic\",\n",
    "        \"n_samples\": 250,\n",
    "        \"n_clusters\": 10,\n",
    "        \"class_balance\": None\n",
    "    }\n",
    "}"
   ]
  },
  {
   "cell_type": "code",
   "execution_count": 22,
   "metadata": {},
   "outputs": [
    {
     "data": {
      "text/plain": [
       "<Figure size 640x480 with 0 Axes>"
      ]
     },
     "metadata": {},
     "output_type": "display_data"
    }
   ],
   "source": [
    "from rac.experiment_data import ExperimentReader\n",
    "metrics = [\"rand\", \"ami\"]\n",
    "ac = ExperimentReader(metrics=metrics)\n",
    "data = ac.read_all_data(folder=\"../experiment_results_local/TEST_EXPERIMENT\")\n",
    "ac.generate_AL_curves(\n",
    "    data,\n",
    "    save_location=\"../plots\",\n",
    "    categorize=[\"sim_init_type\", \"eps\", \"tau\", \"noise_level\"],\n",
    "    compare=[\"acq_fn\", \"local_regions\", \"infer_sims\", \"infer_sims2\"], \n",
    "    vary=[\"x\"],\n",
    "    auc=True,\n",
    "    summary_method=\"auc_max_ind\",\n",
    "    indices=[], \n",
    "    threshold=1,\n",
    "    err_style=\"band\",\n",
    "    marker=\"o\",\n",
    "    markersize=6,\n",
    "    capsize=6,\n",
    "    linestyle=\"solid\",\n",
    "    **config\n",
    ")"
   ]
  },
  {
   "cell_type": "code",
   "execution_count": 13,
   "metadata": {},
   "outputs": [
    {
     "data": {
      "text/plain": [
       "seed                      0\n",
       "num_feedback              0\n",
       "noise_level               0\n",
       "persistent_noise_level    0\n",
       "force_global_update       0\n",
       "save_matrix_data          0\n",
       "infer_sims                0\n",
       "K_init                    0\n",
       "sim_init                  0\n",
       "sim_init_type             0\n",
       "acq_fn                    0\n",
       "local_regions             0\n",
       "eps                       0\n",
       "beta                      0\n",
       "tau                       0\n",
       "alpha                     0\n",
       "dataset                   0\n",
       "n_samples                 0\n",
       "n_clusters                0\n",
       "class_balance             8\n",
       "rand                      0\n",
       "ami                       0\n",
       "dtype: int64"
      ]
     },
     "execution_count": 13,
     "metadata": {},
     "output_type": "execute_result"
    }
   ],
   "source": [
    "data.isnull().sum()"
   ]
  },
  {
   "cell_type": "code",
   "execution_count": 16,
   "metadata": {},
   "outputs": [
    {
     "ename": "KeyError",
     "evalue": "'infer_sims2'",
     "output_type": "error",
     "traceback": [
      "\u001b[1;31m---------------------------------------------------------------------------\u001b[0m",
      "\u001b[1;31mKeyError\u001b[0m                                  Traceback (most recent call last)",
      "\u001b[1;32mc:\\Users\\Linus\\anaconda3\\lib\\site-packages\\pandas\\core\\indexes\\base.py\u001b[0m in \u001b[0;36mget_loc\u001b[1;34m(self, key, method, tolerance)\u001b[0m\n\u001b[0;32m   3628\u001b[0m             \u001b[1;32mtry\u001b[0m\u001b[1;33m:\u001b[0m\u001b[1;33m\u001b[0m\u001b[1;33m\u001b[0m\u001b[0m\n\u001b[1;32m-> 3629\u001b[1;33m                 \u001b[1;32mreturn\u001b[0m \u001b[0mself\u001b[0m\u001b[1;33m.\u001b[0m\u001b[0m_engine\u001b[0m\u001b[1;33m.\u001b[0m\u001b[0mget_loc\u001b[0m\u001b[1;33m(\u001b[0m\u001b[0mcasted_key\u001b[0m\u001b[1;33m)\u001b[0m\u001b[1;33m\u001b[0m\u001b[1;33m\u001b[0m\u001b[0m\n\u001b[0m\u001b[0;32m   3630\u001b[0m             \u001b[1;32mexcept\u001b[0m \u001b[0mKeyError\u001b[0m \u001b[1;32mas\u001b[0m \u001b[0merr\u001b[0m\u001b[1;33m:\u001b[0m\u001b[1;33m\u001b[0m\u001b[1;33m\u001b[0m\u001b[0m\n",
      "\u001b[1;32mc:\\Users\\Linus\\anaconda3\\lib\\site-packages\\pandas\\_libs\\index.pyx\u001b[0m in \u001b[0;36mpandas._libs.index.IndexEngine.get_loc\u001b[1;34m()\u001b[0m\n",
      "\u001b[1;32mc:\\Users\\Linus\\anaconda3\\lib\\site-packages\\pandas\\_libs\\index.pyx\u001b[0m in \u001b[0;36mpandas._libs.index.IndexEngine.get_loc\u001b[1;34m()\u001b[0m\n",
      "\u001b[1;32mpandas\\_libs\\hashtable_class_helper.pxi\u001b[0m in \u001b[0;36mpandas._libs.hashtable.PyObjectHashTable.get_item\u001b[1;34m()\u001b[0m\n",
      "\u001b[1;32mpandas\\_libs\\hashtable_class_helper.pxi\u001b[0m in \u001b[0;36mpandas._libs.hashtable.PyObjectHashTable.get_item\u001b[1;34m()\u001b[0m\n",
      "\u001b[1;31mKeyError\u001b[0m: 'infer_sims2'",
      "\nThe above exception was the direct cause of the following exception:\n",
      "\u001b[1;31mKeyError\u001b[0m                                  Traceback (most recent call last)",
      "\u001b[1;32m~\\AppData\\Local\\Temp\\ipykernel_32660\\2237609708.py\u001b[0m in \u001b[0;36m<module>\u001b[1;34m\u001b[0m\n\u001b[1;32m----> 1\u001b[1;33m \u001b[0mdata\u001b[0m\u001b[1;33m[\u001b[0m\u001b[1;34m\"infer_sims2\"\u001b[0m\u001b[1;33m]\u001b[0m\u001b[1;33m\u001b[0m\u001b[1;33m\u001b[0m\u001b[0m\n\u001b[0m",
      "\u001b[1;32mc:\\Users\\Linus\\anaconda3\\lib\\site-packages\\pandas\\core\\frame.py\u001b[0m in \u001b[0;36m__getitem__\u001b[1;34m(self, key)\u001b[0m\n\u001b[0;32m   3503\u001b[0m             \u001b[1;32mif\u001b[0m \u001b[0mself\u001b[0m\u001b[1;33m.\u001b[0m\u001b[0mcolumns\u001b[0m\u001b[1;33m.\u001b[0m\u001b[0mnlevels\u001b[0m \u001b[1;33m>\u001b[0m \u001b[1;36m1\u001b[0m\u001b[1;33m:\u001b[0m\u001b[1;33m\u001b[0m\u001b[1;33m\u001b[0m\u001b[0m\n\u001b[0;32m   3504\u001b[0m                 \u001b[1;32mreturn\u001b[0m \u001b[0mself\u001b[0m\u001b[1;33m.\u001b[0m\u001b[0m_getitem_multilevel\u001b[0m\u001b[1;33m(\u001b[0m\u001b[0mkey\u001b[0m\u001b[1;33m)\u001b[0m\u001b[1;33m\u001b[0m\u001b[1;33m\u001b[0m\u001b[0m\n\u001b[1;32m-> 3505\u001b[1;33m             \u001b[0mindexer\u001b[0m \u001b[1;33m=\u001b[0m \u001b[0mself\u001b[0m\u001b[1;33m.\u001b[0m\u001b[0mcolumns\u001b[0m\u001b[1;33m.\u001b[0m\u001b[0mget_loc\u001b[0m\u001b[1;33m(\u001b[0m\u001b[0mkey\u001b[0m\u001b[1;33m)\u001b[0m\u001b[1;33m\u001b[0m\u001b[1;33m\u001b[0m\u001b[0m\n\u001b[0m\u001b[0;32m   3506\u001b[0m             \u001b[1;32mif\u001b[0m \u001b[0mis_integer\u001b[0m\u001b[1;33m(\u001b[0m\u001b[0mindexer\u001b[0m\u001b[1;33m)\u001b[0m\u001b[1;33m:\u001b[0m\u001b[1;33m\u001b[0m\u001b[1;33m\u001b[0m\u001b[0m\n\u001b[0;32m   3507\u001b[0m                 \u001b[0mindexer\u001b[0m \u001b[1;33m=\u001b[0m \u001b[1;33m[\u001b[0m\u001b[0mindexer\u001b[0m\u001b[1;33m]\u001b[0m\u001b[1;33m\u001b[0m\u001b[1;33m\u001b[0m\u001b[0m\n",
      "\u001b[1;32mc:\\Users\\Linus\\anaconda3\\lib\\site-packages\\pandas\\core\\indexes\\base.py\u001b[0m in \u001b[0;36mget_loc\u001b[1;34m(self, key, method, tolerance)\u001b[0m\n\u001b[0;32m   3629\u001b[0m                 \u001b[1;32mreturn\u001b[0m \u001b[0mself\u001b[0m\u001b[1;33m.\u001b[0m\u001b[0m_engine\u001b[0m\u001b[1;33m.\u001b[0m\u001b[0mget_loc\u001b[0m\u001b[1;33m(\u001b[0m\u001b[0mcasted_key\u001b[0m\u001b[1;33m)\u001b[0m\u001b[1;33m\u001b[0m\u001b[1;33m\u001b[0m\u001b[0m\n\u001b[0;32m   3630\u001b[0m             \u001b[1;32mexcept\u001b[0m \u001b[0mKeyError\u001b[0m \u001b[1;32mas\u001b[0m \u001b[0merr\u001b[0m\u001b[1;33m:\u001b[0m\u001b[1;33m\u001b[0m\u001b[1;33m\u001b[0m\u001b[0m\n\u001b[1;32m-> 3631\u001b[1;33m                 \u001b[1;32mraise\u001b[0m \u001b[0mKeyError\u001b[0m\u001b[1;33m(\u001b[0m\u001b[0mkey\u001b[0m\u001b[1;33m)\u001b[0m \u001b[1;32mfrom\u001b[0m \u001b[0merr\u001b[0m\u001b[1;33m\u001b[0m\u001b[1;33m\u001b[0m\u001b[0m\n\u001b[0m\u001b[0;32m   3632\u001b[0m             \u001b[1;32mexcept\u001b[0m \u001b[0mTypeError\u001b[0m\u001b[1;33m:\u001b[0m\u001b[1;33m\u001b[0m\u001b[1;33m\u001b[0m\u001b[0m\n\u001b[0;32m   3633\u001b[0m                 \u001b[1;31m# If we have a listlike key, _check_indexing_error will raise\u001b[0m\u001b[1;33m\u001b[0m\u001b[1;33m\u001b[0m\u001b[0m\n",
      "\u001b[1;31mKeyError\u001b[0m: 'infer_sims2'"
     ]
    }
   ],
   "source": [
    "data[\"infer_sims2\"]"
   ]
  },
  {
   "cell_type": "code",
   "execution_count": 2,
   "metadata": {},
   "outputs": [],
   "source": [
    "import numpy as np\n",
    "xlocs = [np.log(16*i) for i in range(1, 13)]"
   ]
  },
  {
   "cell_type": "code",
   "execution_count": 3,
   "metadata": {},
   "outputs": [
    {
     "data": {
      "text/plain": [
       "[2.772588722239781,\n",
       " 3.4657359027997265,\n",
       " 3.871201010907891,\n",
       " 4.1588830833596715,\n",
       " 4.382026634673881,\n",
       " 4.564348191467836,\n",
       " 4.718498871295094,\n",
       " 4.852030263919617,\n",
       " 4.969813299576001,\n",
       " 5.075173815233827,\n",
       " 5.170483995038151]"
      ]
     },
     "execution_count": 3,
     "metadata": {},
     "output_type": "execute_result"
    }
   ],
   "source": [
    "xlocs"
   ]
  },
  {
   "cell_type": "code",
   "execution_count": 8,
   "metadata": {},
   "outputs": [],
   "source": [
    "import numpy as np\n",
    "xlocs = [128 + i*16 for i in range(0, 13)]"
   ]
  },
  {
   "cell_type": "code",
   "execution_count": 12,
   "metadata": {},
   "outputs": [],
   "source": [
    "xlabels = [str(128 + i*16) for i in range(0, 13)]"
   ]
  },
  {
   "cell_type": "code",
   "execution_count": 13,
   "metadata": {},
   "outputs": [
    {
     "data": {
      "text/plain": [
       "['128',\n",
       " '144',\n",
       " '160',\n",
       " '176',\n",
       " '192',\n",
       " '208',\n",
       " '224',\n",
       " '240',\n",
       " '256',\n",
       " '272',\n",
       " '288',\n",
       " '304',\n",
       " '320']"
      ]
     },
     "execution_count": 13,
     "metadata": {},
     "output_type": "execute_result"
    }
   ],
   "source": [
    "xlabels"
   ]
  },
  {
   "cell_type": "code",
   "execution_count": null,
   "metadata": {},
   "outputs": [],
   "source": []
  }
 ],
 "metadata": {
  "kernelspec": {
   "display_name": "base",
   "language": "python",
   "name": "python3"
  },
  "language_info": {
   "codemirror_mode": {
    "name": "ipython",
    "version": 3
   },
   "file_extension": ".py",
   "mimetype": "text/x-python",
   "name": "python",
   "nbconvert_exporter": "python",
   "pygments_lexer": "ipython3",
   "version": "3.9.13"
  },
  "orig_nbformat": 4
 },
 "nbformat": 4,
 "nbformat_minor": 2
}
