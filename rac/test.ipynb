{
 "cells": [
  {
   "cell_type": "code",
   "execution_count": 2,
   "metadata": {},
   "outputs": [],
   "source": [
    "config= {\n",
    "    \"general_options\": {\n",
    "        \"experiment_name\": \"TEST_EXPERIMENT\",\n",
    "        \"num_repeats\": 2,\n",
    "        \"n_workers\": 5,\n",
    "        \"local\": True,\n",
    "        \"verbose\": True\n",
    "    },\n",
    "    \"experiment_options\": {\n",
    "        \"seed\": 33,\n",
    "        \"num_feedback\": 0.002,\n",
    "        \"noise_level\": [0.0, 0.4],\n",
    "        \"persistent_noise_level\": 0.0,\n",
    "        \"force_global_update\": True,\n",
    "        \"save_matrix_data\": False,\n",
    "        \"infer_sims\": [False,True],\n",
    "        \"infer_sims2\": [False,True]\n",
    "    },\n",
    "    \"sim_init_options\": {\n",
    "        \"K_init\": 10,\n",
    "        \"sim_init\": 0.1,\n",
    "        \"sim_init_type\": \"custom\"\n",
    "    },\n",
    "    \"query_strategy_options\": {\n",
    "        \"acq_fn\": [\"unif\", \"uncert\", \"freq\", \"incon_ucb\"],\n",
    "        \"local_regions\": [\"pairs\", \"clusters\"],\n",
    "        \"eps\": 0.0,\n",
    "        \"beta\": 1,\n",
    "        \"tau\": -1,\n",
    "        \"alpha\": 1\n",
    "    },\n",
    "    \"dataset_options\": {\n",
    "        \"dataset\": \"synthetic\",\n",
    "        \"n_samples\": 250,\n",
    "        \"n_clusters\": 10,\n",
    "        \"class_balance\": None\n",
    "    }\n",
    "}"
   ]
  },
  {
   "cell_type": "code",
   "execution_count": 3,
   "metadata": {},
   "outputs": [
    {
     "data": {
      "text/plain": [
       "<Figure size 640x480 with 0 Axes>"
      ]
     },
     "metadata": {},
     "output_type": "display_data"
    }
   ],
   "source": [
    "from rac.experiment_data import ExperimentReader\n",
    "metrics = [\"rand\", \"ami\"]\n",
    "ac = ExperimentReader(metrics=metrics)\n",
    "data = ac.read_all_data(folder=\"../experiment_results_local/TEST_EXPERIMENT\")\n",
    "ac.generate_AL_curves(\n",
    "    data,\n",
    "    save_location=\"../plots\",\n",
    "    categorize=[\"sim_init_type\", \"eps\", \"tau\", \"noise_level\"],\n",
    "    compare=[\"acq_fn\", \"local_regions\", \"infer_sims\", \"infer_sims2\"], \n",
    "    vary=[\"x\"],\n",
    "    auc=True,\n",
    "    summary_method=\"auc_max_ind\",\n",
    "    indices=[], \n",
    "    threshold=1,\n",
    "    err_style=\"band\",\n",
    "    marker=\"o\",\n",
    "    markersize=6,\n",
    "    capsize=6,\n",
    "    linestyle=\"solid\",\n",
    "    **config\n",
    ")"
   ]
  },
  {
   "cell_type": "code",
   "execution_count": null,
   "metadata": {},
   "outputs": [],
   "source": []
  }
 ],
 "metadata": {
  "kernelspec": {
   "display_name": "base",
   "language": "python",
   "name": "python3"
  },
  "language_info": {
   "codemirror_mode": {
    "name": "ipython",
    "version": 3
   },
   "file_extension": ".py",
   "mimetype": "text/x-python",
   "name": "python",
   "nbconvert_exporter": "python",
   "pygments_lexer": "ipython3",
   "version": "3.9.13"
  },
  "orig_nbformat": 4
 },
 "nbformat": 4,
 "nbformat_minor": 2
}
