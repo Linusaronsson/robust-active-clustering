{
 "cells": [
  {
   "cell_type": "code",
   "execution_count": 10,
   "metadata": {},
   "outputs": [
    {
     "name": "stdout",
     "output_type": "stream",
     "text": [
      "[0 1 2 1 2]\n",
      "[0.2 1.  2.2 1.  2. ]\n",
      "[2 1 0 1 0]\n"
     ]
    },
    {
     "data": {
      "text/plain": [
       "[0.6365038232681871, 0.7852496392086875, 0.35053864163768167]"
      ]
     },
     "execution_count": 10,
     "metadata": {},
     "output_type": "execute_result"
    }
   ],
   "source": [
    "from scipy.special import softmax as scipy_softmax\n",
    "import numpy as np\n",
    "\n",
    "def min_triple_cost(similarities, beta=1):\n",
    "    \"\"\"\n",
    "    Calculate the expected cost for a triangle using the provided min_triple_cost function.\n",
    "    similarities: List of similarities in the order [sigma(i,j), sigma(i,k), sigma(j,k)]\n",
    "    beta: Parameter for the probability calculation\n",
    "    \"\"\"\n",
    "    sim_ij, sim_ik, sim_jk = similarities\n",
    "\n",
    "    # Calculating costs for different clusterings\n",
    "    c1 = sum(np.abs(sim) for sim in [sim_ij, sim_ik, sim_jk] if sim < 0)\n",
    "    c2 = sum(np.abs(sim) for sim in [sim_ij if sim_ij >= 0 else 0,\n",
    "                                     sim_ik if sim_ik < 0 else 0,\n",
    "                                     sim_jk if sim_jk >= 0 else 0])\n",
    "    c3 = sum(np.abs(sim) for sim in [sim_ij if sim_ij < 0 else 0,\n",
    "                                     sim_ik if sim_ik >= 0 else 0,\n",
    "                                     sim_jk if sim_jk >= 0 else 0])\n",
    "    c4 = sum(np.abs(sim) for sim in [sim_ij if sim_ij >= 0 else 0,\n",
    "                                     sim_ik if sim_ik >= 0 else 0,\n",
    "                                     sim_jk if sim_jk < 0 else 0])\n",
    "    c5 = sum(np.abs(sim) for sim in [sim_ij, sim_ik, sim_jk] if sim >= 0)\n",
    "\n",
    "    costs = np.array([c1, c2, c3, c4, c5])\n",
    "    print(costs)\n",
    "    probs = scipy_softmax(-beta * costs)\n",
    "    expected_loss = np.sum(costs * probs)\n",
    "\n",
    "    return expected_loss\n",
    "\n",
    "# Test the function with the example similarities\n",
    "\n",
    "# Example similarities in list format\n",
    "example_similarities = [\n",
    "    [0, 1, 1],  # Corresponds to the first matrix\n",
    "    [-0.2, 1, 1],   # Corresponds to the second matrix\n",
    "    [0, -1, -1]   # Corresponds to the second matrix\n",
    "]\n",
    "beta = 1\n",
    "min_triple_cost_results = [min_triple_cost(s, beta) for s in example_similarities]\n",
    "min_triple_cost_results"
   ]
  },
  {
   "cell_type": "code",
   "execution_count": null,
   "metadata": {},
   "outputs": [],
   "source": []
  }
 ],
 "metadata": {
  "kernelspec": {
   "display_name": "base",
   "language": "python",
   "name": "python3"
  },
  "language_info": {
   "codemirror_mode": {
    "name": "ipython",
    "version": 3
   },
   "file_extension": ".py",
   "mimetype": "text/x-python",
   "name": "python",
   "nbconvert_exporter": "python",
   "pygments_lexer": "ipython3",
   "version": "3.9.13"
  }
 },
 "nbformat": 4,
 "nbformat_minor": 2
}
