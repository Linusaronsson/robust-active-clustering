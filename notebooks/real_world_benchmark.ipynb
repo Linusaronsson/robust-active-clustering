{
 "cells": [
  {
   "cell_type": "code",
   "execution_count": 3,
   "metadata": {},
   "outputs": [],
   "source": [
    "from sklearn.cluster import KMeans\n",
    "from sklearn import preprocessing\n",
    "import numpy as np\n",
    "from scipy.spatial import distance\n",
    "from rac.correlation_clustering import max_correlation_dynamic_K\n",
    "from sklearn.metrics import adjusted_rand_score, adjusted_mutual_info_score, v_measure_score\n",
    "\n",
    "sim_init = 1\n",
    "\n",
    "def sim_matrix_from_clustering(clustering, N):\n",
    "    pairwise_similarities = -sim_init*np.ones((N, N))\n",
    "    for cind in clustering:\n",
    "        pairwise_similarities[np.ix_(cind, cind)] = sim_init\n",
    "    return pairwise_similarities\n",
    "\n",
    "\n",
    "def clustering_from_clustering_solution(clustering_solution):\n",
    "    num_clusters = np.max(clustering_solution) + 1\n",
    "    clustering = [[] for _ in range(num_clusters)]\n",
    "    for i in range(len(clustering_solution)):\n",
    "        clustering[clustering_solution[i]].append(i)\n",
    "    return clustering, num_clusters\n",
    "\n",
    "def test_dataset(X, Y, rs, distance_metric=\"euclidean\", normalize=False, n_clusters=None):\n",
    "    if n_clusters is None:\n",
    "        n_classes = len(np.unique(Y))\n",
    "    else:\n",
    "        n_classes = n_clusters\n",
    "    if normalize:\n",
    "        X = preprocessing.StandardScaler().fit_transform(X)\n",
    "    kmeans = KMeans(n_clusters=n_classes, random_state=1).fit(X)\n",
    "    print(\"kmeans score: \", adjusted_rand_score(Y, kmeans.labels_))\n",
    "    clustering_solution = np.array(kmeans.labels_)\n",
    "    clustering, cnum_clusters = clustering_from_clustering_solution(clustering_solution)\n",
    "    pairwise_similarities_kmeans = sim_matrix_from_clustering(clustering, len(Y))\n",
    "    np.fill_diagonal(pairwise_similarities_kmeans, 0.0)\n",
    "\n",
    "    #D = distance.cdist(X, X, distance_metric)\n",
    "    #sim_matrix = np.max(D) - D + np.min(D)\n",
    "    #pairwise_similarities_inverse = sim_init * (2 * sim_matrix - np.max(sim_matrix) -  np.min(sim_matrix)) / (np.max(sim_matrix) - np.min(sim_matrix))\n",
    "    ##pairwise_similarities_inverse = sim_init * (2 * sim_matrix - np.max(sim_matrix) -  np.min(sim_matrix)) / (np.max(sim_matrix) - np.min(sim_matrix))\n",
    "    \n",
    "    #np.fill_diagonal(pairwise_similarities_inverse, 0.0)\n",
    "\n",
    "    labels_kmeans, _ = max_correlation_dynamic_K(pairwise_similarities_kmeans, n_classes, 3, rs)\n",
    "    #labels_inverse, _ = max_correlation_dynamic_K(pairwise_similarities_inverse, 5, 3, rr)\n",
    "    print(\"kmeans score2: \", adjusted_rand_score(Y, labels_kmeans))\n",
    "    #print(\"inverse score: \", adjusted_rand_score(Y, labels_inverse))"
   ]
  },
  {
   "cell_type": "code",
   "execution_count": 4,
   "metadata": {},
   "outputs": [],
   "source": [
    "def random_data_sample(X, Y, size, rs):\n",
    "    if size <= 1:\n",
    "        num_samples = int(len(Y)*size)\n",
    "    else:\n",
    "        num_samples = np.minimum(size, len(Y))\n",
    "    inds = rs.choice(len(Y), num_samples)\n",
    "    return X[inds], Y[inds]"
   ]
  },
  {
   "attachments": {},
   "cell_type": "markdown",
   "metadata": {},
   "source": [
    "## 20newsgroups"
   ]
  },
  {
   "cell_type": "code",
   "execution_count": null,
   "metadata": {},
   "outputs": [],
   "source": [
    "from sklearn import datasets\n",
    "\n",
    "import numpy as np\n",
    "from sklearn.feature_extraction.text import TfidfVectorizer\n",
    "cats = [\"rec.sport.baseball\", \"soc.religion.christian\", \"rec.autos\", \"talk.politics.mideast\", \"misc.forsale\"]\n",
    "data = datasets.fetch_20newsgroups(data_home=\"../datasets/\", subset=\"all\", categories=cats)\n",
    "Y = data.target\n",
    "X = data.data"
   ]
  },
  {
   "cell_type": "code",
   "execution_count": null,
   "metadata": {},
   "outputs": [],
   "source": [
    "from flair.data import Sentence\n",
    "from flair.embeddings import TransformerDocumentEmbeddings\n",
    "from sklearn.feature_extraction.text import TfidfVectorizer\n",
    "normalize = True\n",
    "document_embeddings = TransformerDocumentEmbeddings('distilbert-base-uncased', fine_tune=True)\n",
    "data = None\n",
    "for sen in X:\n",
    "    sentence = Sentence(sen)\n",
    "    document_embeddings.embed(sentence)\n",
    "    dat = sentence.get_embedding()\n",
    "    if data is None:\n",
    "        data = dat.cpu().numpy().reshape(1, 768)\n",
    "    else:\n",
    "        data = np.vstack((data, dat.cpu().numpy().reshape(1, 768)))\n",
    "X = data\n",
    "#np.save(\"datasets/20newsgroups_small.npy\", X)\n",
    "#X = np.load(\"20newsgroups.npy\")\n",
    "#X = TfidfVectorizer().fit_transform(X)"
   ]
  },
  {
   "cell_type": "code",
   "execution_count": 40,
   "metadata": {},
   "outputs": [
    {
     "data": {
      "text/plain": [
       "(18846, 768)"
      ]
     },
     "execution_count": 40,
     "metadata": {},
     "output_type": "execute_result"
    }
   ],
   "source": [
    "from sklearn import datasets\n",
    "data = datasets.fetch_20newsgroups(data_home=\"../datasets/20newsgroups_data/\", subset=\"all\")\n",
    "Y = data.target\n",
    "X = np.load(\"../datasets/20newsgroups_data/20newsgroups.npy\")\n",
    "X.shape"
   ]
  },
  {
   "cell_type": "code",
   "execution_count": 5,
   "metadata": {},
   "outputs": [],
   "source": [
    "X = preprocessing.StandardScaler().fit_transform(X)"
   ]
  },
  {
   "cell_type": "code",
   "execution_count": 34,
   "metadata": {},
   "outputs": [],
   "source": [
    "from sklearn.decomposition import PCA\n",
    "pca = PCA(n_components=100)\n",
    "X = pca.fit_transform(X)"
   ]
  },
  {
   "cell_type": "code",
   "execution_count": 41,
   "metadata": {},
   "outputs": [],
   "source": [
    "rs = np.random.RandomState(19)\n",
    "X_sample, Y_sample = random_data_sample(X, Y, 1000, rs)"
   ]
  },
  {
   "cell_type": "code",
   "execution_count": 42,
   "metadata": {},
   "outputs": [
    {
     "data": {
      "text/plain": [
       "(1000, 768)"
      ]
     },
     "execution_count": 42,
     "metadata": {},
     "output_type": "execute_result"
    }
   ],
   "source": [
    "X_sample.shape"
   ]
  },
  {
   "cell_type": "code",
   "execution_count": 9,
   "metadata": {},
   "outputs": [],
   "source": [
    "X_sample = np.load(\"../datasets/20newsgroups_data/X.npy\")\n",
    "Y_sample = np.load(\"../datasets/20newsgroups_data/Y.npy\")"
   ]
  },
  {
   "cell_type": "code",
   "execution_count": 43,
   "metadata": {},
   "outputs": [
    {
     "data": {
      "text/plain": [
       "(1000, 768)"
      ]
     },
     "execution_count": 43,
     "metadata": {},
     "output_type": "execute_result"
    }
   ],
   "source": [
    "X_sample.shape"
   ]
  },
  {
   "cell_type": "code",
   "execution_count": 45,
   "metadata": {},
   "outputs": [
    {
     "name": "stdout",
     "output_type": "stream",
     "text": [
      "kmeans score:  0.2132062041869545\n",
      "kmeans score2:  0.2132062041869545\n"
     ]
    }
   ],
   "source": [
    "rs = np.random.RandomState(19)\n",
    "test_dataset(X_sample, Y_sample, rs, \"euclidean\", normalize=False, n_clusters=20)"
   ]
  },
  {
   "cell_type": "code",
   "execution_count": 46,
   "metadata": {},
   "outputs": [],
   "source": [
    "#np.save(\"../datasets/20newsgroups_data/X.npy\", X_sample)\n",
    "#np.save(\"../datasets/20newsgroups_data/Y.npy\", Y_sample)"
   ]
  },
  {
   "attachments": {},
   "cell_type": "markdown",
   "metadata": {},
   "source": [
    "## 20newsgroups_small"
   ]
  },
  {
   "cell_type": "code",
   "execution_count": 15,
   "metadata": {},
   "outputs": [
    {
     "data": {
      "text/plain": [
       "(18846, 768)"
      ]
     },
     "execution_count": 15,
     "metadata": {},
     "output_type": "execute_result"
    }
   ],
   "source": [
    "from sklearn import datasets\n",
    "data = datasets.fetch_20newsgroups(data_home=\"../datasets/20newsgroups_data/\", subset=\"all\")\n",
    "Y = data.target\n",
    "X = np.load(\"../datasets/20newsgroups_data/20newsgroups.npy\")\n",
    "X.shape"
   ]
  },
  {
   "cell_type": "code",
   "execution_count": 16,
   "metadata": {},
   "outputs": [
    {
     "data": {
      "text/plain": [
       "(18846,)"
      ]
     },
     "execution_count": 16,
     "metadata": {},
     "output_type": "execute_result"
    }
   ],
   "source": [
    "Y.shape"
   ]
  },
  {
   "cell_type": "code",
   "execution_count": 6,
   "metadata": {},
   "outputs": [],
   "source": [
    "X = preprocessing.StandardScaler().fit_transform(X)"
   ]
  },
  {
   "cell_type": "code",
   "execution_count": 11,
   "metadata": {},
   "outputs": [],
   "source": [
    "rs = np.random.RandomState(19)\n",
    "X_sample, Y_sample = random_data_sample(X, Y, 0.025, rs)"
   ]
  },
  {
   "cell_type": "code",
   "execution_count": 13,
   "metadata": {},
   "outputs": [
    {
     "data": {
      "text/plain": [
       "(471, 768)"
      ]
     },
     "execution_count": 13,
     "metadata": {},
     "output_type": "execute_result"
    }
   ],
   "source": [
    "X_sample.shape"
   ]
  },
  {
   "cell_type": "code",
   "execution_count": 14,
   "metadata": {},
   "outputs": [
    {
     "data": {
      "text/plain": [
       "(array([ 0,  1,  2,  3,  4,  5,  6,  7,  8,  9, 10, 11, 12, 13, 14, 15, 16,\n",
       "        17, 18, 19]),\n",
       " array([25, 28, 19, 18, 24, 23, 21, 28, 24, 23, 18, 29, 21, 25, 35, 18, 27,\n",
       "        30, 23, 12], dtype=int64))"
      ]
     },
     "execution_count": 14,
     "metadata": {},
     "output_type": "execute_result"
    }
   ],
   "source": [
    "np.unique(Y_sample, return_counts=True)"
   ]
  },
  {
   "cell_type": "code",
   "execution_count": 15,
   "metadata": {},
   "outputs": [
    {
     "name": "stdout",
     "output_type": "stream",
     "text": [
      "kmeans score:  0.1826667801365706\n",
      "kmeans score2:  0.1826667801365706\n"
     ]
    }
   ],
   "source": [
    "rs = np.random.RandomState(22)\n",
    "test_dataset(X_sample, Y_sample, rs, \"euclidean\", normalize=True, n_clusters=20)"
   ]
  },
  {
   "cell_type": "code",
   "execution_count": 13,
   "metadata": {},
   "outputs": [],
   "source": [
    "#np.save(\"../datasets/20newsgroups_small_data/X.npy\", X_sample)\n",
    "#np.save(\"../datasets/20newsgroups_small_data/Y.npy\", Y_sample)"
   ]
  },
  {
   "cell_type": "code",
   "execution_count": 17,
   "metadata": {},
   "outputs": [],
   "source": [
    "np.save(\"C:\\Github_Projects/robust-active-clustering/datasets_small/20newsgroups_data/X.npy\", X_sample)\n",
    "np.save(\"C:\\Github_Projects/robust-active-clustering/datasets_small/20newsgroups_data/Y.npy\", Y_sample)"
   ]
  },
  {
   "cell_type": "code",
   "execution_count": null,
   "metadata": {},
   "outputs": [],
   "source": []
  },
  {
   "cell_type": "code",
   "execution_count": null,
   "metadata": {},
   "outputs": [],
   "source": []
  },
  {
   "attachments": {},
   "cell_type": "markdown",
   "metadata": {},
   "source": [
    "## CIFAR10"
   ]
  },
  {
   "cell_type": "code",
   "execution_count": 6,
   "metadata": {},
   "outputs": [
    {
     "name": "stdout",
     "output_type": "stream",
     "text": [
      "Downloading https://www.cs.toronto.edu/~kriz/cifar-10-python.tar.gz to ../datasets/cifar10_original_data\\cifar-10-python.tar.gz\n"
     ]
    },
    {
     "data": {
      "application/vnd.jupyter.widget-view+json": {
       "model_id": "a2e5325446d4417f96b23050484dc9e5",
       "version_major": 2,
       "version_minor": 0
      },
      "text/plain": [
       "  0%|          | 0/170498071 [00:00<?, ?it/s]"
      ]
     },
     "metadata": {},
     "output_type": "display_data"
    },
    {
     "name": "stdout",
     "output_type": "stream",
     "text": [
      "Extracting ../datasets/cifar10_original_data\\cifar-10-python.tar.gz to ../datasets/cifar10_original_data\n"
     ]
    }
   ],
   "source": [
    "import torch\n",
    "from torchvision import transforms\n",
    "from torchvision import datasets\n",
    "\n",
    "cifar_training_transform = transforms.Compose([\n",
    "    transforms.RandomCrop(32, padding=4),\n",
    "    transforms.RandomHorizontalFlip(),\n",
    "    transforms.ToTensor(),\n",
    "    transforms.Normalize((0.4914, 0.4822, 0.4465), (0.2023, 0.1994, 0.2010))\n",
    "        ])\n",
    "cifar10_train = datasets.CIFAR10(\n",
    "                \"../datasets/cifar10_original_data\",\n",
    "                train=True,\n",
    "                download=True,\n",
    "                transform=cifar_training_transform,\n",
    "                target_transform=torch.tensor\n",
    "            )"
   ]
  },
  {
   "cell_type": "code",
   "execution_count": 19,
   "metadata": {},
   "outputs": [],
   "source": [
    "X = cifar10_train.data\n",
    "Y = np.array(cifar10_train.targets)"
   ]
  },
  {
   "cell_type": "code",
   "execution_count": 21,
   "metadata": {},
   "outputs": [],
   "source": [
    "rs = np.random.RandomState(19)\n",
    "X_sample, Y_sample = random_data_sample(X, Y, 2000, rs)"
   ]
  },
  {
   "cell_type": "code",
   "execution_count": 23,
   "metadata": {},
   "outputs": [
    {
     "name": "stdout",
     "output_type": "stream",
     "text": [
      "(2000, 32, 32, 3)\n",
      "(2000,)\n"
     ]
    }
   ],
   "source": [
    "print(X_sample.shape)\n",
    "print(Y_sample.shape)"
   ]
  },
  {
   "cell_type": "code",
   "execution_count": null,
   "metadata": {},
   "outputs": [],
   "source": [
    "np.save(\"../datasets/cifar10_original_data/X.npy\", X_sample)\n",
    "np.save(\"../datasets/cifar10_original_data/Y.npy\", Y_sample)"
   ]
  },
  {
   "cell_type": "code",
   "execution_count": null,
   "metadata": {},
   "outputs": [],
   "source": []
  },
  {
   "cell_type": "code",
   "execution_count": null,
   "metadata": {},
   "outputs": [],
   "source": []
  },
  {
   "cell_type": "code",
   "execution_count": 47,
   "metadata": {},
   "outputs": [],
   "source": [
    "X = np.load(\"../datasets/cifar10_data/cifar10_embedding.npy\")\n",
    "Y = np.load(\"../datasets/cifar10_data/cifar10_labels.npy\")"
   ]
  },
  {
   "cell_type": "code",
   "execution_count": 12,
   "metadata": {},
   "outputs": [],
   "source": [
    "from sklearn import preprocessing\n",
    "X = preprocessing.StandardScaler().fit_transform(X)"
   ]
  },
  {
   "cell_type": "code",
   "execution_count": 13,
   "metadata": {},
   "outputs": [],
   "source": [
    "from sklearn.decomposition import PCA\n",
    "pca = PCA(n_components=100)\n",
    "X = pca.fit_transform(X)"
   ]
  },
  {
   "cell_type": "code",
   "execution_count": 48,
   "metadata": {},
   "outputs": [],
   "source": [
    "rs = np.random.RandomState(19)\n",
    "X_sample, Y_sample = random_data_sample(X, Y, 1000, rs)"
   ]
  },
  {
   "cell_type": "code",
   "execution_count": 49,
   "metadata": {},
   "outputs": [
    {
     "data": {
      "text/plain": [
       "(1000, 512)"
      ]
     },
     "execution_count": 49,
     "metadata": {},
     "output_type": "execute_result"
    }
   ],
   "source": [
    "X_sample.shape"
   ]
  },
  {
   "cell_type": "code",
   "execution_count": 24,
   "metadata": {},
   "outputs": [],
   "source": [
    "\n",
    "#X_sample = np.load(\"../datasets/cifar10_data/X.npy\")\n",
    "#Y_sample = np.load(\"../datasets/cifar10_data/Y.npy\")"
   ]
  },
  {
   "cell_type": "code",
   "execution_count": 50,
   "metadata": {},
   "outputs": [
    {
     "data": {
      "text/plain": [
       "(1000, 512)"
      ]
     },
     "execution_count": 50,
     "metadata": {},
     "output_type": "execute_result"
    }
   ],
   "source": [
    "X_sample.shape"
   ]
  },
  {
   "cell_type": "code",
   "execution_count": 62,
   "metadata": {},
   "outputs": [
    {
     "name": "stdout",
     "output_type": "stream",
     "text": [
      "kmeans score:  0.24435933918413816\n",
      "kmeans score2:  0.24435933918413816\n"
     ]
    }
   ],
   "source": [
    "rs = np.random.RandomState(19)\n",
    "test_dataset(X_sample, Y_sample, rs, \"euclidean\", normalize=False, n_clusters=3)"
   ]
  },
  {
   "cell_type": "code",
   "execution_count": 61,
   "metadata": {},
   "outputs": [],
   "source": [
    "#np.save(\"../datasets/cifar10_data/X.npy\", X_sample)\n",
    "#np.save(\"../datasets/cifar10_data/Y.npy\", Y_sample)"
   ]
  },
  {
   "cell_type": "code",
   "execution_count": 33,
   "metadata": {},
   "outputs": [],
   "source": [
    "#np.save(\"C:\\Github_Projects/robust-active-clustering/datasets_small/cifar10_data/X.npy\", X_sample)\n",
    "#np.save(\"C:\\Github_Projects/robust-active-clustering/datasets_small/cifar10_data/Y.npy\", Y_sample)"
   ]
  },
  {
   "attachments": {},
   "cell_type": "markdown",
   "metadata": {},
   "source": [
    "## CIFAR10_small"
   ]
  },
  {
   "cell_type": "code",
   "execution_count": 40,
   "metadata": {},
   "outputs": [],
   "source": [
    "X = np.load(\"../datasets/cifar10_data/cifar10_embedding.npy\")\n",
    "Y = np.load(\"../datasets/cifar10_data/cifar10_labels.npy\")"
   ]
  },
  {
   "cell_type": "code",
   "execution_count": 41,
   "metadata": {},
   "outputs": [],
   "source": [
    "from sklearn import preprocessing\n",
    "X = preprocessing.StandardScaler().fit_transform(X)"
   ]
  },
  {
   "cell_type": "code",
   "execution_count": 42,
   "metadata": {},
   "outputs": [],
   "source": [
    "from sklearn.decomposition import PCA\n",
    "pca = PCA(n_components=100)\n",
    "X = pca.fit_transform(X)"
   ]
  },
  {
   "cell_type": "code",
   "execution_count": 43,
   "metadata": {},
   "outputs": [],
   "source": [
    "rs = np.random.RandomState(19)\n",
    "X_sample, Y_sample = random_data_sample(X, Y, 0.06, rs)"
   ]
  },
  {
   "cell_type": "code",
   "execution_count": 44,
   "metadata": {},
   "outputs": [
    {
     "data": {
      "text/plain": [
       "(3000, 100)"
      ]
     },
     "execution_count": 44,
     "metadata": {},
     "output_type": "execute_result"
    }
   ],
   "source": [
    "X_sample.shape"
   ]
  },
  {
   "cell_type": "code",
   "execution_count": 45,
   "metadata": {},
   "outputs": [
    {
     "data": {
      "text/plain": [
       "(array([0, 1, 2, 3, 4, 5, 6, 7, 8, 9]),\n",
       " array([278, 284, 310, 272, 302, 340, 289, 312, 308, 305], dtype=int64))"
      ]
     },
     "execution_count": 45,
     "metadata": {},
     "output_type": "execute_result"
    }
   ],
   "source": [
    "np.unique(Y_sample, return_counts=True)"
   ]
  },
  {
   "cell_type": "code",
   "execution_count": 26,
   "metadata": {},
   "outputs": [
    {
     "name": "stdout",
     "output_type": "stream",
     "text": [
      "kmeans score:  0.437681481133735\n",
      "kmeans score2:  0.437681481133735\n"
     ]
    }
   ],
   "source": [
    "rs = np.random.RandomState(19)\n",
    "test_dataset(X_sample, Y_sample, rs, \"euclidean\", normalize=True, n_clusters=20)"
   ]
  },
  {
   "cell_type": "code",
   "execution_count": 27,
   "metadata": {},
   "outputs": [],
   "source": [
    "#np.save(\"../datasets/cifar10_small_data/X.npy\", X_sample)\n",
    "#np.save(\"../datasets/cifar10_small_data/Y.npy\", Y_sample)"
   ]
  },
  {
   "cell_type": "code",
   "execution_count": null,
   "metadata": {},
   "outputs": [],
   "source": []
  },
  {
   "cell_type": "code",
   "execution_count": null,
   "metadata": {},
   "outputs": [],
   "source": []
  },
  {
   "attachments": {},
   "cell_type": "markdown",
   "metadata": {},
   "source": []
  },
  {
   "attachments": {},
   "cell_type": "markdown",
   "metadata": {},
   "source": [
    "## Mushrooms"
   ]
  },
  {
   "cell_type": "code",
   "execution_count": 63,
   "metadata": {},
   "outputs": [],
   "source": [
    "import pandas as pd\n",
    "df = pd.read_csv(\"../datasets/mushrooms_data/mushrooms.csv\")"
   ]
  },
  {
   "cell_type": "code",
   "execution_count": 64,
   "metadata": {},
   "outputs": [
    {
     "data": {
      "text/plain": [
       "class                       category\n",
       "cap-shape                   category\n",
       "cap-surface                 category\n",
       "cap-color                   category\n",
       "bruises                     category\n",
       "odor                        category\n",
       "gill-attachment             category\n",
       "gill-spacing                category\n",
       "gill-size                   category\n",
       "gill-color                  category\n",
       "stalk-shape                 category\n",
       "stalk-root                  category\n",
       "stalk-surface-above-ring    category\n",
       "stalk-surface-below-ring    category\n",
       "stalk-color-above-ring      category\n",
       "stalk-color-below-ring      category\n",
       "veil-type                   category\n",
       "veil-color                  category\n",
       "ring-number                 category\n",
       "ring-type                   category\n",
       "spore-print-color           category\n",
       "population                  category\n",
       "habitat                     category\n",
       "dtype: object"
      ]
     },
     "execution_count": 64,
     "metadata": {},
     "output_type": "execute_result"
    }
   ],
   "source": [
    "df = df.astype('category')\n",
    "df.dtypes"
   ]
  },
  {
   "cell_type": "code",
   "execution_count": 65,
   "metadata": {},
   "outputs": [
    {
     "data": {
      "text/html": [
       "<div>\n",
       "<style scoped>\n",
       "    .dataframe tbody tr th:only-of-type {\n",
       "        vertical-align: middle;\n",
       "    }\n",
       "\n",
       "    .dataframe tbody tr th {\n",
       "        vertical-align: top;\n",
       "    }\n",
       "\n",
       "    .dataframe thead th {\n",
       "        text-align: right;\n",
       "    }\n",
       "</style>\n",
       "<table border=\"1\" class=\"dataframe\">\n",
       "  <thead>\n",
       "    <tr style=\"text-align: right;\">\n",
       "      <th></th>\n",
       "      <th>class</th>\n",
       "      <th>cap-shape</th>\n",
       "      <th>cap-surface</th>\n",
       "      <th>cap-color</th>\n",
       "      <th>bruises</th>\n",
       "      <th>odor</th>\n",
       "      <th>gill-attachment</th>\n",
       "      <th>gill-spacing</th>\n",
       "      <th>gill-size</th>\n",
       "      <th>gill-color</th>\n",
       "      <th>...</th>\n",
       "      <th>stalk-surface-below-ring</th>\n",
       "      <th>stalk-color-above-ring</th>\n",
       "      <th>stalk-color-below-ring</th>\n",
       "      <th>veil-type</th>\n",
       "      <th>veil-color</th>\n",
       "      <th>ring-number</th>\n",
       "      <th>ring-type</th>\n",
       "      <th>spore-print-color</th>\n",
       "      <th>population</th>\n",
       "      <th>habitat</th>\n",
       "    </tr>\n",
       "  </thead>\n",
       "  <tbody>\n",
       "    <tr>\n",
       "      <th>0</th>\n",
       "      <td>1</td>\n",
       "      <td>5</td>\n",
       "      <td>2</td>\n",
       "      <td>4</td>\n",
       "      <td>1</td>\n",
       "      <td>6</td>\n",
       "      <td>1</td>\n",
       "      <td>0</td>\n",
       "      <td>1</td>\n",
       "      <td>4</td>\n",
       "      <td>...</td>\n",
       "      <td>2</td>\n",
       "      <td>7</td>\n",
       "      <td>7</td>\n",
       "      <td>0</td>\n",
       "      <td>2</td>\n",
       "      <td>1</td>\n",
       "      <td>4</td>\n",
       "      <td>2</td>\n",
       "      <td>3</td>\n",
       "      <td>5</td>\n",
       "    </tr>\n",
       "    <tr>\n",
       "      <th>1</th>\n",
       "      <td>0</td>\n",
       "      <td>5</td>\n",
       "      <td>2</td>\n",
       "      <td>9</td>\n",
       "      <td>1</td>\n",
       "      <td>0</td>\n",
       "      <td>1</td>\n",
       "      <td>0</td>\n",
       "      <td>0</td>\n",
       "      <td>4</td>\n",
       "      <td>...</td>\n",
       "      <td>2</td>\n",
       "      <td>7</td>\n",
       "      <td>7</td>\n",
       "      <td>0</td>\n",
       "      <td>2</td>\n",
       "      <td>1</td>\n",
       "      <td>4</td>\n",
       "      <td>3</td>\n",
       "      <td>2</td>\n",
       "      <td>1</td>\n",
       "    </tr>\n",
       "    <tr>\n",
       "      <th>2</th>\n",
       "      <td>0</td>\n",
       "      <td>0</td>\n",
       "      <td>2</td>\n",
       "      <td>8</td>\n",
       "      <td>1</td>\n",
       "      <td>3</td>\n",
       "      <td>1</td>\n",
       "      <td>0</td>\n",
       "      <td>0</td>\n",
       "      <td>5</td>\n",
       "      <td>...</td>\n",
       "      <td>2</td>\n",
       "      <td>7</td>\n",
       "      <td>7</td>\n",
       "      <td>0</td>\n",
       "      <td>2</td>\n",
       "      <td>1</td>\n",
       "      <td>4</td>\n",
       "      <td>3</td>\n",
       "      <td>2</td>\n",
       "      <td>3</td>\n",
       "    </tr>\n",
       "    <tr>\n",
       "      <th>3</th>\n",
       "      <td>1</td>\n",
       "      <td>5</td>\n",
       "      <td>3</td>\n",
       "      <td>8</td>\n",
       "      <td>1</td>\n",
       "      <td>6</td>\n",
       "      <td>1</td>\n",
       "      <td>0</td>\n",
       "      <td>1</td>\n",
       "      <td>5</td>\n",
       "      <td>...</td>\n",
       "      <td>2</td>\n",
       "      <td>7</td>\n",
       "      <td>7</td>\n",
       "      <td>0</td>\n",
       "      <td>2</td>\n",
       "      <td>1</td>\n",
       "      <td>4</td>\n",
       "      <td>2</td>\n",
       "      <td>3</td>\n",
       "      <td>5</td>\n",
       "    </tr>\n",
       "    <tr>\n",
       "      <th>4</th>\n",
       "      <td>0</td>\n",
       "      <td>5</td>\n",
       "      <td>2</td>\n",
       "      <td>3</td>\n",
       "      <td>0</td>\n",
       "      <td>5</td>\n",
       "      <td>1</td>\n",
       "      <td>1</td>\n",
       "      <td>0</td>\n",
       "      <td>4</td>\n",
       "      <td>...</td>\n",
       "      <td>2</td>\n",
       "      <td>7</td>\n",
       "      <td>7</td>\n",
       "      <td>0</td>\n",
       "      <td>2</td>\n",
       "      <td>1</td>\n",
       "      <td>0</td>\n",
       "      <td>3</td>\n",
       "      <td>0</td>\n",
       "      <td>1</td>\n",
       "    </tr>\n",
       "  </tbody>\n",
       "</table>\n",
       "<p>5 rows × 23 columns</p>\n",
       "</div>"
      ],
      "text/plain": [
       "   class  cap-shape  cap-surface  cap-color  bruises  odor  gill-attachment  \\\n",
       "0      1          5            2          4        1     6                1   \n",
       "1      0          5            2          9        1     0                1   \n",
       "2      0          0            2          8        1     3                1   \n",
       "3      1          5            3          8        1     6                1   \n",
       "4      0          5            2          3        0     5                1   \n",
       "\n",
       "   gill-spacing  gill-size  gill-color  ...  stalk-surface-below-ring  \\\n",
       "0             0          1           4  ...                         2   \n",
       "1             0          0           4  ...                         2   \n",
       "2             0          0           5  ...                         2   \n",
       "3             0          1           5  ...                         2   \n",
       "4             1          0           4  ...                         2   \n",
       "\n",
       "   stalk-color-above-ring  stalk-color-below-ring  veil-type  veil-color  \\\n",
       "0                       7                       7          0           2   \n",
       "1                       7                       7          0           2   \n",
       "2                       7                       7          0           2   \n",
       "3                       7                       7          0           2   \n",
       "4                       7                       7          0           2   \n",
       "\n",
       "   ring-number  ring-type  spore-print-color  population  habitat  \n",
       "0            1          4                  2           3        5  \n",
       "1            1          4                  3           2        1  \n",
       "2            1          4                  3           2        3  \n",
       "3            1          4                  2           3        5  \n",
       "4            1          0                  3           0        1  \n",
       "\n",
       "[5 rows x 23 columns]"
      ]
     },
     "execution_count": 65,
     "metadata": {},
     "output_type": "execute_result"
    }
   ],
   "source": [
    "from sklearn.preprocessing import LabelEncoder\n",
    "labelencoder=LabelEncoder()\n",
    "for column in df.columns:\n",
    "    df[column] = labelencoder.fit_transform(df[column])\n",
    "\n",
    "df.head()"
   ]
  },
  {
   "cell_type": "code",
   "execution_count": 66,
   "metadata": {},
   "outputs": [],
   "source": [
    "Y = df[\"class\"].values\n",
    "X = df.drop([\"class\"], axis=1).values"
   ]
  },
  {
   "cell_type": "code",
   "execution_count": 67,
   "metadata": {},
   "outputs": [],
   "source": [
    "rs = np.random.RandomState(19)\n",
    "X_sample, Y_sample = random_data_sample(X, Y, 1000, rs)"
   ]
  },
  {
   "cell_type": "code",
   "execution_count": 68,
   "metadata": {},
   "outputs": [
    {
     "data": {
      "text/plain": [
       "(1000, 22)"
      ]
     },
     "execution_count": 68,
     "metadata": {},
     "output_type": "execute_result"
    }
   ],
   "source": [
    "X_sample.shape"
   ]
  },
  {
   "cell_type": "code",
   "execution_count": null,
   "metadata": {},
   "outputs": [],
   "source": []
  },
  {
   "cell_type": "code",
   "execution_count": 52,
   "metadata": {},
   "outputs": [
    {
     "data": {
      "text/plain": [
       "(array([0, 1]), array([503, 497], dtype=int64))"
      ]
     },
     "execution_count": 52,
     "metadata": {},
     "output_type": "execute_result"
    }
   ],
   "source": [
    "np.unique(Y_sample, return_counts=True)"
   ]
  },
  {
   "cell_type": "code",
   "execution_count": 70,
   "metadata": {},
   "outputs": [
    {
     "name": "stdout",
     "output_type": "stream",
     "text": [
      "kmeans score:  0.18257417983623456\n",
      "kmeans score2:  0.18257417983623456\n"
     ]
    }
   ],
   "source": [
    "rs = np.random.RandomState(19)\n",
    "test_dataset(X_sample, Y_sample, rs, \"euclidean\", normalize=False, n_clusters=2)"
   ]
  },
  {
   "cell_type": "code",
   "execution_count": 22,
   "metadata": {},
   "outputs": [],
   "source": [
    "#np.save(\"../datasets/mushrooms_data/X.npy\", X_sample)\n",
    "#np.save(\"../datasets/mushrooms_data/Y.npy\", Y_sample)"
   ]
  },
  {
   "cell_type": "code",
   "execution_count": 53,
   "metadata": {},
   "outputs": [
    {
     "name": "stdout",
     "output_type": "stream",
     "text": [
      "(1000, 22)\n",
      "(1000,)\n"
     ]
    }
   ],
   "source": [
    "Xtest = np.load(\"../datasets/mushrooms_data/X.npy\")\n",
    "ytest = np.load(\"../datasets/mushrooms_data/Y.npy\")\n",
    "print(Xtest.shape)\n",
    "print(ytest.shape)"
   ]
  },
  {
   "cell_type": "code",
   "execution_count": 55,
   "metadata": {},
   "outputs": [
    {
     "name": "stdout",
     "output_type": "stream",
     "text": [
      "kmeans score:  0.19833580805474468\n",
      "kmeans score2:  0.19833580805474468\n"
     ]
    }
   ],
   "source": [
    "rs = np.random.RandomState(19)\n",
    "test_dataset(Xtest, ytest, rs, \"euclidean\", normalize=True, n_clusters=2)"
   ]
  },
  {
   "cell_type": "code",
   "execution_count": 46,
   "metadata": {},
   "outputs": [],
   "source": [
    "np.save(\"C:\\Github_Projects/robust-active-clustering/datasets_small/mushrooms_data/X.npy\", X_sample)\n",
    "np.save(\"C:\\Github_Projects/robust-active-clustering/datasets_small/mushrooms_data/Y.npy\", Y_sample)"
   ]
  },
  {
   "cell_type": "code",
   "execution_count": 41,
   "metadata": {},
   "outputs": [
    {
     "data": {
      "text/plain": [
       "(4874, 22)"
      ]
     },
     "execution_count": 41,
     "metadata": {},
     "output_type": "execute_result"
    }
   ],
   "source": [
    "import numpy as np\n",
    "np.load(\"../datasets/mushrooms_data/X.npy\").shape"
   ]
  },
  {
   "cell_type": "code",
   "execution_count": null,
   "metadata": {},
   "outputs": [],
   "source": []
  },
  {
   "attachments": {},
   "cell_type": "markdown",
   "metadata": {},
   "source": [
    "## Breast Cancer data"
   ]
  },
  {
   "cell_type": "code",
   "execution_count": 92,
   "metadata": {},
   "outputs": [
    {
     "data": {
      "text/html": [
       "<div>\n",
       "<style scoped>\n",
       "    .dataframe tbody tr th:only-of-type {\n",
       "        vertical-align: middle;\n",
       "    }\n",
       "\n",
       "    .dataframe tbody tr th {\n",
       "        vertical-align: top;\n",
       "    }\n",
       "\n",
       "    .dataframe thead th {\n",
       "        text-align: right;\n",
       "    }\n",
       "</style>\n",
       "<table border=\"1\" class=\"dataframe\">\n",
       "  <thead>\n",
       "    <tr style=\"text-align: right;\">\n",
       "      <th></th>\n",
       "      <th>id</th>\n",
       "      <th>diagnosis</th>\n",
       "      <th>radius_mean</th>\n",
       "      <th>texture_mean</th>\n",
       "      <th>perimeter_mean</th>\n",
       "      <th>area_mean</th>\n",
       "      <th>smoothness_mean</th>\n",
       "      <th>compactness_mean</th>\n",
       "      <th>concavity_mean</th>\n",
       "      <th>concave points_mean</th>\n",
       "      <th>...</th>\n",
       "      <th>texture_worst</th>\n",
       "      <th>perimeter_worst</th>\n",
       "      <th>area_worst</th>\n",
       "      <th>smoothness_worst</th>\n",
       "      <th>compactness_worst</th>\n",
       "      <th>concavity_worst</th>\n",
       "      <th>concave points_worst</th>\n",
       "      <th>symmetry_worst</th>\n",
       "      <th>fractal_dimension_worst</th>\n",
       "      <th>Unnamed: 32</th>\n",
       "    </tr>\n",
       "  </thead>\n",
       "  <tbody>\n",
       "    <tr>\n",
       "      <th>0</th>\n",
       "      <td>842302</td>\n",
       "      <td>M</td>\n",
       "      <td>17.99</td>\n",
       "      <td>10.38</td>\n",
       "      <td>122.80</td>\n",
       "      <td>1001.0</td>\n",
       "      <td>0.11840</td>\n",
       "      <td>0.27760</td>\n",
       "      <td>0.30010</td>\n",
       "      <td>0.14710</td>\n",
       "      <td>...</td>\n",
       "      <td>17.33</td>\n",
       "      <td>184.60</td>\n",
       "      <td>2019.0</td>\n",
       "      <td>0.16220</td>\n",
       "      <td>0.66560</td>\n",
       "      <td>0.7119</td>\n",
       "      <td>0.2654</td>\n",
       "      <td>0.4601</td>\n",
       "      <td>0.11890</td>\n",
       "      <td>NaN</td>\n",
       "    </tr>\n",
       "    <tr>\n",
       "      <th>1</th>\n",
       "      <td>842517</td>\n",
       "      <td>M</td>\n",
       "      <td>20.57</td>\n",
       "      <td>17.77</td>\n",
       "      <td>132.90</td>\n",
       "      <td>1326.0</td>\n",
       "      <td>0.08474</td>\n",
       "      <td>0.07864</td>\n",
       "      <td>0.08690</td>\n",
       "      <td>0.07017</td>\n",
       "      <td>...</td>\n",
       "      <td>23.41</td>\n",
       "      <td>158.80</td>\n",
       "      <td>1956.0</td>\n",
       "      <td>0.12380</td>\n",
       "      <td>0.18660</td>\n",
       "      <td>0.2416</td>\n",
       "      <td>0.1860</td>\n",
       "      <td>0.2750</td>\n",
       "      <td>0.08902</td>\n",
       "      <td>NaN</td>\n",
       "    </tr>\n",
       "    <tr>\n",
       "      <th>2</th>\n",
       "      <td>84300903</td>\n",
       "      <td>M</td>\n",
       "      <td>19.69</td>\n",
       "      <td>21.25</td>\n",
       "      <td>130.00</td>\n",
       "      <td>1203.0</td>\n",
       "      <td>0.10960</td>\n",
       "      <td>0.15990</td>\n",
       "      <td>0.19740</td>\n",
       "      <td>0.12790</td>\n",
       "      <td>...</td>\n",
       "      <td>25.53</td>\n",
       "      <td>152.50</td>\n",
       "      <td>1709.0</td>\n",
       "      <td>0.14440</td>\n",
       "      <td>0.42450</td>\n",
       "      <td>0.4504</td>\n",
       "      <td>0.2430</td>\n",
       "      <td>0.3613</td>\n",
       "      <td>0.08758</td>\n",
       "      <td>NaN</td>\n",
       "    </tr>\n",
       "    <tr>\n",
       "      <th>3</th>\n",
       "      <td>84348301</td>\n",
       "      <td>M</td>\n",
       "      <td>11.42</td>\n",
       "      <td>20.38</td>\n",
       "      <td>77.58</td>\n",
       "      <td>386.1</td>\n",
       "      <td>0.14250</td>\n",
       "      <td>0.28390</td>\n",
       "      <td>0.24140</td>\n",
       "      <td>0.10520</td>\n",
       "      <td>...</td>\n",
       "      <td>26.50</td>\n",
       "      <td>98.87</td>\n",
       "      <td>567.7</td>\n",
       "      <td>0.20980</td>\n",
       "      <td>0.86630</td>\n",
       "      <td>0.6869</td>\n",
       "      <td>0.2575</td>\n",
       "      <td>0.6638</td>\n",
       "      <td>0.17300</td>\n",
       "      <td>NaN</td>\n",
       "    </tr>\n",
       "    <tr>\n",
       "      <th>4</th>\n",
       "      <td>84358402</td>\n",
       "      <td>M</td>\n",
       "      <td>20.29</td>\n",
       "      <td>14.34</td>\n",
       "      <td>135.10</td>\n",
       "      <td>1297.0</td>\n",
       "      <td>0.10030</td>\n",
       "      <td>0.13280</td>\n",
       "      <td>0.19800</td>\n",
       "      <td>0.10430</td>\n",
       "      <td>...</td>\n",
       "      <td>16.67</td>\n",
       "      <td>152.20</td>\n",
       "      <td>1575.0</td>\n",
       "      <td>0.13740</td>\n",
       "      <td>0.20500</td>\n",
       "      <td>0.4000</td>\n",
       "      <td>0.1625</td>\n",
       "      <td>0.2364</td>\n",
       "      <td>0.07678</td>\n",
       "      <td>NaN</td>\n",
       "    </tr>\n",
       "    <tr>\n",
       "      <th>...</th>\n",
       "      <td>...</td>\n",
       "      <td>...</td>\n",
       "      <td>...</td>\n",
       "      <td>...</td>\n",
       "      <td>...</td>\n",
       "      <td>...</td>\n",
       "      <td>...</td>\n",
       "      <td>...</td>\n",
       "      <td>...</td>\n",
       "      <td>...</td>\n",
       "      <td>...</td>\n",
       "      <td>...</td>\n",
       "      <td>...</td>\n",
       "      <td>...</td>\n",
       "      <td>...</td>\n",
       "      <td>...</td>\n",
       "      <td>...</td>\n",
       "      <td>...</td>\n",
       "      <td>...</td>\n",
       "      <td>...</td>\n",
       "      <td>...</td>\n",
       "    </tr>\n",
       "    <tr>\n",
       "      <th>564</th>\n",
       "      <td>926424</td>\n",
       "      <td>M</td>\n",
       "      <td>21.56</td>\n",
       "      <td>22.39</td>\n",
       "      <td>142.00</td>\n",
       "      <td>1479.0</td>\n",
       "      <td>0.11100</td>\n",
       "      <td>0.11590</td>\n",
       "      <td>0.24390</td>\n",
       "      <td>0.13890</td>\n",
       "      <td>...</td>\n",
       "      <td>26.40</td>\n",
       "      <td>166.10</td>\n",
       "      <td>2027.0</td>\n",
       "      <td>0.14100</td>\n",
       "      <td>0.21130</td>\n",
       "      <td>0.4107</td>\n",
       "      <td>0.2216</td>\n",
       "      <td>0.2060</td>\n",
       "      <td>0.07115</td>\n",
       "      <td>NaN</td>\n",
       "    </tr>\n",
       "    <tr>\n",
       "      <th>565</th>\n",
       "      <td>926682</td>\n",
       "      <td>M</td>\n",
       "      <td>20.13</td>\n",
       "      <td>28.25</td>\n",
       "      <td>131.20</td>\n",
       "      <td>1261.0</td>\n",
       "      <td>0.09780</td>\n",
       "      <td>0.10340</td>\n",
       "      <td>0.14400</td>\n",
       "      <td>0.09791</td>\n",
       "      <td>...</td>\n",
       "      <td>38.25</td>\n",
       "      <td>155.00</td>\n",
       "      <td>1731.0</td>\n",
       "      <td>0.11660</td>\n",
       "      <td>0.19220</td>\n",
       "      <td>0.3215</td>\n",
       "      <td>0.1628</td>\n",
       "      <td>0.2572</td>\n",
       "      <td>0.06637</td>\n",
       "      <td>NaN</td>\n",
       "    </tr>\n",
       "    <tr>\n",
       "      <th>566</th>\n",
       "      <td>926954</td>\n",
       "      <td>M</td>\n",
       "      <td>16.60</td>\n",
       "      <td>28.08</td>\n",
       "      <td>108.30</td>\n",
       "      <td>858.1</td>\n",
       "      <td>0.08455</td>\n",
       "      <td>0.10230</td>\n",
       "      <td>0.09251</td>\n",
       "      <td>0.05302</td>\n",
       "      <td>...</td>\n",
       "      <td>34.12</td>\n",
       "      <td>126.70</td>\n",
       "      <td>1124.0</td>\n",
       "      <td>0.11390</td>\n",
       "      <td>0.30940</td>\n",
       "      <td>0.3403</td>\n",
       "      <td>0.1418</td>\n",
       "      <td>0.2218</td>\n",
       "      <td>0.07820</td>\n",
       "      <td>NaN</td>\n",
       "    </tr>\n",
       "    <tr>\n",
       "      <th>567</th>\n",
       "      <td>927241</td>\n",
       "      <td>M</td>\n",
       "      <td>20.60</td>\n",
       "      <td>29.33</td>\n",
       "      <td>140.10</td>\n",
       "      <td>1265.0</td>\n",
       "      <td>0.11780</td>\n",
       "      <td>0.27700</td>\n",
       "      <td>0.35140</td>\n",
       "      <td>0.15200</td>\n",
       "      <td>...</td>\n",
       "      <td>39.42</td>\n",
       "      <td>184.60</td>\n",
       "      <td>1821.0</td>\n",
       "      <td>0.16500</td>\n",
       "      <td>0.86810</td>\n",
       "      <td>0.9387</td>\n",
       "      <td>0.2650</td>\n",
       "      <td>0.4087</td>\n",
       "      <td>0.12400</td>\n",
       "      <td>NaN</td>\n",
       "    </tr>\n",
       "    <tr>\n",
       "      <th>568</th>\n",
       "      <td>92751</td>\n",
       "      <td>B</td>\n",
       "      <td>7.76</td>\n",
       "      <td>24.54</td>\n",
       "      <td>47.92</td>\n",
       "      <td>181.0</td>\n",
       "      <td>0.05263</td>\n",
       "      <td>0.04362</td>\n",
       "      <td>0.00000</td>\n",
       "      <td>0.00000</td>\n",
       "      <td>...</td>\n",
       "      <td>30.37</td>\n",
       "      <td>59.16</td>\n",
       "      <td>268.6</td>\n",
       "      <td>0.08996</td>\n",
       "      <td>0.06444</td>\n",
       "      <td>0.0000</td>\n",
       "      <td>0.0000</td>\n",
       "      <td>0.2871</td>\n",
       "      <td>0.07039</td>\n",
       "      <td>NaN</td>\n",
       "    </tr>\n",
       "  </tbody>\n",
       "</table>\n",
       "<p>569 rows × 33 columns</p>\n",
       "</div>"
      ],
      "text/plain": [
       "           id diagnosis  radius_mean  texture_mean  perimeter_mean  area_mean  \\\n",
       "0      842302         M        17.99         10.38          122.80     1001.0   \n",
       "1      842517         M        20.57         17.77          132.90     1326.0   \n",
       "2    84300903         M        19.69         21.25          130.00     1203.0   \n",
       "3    84348301         M        11.42         20.38           77.58      386.1   \n",
       "4    84358402         M        20.29         14.34          135.10     1297.0   \n",
       "..        ...       ...          ...           ...             ...        ...   \n",
       "564    926424         M        21.56         22.39          142.00     1479.0   \n",
       "565    926682         M        20.13         28.25          131.20     1261.0   \n",
       "566    926954         M        16.60         28.08          108.30      858.1   \n",
       "567    927241         M        20.60         29.33          140.10     1265.0   \n",
       "568     92751         B         7.76         24.54           47.92      181.0   \n",
       "\n",
       "     smoothness_mean  compactness_mean  concavity_mean  concave points_mean  \\\n",
       "0            0.11840           0.27760         0.30010              0.14710   \n",
       "1            0.08474           0.07864         0.08690              0.07017   \n",
       "2            0.10960           0.15990         0.19740              0.12790   \n",
       "3            0.14250           0.28390         0.24140              0.10520   \n",
       "4            0.10030           0.13280         0.19800              0.10430   \n",
       "..               ...               ...             ...                  ...   \n",
       "564          0.11100           0.11590         0.24390              0.13890   \n",
       "565          0.09780           0.10340         0.14400              0.09791   \n",
       "566          0.08455           0.10230         0.09251              0.05302   \n",
       "567          0.11780           0.27700         0.35140              0.15200   \n",
       "568          0.05263           0.04362         0.00000              0.00000   \n",
       "\n",
       "     ...  texture_worst  perimeter_worst  area_worst  smoothness_worst  \\\n",
       "0    ...          17.33           184.60      2019.0           0.16220   \n",
       "1    ...          23.41           158.80      1956.0           0.12380   \n",
       "2    ...          25.53           152.50      1709.0           0.14440   \n",
       "3    ...          26.50            98.87       567.7           0.20980   \n",
       "4    ...          16.67           152.20      1575.0           0.13740   \n",
       "..   ...            ...              ...         ...               ...   \n",
       "564  ...          26.40           166.10      2027.0           0.14100   \n",
       "565  ...          38.25           155.00      1731.0           0.11660   \n",
       "566  ...          34.12           126.70      1124.0           0.11390   \n",
       "567  ...          39.42           184.60      1821.0           0.16500   \n",
       "568  ...          30.37            59.16       268.6           0.08996   \n",
       "\n",
       "     compactness_worst  concavity_worst  concave points_worst  symmetry_worst  \\\n",
       "0              0.66560           0.7119                0.2654          0.4601   \n",
       "1              0.18660           0.2416                0.1860          0.2750   \n",
       "2              0.42450           0.4504                0.2430          0.3613   \n",
       "3              0.86630           0.6869                0.2575          0.6638   \n",
       "4              0.20500           0.4000                0.1625          0.2364   \n",
       "..                 ...              ...                   ...             ...   \n",
       "564            0.21130           0.4107                0.2216          0.2060   \n",
       "565            0.19220           0.3215                0.1628          0.2572   \n",
       "566            0.30940           0.3403                0.1418          0.2218   \n",
       "567            0.86810           0.9387                0.2650          0.4087   \n",
       "568            0.06444           0.0000                0.0000          0.2871   \n",
       "\n",
       "     fractal_dimension_worst  Unnamed: 32  \n",
       "0                    0.11890          NaN  \n",
       "1                    0.08902          NaN  \n",
       "2                    0.08758          NaN  \n",
       "3                    0.17300          NaN  \n",
       "4                    0.07678          NaN  \n",
       "..                       ...          ...  \n",
       "564                  0.07115          NaN  \n",
       "565                  0.06637          NaN  \n",
       "566                  0.07820          NaN  \n",
       "567                  0.12400          NaN  \n",
       "568                  0.07039          NaN  \n",
       "\n",
       "[569 rows x 33 columns]"
      ]
     },
     "execution_count": 92,
     "metadata": {},
     "output_type": "execute_result"
    }
   ],
   "source": [
    "df = pd.read_csv(\"../datasets/breast_cancer_data/data.csv\")\n",
    "df"
   ]
  },
  {
   "cell_type": "code",
   "execution_count": 93,
   "metadata": {},
   "outputs": [
    {
     "data": {
      "text/html": [
       "<div>\n",
       "<style scoped>\n",
       "    .dataframe tbody tr th:only-of-type {\n",
       "        vertical-align: middle;\n",
       "    }\n",
       "\n",
       "    .dataframe tbody tr th {\n",
       "        vertical-align: top;\n",
       "    }\n",
       "\n",
       "    .dataframe thead th {\n",
       "        text-align: right;\n",
       "    }\n",
       "</style>\n",
       "<table border=\"1\" class=\"dataframe\">\n",
       "  <thead>\n",
       "    <tr style=\"text-align: right;\">\n",
       "      <th></th>\n",
       "      <th>diagnosis</th>\n",
       "      <th>radius_mean</th>\n",
       "      <th>texture_mean</th>\n",
       "      <th>perimeter_mean</th>\n",
       "      <th>area_mean</th>\n",
       "      <th>smoothness_mean</th>\n",
       "      <th>compactness_mean</th>\n",
       "      <th>concavity_mean</th>\n",
       "      <th>concave points_mean</th>\n",
       "      <th>symmetry_mean</th>\n",
       "      <th>...</th>\n",
       "      <th>radius_worst</th>\n",
       "      <th>texture_worst</th>\n",
       "      <th>perimeter_worst</th>\n",
       "      <th>area_worst</th>\n",
       "      <th>smoothness_worst</th>\n",
       "      <th>compactness_worst</th>\n",
       "      <th>concavity_worst</th>\n",
       "      <th>concave points_worst</th>\n",
       "      <th>symmetry_worst</th>\n",
       "      <th>fractal_dimension_worst</th>\n",
       "    </tr>\n",
       "  </thead>\n",
       "  <tbody>\n",
       "    <tr>\n",
       "      <th>0</th>\n",
       "      <td>1</td>\n",
       "      <td>17.99</td>\n",
       "      <td>10.38</td>\n",
       "      <td>122.80</td>\n",
       "      <td>1001.0</td>\n",
       "      <td>0.11840</td>\n",
       "      <td>0.27760</td>\n",
       "      <td>0.30010</td>\n",
       "      <td>0.14710</td>\n",
       "      <td>0.2419</td>\n",
       "      <td>...</td>\n",
       "      <td>25.380</td>\n",
       "      <td>17.33</td>\n",
       "      <td>184.60</td>\n",
       "      <td>2019.0</td>\n",
       "      <td>0.16220</td>\n",
       "      <td>0.66560</td>\n",
       "      <td>0.7119</td>\n",
       "      <td>0.2654</td>\n",
       "      <td>0.4601</td>\n",
       "      <td>0.11890</td>\n",
       "    </tr>\n",
       "    <tr>\n",
       "      <th>1</th>\n",
       "      <td>1</td>\n",
       "      <td>20.57</td>\n",
       "      <td>17.77</td>\n",
       "      <td>132.90</td>\n",
       "      <td>1326.0</td>\n",
       "      <td>0.08474</td>\n",
       "      <td>0.07864</td>\n",
       "      <td>0.08690</td>\n",
       "      <td>0.07017</td>\n",
       "      <td>0.1812</td>\n",
       "      <td>...</td>\n",
       "      <td>24.990</td>\n",
       "      <td>23.41</td>\n",
       "      <td>158.80</td>\n",
       "      <td>1956.0</td>\n",
       "      <td>0.12380</td>\n",
       "      <td>0.18660</td>\n",
       "      <td>0.2416</td>\n",
       "      <td>0.1860</td>\n",
       "      <td>0.2750</td>\n",
       "      <td>0.08902</td>\n",
       "    </tr>\n",
       "    <tr>\n",
       "      <th>2</th>\n",
       "      <td>1</td>\n",
       "      <td>19.69</td>\n",
       "      <td>21.25</td>\n",
       "      <td>130.00</td>\n",
       "      <td>1203.0</td>\n",
       "      <td>0.10960</td>\n",
       "      <td>0.15990</td>\n",
       "      <td>0.19740</td>\n",
       "      <td>0.12790</td>\n",
       "      <td>0.2069</td>\n",
       "      <td>...</td>\n",
       "      <td>23.570</td>\n",
       "      <td>25.53</td>\n",
       "      <td>152.50</td>\n",
       "      <td>1709.0</td>\n",
       "      <td>0.14440</td>\n",
       "      <td>0.42450</td>\n",
       "      <td>0.4504</td>\n",
       "      <td>0.2430</td>\n",
       "      <td>0.3613</td>\n",
       "      <td>0.08758</td>\n",
       "    </tr>\n",
       "    <tr>\n",
       "      <th>3</th>\n",
       "      <td>1</td>\n",
       "      <td>11.42</td>\n",
       "      <td>20.38</td>\n",
       "      <td>77.58</td>\n",
       "      <td>386.1</td>\n",
       "      <td>0.14250</td>\n",
       "      <td>0.28390</td>\n",
       "      <td>0.24140</td>\n",
       "      <td>0.10520</td>\n",
       "      <td>0.2597</td>\n",
       "      <td>...</td>\n",
       "      <td>14.910</td>\n",
       "      <td>26.50</td>\n",
       "      <td>98.87</td>\n",
       "      <td>567.7</td>\n",
       "      <td>0.20980</td>\n",
       "      <td>0.86630</td>\n",
       "      <td>0.6869</td>\n",
       "      <td>0.2575</td>\n",
       "      <td>0.6638</td>\n",
       "      <td>0.17300</td>\n",
       "    </tr>\n",
       "    <tr>\n",
       "      <th>4</th>\n",
       "      <td>1</td>\n",
       "      <td>20.29</td>\n",
       "      <td>14.34</td>\n",
       "      <td>135.10</td>\n",
       "      <td>1297.0</td>\n",
       "      <td>0.10030</td>\n",
       "      <td>0.13280</td>\n",
       "      <td>0.19800</td>\n",
       "      <td>0.10430</td>\n",
       "      <td>0.1809</td>\n",
       "      <td>...</td>\n",
       "      <td>22.540</td>\n",
       "      <td>16.67</td>\n",
       "      <td>152.20</td>\n",
       "      <td>1575.0</td>\n",
       "      <td>0.13740</td>\n",
       "      <td>0.20500</td>\n",
       "      <td>0.4000</td>\n",
       "      <td>0.1625</td>\n",
       "      <td>0.2364</td>\n",
       "      <td>0.07678</td>\n",
       "    </tr>\n",
       "    <tr>\n",
       "      <th>...</th>\n",
       "      <td>...</td>\n",
       "      <td>...</td>\n",
       "      <td>...</td>\n",
       "      <td>...</td>\n",
       "      <td>...</td>\n",
       "      <td>...</td>\n",
       "      <td>...</td>\n",
       "      <td>...</td>\n",
       "      <td>...</td>\n",
       "      <td>...</td>\n",
       "      <td>...</td>\n",
       "      <td>...</td>\n",
       "      <td>...</td>\n",
       "      <td>...</td>\n",
       "      <td>...</td>\n",
       "      <td>...</td>\n",
       "      <td>...</td>\n",
       "      <td>...</td>\n",
       "      <td>...</td>\n",
       "      <td>...</td>\n",
       "      <td>...</td>\n",
       "    </tr>\n",
       "    <tr>\n",
       "      <th>564</th>\n",
       "      <td>1</td>\n",
       "      <td>21.56</td>\n",
       "      <td>22.39</td>\n",
       "      <td>142.00</td>\n",
       "      <td>1479.0</td>\n",
       "      <td>0.11100</td>\n",
       "      <td>0.11590</td>\n",
       "      <td>0.24390</td>\n",
       "      <td>0.13890</td>\n",
       "      <td>0.1726</td>\n",
       "      <td>...</td>\n",
       "      <td>25.450</td>\n",
       "      <td>26.40</td>\n",
       "      <td>166.10</td>\n",
       "      <td>2027.0</td>\n",
       "      <td>0.14100</td>\n",
       "      <td>0.21130</td>\n",
       "      <td>0.4107</td>\n",
       "      <td>0.2216</td>\n",
       "      <td>0.2060</td>\n",
       "      <td>0.07115</td>\n",
       "    </tr>\n",
       "    <tr>\n",
       "      <th>565</th>\n",
       "      <td>1</td>\n",
       "      <td>20.13</td>\n",
       "      <td>28.25</td>\n",
       "      <td>131.20</td>\n",
       "      <td>1261.0</td>\n",
       "      <td>0.09780</td>\n",
       "      <td>0.10340</td>\n",
       "      <td>0.14400</td>\n",
       "      <td>0.09791</td>\n",
       "      <td>0.1752</td>\n",
       "      <td>...</td>\n",
       "      <td>23.690</td>\n",
       "      <td>38.25</td>\n",
       "      <td>155.00</td>\n",
       "      <td>1731.0</td>\n",
       "      <td>0.11660</td>\n",
       "      <td>0.19220</td>\n",
       "      <td>0.3215</td>\n",
       "      <td>0.1628</td>\n",
       "      <td>0.2572</td>\n",
       "      <td>0.06637</td>\n",
       "    </tr>\n",
       "    <tr>\n",
       "      <th>566</th>\n",
       "      <td>1</td>\n",
       "      <td>16.60</td>\n",
       "      <td>28.08</td>\n",
       "      <td>108.30</td>\n",
       "      <td>858.1</td>\n",
       "      <td>0.08455</td>\n",
       "      <td>0.10230</td>\n",
       "      <td>0.09251</td>\n",
       "      <td>0.05302</td>\n",
       "      <td>0.1590</td>\n",
       "      <td>...</td>\n",
       "      <td>18.980</td>\n",
       "      <td>34.12</td>\n",
       "      <td>126.70</td>\n",
       "      <td>1124.0</td>\n",
       "      <td>0.11390</td>\n",
       "      <td>0.30940</td>\n",
       "      <td>0.3403</td>\n",
       "      <td>0.1418</td>\n",
       "      <td>0.2218</td>\n",
       "      <td>0.07820</td>\n",
       "    </tr>\n",
       "    <tr>\n",
       "      <th>567</th>\n",
       "      <td>1</td>\n",
       "      <td>20.60</td>\n",
       "      <td>29.33</td>\n",
       "      <td>140.10</td>\n",
       "      <td>1265.0</td>\n",
       "      <td>0.11780</td>\n",
       "      <td>0.27700</td>\n",
       "      <td>0.35140</td>\n",
       "      <td>0.15200</td>\n",
       "      <td>0.2397</td>\n",
       "      <td>...</td>\n",
       "      <td>25.740</td>\n",
       "      <td>39.42</td>\n",
       "      <td>184.60</td>\n",
       "      <td>1821.0</td>\n",
       "      <td>0.16500</td>\n",
       "      <td>0.86810</td>\n",
       "      <td>0.9387</td>\n",
       "      <td>0.2650</td>\n",
       "      <td>0.4087</td>\n",
       "      <td>0.12400</td>\n",
       "    </tr>\n",
       "    <tr>\n",
       "      <th>568</th>\n",
       "      <td>0</td>\n",
       "      <td>7.76</td>\n",
       "      <td>24.54</td>\n",
       "      <td>47.92</td>\n",
       "      <td>181.0</td>\n",
       "      <td>0.05263</td>\n",
       "      <td>0.04362</td>\n",
       "      <td>0.00000</td>\n",
       "      <td>0.00000</td>\n",
       "      <td>0.1587</td>\n",
       "      <td>...</td>\n",
       "      <td>9.456</td>\n",
       "      <td>30.37</td>\n",
       "      <td>59.16</td>\n",
       "      <td>268.6</td>\n",
       "      <td>0.08996</td>\n",
       "      <td>0.06444</td>\n",
       "      <td>0.0000</td>\n",
       "      <td>0.0000</td>\n",
       "      <td>0.2871</td>\n",
       "      <td>0.07039</td>\n",
       "    </tr>\n",
       "  </tbody>\n",
       "</table>\n",
       "<p>569 rows × 31 columns</p>\n",
       "</div>"
      ],
      "text/plain": [
       "     diagnosis  radius_mean  texture_mean  perimeter_mean  area_mean  \\\n",
       "0            1        17.99         10.38          122.80     1001.0   \n",
       "1            1        20.57         17.77          132.90     1326.0   \n",
       "2            1        19.69         21.25          130.00     1203.0   \n",
       "3            1        11.42         20.38           77.58      386.1   \n",
       "4            1        20.29         14.34          135.10     1297.0   \n",
       "..         ...          ...           ...             ...        ...   \n",
       "564          1        21.56         22.39          142.00     1479.0   \n",
       "565          1        20.13         28.25          131.20     1261.0   \n",
       "566          1        16.60         28.08          108.30      858.1   \n",
       "567          1        20.60         29.33          140.10     1265.0   \n",
       "568          0         7.76         24.54           47.92      181.0   \n",
       "\n",
       "     smoothness_mean  compactness_mean  concavity_mean  concave points_mean  \\\n",
       "0            0.11840           0.27760         0.30010              0.14710   \n",
       "1            0.08474           0.07864         0.08690              0.07017   \n",
       "2            0.10960           0.15990         0.19740              0.12790   \n",
       "3            0.14250           0.28390         0.24140              0.10520   \n",
       "4            0.10030           0.13280         0.19800              0.10430   \n",
       "..               ...               ...             ...                  ...   \n",
       "564          0.11100           0.11590         0.24390              0.13890   \n",
       "565          0.09780           0.10340         0.14400              0.09791   \n",
       "566          0.08455           0.10230         0.09251              0.05302   \n",
       "567          0.11780           0.27700         0.35140              0.15200   \n",
       "568          0.05263           0.04362         0.00000              0.00000   \n",
       "\n",
       "     symmetry_mean  ...  radius_worst  texture_worst  perimeter_worst  \\\n",
       "0           0.2419  ...        25.380          17.33           184.60   \n",
       "1           0.1812  ...        24.990          23.41           158.80   \n",
       "2           0.2069  ...        23.570          25.53           152.50   \n",
       "3           0.2597  ...        14.910          26.50            98.87   \n",
       "4           0.1809  ...        22.540          16.67           152.20   \n",
       "..             ...  ...           ...            ...              ...   \n",
       "564         0.1726  ...        25.450          26.40           166.10   \n",
       "565         0.1752  ...        23.690          38.25           155.00   \n",
       "566         0.1590  ...        18.980          34.12           126.70   \n",
       "567         0.2397  ...        25.740          39.42           184.60   \n",
       "568         0.1587  ...         9.456          30.37            59.16   \n",
       "\n",
       "     area_worst  smoothness_worst  compactness_worst  concavity_worst  \\\n",
       "0        2019.0           0.16220            0.66560           0.7119   \n",
       "1        1956.0           0.12380            0.18660           0.2416   \n",
       "2        1709.0           0.14440            0.42450           0.4504   \n",
       "3         567.7           0.20980            0.86630           0.6869   \n",
       "4        1575.0           0.13740            0.20500           0.4000   \n",
       "..          ...               ...                ...              ...   \n",
       "564      2027.0           0.14100            0.21130           0.4107   \n",
       "565      1731.0           0.11660            0.19220           0.3215   \n",
       "566      1124.0           0.11390            0.30940           0.3403   \n",
       "567      1821.0           0.16500            0.86810           0.9387   \n",
       "568       268.6           0.08996            0.06444           0.0000   \n",
       "\n",
       "     concave points_worst  symmetry_worst  fractal_dimension_worst  \n",
       "0                  0.2654          0.4601                  0.11890  \n",
       "1                  0.1860          0.2750                  0.08902  \n",
       "2                  0.2430          0.3613                  0.08758  \n",
       "3                  0.2575          0.6638                  0.17300  \n",
       "4                  0.1625          0.2364                  0.07678  \n",
       "..                    ...             ...                      ...  \n",
       "564                0.2216          0.2060                  0.07115  \n",
       "565                0.1628          0.2572                  0.06637  \n",
       "566                0.1418          0.2218                  0.07820  \n",
       "567                0.2650          0.4087                  0.12400  \n",
       "568                0.0000          0.2871                  0.07039  \n",
       "\n",
       "[569 rows x 31 columns]"
      ]
     },
     "execution_count": 93,
     "metadata": {},
     "output_type": "execute_result"
    }
   ],
   "source": [
    "df.drop(columns=['Unnamed: 32','id'],inplace=True)\n",
    "df['diagnosis'] = df['diagnosis'].map({'M': 1, 'B': 0})\n",
    "df"
   ]
  },
  {
   "cell_type": "code",
   "execution_count": 94,
   "metadata": {},
   "outputs": [],
   "source": [
    "X = df.drop(['diagnosis'], axis=1)\n",
    "Y = df['diagnosis']"
   ]
  },
  {
   "cell_type": "code",
   "execution_count": 95,
   "metadata": {},
   "outputs": [],
   "source": [
    "from sklearn import preprocessing\n",
    "X = preprocessing.StandardScaler().fit_transform(X)"
   ]
  },
  {
   "cell_type": "code",
   "execution_count": 98,
   "metadata": {},
   "outputs": [],
   "source": [
    "rs = np.random.RandomState(19)\n",
    "X_sample, Y_sample = random_data_sample(X, Y, 1, rs)"
   ]
  },
  {
   "cell_type": "code",
   "execution_count": 99,
   "metadata": {},
   "outputs": [
    {
     "data": {
      "text/plain": [
       "(569, 30)"
      ]
     },
     "execution_count": 99,
     "metadata": {},
     "output_type": "execute_result"
    }
   ],
   "source": [
    "X_sample.shape"
   ]
  },
  {
   "cell_type": "code",
   "execution_count": 100,
   "metadata": {},
   "outputs": [
    {
     "data": {
      "text/plain": [
       "(array([0, 1], dtype=int64), array([356, 213], dtype=int64))"
      ]
     },
     "execution_count": 100,
     "metadata": {},
     "output_type": "execute_result"
    }
   ],
   "source": [
    "np.unique(Y_sample, return_counts=True)"
   ]
  },
  {
   "cell_type": "code",
   "execution_count": 103,
   "metadata": {},
   "outputs": [
    {
     "name": "stdout",
     "output_type": "stream",
     "text": [
      "kmeans score:  0.35977281312435305\n",
      "kmeans score2:  0.35977281312435305\n"
     ]
    }
   ],
   "source": [
    "rs = np.random.RandomState(19)\n",
    "test_dataset(X_sample, Y_sample, rs, \"euclidean\", normalize=False, n_clusters=5)"
   ]
  },
  {
   "cell_type": "code",
   "execution_count": 31,
   "metadata": {},
   "outputs": [],
   "source": [
    "np.save(\"../datasets/breast_cancer_data/X.npy\", X_sample)\n",
    "np.save(\"../datasets/breast_cancer_data/Y.npy\", Y_sample)"
   ]
  },
  {
   "cell_type": "code",
   "execution_count": 65,
   "metadata": {},
   "outputs": [],
   "source": [
    "Xtest = np.load(\"../datasets/breast_cancer_data/X.npy\")\n",
    "ytest = np.load(\"../datasets/breast_cancer_data/Y.npy\")"
   ]
  },
  {
   "cell_type": "code",
   "execution_count": 76,
   "metadata": {},
   "outputs": [
    {
     "name": "stdout",
     "output_type": "stream",
     "text": [
      "kmeans score:  0.2234799017682122\n",
      "kmeans score2:  0.2234799017682122\n"
     ]
    }
   ],
   "source": [
    "rs = np.random.RandomState(19)\n",
    "test_dataset(Xtest, ytest, rs, \"euclidean\", normalize=True, n_clusters=10)"
   ]
  },
  {
   "cell_type": "code",
   "execution_count": 118,
   "metadata": {},
   "outputs": [
    {
     "data": {
      "text/plain": [
       "(1, 30)"
      ]
     },
     "execution_count": 118,
     "metadata": {},
     "output_type": "execute_result"
    }
   ],
   "source": [
    "Xtest.shape"
   ]
  },
  {
   "cell_type": "code",
   "execution_count": 119,
   "metadata": {},
   "outputs": [
    {
     "data": {
      "text/plain": [
       "(1,)"
      ]
     },
     "execution_count": 119,
     "metadata": {},
     "output_type": "execute_result"
    }
   ],
   "source": [
    "ytest.shape"
   ]
  },
  {
   "cell_type": "code",
   "execution_count": 59,
   "metadata": {},
   "outputs": [],
   "source": [
    "np.save(\"C:\\Github_Projects/robust-active-clustering/datasets_small/breast_cancer_data/X.npy\", X_sample)\n",
    "np.save(\"C:\\Github_Projects/robust-active-clustering/datasets_small/breast_cancer_data/Y.npy\", Y_sample)"
   ]
  },
  {
   "attachments": {},
   "cell_type": "markdown",
   "metadata": {},
   "source": [
    "## Cardiotocography"
   ]
  },
  {
   "cell_type": "code",
   "execution_count": 104,
   "metadata": {},
   "outputs": [],
   "source": [
    "import pandas as pd\n",
    "data = pd.read_excel('../datasets/cardiotocography_data/CTG.xls', sheet_name = 1, skiprows = 1)"
   ]
  },
  {
   "cell_type": "code",
   "execution_count": 105,
   "metadata": {},
   "outputs": [
    {
     "data": {
      "text/html": [
       "<div>\n",
       "<style scoped>\n",
       "    .dataframe tbody tr th:only-of-type {\n",
       "        vertical-align: middle;\n",
       "    }\n",
       "\n",
       "    .dataframe tbody tr th {\n",
       "        vertical-align: top;\n",
       "    }\n",
       "\n",
       "    .dataframe thead th {\n",
       "        text-align: right;\n",
       "    }\n",
       "</style>\n",
       "<table border=\"1\" class=\"dataframe\">\n",
       "  <thead>\n",
       "    <tr style=\"text-align: right;\">\n",
       "      <th></th>\n",
       "      <th>LB</th>\n",
       "      <th>AC.1</th>\n",
       "      <th>FM.1</th>\n",
       "      <th>UC.1</th>\n",
       "      <th>DL.1</th>\n",
       "      <th>DS.1</th>\n",
       "      <th>DP.1</th>\n",
       "      <th>ASTV</th>\n",
       "      <th>MSTV</th>\n",
       "      <th>ALTV</th>\n",
       "      <th>...</th>\n",
       "      <th>Max</th>\n",
       "      <th>Nmax</th>\n",
       "      <th>Nzeros</th>\n",
       "      <th>Mode</th>\n",
       "      <th>Mean</th>\n",
       "      <th>Median</th>\n",
       "      <th>Variance</th>\n",
       "      <th>Tendency</th>\n",
       "      <th>CLASS</th>\n",
       "      <th>NSP</th>\n",
       "    </tr>\n",
       "  </thead>\n",
       "  <tbody>\n",
       "    <tr>\n",
       "      <th>0</th>\n",
       "      <td>120.0</td>\n",
       "      <td>0.000000</td>\n",
       "      <td>0.000000</td>\n",
       "      <td>0.000000</td>\n",
       "      <td>0.000000</td>\n",
       "      <td>0.0</td>\n",
       "      <td>0.0</td>\n",
       "      <td>73.0</td>\n",
       "      <td>0.5</td>\n",
       "      <td>43.0</td>\n",
       "      <td>...</td>\n",
       "      <td>126.0</td>\n",
       "      <td>2.0</td>\n",
       "      <td>0.0</td>\n",
       "      <td>120.0</td>\n",
       "      <td>137.0</td>\n",
       "      <td>121.0</td>\n",
       "      <td>73.0</td>\n",
       "      <td>1.0</td>\n",
       "      <td>9.0</td>\n",
       "      <td>2.0</td>\n",
       "    </tr>\n",
       "    <tr>\n",
       "      <th>1</th>\n",
       "      <td>132.0</td>\n",
       "      <td>0.006380</td>\n",
       "      <td>0.000000</td>\n",
       "      <td>0.006380</td>\n",
       "      <td>0.003190</td>\n",
       "      <td>0.0</td>\n",
       "      <td>0.0</td>\n",
       "      <td>17.0</td>\n",
       "      <td>2.1</td>\n",
       "      <td>0.0</td>\n",
       "      <td>...</td>\n",
       "      <td>198.0</td>\n",
       "      <td>6.0</td>\n",
       "      <td>1.0</td>\n",
       "      <td>141.0</td>\n",
       "      <td>136.0</td>\n",
       "      <td>140.0</td>\n",
       "      <td>12.0</td>\n",
       "      <td>0.0</td>\n",
       "      <td>6.0</td>\n",
       "      <td>1.0</td>\n",
       "    </tr>\n",
       "    <tr>\n",
       "      <th>2</th>\n",
       "      <td>133.0</td>\n",
       "      <td>0.003322</td>\n",
       "      <td>0.000000</td>\n",
       "      <td>0.008306</td>\n",
       "      <td>0.003322</td>\n",
       "      <td>0.0</td>\n",
       "      <td>0.0</td>\n",
       "      <td>16.0</td>\n",
       "      <td>2.1</td>\n",
       "      <td>0.0</td>\n",
       "      <td>...</td>\n",
       "      <td>198.0</td>\n",
       "      <td>5.0</td>\n",
       "      <td>1.0</td>\n",
       "      <td>141.0</td>\n",
       "      <td>135.0</td>\n",
       "      <td>138.0</td>\n",
       "      <td>13.0</td>\n",
       "      <td>0.0</td>\n",
       "      <td>6.0</td>\n",
       "      <td>1.0</td>\n",
       "    </tr>\n",
       "    <tr>\n",
       "      <th>3</th>\n",
       "      <td>134.0</td>\n",
       "      <td>0.002561</td>\n",
       "      <td>0.000000</td>\n",
       "      <td>0.007682</td>\n",
       "      <td>0.002561</td>\n",
       "      <td>0.0</td>\n",
       "      <td>0.0</td>\n",
       "      <td>16.0</td>\n",
       "      <td>2.4</td>\n",
       "      <td>0.0</td>\n",
       "      <td>...</td>\n",
       "      <td>170.0</td>\n",
       "      <td>11.0</td>\n",
       "      <td>0.0</td>\n",
       "      <td>137.0</td>\n",
       "      <td>134.0</td>\n",
       "      <td>137.0</td>\n",
       "      <td>13.0</td>\n",
       "      <td>1.0</td>\n",
       "      <td>6.0</td>\n",
       "      <td>1.0</td>\n",
       "    </tr>\n",
       "    <tr>\n",
       "      <th>4</th>\n",
       "      <td>132.0</td>\n",
       "      <td>0.006515</td>\n",
       "      <td>0.000000</td>\n",
       "      <td>0.008143</td>\n",
       "      <td>0.000000</td>\n",
       "      <td>0.0</td>\n",
       "      <td>0.0</td>\n",
       "      <td>16.0</td>\n",
       "      <td>2.4</td>\n",
       "      <td>0.0</td>\n",
       "      <td>...</td>\n",
       "      <td>170.0</td>\n",
       "      <td>9.0</td>\n",
       "      <td>0.0</td>\n",
       "      <td>137.0</td>\n",
       "      <td>136.0</td>\n",
       "      <td>138.0</td>\n",
       "      <td>11.0</td>\n",
       "      <td>1.0</td>\n",
       "      <td>2.0</td>\n",
       "      <td>1.0</td>\n",
       "    </tr>\n",
       "    <tr>\n",
       "      <th>...</th>\n",
       "      <td>...</td>\n",
       "      <td>...</td>\n",
       "      <td>...</td>\n",
       "      <td>...</td>\n",
       "      <td>...</td>\n",
       "      <td>...</td>\n",
       "      <td>...</td>\n",
       "      <td>...</td>\n",
       "      <td>...</td>\n",
       "      <td>...</td>\n",
       "      <td>...</td>\n",
       "      <td>...</td>\n",
       "      <td>...</td>\n",
       "      <td>...</td>\n",
       "      <td>...</td>\n",
       "      <td>...</td>\n",
       "      <td>...</td>\n",
       "      <td>...</td>\n",
       "      <td>...</td>\n",
       "      <td>...</td>\n",
       "      <td>...</td>\n",
       "    </tr>\n",
       "    <tr>\n",
       "      <th>2121</th>\n",
       "      <td>140.0</td>\n",
       "      <td>0.000000</td>\n",
       "      <td>0.000000</td>\n",
       "      <td>0.007426</td>\n",
       "      <td>0.000000</td>\n",
       "      <td>0.0</td>\n",
       "      <td>0.0</td>\n",
       "      <td>79.0</td>\n",
       "      <td>0.2</td>\n",
       "      <td>25.0</td>\n",
       "      <td>...</td>\n",
       "      <td>177.0</td>\n",
       "      <td>4.0</td>\n",
       "      <td>0.0</td>\n",
       "      <td>153.0</td>\n",
       "      <td>150.0</td>\n",
       "      <td>152.0</td>\n",
       "      <td>2.0</td>\n",
       "      <td>0.0</td>\n",
       "      <td>5.0</td>\n",
       "      <td>2.0</td>\n",
       "    </tr>\n",
       "    <tr>\n",
       "      <th>2122</th>\n",
       "      <td>140.0</td>\n",
       "      <td>0.000775</td>\n",
       "      <td>0.000000</td>\n",
       "      <td>0.006971</td>\n",
       "      <td>0.000000</td>\n",
       "      <td>0.0</td>\n",
       "      <td>0.0</td>\n",
       "      <td>78.0</td>\n",
       "      <td>0.4</td>\n",
       "      <td>22.0</td>\n",
       "      <td>...</td>\n",
       "      <td>169.0</td>\n",
       "      <td>6.0</td>\n",
       "      <td>0.0</td>\n",
       "      <td>152.0</td>\n",
       "      <td>148.0</td>\n",
       "      <td>151.0</td>\n",
       "      <td>3.0</td>\n",
       "      <td>1.0</td>\n",
       "      <td>5.0</td>\n",
       "      <td>2.0</td>\n",
       "    </tr>\n",
       "    <tr>\n",
       "      <th>2123</th>\n",
       "      <td>140.0</td>\n",
       "      <td>0.000980</td>\n",
       "      <td>0.000000</td>\n",
       "      <td>0.006863</td>\n",
       "      <td>0.000000</td>\n",
       "      <td>0.0</td>\n",
       "      <td>0.0</td>\n",
       "      <td>79.0</td>\n",
       "      <td>0.4</td>\n",
       "      <td>20.0</td>\n",
       "      <td>...</td>\n",
       "      <td>170.0</td>\n",
       "      <td>5.0</td>\n",
       "      <td>0.0</td>\n",
       "      <td>153.0</td>\n",
       "      <td>148.0</td>\n",
       "      <td>152.0</td>\n",
       "      <td>4.0</td>\n",
       "      <td>1.0</td>\n",
       "      <td>5.0</td>\n",
       "      <td>2.0</td>\n",
       "    </tr>\n",
       "    <tr>\n",
       "      <th>2124</th>\n",
       "      <td>140.0</td>\n",
       "      <td>0.000679</td>\n",
       "      <td>0.000000</td>\n",
       "      <td>0.006110</td>\n",
       "      <td>0.000000</td>\n",
       "      <td>0.0</td>\n",
       "      <td>0.0</td>\n",
       "      <td>78.0</td>\n",
       "      <td>0.4</td>\n",
       "      <td>27.0</td>\n",
       "      <td>...</td>\n",
       "      <td>169.0</td>\n",
       "      <td>6.0</td>\n",
       "      <td>0.0</td>\n",
       "      <td>152.0</td>\n",
       "      <td>147.0</td>\n",
       "      <td>151.0</td>\n",
       "      <td>4.0</td>\n",
       "      <td>1.0</td>\n",
       "      <td>5.0</td>\n",
       "      <td>2.0</td>\n",
       "    </tr>\n",
       "    <tr>\n",
       "      <th>2125</th>\n",
       "      <td>142.0</td>\n",
       "      <td>0.001616</td>\n",
       "      <td>0.001616</td>\n",
       "      <td>0.008078</td>\n",
       "      <td>0.000000</td>\n",
       "      <td>0.0</td>\n",
       "      <td>0.0</td>\n",
       "      <td>74.0</td>\n",
       "      <td>0.4</td>\n",
       "      <td>36.0</td>\n",
       "      <td>...</td>\n",
       "      <td>159.0</td>\n",
       "      <td>2.0</td>\n",
       "      <td>1.0</td>\n",
       "      <td>145.0</td>\n",
       "      <td>143.0</td>\n",
       "      <td>145.0</td>\n",
       "      <td>1.0</td>\n",
       "      <td>0.0</td>\n",
       "      <td>1.0</td>\n",
       "      <td>1.0</td>\n",
       "    </tr>\n",
       "  </tbody>\n",
       "</table>\n",
       "<p>2115 rows × 23 columns</p>\n",
       "</div>"
      ],
      "text/plain": [
       "         LB      AC.1      FM.1      UC.1      DL.1  DS.1  DP.1  ASTV  MSTV  \\\n",
       "0     120.0  0.000000  0.000000  0.000000  0.000000   0.0   0.0  73.0   0.5   \n",
       "1     132.0  0.006380  0.000000  0.006380  0.003190   0.0   0.0  17.0   2.1   \n",
       "2     133.0  0.003322  0.000000  0.008306  0.003322   0.0   0.0  16.0   2.1   \n",
       "3     134.0  0.002561  0.000000  0.007682  0.002561   0.0   0.0  16.0   2.4   \n",
       "4     132.0  0.006515  0.000000  0.008143  0.000000   0.0   0.0  16.0   2.4   \n",
       "...     ...       ...       ...       ...       ...   ...   ...   ...   ...   \n",
       "2121  140.0  0.000000  0.000000  0.007426  0.000000   0.0   0.0  79.0   0.2   \n",
       "2122  140.0  0.000775  0.000000  0.006971  0.000000   0.0   0.0  78.0   0.4   \n",
       "2123  140.0  0.000980  0.000000  0.006863  0.000000   0.0   0.0  79.0   0.4   \n",
       "2124  140.0  0.000679  0.000000  0.006110  0.000000   0.0   0.0  78.0   0.4   \n",
       "2125  142.0  0.001616  0.001616  0.008078  0.000000   0.0   0.0  74.0   0.4   \n",
       "\n",
       "      ALTV  ...    Max  Nmax  Nzeros   Mode   Mean  Median  Variance  \\\n",
       "0     43.0  ...  126.0   2.0     0.0  120.0  137.0   121.0      73.0   \n",
       "1      0.0  ...  198.0   6.0     1.0  141.0  136.0   140.0      12.0   \n",
       "2      0.0  ...  198.0   5.0     1.0  141.0  135.0   138.0      13.0   \n",
       "3      0.0  ...  170.0  11.0     0.0  137.0  134.0   137.0      13.0   \n",
       "4      0.0  ...  170.0   9.0     0.0  137.0  136.0   138.0      11.0   \n",
       "...    ...  ...    ...   ...     ...    ...    ...     ...       ...   \n",
       "2121  25.0  ...  177.0   4.0     0.0  153.0  150.0   152.0       2.0   \n",
       "2122  22.0  ...  169.0   6.0     0.0  152.0  148.0   151.0       3.0   \n",
       "2123  20.0  ...  170.0   5.0     0.0  153.0  148.0   152.0       4.0   \n",
       "2124  27.0  ...  169.0   6.0     0.0  152.0  147.0   151.0       4.0   \n",
       "2125  36.0  ...  159.0   2.0     1.0  145.0  143.0   145.0       1.0   \n",
       "\n",
       "      Tendency  CLASS  NSP  \n",
       "0          1.0    9.0  2.0  \n",
       "1          0.0    6.0  1.0  \n",
       "2          0.0    6.0  1.0  \n",
       "3          1.0    6.0  1.0  \n",
       "4          1.0    2.0  1.0  \n",
       "...        ...    ...  ...  \n",
       "2121       0.0    5.0  2.0  \n",
       "2122       1.0    5.0  2.0  \n",
       "2123       1.0    5.0  2.0  \n",
       "2124       1.0    5.0  2.0  \n",
       "2125       0.0    1.0  1.0  \n",
       "\n",
       "[2115 rows x 23 columns]"
      ]
     },
     "execution_count": 105,
     "metadata": {},
     "output_type": "execute_result"
    }
   ],
   "source": [
    "data.drop(data.iloc[:, :10], inplace = True, axis = 1) \n",
    "data.drop(data.iloc[:, 22:33], inplace = True, axis = 1)\n",
    "data = data.drop(['Unnamed: 31', 'Unnamed: 44'], axis = 1)\n",
    "data = data.dropna()\n",
    "data = data.drop_duplicates()\n",
    "data"
   ]
  },
  {
   "cell_type": "code",
   "execution_count": 106,
   "metadata": {},
   "outputs": [],
   "source": [
    "X = data.drop(['CLASS'], axis=1)\n",
    "Y = data['CLASS'].to_numpy().astype(int) - 1"
   ]
  },
  {
   "cell_type": "code",
   "execution_count": 107,
   "metadata": {},
   "outputs": [],
   "source": [
    "from sklearn import preprocessing\n",
    "X = preprocessing.StandardScaler().fit_transform(X)"
   ]
  },
  {
   "cell_type": "code",
   "execution_count": 108,
   "metadata": {},
   "outputs": [],
   "source": [
    "rs = np.random.RandomState(19)\n",
    "X_sample, Y_sample = random_data_sample(X, Y, 1000, rs)"
   ]
  },
  {
   "cell_type": "code",
   "execution_count": 109,
   "metadata": {},
   "outputs": [
    {
     "data": {
      "text/plain": [
       "(1000, 22)"
      ]
     },
     "execution_count": 109,
     "metadata": {},
     "output_type": "execute_result"
    }
   ],
   "source": [
    "X_sample.shape"
   ]
  },
  {
   "cell_type": "code",
   "execution_count": 110,
   "metadata": {},
   "outputs": [
    {
     "data": {
      "text/plain": [
       "(array([0, 1, 2, 3, 4, 5, 6, 7, 8, 9]),\n",
       " array([180, 275,  27,  35,  31, 148, 114,  62,  28, 100], dtype=int64))"
      ]
     },
     "execution_count": 110,
     "metadata": {},
     "output_type": "execute_result"
    }
   ],
   "source": [
    "np.unique(Y_sample, return_counts=True)"
   ]
  },
  {
   "cell_type": "code",
   "execution_count": 112,
   "metadata": {},
   "outputs": [
    {
     "name": "stdout",
     "output_type": "stream",
     "text": [
      "kmeans score:  0.16652625565510235\n",
      "kmeans score2:  0.16652625565510235\n"
     ]
    }
   ],
   "source": [
    "rs = np.random.RandomState(25)\n",
    "test_dataset(X_sample, Y_sample, rs, \"euclidean\", normalize=False, n_clusters=5)"
   ]
  },
  {
   "cell_type": "code",
   "execution_count": 39,
   "metadata": {},
   "outputs": [],
   "source": [
    "np.save(\"../datasets/cardiotocography_data/X.npy\", X_sample)\n",
    "np.save(\"../datasets/cardiotocography_data/Y.npy\", Y_sample)"
   ]
  },
  {
   "cell_type": "code",
   "execution_count": 71,
   "metadata": {},
   "outputs": [],
   "source": [
    "np.save(\"C:\\Github_Projects/robust-active-clustering/datasets_small/cardiotocography_data/X.npy\", X_sample)\n",
    "np.save(\"C:\\Github_Projects/robust-active-clustering/datasets_small/cardiotocography_data/Y.npy\", Y_sample)"
   ]
  },
  {
   "cell_type": "code",
   "execution_count": 84,
   "metadata": {},
   "outputs": [
    {
     "name": "stdout",
     "output_type": "stream",
     "text": [
      "(1000, 22)\n",
      "(1000, 22)\n"
     ]
    }
   ],
   "source": [
    "Xtest = np.load(\"../datasets/cardiotocography_data/X.npy\")\n",
    "ytest = np.load(\"../datasets/cardiotocography_data/Y.npy\")\n",
    "print(Xtest.shape)\n",
    "print(Xtest.shape)"
   ]
  },
  {
   "cell_type": "code",
   "execution_count": 87,
   "metadata": {},
   "outputs": [
    {
     "name": "stdout",
     "output_type": "stream",
     "text": [
      "kmeans score:  0.22526070454276287\n",
      "kmeans score2:  0.22526070454276287\n"
     ]
    }
   ],
   "source": [
    "rs = np.random.RandomState(19)\n",
    "test_dataset(Xtest, ytest, rs, \"euclidean\", normalize=True, n_clusters=10)"
   ]
  },
  {
   "cell_type": "code",
   "execution_count": null,
   "metadata": {},
   "outputs": [],
   "source": []
  },
  {
   "cell_type": "code",
   "execution_count": 104,
   "metadata": {},
   "outputs": [
    {
     "data": {
      "text/plain": [
       "(array([0, 1, 2, 3, 4, 5, 6, 7, 8, 9]),\n",
       " array([393, 591,  57,  78,  69, 312, 228, 123,  62, 202], dtype=int64))"
      ]
     },
     "execution_count": 104,
     "metadata": {},
     "output_type": "execute_result"
    }
   ],
   "source": [
    "np.unique(Y, return_counts=True)"
   ]
  },
  {
   "cell_type": "code",
   "execution_count": 25,
   "metadata": {},
   "outputs": [
    {
     "data": {
      "text/plain": [
       "numpy.int32"
      ]
     },
     "execution_count": 25,
     "metadata": {},
     "output_type": "execute_result"
    }
   ],
   "source": [
    "type(Y[0])\n"
   ]
  },
  {
   "attachments": {},
   "cell_type": "markdown",
   "metadata": {},
   "source": [
    "## Ecoli"
   ]
  },
  {
   "cell_type": "code",
   "execution_count": 113,
   "metadata": {},
   "outputs": [
    {
     "data": {
      "text/html": [
       "<div>\n",
       "<style scoped>\n",
       "    .dataframe tbody tr th:only-of-type {\n",
       "        vertical-align: middle;\n",
       "    }\n",
       "\n",
       "    .dataframe tbody tr th {\n",
       "        vertical-align: top;\n",
       "    }\n",
       "\n",
       "    .dataframe thead th {\n",
       "        text-align: right;\n",
       "    }\n",
       "</style>\n",
       "<table border=\"1\" class=\"dataframe\">\n",
       "  <thead>\n",
       "    <tr style=\"text-align: right;\">\n",
       "      <th></th>\n",
       "      <th>SEQUENCE_NAME</th>\n",
       "      <th>MCG</th>\n",
       "      <th>GVH</th>\n",
       "      <th>LIP</th>\n",
       "      <th>CHG</th>\n",
       "      <th>AAC</th>\n",
       "      <th>ALM1</th>\n",
       "      <th>ALM2</th>\n",
       "      <th>SITE</th>\n",
       "    </tr>\n",
       "  </thead>\n",
       "  <tbody>\n",
       "    <tr>\n",
       "      <th>0</th>\n",
       "      <td>AAT_ECOLI</td>\n",
       "      <td>0.49</td>\n",
       "      <td>0.29</td>\n",
       "      <td>0.48</td>\n",
       "      <td>0.5</td>\n",
       "      <td>0.56</td>\n",
       "      <td>0.24</td>\n",
       "      <td>0.35</td>\n",
       "      <td>cp</td>\n",
       "    </tr>\n",
       "    <tr>\n",
       "      <th>1</th>\n",
       "      <td>ACEA_ECOLI</td>\n",
       "      <td>0.07</td>\n",
       "      <td>0.40</td>\n",
       "      <td>0.48</td>\n",
       "      <td>0.5</td>\n",
       "      <td>0.54</td>\n",
       "      <td>0.35</td>\n",
       "      <td>0.44</td>\n",
       "      <td>cp</td>\n",
       "    </tr>\n",
       "    <tr>\n",
       "      <th>2</th>\n",
       "      <td>ACEK_ECOLI</td>\n",
       "      <td>0.56</td>\n",
       "      <td>0.40</td>\n",
       "      <td>0.48</td>\n",
       "      <td>0.5</td>\n",
       "      <td>0.49</td>\n",
       "      <td>0.37</td>\n",
       "      <td>0.46</td>\n",
       "      <td>cp</td>\n",
       "    </tr>\n",
       "    <tr>\n",
       "      <th>3</th>\n",
       "      <td>ACKA_ECOLI</td>\n",
       "      <td>0.59</td>\n",
       "      <td>0.49</td>\n",
       "      <td>0.48</td>\n",
       "      <td>0.5</td>\n",
       "      <td>0.52</td>\n",
       "      <td>0.45</td>\n",
       "      <td>0.36</td>\n",
       "      <td>cp</td>\n",
       "    </tr>\n",
       "    <tr>\n",
       "      <th>4</th>\n",
       "      <td>ADI_ECOLI</td>\n",
       "      <td>0.23</td>\n",
       "      <td>0.32</td>\n",
       "      <td>0.48</td>\n",
       "      <td>0.5</td>\n",
       "      <td>0.55</td>\n",
       "      <td>0.25</td>\n",
       "      <td>0.35</td>\n",
       "      <td>cp</td>\n",
       "    </tr>\n",
       "    <tr>\n",
       "      <th>...</th>\n",
       "      <td>...</td>\n",
       "      <td>...</td>\n",
       "      <td>...</td>\n",
       "      <td>...</td>\n",
       "      <td>...</td>\n",
       "      <td>...</td>\n",
       "      <td>...</td>\n",
       "      <td>...</td>\n",
       "      <td>...</td>\n",
       "    </tr>\n",
       "    <tr>\n",
       "      <th>331</th>\n",
       "      <td>TREA_ECOLI</td>\n",
       "      <td>0.74</td>\n",
       "      <td>0.56</td>\n",
       "      <td>0.48</td>\n",
       "      <td>0.5</td>\n",
       "      <td>0.47</td>\n",
       "      <td>0.68</td>\n",
       "      <td>0.30</td>\n",
       "      <td>pp</td>\n",
       "    </tr>\n",
       "    <tr>\n",
       "      <th>332</th>\n",
       "      <td>UGPB_ECOLI</td>\n",
       "      <td>0.71</td>\n",
       "      <td>0.57</td>\n",
       "      <td>0.48</td>\n",
       "      <td>0.5</td>\n",
       "      <td>0.48</td>\n",
       "      <td>0.35</td>\n",
       "      <td>0.32</td>\n",
       "      <td>pp</td>\n",
       "    </tr>\n",
       "    <tr>\n",
       "      <th>333</th>\n",
       "      <td>USHA_ECOLI</td>\n",
       "      <td>0.61</td>\n",
       "      <td>0.60</td>\n",
       "      <td>0.48</td>\n",
       "      <td>0.5</td>\n",
       "      <td>0.44</td>\n",
       "      <td>0.39</td>\n",
       "      <td>0.38</td>\n",
       "      <td>pp</td>\n",
       "    </tr>\n",
       "    <tr>\n",
       "      <th>334</th>\n",
       "      <td>XYLF_ECOLI</td>\n",
       "      <td>0.59</td>\n",
       "      <td>0.61</td>\n",
       "      <td>0.48</td>\n",
       "      <td>0.5</td>\n",
       "      <td>0.42</td>\n",
       "      <td>0.42</td>\n",
       "      <td>0.37</td>\n",
       "      <td>pp</td>\n",
       "    </tr>\n",
       "    <tr>\n",
       "      <th>335</th>\n",
       "      <td>YTFQ_ECOLI</td>\n",
       "      <td>0.74</td>\n",
       "      <td>0.74</td>\n",
       "      <td>0.48</td>\n",
       "      <td>0.5</td>\n",
       "      <td>0.31</td>\n",
       "      <td>0.53</td>\n",
       "      <td>0.52</td>\n",
       "      <td>pp</td>\n",
       "    </tr>\n",
       "  </tbody>\n",
       "</table>\n",
       "<p>336 rows × 9 columns</p>\n",
       "</div>"
      ],
      "text/plain": [
       "    SEQUENCE_NAME   MCG   GVH   LIP  CHG   AAC  ALM1  ALM2 SITE\n",
       "0       AAT_ECOLI  0.49  0.29  0.48  0.5  0.56  0.24  0.35   cp\n",
       "1      ACEA_ECOLI  0.07  0.40  0.48  0.5  0.54  0.35  0.44   cp\n",
       "2      ACEK_ECOLI  0.56  0.40  0.48  0.5  0.49  0.37  0.46   cp\n",
       "3      ACKA_ECOLI  0.59  0.49  0.48  0.5  0.52  0.45  0.36   cp\n",
       "4       ADI_ECOLI  0.23  0.32  0.48  0.5  0.55  0.25  0.35   cp\n",
       "..            ...   ...   ...   ...  ...   ...   ...   ...  ...\n",
       "331    TREA_ECOLI  0.74  0.56  0.48  0.5  0.47  0.68  0.30   pp\n",
       "332    UGPB_ECOLI  0.71  0.57  0.48  0.5  0.48  0.35  0.32   pp\n",
       "333    USHA_ECOLI  0.61  0.60  0.48  0.5  0.44  0.39  0.38   pp\n",
       "334    XYLF_ECOLI  0.59  0.61  0.48  0.5  0.42  0.42  0.37   pp\n",
       "335    YTFQ_ECOLI  0.74  0.74  0.48  0.5  0.31  0.53  0.52   pp\n",
       "\n",
       "[336 rows x 9 columns]"
      ]
     },
     "execution_count": 113,
     "metadata": {},
     "output_type": "execute_result"
    }
   ],
   "source": [
    "df=pd.read_csv(\"../datasets/ecoli_data/ecoli.csv\")\n",
    "df"
   ]
  },
  {
   "cell_type": "code",
   "execution_count": 114,
   "metadata": {},
   "outputs": [],
   "source": [
    "df=df.drop([\"SEQUENCE_NAME\"],axis=1)"
   ]
  },
  {
   "cell_type": "code",
   "execution_count": 115,
   "metadata": {},
   "outputs": [],
   "source": [
    "from sklearn.preprocessing import LabelEncoder\n",
    "labelencoder=LabelEncoder()\n",
    "df[\"SITE\"] = labelencoder.fit_transform(df[\"SITE\"])"
   ]
  },
  {
   "cell_type": "code",
   "execution_count": 116,
   "metadata": {},
   "outputs": [],
   "source": [
    "X = df.drop([\"SITE\"],axis=1)\n",
    "Y = df[\"SITE\"]"
   ]
  },
  {
   "cell_type": "code",
   "execution_count": 117,
   "metadata": {},
   "outputs": [],
   "source": [
    "from sklearn import preprocessing\n",
    "X = preprocessing.StandardScaler().fit_transform(X)\n",
    "Y = Y.to_numpy()"
   ]
  },
  {
   "cell_type": "code",
   "execution_count": 118,
   "metadata": {},
   "outputs": [],
   "source": [
    "rs = np.random.RandomState(19)\n",
    "X_sample, Y_sample = random_data_sample(X, Y, 1, rs)"
   ]
  },
  {
   "cell_type": "code",
   "execution_count": 119,
   "metadata": {},
   "outputs": [
    {
     "data": {
      "text/plain": [
       "(336, 7)"
      ]
     },
     "execution_count": 119,
     "metadata": {},
     "output_type": "execute_result"
    }
   ],
   "source": [
    "X_sample.shape"
   ]
  },
  {
   "cell_type": "code",
   "execution_count": 47,
   "metadata": {},
   "outputs": [
    {
     "data": {
      "text/plain": [
       "(array([0, 1, 2, 3, 4, 5, 6, 7]),\n",
       " array([137,  76,   1,   2,  37,  26,   5,  52], dtype=int64))"
      ]
     },
     "execution_count": 47,
     "metadata": {},
     "output_type": "execute_result"
    }
   ],
   "source": [
    "np.unique(Y_sample, return_counts=True)"
   ]
  },
  {
   "cell_type": "code",
   "execution_count": 63,
   "metadata": {},
   "outputs": [
    {
     "data": {
      "text/plain": [
       "array([0, 1, 2, 3, 4, 5, 6, 7])"
      ]
     },
     "execution_count": 63,
     "metadata": {},
     "output_type": "execute_result"
    }
   ],
   "source": [
    "np.unique(Y_sample)"
   ]
  },
  {
   "cell_type": "code",
   "execution_count": 88,
   "metadata": {},
   "outputs": [],
   "source": [
    "X_sample = np.load(\"../datasets/ecoli_data/X.npy\")\n",
    "Y_sample = np.load(\"../datasets/ecoli_data/Y.npy\")"
   ]
  },
  {
   "cell_type": "code",
   "execution_count": 121,
   "metadata": {},
   "outputs": [
    {
     "name": "stdout",
     "output_type": "stream",
     "text": [
      "kmeans score:  0.35993322338951433\n",
      "kmeans score2:  0.35993322338951433\n"
     ]
    }
   ],
   "source": [
    "rs = np.random.RandomState(25)\n",
    "test_dataset(X_sample, Y_sample, rs, \"euclidean\", normalize=False, n_clusters=10)"
   ]
  },
  {
   "cell_type": "code",
   "execution_count": 48,
   "metadata": {},
   "outputs": [],
   "source": [
    "np.save(\"../datasets/ecoli_data/X.npy\", X_sample)\n",
    "np.save(\"../datasets/ecoli_data/Y.npy\", Y_sample)"
   ]
  },
  {
   "cell_type": "code",
   "execution_count": 82,
   "metadata": {},
   "outputs": [],
   "source": [
    "np.save(\"C:\\Github_Projects/robust-active-clustering/datasets_small/ecoli_data/X.npy\", X_sample)\n",
    "np.save(\"C:\\Github_Projects/robust-active-clustering/datasets_small/ecoli_data/Y.npy\", Y_sample)"
   ]
  },
  {
   "attachments": {},
   "cell_type": "markdown",
   "metadata": {},
   "source": [
    "## Forest Type Mapping"
   ]
  },
  {
   "cell_type": "code",
   "execution_count": 152,
   "metadata": {},
   "outputs": [],
   "source": [
    "df_train = pd.read_csv(\"../datasets/ForestTypeMapping_data/training.csv\")\n",
    "df_test = pd.read_csv(\"../datasets/ForestTypeMapping_data/testing.csv\")\n",
    "#df = pd.concat([df_train, df_test], axis=1)\n",
    "#df\n",
    "df = pd.concat([df_train, df_test])"
   ]
  },
  {
   "cell_type": "code",
   "execution_count": 153,
   "metadata": {},
   "outputs": [
    {
     "data": {
      "text/html": [
       "<div>\n",
       "<style scoped>\n",
       "    .dataframe tbody tr th:only-of-type {\n",
       "        vertical-align: middle;\n",
       "    }\n",
       "\n",
       "    .dataframe tbody tr th {\n",
       "        vertical-align: top;\n",
       "    }\n",
       "\n",
       "    .dataframe thead th {\n",
       "        text-align: right;\n",
       "    }\n",
       "</style>\n",
       "<table border=\"1\" class=\"dataframe\">\n",
       "  <thead>\n",
       "    <tr style=\"text-align: right;\">\n",
       "      <th></th>\n",
       "      <th>class</th>\n",
       "      <th>b1</th>\n",
       "      <th>b2</th>\n",
       "      <th>b3</th>\n",
       "      <th>b4</th>\n",
       "      <th>b5</th>\n",
       "      <th>b6</th>\n",
       "      <th>b7</th>\n",
       "      <th>b8</th>\n",
       "      <th>b9</th>\n",
       "      <th>...</th>\n",
       "      <th>pred_minus_obs_H_b9</th>\n",
       "      <th>pred_minus_obs_S_b1</th>\n",
       "      <th>pred_minus_obs_S_b2</th>\n",
       "      <th>pred_minus_obs_S_b3</th>\n",
       "      <th>pred_minus_obs_S_b4</th>\n",
       "      <th>pred_minus_obs_S_b5</th>\n",
       "      <th>pred_minus_obs_S_b6</th>\n",
       "      <th>pred_minus_obs_S_b7</th>\n",
       "      <th>pred_minus_obs_S_b8</th>\n",
       "      <th>pred_minus_obs_S_b9</th>\n",
       "    </tr>\n",
       "  </thead>\n",
       "  <tbody>\n",
       "    <tr>\n",
       "      <th>0</th>\n",
       "      <td>d</td>\n",
       "      <td>39</td>\n",
       "      <td>36</td>\n",
       "      <td>57</td>\n",
       "      <td>91</td>\n",
       "      <td>59</td>\n",
       "      <td>101</td>\n",
       "      <td>93</td>\n",
       "      <td>27</td>\n",
       "      <td>60</td>\n",
       "      <td>...</td>\n",
       "      <td>-2.36</td>\n",
       "      <td>-18.41</td>\n",
       "      <td>-1.88</td>\n",
       "      <td>-6.43</td>\n",
       "      <td>-21.03</td>\n",
       "      <td>-1.60</td>\n",
       "      <td>-6.18</td>\n",
       "      <td>-22.50</td>\n",
       "      <td>-5.20</td>\n",
       "      <td>-7.86</td>\n",
       "    </tr>\n",
       "    <tr>\n",
       "      <th>1</th>\n",
       "      <td>h</td>\n",
       "      <td>84</td>\n",
       "      <td>30</td>\n",
       "      <td>57</td>\n",
       "      <td>112</td>\n",
       "      <td>51</td>\n",
       "      <td>98</td>\n",
       "      <td>92</td>\n",
       "      <td>26</td>\n",
       "      <td>62</td>\n",
       "      <td>...</td>\n",
       "      <td>-2.26</td>\n",
       "      <td>-16.27</td>\n",
       "      <td>-1.95</td>\n",
       "      <td>-6.25</td>\n",
       "      <td>-18.79</td>\n",
       "      <td>-1.99</td>\n",
       "      <td>-6.18</td>\n",
       "      <td>-23.41</td>\n",
       "      <td>-8.87</td>\n",
       "      <td>-10.83</td>\n",
       "    </tr>\n",
       "    <tr>\n",
       "      <th>2</th>\n",
       "      <td>s</td>\n",
       "      <td>53</td>\n",
       "      <td>25</td>\n",
       "      <td>49</td>\n",
       "      <td>99</td>\n",
       "      <td>51</td>\n",
       "      <td>93</td>\n",
       "      <td>84</td>\n",
       "      <td>26</td>\n",
       "      <td>58</td>\n",
       "      <td>...</td>\n",
       "      <td>-1.46</td>\n",
       "      <td>-15.92</td>\n",
       "      <td>-1.79</td>\n",
       "      <td>-4.64</td>\n",
       "      <td>-17.73</td>\n",
       "      <td>-0.48</td>\n",
       "      <td>-4.69</td>\n",
       "      <td>-19.97</td>\n",
       "      <td>-4.10</td>\n",
       "      <td>-7.07</td>\n",
       "    </tr>\n",
       "    <tr>\n",
       "      <th>3</th>\n",
       "      <td>s</td>\n",
       "      <td>59</td>\n",
       "      <td>26</td>\n",
       "      <td>49</td>\n",
       "      <td>103</td>\n",
       "      <td>47</td>\n",
       "      <td>92</td>\n",
       "      <td>82</td>\n",
       "      <td>25</td>\n",
       "      <td>56</td>\n",
       "      <td>...</td>\n",
       "      <td>2.68</td>\n",
       "      <td>-13.77</td>\n",
       "      <td>-2.53</td>\n",
       "      <td>-6.34</td>\n",
       "      <td>-22.03</td>\n",
       "      <td>-2.34</td>\n",
       "      <td>-6.60</td>\n",
       "      <td>-27.10</td>\n",
       "      <td>-7.99</td>\n",
       "      <td>-10.81</td>\n",
       "    </tr>\n",
       "    <tr>\n",
       "      <th>4</th>\n",
       "      <td>d</td>\n",
       "      <td>57</td>\n",
       "      <td>49</td>\n",
       "      <td>66</td>\n",
       "      <td>103</td>\n",
       "      <td>64</td>\n",
       "      <td>106</td>\n",
       "      <td>114</td>\n",
       "      <td>28</td>\n",
       "      <td>59</td>\n",
       "      <td>...</td>\n",
       "      <td>-2.94</td>\n",
       "      <td>-21.74</td>\n",
       "      <td>-1.64</td>\n",
       "      <td>-4.62</td>\n",
       "      <td>-23.74</td>\n",
       "      <td>-0.85</td>\n",
       "      <td>-5.50</td>\n",
       "      <td>-22.83</td>\n",
       "      <td>-2.74</td>\n",
       "      <td>-5.84</td>\n",
       "    </tr>\n",
       "    <tr>\n",
       "      <th>...</th>\n",
       "      <td>...</td>\n",
       "      <td>...</td>\n",
       "      <td>...</td>\n",
       "      <td>...</td>\n",
       "      <td>...</td>\n",
       "      <td>...</td>\n",
       "      <td>...</td>\n",
       "      <td>...</td>\n",
       "      <td>...</td>\n",
       "      <td>...</td>\n",
       "      <td>...</td>\n",
       "      <td>...</td>\n",
       "      <td>...</td>\n",
       "      <td>...</td>\n",
       "      <td>...</td>\n",
       "      <td>...</td>\n",
       "      <td>...</td>\n",
       "      <td>...</td>\n",
       "      <td>...</td>\n",
       "      <td>...</td>\n",
       "      <td>...</td>\n",
       "    </tr>\n",
       "    <tr>\n",
       "      <th>320</th>\n",
       "      <td>o</td>\n",
       "      <td>55</td>\n",
       "      <td>56</td>\n",
       "      <td>72</td>\n",
       "      <td>91</td>\n",
       "      <td>79</td>\n",
       "      <td>113</td>\n",
       "      <td>86</td>\n",
       "      <td>35</td>\n",
       "      <td>68</td>\n",
       "      <td>...</td>\n",
       "      <td>-12.86</td>\n",
       "      <td>-23.08</td>\n",
       "      <td>-0.08</td>\n",
       "      <td>-3.46</td>\n",
       "      <td>-27.52</td>\n",
       "      <td>-1.04</td>\n",
       "      <td>-4.73</td>\n",
       "      <td>-22.85</td>\n",
       "      <td>-1.49</td>\n",
       "      <td>-4.10</td>\n",
       "    </tr>\n",
       "    <tr>\n",
       "      <th>321</th>\n",
       "      <td>d</td>\n",
       "      <td>69</td>\n",
       "      <td>49</td>\n",
       "      <td>76</td>\n",
       "      <td>91</td>\n",
       "      <td>52</td>\n",
       "      <td>91</td>\n",
       "      <td>92</td>\n",
       "      <td>25</td>\n",
       "      <td>57</td>\n",
       "      <td>...</td>\n",
       "      <td>-2.36</td>\n",
       "      <td>-11.47</td>\n",
       "      <td>-0.40</td>\n",
       "      <td>-3.74</td>\n",
       "      <td>-16.90</td>\n",
       "      <td>-0.78</td>\n",
       "      <td>-4.15</td>\n",
       "      <td>-11.13</td>\n",
       "      <td>-1.48</td>\n",
       "      <td>-3.55</td>\n",
       "    </tr>\n",
       "    <tr>\n",
       "      <th>322</th>\n",
       "      <td>s</td>\n",
       "      <td>49</td>\n",
       "      <td>26</td>\n",
       "      <td>48</td>\n",
       "      <td>107</td>\n",
       "      <td>59</td>\n",
       "      <td>104</td>\n",
       "      <td>62</td>\n",
       "      <td>22</td>\n",
       "      <td>53</td>\n",
       "      <td>...</td>\n",
       "      <td>2.32</td>\n",
       "      <td>-23.48</td>\n",
       "      <td>1.44</td>\n",
       "      <td>-1.59</td>\n",
       "      <td>-26.98</td>\n",
       "      <td>-1.36</td>\n",
       "      <td>-4.81</td>\n",
       "      <td>-24.50</td>\n",
       "      <td>-2.53</td>\n",
       "      <td>-4.97</td>\n",
       "    </tr>\n",
       "    <tr>\n",
       "      <th>323</th>\n",
       "      <td>s</td>\n",
       "      <td>55</td>\n",
       "      <td>26</td>\n",
       "      <td>52</td>\n",
       "      <td>92</td>\n",
       "      <td>55</td>\n",
       "      <td>98</td>\n",
       "      <td>65</td>\n",
       "      <td>23</td>\n",
       "      <td>56</td>\n",
       "      <td>...</td>\n",
       "      <td>-0.77</td>\n",
       "      <td>-23.74</td>\n",
       "      <td>1.27</td>\n",
       "      <td>-1.30</td>\n",
       "      <td>-25.53</td>\n",
       "      <td>-1.21</td>\n",
       "      <td>-4.70</td>\n",
       "      <td>-24.39</td>\n",
       "      <td>-2.21</td>\n",
       "      <td>-4.72</td>\n",
       "    </tr>\n",
       "    <tr>\n",
       "      <th>324</th>\n",
       "      <td>h</td>\n",
       "      <td>71</td>\n",
       "      <td>28</td>\n",
       "      <td>51</td>\n",
       "      <td>96</td>\n",
       "      <td>46</td>\n",
       "      <td>88</td>\n",
       "      <td>92</td>\n",
       "      <td>25</td>\n",
       "      <td>58</td>\n",
       "      <td>...</td>\n",
       "      <td>-3.24</td>\n",
       "      <td>-13.96</td>\n",
       "      <td>-0.44</td>\n",
       "      <td>-3.84</td>\n",
       "      <td>-15.45</td>\n",
       "      <td>-0.71</td>\n",
       "      <td>-3.94</td>\n",
       "      <td>-12.74</td>\n",
       "      <td>-1.36</td>\n",
       "      <td>-3.63</td>\n",
       "    </tr>\n",
       "  </tbody>\n",
       "</table>\n",
       "<p>523 rows × 28 columns</p>\n",
       "</div>"
      ],
      "text/plain": [
       "    class  b1  b2  b3   b4  b5   b6   b7  b8  b9  ...  pred_minus_obs_H_b9  \\\n",
       "0      d   39  36  57   91  59  101   93  27  60  ...                -2.36   \n",
       "1      h   84  30  57  112  51   98   92  26  62  ...                -2.26   \n",
       "2      s   53  25  49   99  51   93   84  26  58  ...                -1.46   \n",
       "3      s   59  26  49  103  47   92   82  25  56  ...                 2.68   \n",
       "4      d   57  49  66  103  64  106  114  28  59  ...                -2.94   \n",
       "..    ...  ..  ..  ..  ...  ..  ...  ...  ..  ..  ...                  ...   \n",
       "320    o   55  56  72   91  79  113   86  35  68  ...               -12.86   \n",
       "321    d   69  49  76   91  52   91   92  25  57  ...                -2.36   \n",
       "322    s   49  26  48  107  59  104   62  22  53  ...                 2.32   \n",
       "323    s   55  26  52   92  55   98   65  23  56  ...                -0.77   \n",
       "324    h   71  28  51   96  46   88   92  25  58  ...                -3.24   \n",
       "\n",
       "     pred_minus_obs_S_b1  pred_minus_obs_S_b2  pred_minus_obs_S_b3  \\\n",
       "0                 -18.41                -1.88                -6.43   \n",
       "1                 -16.27                -1.95                -6.25   \n",
       "2                 -15.92                -1.79                -4.64   \n",
       "3                 -13.77                -2.53                -6.34   \n",
       "4                 -21.74                -1.64                -4.62   \n",
       "..                   ...                  ...                  ...   \n",
       "320               -23.08                -0.08                -3.46   \n",
       "321               -11.47                -0.40                -3.74   \n",
       "322               -23.48                 1.44                -1.59   \n",
       "323               -23.74                 1.27                -1.30   \n",
       "324               -13.96                -0.44                -3.84   \n",
       "\n",
       "     pred_minus_obs_S_b4  pred_minus_obs_S_b5  pred_minus_obs_S_b6  \\\n",
       "0                 -21.03                -1.60                -6.18   \n",
       "1                 -18.79                -1.99                -6.18   \n",
       "2                 -17.73                -0.48                -4.69   \n",
       "3                 -22.03                -2.34                -6.60   \n",
       "4                 -23.74                -0.85                -5.50   \n",
       "..                   ...                  ...                  ...   \n",
       "320               -27.52                -1.04                -4.73   \n",
       "321               -16.90                -0.78                -4.15   \n",
       "322               -26.98                -1.36                -4.81   \n",
       "323               -25.53                -1.21                -4.70   \n",
       "324               -15.45                -0.71                -3.94   \n",
       "\n",
       "     pred_minus_obs_S_b7  pred_minus_obs_S_b8  pred_minus_obs_S_b9  \n",
       "0                 -22.50                -5.20                -7.86  \n",
       "1                 -23.41                -8.87               -10.83  \n",
       "2                 -19.97                -4.10                -7.07  \n",
       "3                 -27.10                -7.99               -10.81  \n",
       "4                 -22.83                -2.74                -5.84  \n",
       "..                   ...                  ...                  ...  \n",
       "320               -22.85                -1.49                -4.10  \n",
       "321               -11.13                -1.48                -3.55  \n",
       "322               -24.50                -2.53                -4.97  \n",
       "323               -24.39                -2.21                -4.72  \n",
       "324               -12.74                -1.36                -3.63  \n",
       "\n",
       "[523 rows x 28 columns]"
      ]
     },
     "execution_count": 153,
     "metadata": {},
     "output_type": "execute_result"
    }
   ],
   "source": [
    "df"
   ]
  },
  {
   "cell_type": "code",
   "execution_count": 154,
   "metadata": {},
   "outputs": [
    {
     "data": {
      "text/plain": [
       "False"
      ]
     },
     "execution_count": 154,
     "metadata": {},
     "output_type": "execute_result"
    }
   ],
   "source": [
    "df.isnull().values.any()"
   ]
  },
  {
   "cell_type": "code",
   "execution_count": 155,
   "metadata": {},
   "outputs": [],
   "source": [
    "from sklearn.preprocessing import LabelEncoder\n",
    "labelencoder=LabelEncoder()\n",
    "df[\"class\"] = labelencoder.fit_transform(df[\"class\"])"
   ]
  },
  {
   "cell_type": "code",
   "execution_count": 156,
   "metadata": {},
   "outputs": [],
   "source": [
    "X = df.drop([\"class\"],axis=1)\n",
    "Y = df[\"class\"]"
   ]
  },
  {
   "cell_type": "code",
   "execution_count": 157,
   "metadata": {},
   "outputs": [],
   "source": [
    "from sklearn import preprocessing\n",
    "X = preprocessing.MinMaxScaler().fit_transform(X)\n",
    "Y = Y.to_numpy()"
   ]
  },
  {
   "cell_type": "code",
   "execution_count": 148,
   "metadata": {},
   "outputs": [],
   "source": [
    "X = np.array(X)\n",
    "Y = np.array(Y)"
   ]
  },
  {
   "cell_type": "code",
   "execution_count": 158,
   "metadata": {},
   "outputs": [],
   "source": [
    "rs = np.random.RandomState(19)\n",
    "X_sample, Y_sample = random_data_sample(X, Y, 1, rs)"
   ]
  },
  {
   "cell_type": "code",
   "execution_count": 159,
   "metadata": {},
   "outputs": [
    {
     "data": {
      "text/plain": [
       "(523, 27)"
      ]
     },
     "execution_count": 159,
     "metadata": {},
     "output_type": "execute_result"
    }
   ],
   "source": [
    "X_sample.shape"
   ]
  },
  {
   "cell_type": "code",
   "execution_count": 130,
   "metadata": {},
   "outputs": [
    {
     "data": {
      "text/plain": [
       "(array([0, 1, 2, 3]), array([168,  84,  86, 185], dtype=int64))"
      ]
     },
     "execution_count": 130,
     "metadata": {},
     "output_type": "execute_result"
    }
   ],
   "source": [
    "np.unique(Y_sample, return_counts=True)"
   ]
  },
  {
   "cell_type": "code",
   "execution_count": 58,
   "metadata": {},
   "outputs": [
    {
     "data": {
      "text/plain": [
       "array([0, 1, 2, 3])"
      ]
     },
     "execution_count": 58,
     "metadata": {},
     "output_type": "execute_result"
    }
   ],
   "source": [
    "np.unique(Y_sample)"
   ]
  },
  {
   "cell_type": "code",
   "execution_count": 96,
   "metadata": {},
   "outputs": [],
   "source": [
    "X_sample = np.load(\"../datasets/ForestTypeMapping_data/X.npy\")\n",
    "Y_sample = np.load(\"../datasets/ForestTypeMapping_data/Y.npy\")"
   ]
  },
  {
   "cell_type": "code",
   "execution_count": 97,
   "metadata": {},
   "outputs": [
    {
     "data": {
      "text/plain": [
       "(523, 27)"
      ]
     },
     "execution_count": 97,
     "metadata": {},
     "output_type": "execute_result"
    }
   ],
   "source": [
    "X_sample.shape"
   ]
  },
  {
   "cell_type": "code",
   "execution_count": 161,
   "metadata": {},
   "outputs": [
    {
     "name": "stdout",
     "output_type": "stream",
     "text": [
      "kmeans score:  0.3342099395207977\n",
      "kmeans score2:  0.3342099395207977\n"
     ]
    }
   ],
   "source": [
    "rs = np.random.RandomState(25)\n",
    "test_dataset(X_sample, Y_sample, rs, \"euclidean\", normalize=False, n_clusters=3)"
   ]
  },
  {
   "cell_type": "code",
   "execution_count": 59,
   "metadata": {},
   "outputs": [],
   "source": [
    "np.save(\"../datasets/ForestTypeMapping_data/X.npy\", X_sample)\n",
    "np.save(\"../datasets/ForestTypeMapping_data/Y.npy\", Y_sample)"
   ]
  },
  {
   "cell_type": "code",
   "execution_count": 96,
   "metadata": {},
   "outputs": [],
   "source": [
    "np.save(\"C:\\Github_Projects/robust-active-clustering/datasets_small/ForestTypeMapping_data/X.npy\", X_sample)\n",
    "np.save(\"C:\\Github_Projects/robust-active-clustering/datasets_small/ForestTypeMapping_data/Y.npy\", Y_sample)"
   ]
  },
  {
   "attachments": {},
   "cell_type": "markdown",
   "metadata": {},
   "source": [
    "## User knowledge data"
   ]
  },
  {
   "cell_type": "code",
   "execution_count": 163,
   "metadata": {},
   "outputs": [
    {
     "data": {
      "text/html": [
       "<div>\n",
       "<style scoped>\n",
       "    .dataframe tbody tr th:only-of-type {\n",
       "        vertical-align: middle;\n",
       "    }\n",
       "\n",
       "    .dataframe tbody tr th {\n",
       "        vertical-align: top;\n",
       "    }\n",
       "\n",
       "    .dataframe thead th {\n",
       "        text-align: right;\n",
       "    }\n",
       "</style>\n",
       "<table border=\"1\" class=\"dataframe\">\n",
       "  <thead>\n",
       "    <tr style=\"text-align: right;\">\n",
       "      <th></th>\n",
       "      <th>STG</th>\n",
       "      <th>SCG</th>\n",
       "      <th>STR</th>\n",
       "      <th>LPR</th>\n",
       "      <th>PEG</th>\n",
       "      <th>UNS</th>\n",
       "      <th>Unnamed: 6</th>\n",
       "      <th>Unnamed: 7</th>\n",
       "      <th>Attribute Information:</th>\n",
       "    </tr>\n",
       "  </thead>\n",
       "  <tbody>\n",
       "    <tr>\n",
       "      <th>0</th>\n",
       "      <td>0.00</td>\n",
       "      <td>0.00</td>\n",
       "      <td>0.00</td>\n",
       "      <td>0.00</td>\n",
       "      <td>0.00</td>\n",
       "      <td>very_low</td>\n",
       "      <td>NaN</td>\n",
       "      <td>NaN</td>\n",
       "      <td>STG (The degree of study time for goal object ...</td>\n",
       "    </tr>\n",
       "    <tr>\n",
       "      <th>1</th>\n",
       "      <td>0.08</td>\n",
       "      <td>0.08</td>\n",
       "      <td>0.10</td>\n",
       "      <td>0.24</td>\n",
       "      <td>0.90</td>\n",
       "      <td>High</td>\n",
       "      <td>NaN</td>\n",
       "      <td>NaN</td>\n",
       "      <td>SCG (The degree of repetition number of user f...</td>\n",
       "    </tr>\n",
       "    <tr>\n",
       "      <th>2</th>\n",
       "      <td>0.06</td>\n",
       "      <td>0.06</td>\n",
       "      <td>0.05</td>\n",
       "      <td>0.25</td>\n",
       "      <td>0.33</td>\n",
       "      <td>Low</td>\n",
       "      <td>NaN</td>\n",
       "      <td>NaN</td>\n",
       "      <td>STR (The degree of study time of user for rela...</td>\n",
       "    </tr>\n",
       "    <tr>\n",
       "      <th>3</th>\n",
       "      <td>0.10</td>\n",
       "      <td>0.10</td>\n",
       "      <td>0.15</td>\n",
       "      <td>0.65</td>\n",
       "      <td>0.30</td>\n",
       "      <td>Middle</td>\n",
       "      <td>NaN</td>\n",
       "      <td>NaN</td>\n",
       "      <td>LPR (The exam performance of user for related ...</td>\n",
       "    </tr>\n",
       "    <tr>\n",
       "      <th>4</th>\n",
       "      <td>0.08</td>\n",
       "      <td>0.08</td>\n",
       "      <td>0.08</td>\n",
       "      <td>0.98</td>\n",
       "      <td>0.24</td>\n",
       "      <td>Low</td>\n",
       "      <td>NaN</td>\n",
       "      <td>NaN</td>\n",
       "      <td>PEG (The exam performance of user for goal obj...</td>\n",
       "    </tr>\n",
       "    <tr>\n",
       "      <th>...</th>\n",
       "      <td>...</td>\n",
       "      <td>...</td>\n",
       "      <td>...</td>\n",
       "      <td>...</td>\n",
       "      <td>...</td>\n",
       "      <td>...</td>\n",
       "      <td>...</td>\n",
       "      <td>...</td>\n",
       "      <td>...</td>\n",
       "    </tr>\n",
       "    <tr>\n",
       "      <th>140</th>\n",
       "      <td>0.90</td>\n",
       "      <td>0.78</td>\n",
       "      <td>0.62</td>\n",
       "      <td>0.32</td>\n",
       "      <td>0.89</td>\n",
       "      <td>High</td>\n",
       "      <td>NaN</td>\n",
       "      <td>NaN</td>\n",
       "      <td>NaN</td>\n",
       "    </tr>\n",
       "    <tr>\n",
       "      <th>141</th>\n",
       "      <td>0.85</td>\n",
       "      <td>0.82</td>\n",
       "      <td>0.66</td>\n",
       "      <td>0.83</td>\n",
       "      <td>0.83</td>\n",
       "      <td>High</td>\n",
       "      <td>NaN</td>\n",
       "      <td>NaN</td>\n",
       "      <td>NaN</td>\n",
       "    </tr>\n",
       "    <tr>\n",
       "      <th>142</th>\n",
       "      <td>0.56</td>\n",
       "      <td>0.60</td>\n",
       "      <td>0.77</td>\n",
       "      <td>0.13</td>\n",
       "      <td>0.32</td>\n",
       "      <td>Low</td>\n",
       "      <td>NaN</td>\n",
       "      <td>NaN</td>\n",
       "      <td>NaN</td>\n",
       "    </tr>\n",
       "    <tr>\n",
       "      <th>143</th>\n",
       "      <td>0.66</td>\n",
       "      <td>0.68</td>\n",
       "      <td>0.81</td>\n",
       "      <td>0.57</td>\n",
       "      <td>0.57</td>\n",
       "      <td>Middle</td>\n",
       "      <td>NaN</td>\n",
       "      <td>NaN</td>\n",
       "      <td>NaN</td>\n",
       "    </tr>\n",
       "    <tr>\n",
       "      <th>144</th>\n",
       "      <td>0.68</td>\n",
       "      <td>0.64</td>\n",
       "      <td>0.79</td>\n",
       "      <td>0.97</td>\n",
       "      <td>0.24</td>\n",
       "      <td>Middle</td>\n",
       "      <td>NaN</td>\n",
       "      <td>NaN</td>\n",
       "      <td>NaN</td>\n",
       "    </tr>\n",
       "  </tbody>\n",
       "</table>\n",
       "<p>403 rows × 9 columns</p>\n",
       "</div>"
      ],
      "text/plain": [
       "      STG   SCG   STR   LPR   PEG       UNS  Unnamed: 6  Unnamed: 7  \\\n",
       "0    0.00  0.00  0.00  0.00  0.00  very_low         NaN         NaN   \n",
       "1    0.08  0.08  0.10  0.24  0.90      High         NaN         NaN   \n",
       "2    0.06  0.06  0.05  0.25  0.33       Low         NaN         NaN   \n",
       "3    0.10  0.10  0.15  0.65  0.30    Middle         NaN         NaN   \n",
       "4    0.08  0.08  0.08  0.98  0.24       Low         NaN         NaN   \n",
       "..    ...   ...   ...   ...   ...       ...         ...         ...   \n",
       "140  0.90  0.78  0.62  0.32  0.89      High         NaN         NaN   \n",
       "141  0.85  0.82  0.66  0.83  0.83      High         NaN         NaN   \n",
       "142  0.56  0.60  0.77  0.13  0.32       Low         NaN         NaN   \n",
       "143  0.66  0.68  0.81  0.57  0.57    Middle         NaN         NaN   \n",
       "144  0.68  0.64  0.79  0.97  0.24    Middle         NaN         NaN   \n",
       "\n",
       "                                Attribute Information:  \n",
       "0    STG (The degree of study time for goal object ...  \n",
       "1    SCG (The degree of repetition number of user f...  \n",
       "2    STR (The degree of study time of user for rela...  \n",
       "3    LPR (The exam performance of user for related ...  \n",
       "4    PEG (The exam performance of user for goal obj...  \n",
       "..                                                 ...  \n",
       "140                                                NaN  \n",
       "141                                                NaN  \n",
       "142                                                NaN  \n",
       "143                                                NaN  \n",
       "144                                                NaN  \n",
       "\n",
       "[403 rows x 9 columns]"
      ]
     },
     "execution_count": 163,
     "metadata": {},
     "output_type": "execute_result"
    }
   ],
   "source": [
    "import pandas as pd\n",
    "import numpy as np\n",
    "#df=pd.read_csv(\"../datasets/user_knowledge_data/user_knowledge.csv\")\n",
    "df1 = pd.read_excel('../datasets/user_knowledge_data/user_knowledge_data.xls', sheet_name = 1)\n",
    "df2 = pd.read_excel('../datasets/user_knowledge_data/user_knowledge_data.xls', sheet_name = 2)\n",
    "df = pd.concat([df1, df2])\n",
    "df"
   ]
  },
  {
   "cell_type": "code",
   "execution_count": 164,
   "metadata": {},
   "outputs": [
    {
     "data": {
      "text/html": [
       "<div>\n",
       "<style scoped>\n",
       "    .dataframe tbody tr th:only-of-type {\n",
       "        vertical-align: middle;\n",
       "    }\n",
       "\n",
       "    .dataframe tbody tr th {\n",
       "        vertical-align: top;\n",
       "    }\n",
       "\n",
       "    .dataframe thead th {\n",
       "        text-align: right;\n",
       "    }\n",
       "</style>\n",
       "<table border=\"1\" class=\"dataframe\">\n",
       "  <thead>\n",
       "    <tr style=\"text-align: right;\">\n",
       "      <th></th>\n",
       "      <th>STG</th>\n",
       "      <th>SCG</th>\n",
       "      <th>STR</th>\n",
       "      <th>LPR</th>\n",
       "      <th>PEG</th>\n",
       "      <th>UNS</th>\n",
       "    </tr>\n",
       "  </thead>\n",
       "  <tbody>\n",
       "    <tr>\n",
       "      <th>0</th>\n",
       "      <td>0.00</td>\n",
       "      <td>0.00</td>\n",
       "      <td>0.00</td>\n",
       "      <td>0.00</td>\n",
       "      <td>0.00</td>\n",
       "      <td>very_low</td>\n",
       "    </tr>\n",
       "    <tr>\n",
       "      <th>1</th>\n",
       "      <td>0.08</td>\n",
       "      <td>0.08</td>\n",
       "      <td>0.10</td>\n",
       "      <td>0.24</td>\n",
       "      <td>0.90</td>\n",
       "      <td>High</td>\n",
       "    </tr>\n",
       "    <tr>\n",
       "      <th>2</th>\n",
       "      <td>0.06</td>\n",
       "      <td>0.06</td>\n",
       "      <td>0.05</td>\n",
       "      <td>0.25</td>\n",
       "      <td>0.33</td>\n",
       "      <td>Low</td>\n",
       "    </tr>\n",
       "    <tr>\n",
       "      <th>3</th>\n",
       "      <td>0.10</td>\n",
       "      <td>0.10</td>\n",
       "      <td>0.15</td>\n",
       "      <td>0.65</td>\n",
       "      <td>0.30</td>\n",
       "      <td>Middle</td>\n",
       "    </tr>\n",
       "    <tr>\n",
       "      <th>4</th>\n",
       "      <td>0.08</td>\n",
       "      <td>0.08</td>\n",
       "      <td>0.08</td>\n",
       "      <td>0.98</td>\n",
       "      <td>0.24</td>\n",
       "      <td>Low</td>\n",
       "    </tr>\n",
       "    <tr>\n",
       "      <th>...</th>\n",
       "      <td>...</td>\n",
       "      <td>...</td>\n",
       "      <td>...</td>\n",
       "      <td>...</td>\n",
       "      <td>...</td>\n",
       "      <td>...</td>\n",
       "    </tr>\n",
       "    <tr>\n",
       "      <th>140</th>\n",
       "      <td>0.90</td>\n",
       "      <td>0.78</td>\n",
       "      <td>0.62</td>\n",
       "      <td>0.32</td>\n",
       "      <td>0.89</td>\n",
       "      <td>High</td>\n",
       "    </tr>\n",
       "    <tr>\n",
       "      <th>141</th>\n",
       "      <td>0.85</td>\n",
       "      <td>0.82</td>\n",
       "      <td>0.66</td>\n",
       "      <td>0.83</td>\n",
       "      <td>0.83</td>\n",
       "      <td>High</td>\n",
       "    </tr>\n",
       "    <tr>\n",
       "      <th>142</th>\n",
       "      <td>0.56</td>\n",
       "      <td>0.60</td>\n",
       "      <td>0.77</td>\n",
       "      <td>0.13</td>\n",
       "      <td>0.32</td>\n",
       "      <td>Low</td>\n",
       "    </tr>\n",
       "    <tr>\n",
       "      <th>143</th>\n",
       "      <td>0.66</td>\n",
       "      <td>0.68</td>\n",
       "      <td>0.81</td>\n",
       "      <td>0.57</td>\n",
       "      <td>0.57</td>\n",
       "      <td>Middle</td>\n",
       "    </tr>\n",
       "    <tr>\n",
       "      <th>144</th>\n",
       "      <td>0.68</td>\n",
       "      <td>0.64</td>\n",
       "      <td>0.79</td>\n",
       "      <td>0.97</td>\n",
       "      <td>0.24</td>\n",
       "      <td>Middle</td>\n",
       "    </tr>\n",
       "  </tbody>\n",
       "</table>\n",
       "<p>403 rows × 6 columns</p>\n",
       "</div>"
      ],
      "text/plain": [
       "      STG   SCG   STR   LPR   PEG       UNS\n",
       "0    0.00  0.00  0.00  0.00  0.00  very_low\n",
       "1    0.08  0.08  0.10  0.24  0.90      High\n",
       "2    0.06  0.06  0.05  0.25  0.33       Low\n",
       "3    0.10  0.10  0.15  0.65  0.30    Middle\n",
       "4    0.08  0.08  0.08  0.98  0.24       Low\n",
       "..    ...   ...   ...   ...   ...       ...\n",
       "140  0.90  0.78  0.62  0.32  0.89      High\n",
       "141  0.85  0.82  0.66  0.83  0.83      High\n",
       "142  0.56  0.60  0.77  0.13  0.32       Low\n",
       "143  0.66  0.68  0.81  0.57  0.57    Middle\n",
       "144  0.68  0.64  0.79  0.97  0.24    Middle\n",
       "\n",
       "[403 rows x 6 columns]"
      ]
     },
     "execution_count": 164,
     "metadata": {},
     "output_type": "execute_result"
    }
   ],
   "source": [
    "df = df.drop(['Unnamed: 6', 'Unnamed: 7', \"Attribute Information:\"], axis = 1)\n",
    "df"
   ]
  },
  {
   "cell_type": "code",
   "execution_count": 165,
   "metadata": {},
   "outputs": [
    {
     "data": {
      "text/plain": [
       "Index(['STG', 'SCG', 'STR', 'LPR', 'PEG', ' UNS'], dtype='object')"
      ]
     },
     "execution_count": 165,
     "metadata": {},
     "output_type": "execute_result"
    }
   ],
   "source": [
    "df.columns"
   ]
  },
  {
   "cell_type": "code",
   "execution_count": 166,
   "metadata": {},
   "outputs": [
    {
     "data": {
      "text/html": [
       "<div>\n",
       "<style scoped>\n",
       "    .dataframe tbody tr th:only-of-type {\n",
       "        vertical-align: middle;\n",
       "    }\n",
       "\n",
       "    .dataframe tbody tr th {\n",
       "        vertical-align: top;\n",
       "    }\n",
       "\n",
       "    .dataframe thead th {\n",
       "        text-align: right;\n",
       "    }\n",
       "</style>\n",
       "<table border=\"1\" class=\"dataframe\">\n",
       "  <thead>\n",
       "    <tr style=\"text-align: right;\">\n",
       "      <th></th>\n",
       "      <th>STG</th>\n",
       "      <th>SCG</th>\n",
       "      <th>STR</th>\n",
       "      <th>LPR</th>\n",
       "      <th>PEG</th>\n",
       "      <th>UNS</th>\n",
       "    </tr>\n",
       "  </thead>\n",
       "  <tbody>\n",
       "    <tr>\n",
       "      <th>0</th>\n",
       "      <td>0.00</td>\n",
       "      <td>0.00</td>\n",
       "      <td>0.00</td>\n",
       "      <td>0.00</td>\n",
       "      <td>0.00</td>\n",
       "      <td>4</td>\n",
       "    </tr>\n",
       "    <tr>\n",
       "      <th>1</th>\n",
       "      <td>0.08</td>\n",
       "      <td>0.08</td>\n",
       "      <td>0.10</td>\n",
       "      <td>0.24</td>\n",
       "      <td>0.90</td>\n",
       "      <td>0</td>\n",
       "    </tr>\n",
       "    <tr>\n",
       "      <th>2</th>\n",
       "      <td>0.06</td>\n",
       "      <td>0.06</td>\n",
       "      <td>0.05</td>\n",
       "      <td>0.25</td>\n",
       "      <td>0.33</td>\n",
       "      <td>1</td>\n",
       "    </tr>\n",
       "    <tr>\n",
       "      <th>3</th>\n",
       "      <td>0.10</td>\n",
       "      <td>0.10</td>\n",
       "      <td>0.15</td>\n",
       "      <td>0.65</td>\n",
       "      <td>0.30</td>\n",
       "      <td>2</td>\n",
       "    </tr>\n",
       "    <tr>\n",
       "      <th>4</th>\n",
       "      <td>0.08</td>\n",
       "      <td>0.08</td>\n",
       "      <td>0.08</td>\n",
       "      <td>0.98</td>\n",
       "      <td>0.24</td>\n",
       "      <td>1</td>\n",
       "    </tr>\n",
       "    <tr>\n",
       "      <th>...</th>\n",
       "      <td>...</td>\n",
       "      <td>...</td>\n",
       "      <td>...</td>\n",
       "      <td>...</td>\n",
       "      <td>...</td>\n",
       "      <td>...</td>\n",
       "    </tr>\n",
       "    <tr>\n",
       "      <th>140</th>\n",
       "      <td>0.90</td>\n",
       "      <td>0.78</td>\n",
       "      <td>0.62</td>\n",
       "      <td>0.32</td>\n",
       "      <td>0.89</td>\n",
       "      <td>0</td>\n",
       "    </tr>\n",
       "    <tr>\n",
       "      <th>141</th>\n",
       "      <td>0.85</td>\n",
       "      <td>0.82</td>\n",
       "      <td>0.66</td>\n",
       "      <td>0.83</td>\n",
       "      <td>0.83</td>\n",
       "      <td>0</td>\n",
       "    </tr>\n",
       "    <tr>\n",
       "      <th>142</th>\n",
       "      <td>0.56</td>\n",
       "      <td>0.60</td>\n",
       "      <td>0.77</td>\n",
       "      <td>0.13</td>\n",
       "      <td>0.32</td>\n",
       "      <td>1</td>\n",
       "    </tr>\n",
       "    <tr>\n",
       "      <th>143</th>\n",
       "      <td>0.66</td>\n",
       "      <td>0.68</td>\n",
       "      <td>0.81</td>\n",
       "      <td>0.57</td>\n",
       "      <td>0.57</td>\n",
       "      <td>2</td>\n",
       "    </tr>\n",
       "    <tr>\n",
       "      <th>144</th>\n",
       "      <td>0.68</td>\n",
       "      <td>0.64</td>\n",
       "      <td>0.79</td>\n",
       "      <td>0.97</td>\n",
       "      <td>0.24</td>\n",
       "      <td>2</td>\n",
       "    </tr>\n",
       "  </tbody>\n",
       "</table>\n",
       "<p>403 rows × 6 columns</p>\n",
       "</div>"
      ],
      "text/plain": [
       "      STG   SCG   STR   LPR   PEG   UNS\n",
       "0    0.00  0.00  0.00  0.00  0.00     4\n",
       "1    0.08  0.08  0.10  0.24  0.90     0\n",
       "2    0.06  0.06  0.05  0.25  0.33     1\n",
       "3    0.10  0.10  0.15  0.65  0.30     2\n",
       "4    0.08  0.08  0.08  0.98  0.24     1\n",
       "..    ...   ...   ...   ...   ...   ...\n",
       "140  0.90  0.78  0.62  0.32  0.89     0\n",
       "141  0.85  0.82  0.66  0.83  0.83     0\n",
       "142  0.56  0.60  0.77  0.13  0.32     1\n",
       "143  0.66  0.68  0.81  0.57  0.57     2\n",
       "144  0.68  0.64  0.79  0.97  0.24     2\n",
       "\n",
       "[403 rows x 6 columns]"
      ]
     },
     "execution_count": 166,
     "metadata": {},
     "output_type": "execute_result"
    }
   ],
   "source": [
    "from sklearn.preprocessing import LabelEncoder\n",
    "labelencoder=LabelEncoder()\n",
    "df[\" UNS\"] = labelencoder.fit_transform(df[\" UNS\"])\n",
    "df"
   ]
  },
  {
   "cell_type": "code",
   "execution_count": 167,
   "metadata": {},
   "outputs": [],
   "source": [
    "X = df.drop([\" UNS\"],axis=1)\n",
    "Y = df[\" UNS\"]"
   ]
  },
  {
   "cell_type": "code",
   "execution_count": 168,
   "metadata": {},
   "outputs": [],
   "source": [
    "from sklearn import preprocessing\n",
    "X = preprocessing.StandardScaler().fit_transform(X)\n",
    "Y = Y.to_numpy()"
   ]
  },
  {
   "cell_type": "code",
   "execution_count": 169,
   "metadata": {},
   "outputs": [],
   "source": [
    "rs = np.random.RandomState(19)\n",
    "X_sample, Y_sample = random_data_sample(X, Y, 1, rs)"
   ]
  },
  {
   "cell_type": "code",
   "execution_count": 170,
   "metadata": {},
   "outputs": [
    {
     "data": {
      "text/plain": [
       "(403, 5)"
      ]
     },
     "execution_count": 170,
     "metadata": {},
     "output_type": "execute_result"
    }
   ],
   "source": [
    "X_sample.shape"
   ]
  },
  {
   "cell_type": "code",
   "execution_count": 117,
   "metadata": {},
   "outputs": [
    {
     "data": {
      "text/plain": [
       "(array([0, 1, 2, 3, 4]), array([111, 129, 116,  28,  19], dtype=int64))"
      ]
     },
     "execution_count": 117,
     "metadata": {},
     "output_type": "execute_result"
    }
   ],
   "source": [
    "np.unique(Y_sample, return_counts=True)"
   ]
  },
  {
   "cell_type": "code",
   "execution_count": 119,
   "metadata": {},
   "outputs": [],
   "source": [
    "X_sample = np.load(\"../datasets/user_knowledge_data/X.npy\")\n",
    "Y_sample = np.load(\"../datasets/user_knowledge_data/Y.npy\")"
   ]
  },
  {
   "cell_type": "code",
   "execution_count": 120,
   "metadata": {},
   "outputs": [
    {
     "data": {
      "text/plain": [
       "(403, 5)"
      ]
     },
     "execution_count": 120,
     "metadata": {},
     "output_type": "execute_result"
    }
   ],
   "source": [
    "X_sample.shape"
   ]
  },
  {
   "cell_type": "code",
   "execution_count": 175,
   "metadata": {},
   "outputs": [
    {
     "name": "stdout",
     "output_type": "stream",
     "text": [
      "kmeans score:  0.10627365742250956\n",
      "kmeans score2:  0.10627365742250956\n"
     ]
    }
   ],
   "source": [
    "rs = np.random.RandomState(25)\n",
    "test_dataset(X_sample, Y_sample, rs, \"euclidean\", normalize=False, n_clusters=5)"
   ]
  },
  {
   "cell_type": "code",
   "execution_count": 68,
   "metadata": {},
   "outputs": [],
   "source": [
    "np.save(\"../datasets/user_knowledge_data/X.npy\", X_sample)\n",
    "np.save(\"../datasets/user_knowledge_data/Y.npy\", Y_sample)"
   ]
  },
  {
   "cell_type": "code",
   "execution_count": 107,
   "metadata": {},
   "outputs": [],
   "source": [
    "np.save(\"C:\\Github_Projects/robust-active-clustering/datasets_small/user_knowledge_data/X.npy\", X_sample)\n",
    "np.save(\"C:\\Github_Projects/robust-active-clustering/datasets_small/user_knowledge_data/Y.npy\", Y_sample)"
   ]
  },
  {
   "cell_type": "code",
   "execution_count": null,
   "metadata": {},
   "outputs": [],
   "source": []
  },
  {
   "cell_type": "code",
   "execution_count": 130,
   "metadata": {},
   "outputs": [],
   "source": [
    "file1 = open('../experiment_results/real_world_benchmark/completed_experiments_new.txt', 'r')\n",
    "Lines = file1.readlines()\n",
    "\n",
    "new_lines = []\n",
    " \n",
    "count = 0\n",
    "# Strips the newline character\n",
    "for line in Lines:\n",
    "    count += 1\n",
    "    #if \"cardiotocography\" not in line:\n",
    "        #new_lines.append(line)\n",
    "\n",
    "    if \"custom\" not in line:\n",
    "        new_lines.append(line)\n",
    "\n",
    "\n"
   ]
  },
  {
   "cell_type": "code",
   "execution_count": 131,
   "metadata": {},
   "outputs": [],
   "source": [
    "#new_lines = []\n",
    "file1 = open('../experiment_results/real_world_benchmark/completed_experiments_new.txt', 'w')\n",
    "file1.writelines(new_lines)\n",
    "file1.close()"
   ]
  },
  {
   "cell_type": "code",
   "execution_count": null,
   "metadata": {},
   "outputs": [],
   "source": []
  },
  {
   "cell_type": "code",
   "execution_count": null,
   "metadata": {},
   "outputs": [],
   "source": []
  },
  {
   "attachments": {},
   "cell_type": "markdown",
   "metadata": {},
   "source": [
    "## MNIST"
   ]
  },
  {
   "cell_type": "code",
   "execution_count": 99,
   "metadata": {},
   "outputs": [],
   "source": [
    "import torch\n",
    "import torch.nn as nn\n",
    "import torch.optim as optim\n",
    "import torchvision.datasets as datasets\n",
    "import torchvision.transforms as transforms\n",
    "from torch.utils.data import DataLoader\n",
    "import numpy as np\n",
    "\n",
    "# Define the CNN model\n",
    "class SimpleCNN(nn.Module):\n",
    "    def __init__(self):\n",
    "        super(SimpleCNN, self).__init__()\n",
    "        self.conv1 = nn.Conv2d(1, 32, kernel_size=3, padding=1)\n",
    "        self.relu = nn.ReLU()\n",
    "        self.pool = nn.MaxPool2d(kernel_size=2, stride=2)\n",
    "        self.conv2 = nn.Conv2d(32, 64, kernel_size=3, padding=1)\n",
    "        self.fc1 = nn.Linear(64 * 7 * 7, 128)\n",
    "        self.fc2 = nn.Linear(128, 10)\n",
    "\n",
    "    def forward(self, x):\n",
    "        x = self.pool(self.relu(self.conv1(x)))\n",
    "        x = self.pool(self.relu(self.conv2(x)))\n",
    "        x = x.view(x.size(0), -1)\n",
    "        x = self.relu(self.fc1(x))\n",
    "        x_out = self.fc2(x)\n",
    "        return x_out, x\n",
    "\n",
    "device = torch.device(\"cuda\" if torch.cuda.is_available() else \"cpu\")\n",
    "transform = transforms.Compose([transforms.Resize((28, 28)),\n",
    "                                    transforms.ToTensor(),\n",
    "                                    transforms.Normalize((0.5,), (0.5,))])\n",
    "\n",
    "# Load MNIST data\n",
    "train_data = datasets.MNIST(root=\"../datasets/mnist_data\", train=True, transform=transform, download=True)\n",
    "test_data = datasets.MNIST(root=\"../datasets/mnist_data\", train=False, transform=transform, download=True)\n",
    "\n",
    "train_loader = DataLoader(train_data, batch_size=64, shuffle=True)\n",
    "test_loader = DataLoader(test_data, batch_size=64, shuffle=False)\n",
    "\n",
    "# Train the CNN\n",
    "model = SimpleCNN().to(device)\n",
    "criterion = nn.CrossEntropyLoss()\n",
    "optimizer = optim.Adam(model.parameters(), lr=0.001)\n",
    "epochs = 10\n",
    "\n",
    "model.train()\n",
    "for epoch in range(epochs):\n",
    "    for i, (images, labels) in enumerate(train_loader):\n",
    "        images, labels = images.to(device), labels.to(device)\n",
    "        optimizer.zero_grad()\n",
    "        outputs, _ = model(images)\n",
    "        loss = criterion(outputs, labels)\n",
    "        loss.backward()\n",
    "        optimizer.step()\n",
    "\n",
    "# Extract embeddings and labels of test data\n",
    "model.eval()\n",
    "embeddings_list = []\n",
    "labels_list = []\n",
    "with torch.no_grad():\n",
    "    for images, labels in test_loader:\n",
    "        images, labels = images.to(device), labels.to(device)\n",
    "        _, embeddings = model(images)\n",
    "        embeddings_list.append(embeddings.cpu().numpy())\n",
    "        labels_list.append(labels.cpu().numpy())\n",
    "\n",
    "# Save embeddings and labels to X.npy and Y.npy\n",
    "X = np.vstack(embeddings_list)\n",
    "Y = np.concatenate(labels_list)\n",
    "np.save(\"../datasets/mnist_data/X_full.npy\", X)\n",
    "np.save(\"../datasets/mnist_data/Y_full.npy\", Y)"
   ]
  },
  {
   "cell_type": "code",
   "execution_count": 176,
   "metadata": {},
   "outputs": [],
   "source": [
    "X = np.load(\"../datasets/mnist_data/X_full.npy\")\n",
    "Y = np.load(\"../datasets/mnist_data/Y_full.npy\")"
   ]
  },
  {
   "cell_type": "code",
   "execution_count": 177,
   "metadata": {},
   "outputs": [],
   "source": [
    "from sklearn import preprocessing\n",
    "X = preprocessing.MinMaxScaler().fit_transform(X)\n",
    "#Y = Y.to_numpy()"
   ]
  },
  {
   "cell_type": "code",
   "execution_count": 178,
   "metadata": {},
   "outputs": [],
   "source": [
    "from sklearn.decomposition import PCA\n",
    "pca = PCA(n_components=20)\n",
    "X = pca.fit_transform(X)"
   ]
  },
  {
   "cell_type": "code",
   "execution_count": 179,
   "metadata": {},
   "outputs": [],
   "source": [
    "rs = np.random.RandomState(39)\n",
    "X_sample, Y_sample = random_data_sample(X, Y, 1000, rs)"
   ]
  },
  {
   "cell_type": "code",
   "execution_count": 180,
   "metadata": {},
   "outputs": [
    {
     "data": {
      "text/plain": [
       "(1000, 20)"
      ]
     },
     "execution_count": 180,
     "metadata": {},
     "output_type": "execute_result"
    }
   ],
   "source": [
    "X_sample.shape"
   ]
  },
  {
   "cell_type": "code",
   "execution_count": 74,
   "metadata": {},
   "outputs": [
    {
     "data": {
      "text/plain": [
       "(array([0, 1, 2, 3, 4, 5, 6, 7, 8, 9], dtype=int64),\n",
       " array([105, 109, 111, 112, 104,  86,  99,  88,  88,  98], dtype=int64))"
      ]
     },
     "execution_count": 74,
     "metadata": {},
     "output_type": "execute_result"
    }
   ],
   "source": [
    "np.unique(Y_sample, return_counts=True)"
   ]
  },
  {
   "cell_type": "code",
   "execution_count": 182,
   "metadata": {},
   "outputs": [],
   "source": [
    "X_sample = np.load(\"../datasets/mnist_data/X.npy\")\n",
    "Y_sample = np.load(\"../datasets/mnist_data/Y.npy\")"
   ]
  },
  {
   "cell_type": "code",
   "execution_count": 183,
   "metadata": {},
   "outputs": [
    {
     "data": {
      "text/plain": [
       "(1000, 20)"
      ]
     },
     "execution_count": 183,
     "metadata": {},
     "output_type": "execute_result"
    }
   ],
   "source": [
    "X_sample.shape"
   ]
  },
  {
   "cell_type": "code",
   "execution_count": 188,
   "metadata": {},
   "outputs": [
    {
     "name": "stdout",
     "output_type": "stream",
     "text": [
      "kmeans score:  0.2399923464484798\n",
      "kmeans score2:  0.2399923464484798\n"
     ]
    }
   ],
   "source": [
    "rs = np.random.RandomState(25)\n",
    "test_dataset(X_sample, Y_sample, rs, \"euclidean\", normalize=False, n_clusters=3)"
   ]
  },
  {
   "cell_type": "code",
   "execution_count": 75,
   "metadata": {},
   "outputs": [],
   "source": [
    "np.save(\"../datasets/mnist_data/X.npy\", X_sample)\n",
    "np.save(\"../datasets/mnist_data/Y.npy\", Y_sample)"
   ]
  },
  {
   "cell_type": "code",
   "execution_count": 119,
   "metadata": {},
   "outputs": [],
   "source": [
    "np.save(\"C:\\Github_Projects/robust-active-clustering/datasets_small/mnist_data/X.npy\", X_sample)\n",
    "np.save(\"C:\\Github_Projects/robust-active-clustering/datasets_small/mnist_data/Y.npy\", Y_sample)"
   ]
  },
  {
   "cell_type": "code",
   "execution_count": null,
   "metadata": {},
   "outputs": [],
   "source": []
  },
  {
   "cell_type": "code",
   "execution_count": null,
   "metadata": {},
   "outputs": [],
   "source": []
  },
  {
   "attachments": {},
   "cell_type": "markdown",
   "metadata": {},
   "source": [
    "## Yeast"
   ]
  },
  {
   "cell_type": "code",
   "execution_count": 189,
   "metadata": {},
   "outputs": [],
   "source": [
    "import pandas as pd\n",
    "import numpy as np\n",
    "import seaborn as sns\n",
    "import matplotlib.pyplot as plt"
   ]
  },
  {
   "cell_type": "code",
   "execution_count": 190,
   "metadata": {},
   "outputs": [
    {
     "data": {
      "text/html": [
       "<div>\n",
       "<style scoped>\n",
       "    .dataframe tbody tr th:only-of-type {\n",
       "        vertical-align: middle;\n",
       "    }\n",
       "\n",
       "    .dataframe tbody tr th {\n",
       "        vertical-align: top;\n",
       "    }\n",
       "\n",
       "    .dataframe thead th {\n",
       "        text-align: right;\n",
       "    }\n",
       "</style>\n",
       "<table border=\"1\" class=\"dataframe\">\n",
       "  <thead>\n",
       "    <tr style=\"text-align: right;\">\n",
       "      <th></th>\n",
       "      <th>mcg</th>\n",
       "      <th>gvh</th>\n",
       "      <th>alm</th>\n",
       "      <th>mit</th>\n",
       "      <th>erl</th>\n",
       "      <th>pox</th>\n",
       "      <th>vac</th>\n",
       "      <th>nuc</th>\n",
       "      <th>name</th>\n",
       "    </tr>\n",
       "  </thead>\n",
       "  <tbody>\n",
       "    <tr>\n",
       "      <th>0</th>\n",
       "      <td>0.58</td>\n",
       "      <td>0.61</td>\n",
       "      <td>0.47</td>\n",
       "      <td>0.13</td>\n",
       "      <td>0.5</td>\n",
       "      <td>0.0</td>\n",
       "      <td>0.48</td>\n",
       "      <td>0.22</td>\n",
       "      <td>MIT</td>\n",
       "    </tr>\n",
       "    <tr>\n",
       "      <th>1</th>\n",
       "      <td>0.43</td>\n",
       "      <td>0.67</td>\n",
       "      <td>0.48</td>\n",
       "      <td>0.27</td>\n",
       "      <td>0.5</td>\n",
       "      <td>0.0</td>\n",
       "      <td>0.53</td>\n",
       "      <td>0.22</td>\n",
       "      <td>MIT</td>\n",
       "    </tr>\n",
       "    <tr>\n",
       "      <th>2</th>\n",
       "      <td>0.64</td>\n",
       "      <td>0.62</td>\n",
       "      <td>0.49</td>\n",
       "      <td>0.15</td>\n",
       "      <td>0.5</td>\n",
       "      <td>0.0</td>\n",
       "      <td>0.53</td>\n",
       "      <td>0.22</td>\n",
       "      <td>MIT</td>\n",
       "    </tr>\n",
       "    <tr>\n",
       "      <th>3</th>\n",
       "      <td>0.58</td>\n",
       "      <td>0.44</td>\n",
       "      <td>0.57</td>\n",
       "      <td>0.13</td>\n",
       "      <td>0.5</td>\n",
       "      <td>0.0</td>\n",
       "      <td>0.54</td>\n",
       "      <td>0.22</td>\n",
       "      <td>NUC</td>\n",
       "    </tr>\n",
       "    <tr>\n",
       "      <th>4</th>\n",
       "      <td>0.42</td>\n",
       "      <td>0.44</td>\n",
       "      <td>0.48</td>\n",
       "      <td>0.54</td>\n",
       "      <td>0.5</td>\n",
       "      <td>0.0</td>\n",
       "      <td>0.48</td>\n",
       "      <td>0.22</td>\n",
       "      <td>MIT</td>\n",
       "    </tr>\n",
       "    <tr>\n",
       "      <th>...</th>\n",
       "      <td>...</td>\n",
       "      <td>...</td>\n",
       "      <td>...</td>\n",
       "      <td>...</td>\n",
       "      <td>...</td>\n",
       "      <td>...</td>\n",
       "      <td>...</td>\n",
       "      <td>...</td>\n",
       "      <td>...</td>\n",
       "    </tr>\n",
       "    <tr>\n",
       "      <th>1479</th>\n",
       "      <td>0.81</td>\n",
       "      <td>0.62</td>\n",
       "      <td>0.43</td>\n",
       "      <td>0.17</td>\n",
       "      <td>0.5</td>\n",
       "      <td>0.0</td>\n",
       "      <td>0.53</td>\n",
       "      <td>0.22</td>\n",
       "      <td>ME2</td>\n",
       "    </tr>\n",
       "    <tr>\n",
       "      <th>1480</th>\n",
       "      <td>0.47</td>\n",
       "      <td>0.43</td>\n",
       "      <td>0.61</td>\n",
       "      <td>0.40</td>\n",
       "      <td>0.5</td>\n",
       "      <td>0.0</td>\n",
       "      <td>0.48</td>\n",
       "      <td>0.47</td>\n",
       "      <td>NUC</td>\n",
       "    </tr>\n",
       "    <tr>\n",
       "      <th>1481</th>\n",
       "      <td>0.67</td>\n",
       "      <td>0.57</td>\n",
       "      <td>0.36</td>\n",
       "      <td>0.19</td>\n",
       "      <td>0.5</td>\n",
       "      <td>0.0</td>\n",
       "      <td>0.56</td>\n",
       "      <td>0.22</td>\n",
       "      <td>ME2</td>\n",
       "    </tr>\n",
       "    <tr>\n",
       "      <th>1482</th>\n",
       "      <td>0.43</td>\n",
       "      <td>0.40</td>\n",
       "      <td>0.60</td>\n",
       "      <td>0.16</td>\n",
       "      <td>0.5</td>\n",
       "      <td>0.0</td>\n",
       "      <td>0.53</td>\n",
       "      <td>0.39</td>\n",
       "      <td>NUC</td>\n",
       "    </tr>\n",
       "    <tr>\n",
       "      <th>1483</th>\n",
       "      <td>0.65</td>\n",
       "      <td>0.54</td>\n",
       "      <td>0.54</td>\n",
       "      <td>0.13</td>\n",
       "      <td>0.5</td>\n",
       "      <td>0.0</td>\n",
       "      <td>0.53</td>\n",
       "      <td>0.22</td>\n",
       "      <td>CYT</td>\n",
       "    </tr>\n",
       "  </tbody>\n",
       "</table>\n",
       "<p>1484 rows × 9 columns</p>\n",
       "</div>"
      ],
      "text/plain": [
       "       mcg   gvh   alm   mit  erl  pox   vac   nuc name\n",
       "0     0.58  0.61  0.47  0.13  0.5  0.0  0.48  0.22  MIT\n",
       "1     0.43  0.67  0.48  0.27  0.5  0.0  0.53  0.22  MIT\n",
       "2     0.64  0.62  0.49  0.15  0.5  0.0  0.53  0.22  MIT\n",
       "3     0.58  0.44  0.57  0.13  0.5  0.0  0.54  0.22  NUC\n",
       "4     0.42  0.44  0.48  0.54  0.5  0.0  0.48  0.22  MIT\n",
       "...    ...   ...   ...   ...  ...  ...   ...   ...  ...\n",
       "1479  0.81  0.62  0.43  0.17  0.5  0.0  0.53  0.22  ME2\n",
       "1480  0.47  0.43  0.61  0.40  0.5  0.0  0.48  0.47  NUC\n",
       "1481  0.67  0.57  0.36  0.19  0.5  0.0  0.56  0.22  ME2\n",
       "1482  0.43  0.40  0.60  0.16  0.5  0.0  0.53  0.39  NUC\n",
       "1483  0.65  0.54  0.54  0.13  0.5  0.0  0.53  0.22  CYT\n",
       "\n",
       "[1484 rows x 9 columns]"
      ]
     },
     "execution_count": 190,
     "metadata": {},
     "output_type": "execute_result"
    }
   ],
   "source": [
    "data_set=pd.read_csv(\"../datasets/yeast_data/yeast.csv\")\n",
    "data_set"
   ]
  },
  {
   "cell_type": "code",
   "execution_count": 191,
   "metadata": {},
   "outputs": [],
   "source": [
    "from sklearn.preprocessing import LabelEncoder\n",
    "name_encoder=LabelEncoder()\n",
    "data_set[\"name\"]=name_encoder.fit_transform(data_set[\"name\"].values)"
   ]
  },
  {
   "cell_type": "code",
   "execution_count": 192,
   "metadata": {},
   "outputs": [],
   "source": [
    "X =data_set.iloc[:,:-1].values\n",
    "Y =data_set.iloc[:,-1].values"
   ]
  },
  {
   "cell_type": "code",
   "execution_count": 193,
   "metadata": {},
   "outputs": [],
   "source": [
    "from sklearn import preprocessing\n",
    "X = preprocessing.MinMaxScaler().fit_transform(X)"
   ]
  },
  {
   "cell_type": "code",
   "execution_count": 194,
   "metadata": {},
   "outputs": [],
   "source": [
    "rs = np.random.RandomState(39)\n",
    "X_sample, Y_sample = random_data_sample(X, Y, 1000, rs)"
   ]
  },
  {
   "cell_type": "code",
   "execution_count": 195,
   "metadata": {},
   "outputs": [
    {
     "data": {
      "text/plain": [
       "(1000, 8)"
      ]
     },
     "execution_count": 195,
     "metadata": {},
     "output_type": "execute_result"
    }
   ],
   "source": [
    "X_sample.shape"
   ]
  },
  {
   "cell_type": "code",
   "execution_count": 83,
   "metadata": {},
   "outputs": [
    {
     "data": {
      "text/plain": [
       "(array([0, 1, 2, 3, 4, 5, 6, 7, 8, 9]),\n",
       " array([319,   4,  31,  17,  28, 131, 169, 271,  12,  18], dtype=int64))"
      ]
     },
     "execution_count": 83,
     "metadata": {},
     "output_type": "execute_result"
    }
   ],
   "source": [
    "np.unique(Y_sample, return_counts=True)"
   ]
  },
  {
   "cell_type": "code",
   "execution_count": 199,
   "metadata": {},
   "outputs": [
    {
     "name": "stdout",
     "output_type": "stream",
     "text": [
      "kmeans score:  0.14825968169179507\n",
      "kmeans score2:  0.14825968169179507\n"
     ]
    }
   ],
   "source": [
    "rs = np.random.RandomState(25)\n",
    "test_dataset(X_sample, Y_sample, rs, \"euclidean\", normalize=False, n_clusters=10)"
   ]
  },
  {
   "cell_type": "code",
   "execution_count": 85,
   "metadata": {},
   "outputs": [],
   "source": [
    "np.save(\"../datasets/yeast_data/X.npy\", X_sample)\n",
    "np.save(\"../datasets/yeast_data/Y.npy\", Y_sample)"
   ]
  },
  {
   "cell_type": "code",
   "execution_count": 197,
   "metadata": {},
   "outputs": [],
   "source": [
    "X_sample = np.load(\"../datasets/yeast_data/X.npy\")\n",
    "Y_sample = np.load(\"../datasets/yeast_data/Y.npy\") "
   ]
  },
  {
   "cell_type": "code",
   "execution_count": 130,
   "metadata": {},
   "outputs": [
    {
     "data": {
      "text/plain": [
       "(1000, 8)"
      ]
     },
     "execution_count": 130,
     "metadata": {},
     "output_type": "execute_result"
    }
   ],
   "source": [
    "X_sample.shape"
   ]
  },
  {
   "cell_type": "code",
   "execution_count": 131,
   "metadata": {},
   "outputs": [
    {
     "name": "stdout",
     "output_type": "stream",
     "text": [
      "kmeans score:  0.1926289892995529\n",
      "kmeans score2:  0.1926289892995529\n"
     ]
    }
   ],
   "source": [
    "rs = np.random.RandomState(25)\n",
    "test_dataset(X_sample, Y_sample, rs, \"euclidean\", normalize=True, n_clusters=10)"
   ]
  },
  {
   "cell_type": "code",
   "execution_count": 135,
   "metadata": {},
   "outputs": [],
   "source": [
    "np.save(\"C:\\Github_Projects/robust-active-clustering/datasets_small/yeast_data/X.npy\", X_sample)\n",
    "np.save(\"C:\\Github_Projects/robust-active-clustering/datasets_small/yeast_data/Y.npy\", Y_sample)"
   ]
  },
  {
   "cell_type": "code",
   "execution_count": 2,
   "metadata": {},
   "outputs": [],
   "source": [
    "import numpy as np\n",
    "def random_row_generator(number):\n",
    "    return set(np.random.choice(np.arange(1, 36), size=number, replace=False))"
   ]
  },
  {
   "cell_type": "code",
   "execution_count": 7,
   "metadata": {},
   "outputs": [
    {
     "name": "stdout",
     "output_type": "stream",
     "text": [
      "{5, 9, 11, 17, 18, 20, 21, 23, 27, 29} {24, 27, 21, 14}\n"
     ]
    }
   ],
   "source": [
    "l1 = random_row_generator(10)\n",
    "l2 = random_row_generator(4)\n",
    "print(l1, l2)"
   ]
  },
  {
   "cell_type": "code",
   "execution_count": 8,
   "metadata": {},
   "outputs": [
    {
     "data": {
      "text/plain": [
       "2"
      ]
     },
     "execution_count": 8,
     "metadata": {},
     "output_type": "execute_result"
    }
   ],
   "source": [
    "len(l1.intersection(l2))"
   ]
  },
  {
   "cell_type": "code",
   "execution_count": null,
   "metadata": {},
   "outputs": [],
   "source": []
  },
  {
   "cell_type": "code",
   "execution_count": null,
   "metadata": {},
   "outputs": [],
   "source": []
  },
  {
   "cell_type": "code",
   "execution_count": 1,
   "metadata": {},
   "outputs": [],
   "source": [
    "from sklearn import datasets, metrics\n",
    "from active_semi_clustering.semi_supervised.pairwise_constraints import PCKMeans, MPCKMeans, COPKMeans\n",
    "from active_semi_clustering.active.pairwise_constraints import ExampleOracle, ExploreConsolidate, MinMax, NPU\n",
    "import numpy as np"
   ]
  },
  {
   "cell_type": "code",
   "execution_count": 2,
   "metadata": {},
   "outputs": [],
   "source": [
    "def clustering_from_clustering_solution(clustering_solution):\n",
    "    num_clusters = np.max(clustering_solution) + 1\n",
    "    clustering = [[] for _ in range(num_clusters)]\n",
    "    for i in range(len(clustering_solution)):\n",
    "        clustering[clustering_solution[i]].append(i)\n",
    "    return clustering, num_clusters\n",
    "\n",
    "def sim_matrix_from_clustering(clustering, N):\n",
    "    pairwise_similarities = -np.ones((N, N))\n",
    "    for cind in clustering:\n",
    "        pairwise_similarities[np.ix_(cind, cind)] = 1\n",
    "    return pairwise_similarities"
   ]
  },
  {
   "cell_type": "code",
   "execution_count": 3,
   "metadata": {},
   "outputs": [],
   "source": [
    "def get_constraints(prop_pos, prop_neg, sim_matrix, noise_level=0.0):\n",
    "    N = sim_matrix.shape[0]\n",
    "    lower_triangle_indices = np.tril_indices(N, -1)\n",
    "    num_flips = int(noise_level*len(sim_matrix[lower_triangle_indices]))\n",
    "\n",
    "    noise_inds = np.random.choice(len(sim_matrix[lower_triangle_indices]), num_flips)\n",
    "    ind1_noise, ind2_noise = lower_triangle_indices[0][noise_inds], lower_triangle_indices[1][noise_inds]\n",
    "    sim_matrix[ind1_noise, ind2_noise] *= -1\n",
    "\n",
    "    ind_pos = np.where(sim_matrix[lower_triangle_indices] == 1)[0]\n",
    "    ind_neg = np.where(sim_matrix[lower_triangle_indices] == -1)[0]\n",
    "    num_pos = int(len(ind_pos)*prop_pos)\n",
    "    num_neg = int(len(ind_neg)*prop_neg)\n",
    "    print(\"num_pos: \", num_pos)\n",
    "    print(\"num_neg: \", num_neg)\n",
    "    ind_pos = np.random.choice(ind_pos, num_pos)\n",
    "    ind_neg = np.random.choice(ind_neg, num_neg)\n",
    "    \n",
    "    ind1_pos, ind2_pos = lower_triangle_indices[0][ind_pos], lower_triangle_indices[1][ind_pos]\n",
    "    ind1_neg, ind2_neg = lower_triangle_indices[0][ind_neg], lower_triangle_indices[1][ind_neg]\n",
    "    ml = [(i1, i2) for i1, i2 in zip(ind1_pos, ind2_pos)]\n",
    "    cl = [(i1, i2) for i1, i2 in zip(ind1_neg, ind2_neg)]\n",
    "    return ml, cl "
   ]
  },
  {
   "cell_type": "code",
   "execution_count": 4,
   "metadata": {},
   "outputs": [],
   "source": [
    "X = np.load(\"../datasets/cifar10_data/X.npy\")\n",
    "y = np.load(\"../datasets/cifar10_data/Y.npy\")\n",
    "#X, y = datasets.load_iris(return_X_y=True)"
   ]
  },
  {
   "cell_type": "code",
   "execution_count": 5,
   "metadata": {},
   "outputs": [
    {
     "data": {
      "text/plain": [
       "(1000, 512)"
      ]
     },
     "execution_count": 5,
     "metadata": {},
     "output_type": "execute_result"
    }
   ],
   "source": [
    "X.shape"
   ]
  },
  {
   "cell_type": "code",
   "execution_count": 6,
   "metadata": {},
   "outputs": [],
   "source": [
    "clustering_solution = clustering_from_clustering_solution(y)\n",
    "sim_matrix = sim_matrix_from_clustering(clustering_solution[0], len(y))"
   ]
  },
  {
   "cell_type": "code",
   "execution_count": 7,
   "metadata": {},
   "outputs": [
    {
     "name": "stdout",
     "output_type": "stream",
     "text": [
      "num_pos:  363\n",
      "num_neg:  635\n"
     ]
    }
   ],
   "source": [
    "ml, cl = get_constraints(0.002, 0.002, sim_matrix, noise_level=0.4)"
   ]
  },
  {
   "cell_type": "code",
   "execution_count": 8,
   "metadata": {},
   "outputs": [
    {
     "data": {
      "text/plain": [
       "[(927, 244),\n",
       " (846, 174),\n",
       " (996, 866),\n",
       " (816, 624),\n",
       " (516, 264),\n",
       " (65, 28),\n",
       " (668, 438),\n",
       " (159, 149),\n",
       " (550, 524),\n",
       " (784, 532),\n",
       " (792, 735),\n",
       " (799, 792),\n",
       " (883, 287),\n",
       " (803, 725),\n",
       " (74, 59),\n",
       " (698, 207),\n",
       " (604, 373),\n",
       " (349, 234),\n",
       " (609, 463),\n",
       " (284, 245),\n",
       " (991, 141),\n",
       " (799, 246),\n",
       " (758, 504),\n",
       " (887, 608),\n",
       " (395, 285),\n",
       " (971, 18),\n",
       " (649, 178),\n",
       " (543, 340),\n",
       " (913, 734),\n",
       " (970, 933),\n",
       " (822, 342),\n",
       " (370, 109),\n",
       " (370, 315),\n",
       " (397, 0),\n",
       " (883, 25),\n",
       " (765, 35),\n",
       " (801, 152),\n",
       " (485, 139),\n",
       " (764, 300),\n",
       " (824, 481),\n",
       " (986, 797),\n",
       " (796, 776),\n",
       " (740, 390),\n",
       " (696, 520),\n",
       " (980, 529),\n",
       " (810, 521),\n",
       " (520, 103),\n",
       " (481, 55),\n",
       " (953, 391),\n",
       " (944, 257),\n",
       " (295, 31),\n",
       " (889, 321),\n",
       " (447, 212),\n",
       " (554, 298),\n",
       " (860, 212),\n",
       " (765, 317),\n",
       " (249, 165),\n",
       " (429, 13),\n",
       " (667, 417),\n",
       " (387, 14),\n",
       " (950, 415),\n",
       " (344, 56),\n",
       " (376, 129),\n",
       " (675, 368),\n",
       " (873, 13),\n",
       " (233, 12),\n",
       " (527, 86),\n",
       " (988, 884),\n",
       " (368, 16),\n",
       " (909, 783),\n",
       " (826, 554),\n",
       " (662, 423),\n",
       " (154, 21),\n",
       " (745, 197),\n",
       " (406, 57),\n",
       " (258, 50),\n",
       " (678, 232),\n",
       " (601, 318),\n",
       " (680, 317),\n",
       " (565, 383),\n",
       " (940, 104),\n",
       " (856, 71),\n",
       " (400, 311),\n",
       " (955, 641),\n",
       " (938, 219),\n",
       " (218, 187),\n",
       " (948, 673),\n",
       " (915, 862),\n",
       " (623, 365),\n",
       " (612, 580),\n",
       " (719, 638),\n",
       " (710, 473),\n",
       " (868, 24),\n",
       " (285, 156),\n",
       " (793, 425),\n",
       " (933, 206),\n",
       " (748, 670),\n",
       " (550, 144),\n",
       " (937, 58),\n",
       " (47, 39),\n",
       " (721, 637),\n",
       " (395, 225),\n",
       " (494, 218),\n",
       " (608, 167),\n",
       " (687, 91),\n",
       " (445, 83),\n",
       " (372, 316),\n",
       " (234, 7),\n",
       " (456, 118),\n",
       " (859, 159),\n",
       " (394, 84),\n",
       " (211, 132),\n",
       " (717, 582),\n",
       " (646, 154),\n",
       " (956, 390),\n",
       " (846, 509),\n",
       " (583, 473),\n",
       " (549, 491),\n",
       " (476, 242),\n",
       " (672, 469),\n",
       " (288, 206),\n",
       " (870, 774),\n",
       " (829, 481),\n",
       " (389, 55),\n",
       " (814, 658),\n",
       " (898, 788),\n",
       " (894, 387),\n",
       " (874, 239),\n",
       " (809, 606),\n",
       " (866, 612),\n",
       " (621, 107),\n",
       " (669, 244),\n",
       " (541, 112),\n",
       " (953, 727),\n",
       " (497, 392),\n",
       " (487, 145),\n",
       " (568, 225),\n",
       " (457, 204),\n",
       " (840, 188),\n",
       " (827, 279),\n",
       " (899, 261),\n",
       " (464, 146),\n",
       " (519, 384),\n",
       " (780, 761),\n",
       " (893, 307),\n",
       " (418, 150),\n",
       " (655, 11),\n",
       " (411, 193),\n",
       " (878, 472),\n",
       " (469, 443),\n",
       " (979, 687),\n",
       " (673, 587),\n",
       " (613, 507),\n",
       " (820, 115),\n",
       " (802, 67),\n",
       " (372, 133),\n",
       " (504, 18),\n",
       " (255, 96),\n",
       " (438, 142),\n",
       " (102, 69),\n",
       " (984, 237),\n",
       " (859, 51),\n",
       " (494, 426),\n",
       " (566, 282),\n",
       " (310, 123),\n",
       " (890, 731),\n",
       " (759, 442),\n",
       " (528, 81),\n",
       " (630, 506),\n",
       " (772, 81),\n",
       " (318, 312),\n",
       " (824, 265),\n",
       " (513, 399),\n",
       " (189, 14),\n",
       " (878, 835),\n",
       " (891, 412),\n",
       " (956, 366),\n",
       " (985, 776),\n",
       " (689, 120),\n",
       " (731, 101),\n",
       " (77, 71),\n",
       " (924, 59),\n",
       " (319, 255),\n",
       " (654, 640),\n",
       " (396, 40),\n",
       " (342, 335),\n",
       " (766, 115),\n",
       " (624, 519),\n",
       " (861, 27),\n",
       " (913, 528),\n",
       " (86, 5),\n",
       " (396, 374),\n",
       " (157, 60),\n",
       " (382, 236),\n",
       " (840, 626),\n",
       " (892, 703),\n",
       " (851, 161),\n",
       " (554, 41),\n",
       " (754, 95),\n",
       " (455, 87),\n",
       " (810, 702),\n",
       " (517, 122),\n",
       " (250, 99),\n",
       " (738, 496),\n",
       " (113, 67),\n",
       " (344, 191),\n",
       " (343, 241),\n",
       " (12, 7),\n",
       " (411, 167),\n",
       " (451, 78),\n",
       " (410, 391),\n",
       " (870, 400),\n",
       " (751, 0),\n",
       " (345, 119),\n",
       " (965, 285),\n",
       " (615, 165),\n",
       " (508, 458),\n",
       " (852, 722),\n",
       " (699, 38),\n",
       " (496, 31),\n",
       " (959, 537),\n",
       " (512, 188),\n",
       " (116, 115),\n",
       " (710, 638),\n",
       " (977, 94),\n",
       " (996, 651),\n",
       " (990, 874),\n",
       " (381, 220),\n",
       " (537, 130),\n",
       " (736, 669),\n",
       " (685, 177),\n",
       " (606, 295),\n",
       " (385, 71),\n",
       " (832, 818),\n",
       " (257, 133),\n",
       " (809, 169),\n",
       " (543, 437),\n",
       " (507, 109),\n",
       " (929, 410),\n",
       " (962, 877),\n",
       " (362, 46),\n",
       " (559, 9),\n",
       " (908, 401),\n",
       " (933, 577),\n",
       " (297, 184),\n",
       " (348, 236),\n",
       " (789, 683),\n",
       " (774, 668),\n",
       " (869, 820),\n",
       " (495, 468),\n",
       " (357, 22),\n",
       " (744, 607),\n",
       " (903, 117),\n",
       " (456, 142),\n",
       " (921, 725),\n",
       " (731, 209),\n",
       " (410, 185),\n",
       " (892, 868),\n",
       " (434, 170),\n",
       " (733, 331),\n",
       " (988, 538),\n",
       " (481, 43),\n",
       " (416, 200),\n",
       " (952, 631),\n",
       " (284, 187),\n",
       " (249, 91),\n",
       " (451, 403),\n",
       " (470, 40),\n",
       " (285, 263),\n",
       " (403, 283),\n",
       " (513, 121),\n",
       " (254, 25),\n",
       " (584, 335),\n",
       " (891, 754),\n",
       " (770, 290),\n",
       " (271, 101),\n",
       " (652, 626),\n",
       " (451, 389),\n",
       " (932, 883),\n",
       " (834, 563),\n",
       " (305, 302),\n",
       " (751, 42),\n",
       " (724, 47),\n",
       " (647, 94),\n",
       " (891, 261),\n",
       " (958, 136),\n",
       " (520, 405),\n",
       " (715, 338),\n",
       " (896, 92),\n",
       " (930, 253),\n",
       " (695, 599),\n",
       " (902, 489),\n",
       " (451, 184),\n",
       " (194, 62),\n",
       " (468, 466),\n",
       " (573, 174),\n",
       " (374, 165),\n",
       " (868, 395),\n",
       " (706, 603),\n",
       " (280, 82),\n",
       " (831, 306),\n",
       " (756, 106),\n",
       " (89, 31),\n",
       " (760, 617),\n",
       " (570, 465),\n",
       " (733, 671),\n",
       " (698, 121),\n",
       " (873, 626),\n",
       " (406, 40),\n",
       " (724, 115),\n",
       " (658, 500),\n",
       " (981, 732),\n",
       " (713, 345),\n",
       " (935, 93),\n",
       " (519, 7),\n",
       " (978, 675),\n",
       " (957, 257),\n",
       " (974, 520),\n",
       " (318, 244),\n",
       " (892, 705),\n",
       " (966, 379),\n",
       " (964, 800),\n",
       " (869, 485),\n",
       " (303, 136),\n",
       " (798, 775),\n",
       " (967, 699),\n",
       " (219, 187),\n",
       " (597, 136),\n",
       " (984, 743),\n",
       " (677, 78),\n",
       " (991, 758),\n",
       " (193, 152),\n",
       " (544, 348),\n",
       " (958, 470),\n",
       " (772, 731),\n",
       " (728, 461),\n",
       " (825, 507),\n",
       " (849, 506),\n",
       " (574, 48),\n",
       " (245, 89),\n",
       " (712, 62),\n",
       " (903, 145),\n",
       " (763, 150),\n",
       " (587, 443),\n",
       " (449, 80),\n",
       " (427, 177),\n",
       " (849, 805),\n",
       " (702, 616),\n",
       " (669, 405),\n",
       " (351, 292),\n",
       " (910, 473),\n",
       " (775, 371),\n",
       " (878, 5),\n",
       " (834, 21),\n",
       " (714, 557),\n",
       " (998, 120),\n",
       " (580, 148),\n",
       " (726, 248),\n",
       " (870, 838),\n",
       " (949, 334),\n",
       " (666, 538),\n",
       " (214, 94),\n",
       " (975, 781)]"
      ]
     },
     "execution_count": 8,
     "metadata": {},
     "output_type": "execute_result"
    }
   ],
   "source": [
    "ml"
   ]
  },
  {
   "cell_type": "code",
   "execution_count": 9,
   "metadata": {},
   "outputs": [],
   "source": [
    "from active_semi_clustering.semi_supervised.pairwise_constraints.constraints import preprocess_constraints"
   ]
  },
  {
   "cell_type": "code",
   "execution_count": 10,
   "metadata": {},
   "outputs": [
    {
     "name": "stdout",
     "output_type": "stream",
     "text": [
      "WAS INCONS\n",
      "WAS INCONS\n",
      "WAS INCONS\n",
      "WAS INCONS\n",
      "WAS INCONS\n",
      "WAS INCONS\n",
      "WAS INCONS\n",
      "WAS INCONS\n",
      "WAS INCONS\n",
      "WAS INCONS\n",
      "WAS INCONS\n",
      "WAS INCONS\n",
      "WAS INCONS\n",
      "WAS INCONS\n",
      "WAS INCONS\n",
      "WAS INCONS\n",
      "WAS INCONS\n",
      "WAS INCONS\n",
      "WAS INCONS\n",
      "WAS INCONS\n",
      "WAS INCONS\n",
      "WAS INCONS\n",
      "WAS INCONS\n",
      "WAS INCONS\n",
      "WAS INCONS\n",
      "WAS INCONS\n",
      "WAS INCONS\n",
      "WAS INCONS\n",
      "WAS INCONS\n",
      "WAS INCONS\n",
      "WAS INCONS\n",
      "WAS INCONS\n",
      "WAS INCONS\n",
      "WAS INCONS\n",
      "WAS INCONS\n",
      "WAS INCONS\n",
      "WAS INCONS\n",
      "WAS INCONS\n",
      "WAS INCONS\n",
      "WAS INCONS\n",
      "WAS INCONS\n",
      "WAS INCONS\n",
      "WAS INCONS\n",
      "WAS INCONS\n",
      "WAS INCONS\n",
      "WAS INCONS\n",
      "WAS INCONS\n",
      "WAS INCONS\n",
      "WAS INCONS\n",
      "WAS INCONS\n",
      "WAS INCONS\n",
      "WAS INCONS\n",
      "WAS INCONS\n",
      "WAS INCONS\n",
      "WAS INCONS\n",
      "WAS INCONS\n",
      "WAS INCONS\n",
      "WAS INCONS\n",
      "WAS INCONS\n",
      "WAS INCONS\n",
      "WAS INCONS\n",
      "WAS INCONS\n",
      "WAS INCONS\n",
      "WAS INCONS\n",
      "WAS INCONS\n",
      "WAS INCONS\n",
      "WAS INCONS\n",
      "WAS INCONS\n",
      "WAS INCONS\n",
      "WAS INCONS\n",
      "WAS INCONS\n",
      "WAS INCONS\n",
      "WAS INCONS\n",
      "WAS INCONS\n",
      "WAS INCONS\n",
      "WAS INCONS\n",
      "WAS INCONS\n",
      "WAS INCONS\n",
      "WAS INCONS\n",
      "WAS INCONS\n",
      "WAS INCONS\n",
      "WAS INCONS\n",
      "WAS INCONS\n",
      "WAS INCONS\n",
      "WAS INCONS\n",
      "WAS INCONS\n",
      "WAS INCONS\n",
      "WAS INCONS\n",
      "WAS INCONS\n",
      "WAS INCONS\n",
      "WAS INCONS\n",
      "WAS INCONS\n",
      "WAS INCONS\n",
      "WAS INCONS\n",
      "WAS INCONS\n",
      "WAS INCONS\n",
      "WAS INCONS\n",
      "WAS INCONS\n",
      "WAS INCONS\n",
      "WAS INCONS\n",
      "WAS INCONS\n",
      "WAS INCONS\n",
      "WAS INCONS\n",
      "WAS INCONS\n",
      "WAS INCONS\n",
      "WAS INCONS\n",
      "WAS INCONS\n",
      "WAS INCONS\n",
      "WAS INCONS\n",
      "WAS INCONS\n",
      "WAS INCONS\n",
      "WAS INCONS\n",
      "WAS INCONS\n",
      "WAS INCONS\n",
      "WAS INCONS\n",
      "WAS INCONS\n",
      "WAS INCONS\n",
      "WAS INCONS\n",
      "WAS INCONS\n",
      "WAS INCONS\n",
      "WAS INCONS\n",
      "WAS INCONS\n",
      "WAS INCONS\n",
      "WAS INCONS\n",
      "WAS INCONS\n",
      "WAS INCONS\n",
      "WAS INCONS\n",
      "WAS INCONS\n",
      "WAS INCONS\n",
      "WAS INCONS\n",
      "WAS INCONS\n",
      "WAS INCONS\n",
      "WAS INCONS\n",
      "WAS INCONS\n",
      "WAS INCONS\n",
      "WAS INCONS\n",
      "WAS INCONS\n",
      "WAS INCONS\n",
      "WAS INCONS\n",
      "WAS INCONS\n",
      "WAS INCONS\n",
      "WAS INCONS\n",
      "WAS INCONS\n",
      "WAS INCONS\n",
      "WAS INCONS\n",
      "WAS INCONS\n",
      "WAS INCONS\n",
      "WAS INCONS\n",
      "WAS INCONS\n",
      "WAS INCONS\n",
      "WAS INCONS\n",
      "WAS INCONS\n",
      "WAS INCONS\n",
      "WAS INCONS\n",
      "WAS INCONS\n",
      "WAS INCONS\n",
      "WAS INCONS\n",
      "WAS INCONS\n",
      "WAS INCONS\n",
      "WAS INCONS\n",
      "WAS INCONS\n",
      "WAS INCONS\n",
      "WAS INCONS\n",
      "WAS INCONS\n",
      "WAS INCONS\n",
      "WAS INCONS\n",
      "WAS INCONS\n",
      "WAS INCONS\n",
      "WAS INCONS\n",
      "WAS INCONS\n",
      "WAS INCONS\n",
      "WAS INCONS\n",
      "WAS INCONS\n",
      "WAS INCONS\n",
      "WAS INCONS\n",
      "WAS INCONS\n",
      "WAS INCONS\n",
      "WAS INCONS\n",
      "WAS INCONS\n",
      "WAS INCONS\n",
      "WAS INCONS\n",
      "WAS INCONS\n",
      "WAS INCONS\n",
      "WAS INCONS\n",
      "WAS INCONS\n",
      "WAS INCONS\n",
      "WAS INCONS\n",
      "WAS INCONS\n",
      "WAS INCONS\n",
      "WAS INCONS\n",
      "WAS INCONS\n",
      "WAS INCONS\n",
      "WAS INCONS\n",
      "WAS INCONS\n",
      "WAS INCONS\n",
      "WAS INCONS\n",
      "WAS INCONS\n",
      "WAS INCONS\n",
      "WAS INCONS\n",
      "WAS INCONS\n",
      "WAS INCONS\n",
      "WAS INCONS\n",
      "WAS INCONS\n",
      "WAS INCONS\n",
      "WAS INCONS\n",
      "WAS INCONS\n",
      "WAS INCONS\n",
      "WAS INCONS\n",
      "WAS INCONS\n",
      "WAS INCONS\n",
      "WAS INCONS\n",
      "WAS INCONS\n",
      "WAS INCONS\n",
      "WAS INCONS\n",
      "WAS INCONS\n",
      "WAS INCONS\n",
      "WAS INCONS\n",
      "WAS INCONS\n",
      "WAS INCONS\n",
      "WAS INCONS\n",
      "WAS INCONS\n",
      "WAS INCONS\n",
      "WAS INCONS\n",
      "WAS INCONS\n",
      "WAS INCONS\n",
      "WAS INCONS\n",
      "WAS INCONS\n",
      "WAS INCONS\n",
      "WAS INCONS\n",
      "WAS INCONS\n",
      "WAS INCONS\n",
      "WAS INCONS\n",
      "WAS INCONS\n",
      "WAS INCONS\n",
      "WAS INCONS\n",
      "WAS INCONS\n",
      "WAS INCONS\n",
      "WAS INCONS\n",
      "WAS INCONS\n",
      "WAS INCONS\n",
      "WAS INCONS\n",
      "WAS INCONS\n",
      "WAS INCONS\n",
      "WAS INCONS\n",
      "WAS INCONS\n",
      "WAS INCONS\n",
      "WAS INCONS\n",
      "WAS INCONS\n",
      "WAS INCONS\n",
      "WAS INCONS\n",
      "WAS INCONS\n",
      "WAS INCONS\n",
      "WAS INCONS\n",
      "WAS INCONS\n",
      "WAS INCONS\n",
      "WAS INCONS\n",
      "WAS INCONS\n",
      "WAS INCONS\n",
      "WAS INCONS\n",
      "WAS INCONS\n",
      "WAS INCONS\n",
      "WAS INCONS\n",
      "WAS INCONS\n",
      "WAS INCONS\n",
      "WAS INCONS\n",
      "WAS INCONS\n",
      "WAS INCONS\n",
      "WAS INCONS\n",
      "WAS INCONS\n",
      "WAS INCONS\n",
      "WAS INCONS\n",
      "WAS INCONS\n",
      "WAS INCONS\n",
      "WAS INCONS\n",
      "WAS INCONS\n",
      "WAS INCONS\n",
      "WAS INCONS\n",
      "WAS INCONS\n",
      "WAS INCONS\n",
      "WAS INCONS\n",
      "WAS INCONS\n",
      "WAS INCONS\n",
      "WAS INCONS\n",
      "WAS INCONS\n",
      "WAS INCONS\n",
      "WAS INCONS\n",
      "WAS INCONS\n",
      "WAS INCONS\n",
      "WAS INCONS\n",
      "WAS INCONS\n",
      "WAS INCONS\n",
      "WAS INCONS\n",
      "WAS INCONS\n",
      "WAS INCONS\n",
      "WAS INCONS\n",
      "WAS INCONS\n",
      "WAS INCONS\n",
      "WAS INCONS\n",
      "WAS INCONS\n",
      "WAS INCONS\n",
      "WAS INCONS\n",
      "WAS INCONS\n",
      "WAS INCONS\n",
      "WAS INCONS\n",
      "WAS INCONS\n",
      "WAS INCONS\n",
      "WAS INCONS\n",
      "WAS INCONS\n",
      "WAS INCONS\n",
      "WAS INCONS\n",
      "WAS INCONS\n",
      "WAS INCONS\n",
      "WAS INCONS\n",
      "WAS INCONS\n",
      "WAS INCONS\n",
      "WAS INCONS\n",
      "WAS INCONS\n",
      "WAS INCONS\n",
      "WAS INCONS\n",
      "WAS INCONS\n",
      "WAS INCONS\n",
      "WAS INCONS\n",
      "WAS INCONS\n",
      "WAS INCONS\n",
      "WAS INCONS\n",
      "WAS INCONS\n",
      "WAS INCONS\n",
      "WAS INCONS\n",
      "WAS INCONS\n",
      "WAS INCONS\n",
      "WAS INCONS\n",
      "WAS INCONS\n",
      "WAS INCONS\n",
      "WAS INCONS\n",
      "WAS INCONS\n",
      "WAS INCONS\n",
      "WAS INCONS\n",
      "WAS INCONS\n",
      "WAS INCONS\n",
      "WAS INCONS\n",
      "WAS INCONS\n",
      "WAS INCONS\n",
      "WAS INCONS\n",
      "WAS INCONS\n",
      "WAS INCONS\n",
      "WAS INCONS\n",
      "WAS INCONS\n",
      "WAS INCONS\n",
      "WAS INCONS\n",
      "WAS INCONS\n",
      "WAS INCONS\n",
      "WAS INCONS\n",
      "WAS INCONS\n",
      "WAS INCONS\n",
      "WAS INCONS\n",
      "WAS INCONS\n",
      "WAS INCONS\n",
      "WAS INCONS\n",
      "WAS INCONS\n",
      "WAS INCONS\n",
      "WAS INCONS\n",
      "WAS INCONS\n",
      "WAS INCONS\n",
      "WAS INCONS\n",
      "WAS INCONS\n",
      "WAS INCONS\n",
      "WAS INCONS\n",
      "WAS INCONS\n",
      "WAS INCONS\n",
      "WAS INCONS\n",
      "WAS INCONS\n",
      "WAS INCONS\n",
      "WAS INCONS\n",
      "WAS INCONS\n",
      "WAS INCONS\n",
      "WAS INCONS\n",
      "WAS INCONS\n",
      "WAS INCONS\n",
      "WAS INCONS\n",
      "WAS INCONS\n",
      "WAS INCONS\n",
      "WAS INCONS\n",
      "WAS INCONS\n",
      "WAS INCONS\n",
      "WAS INCONS\n",
      "WAS INCONS\n",
      "WAS INCONS\n",
      "WAS INCONS\n",
      "WAS INCONS\n",
      "WAS INCONS\n",
      "WAS INCONS\n",
      "WAS INCONS\n",
      "WAS INCONS\n",
      "WAS INCONS\n",
      "WAS INCONS\n",
      "WAS INCONS\n",
      "WAS INCONS\n",
      "WAS INCONS\n",
      "WAS INCONS\n",
      "WAS INCONS\n",
      "WAS INCONS\n",
      "WAS INCONS\n",
      "WAS INCONS\n",
      "WAS INCONS\n",
      "WAS INCONS\n",
      "WAS INCONS\n",
      "WAS INCONS\n",
      "WAS INCONS\n",
      "WAS INCONS\n",
      "WAS INCONS\n",
      "WAS INCONS\n",
      "WAS INCONS\n",
      "WAS INCONS\n",
      "WAS INCONS\n"
     ]
    }
   ],
   "source": [
    "ml_graph, cl_graph, neighborhoods = preprocess_constraints(ml, cl, 1000)"
   ]
  },
  {
   "cell_type": "code",
   "execution_count": 11,
   "metadata": {},
   "outputs": [
    {
     "data": {
      "text/plain": [
       "[[397, 42, 751, 0],\n",
       " [472, 835, 878, 527, 86, 5],\n",
       " [349, 234, 233, 12, 384, 816, 624, 519, 7],\n",
       " [559, 9],\n",
       " [655, 11],\n",
       " [512, 188, 840, 652, 626, 873, 429, 13],\n",
       " [894, 387, 189, 14],\n",
       " [978, 675, 368, 16],\n",
       " [141, 991, 758, 504, 971, 18],\n",
       " [646, 154, 563, 834, 21],\n",
       " [357, 22],\n",
       " [568, 225, 156, 965, 263, 285, 395, 705, 703, 892, 868, 24],\n",
       " [932, 287, 883, 254, 25],\n",
       " [861, 27],\n",
       " [65, 28],\n",
       " [738,\n",
       "  496,\n",
       "  426,\n",
       "  494,\n",
       "  218,\n",
       "  938,\n",
       "  219,\n",
       "  187,\n",
       "  284,\n",
       "  245,\n",
       "  89,\n",
       "  169,\n",
       "  809,\n",
       "  606,\n",
       "  295,\n",
       "  31],\n",
       " [680, 317, 765, 35],\n",
       " [967, 699, 38],\n",
       " [116, 139, 485, 869, 820, 766, 115, 724, 47, 39],\n",
       " [57, 406, 979, 687, 91, 249, 615, 165, 374, 396, 597, 303, 136, 958, 470, 40],\n",
       " [298, 826, 554, 41],\n",
       " [265, 824, 829, 297, 184, 283, 403, 677, 78, 451, 389, 55, 481, 43],\n",
       " [362, 46],\n",
       " [574, 48],\n",
       " [258, 50],\n",
       " [149, 159, 859, 51],\n",
       " [191, 344, 56],\n",
       " [937, 58],\n",
       " [74, 924, 59],\n",
       " [157, 60],\n",
       " [712, 194, 62],\n",
       " [113, 802, 67],\n",
       " [102, 69],\n",
       " [856, 385, 77, 71],\n",
       " [449, 80],\n",
       " [734, 913, 528, 209, 890, 271, 101, 731, 772, 81],\n",
       " [280, 82],\n",
       " [445, 83],\n",
       " [394, 84],\n",
       " [455, 87],\n",
       " [896, 92],\n",
       " [935, 93],\n",
       " [977, 214, 647, 94],\n",
       " [412, 899, 261, 891, 754, 95],\n",
       " [319, 255, 96],\n",
       " [250, 99],\n",
       " [696, 736, 312, 601, 318, 927, 244, 669, 405, 974, 520, 103],\n",
       " [940, 104],\n",
       " [756, 106],\n",
       " [621, 107],\n",
       " [315, 370, 825, 613, 507, 109],\n",
       " [541, 112],\n",
       " [487, 145, 903, 117],\n",
       " [311, 400, 838, 870, 774, 668, 438, 142, 456, 118],\n",
       " [713, 345, 119],\n",
       " [689, 998, 120],\n",
       " [399, 513, 207, 698, 121],\n",
       " [517, 122],\n",
       " [310, 123],\n",
       " [376, 129],\n",
       " [959, 537, 130],\n",
       " [211, 132],\n",
       " [944, 957, 257, 316, 372, 133],\n",
       " [524, 550, 144],\n",
       " [464, 146],\n",
       " [651, 996, 866, 612, 580, 148],\n",
       " [418, 763, 150],\n",
       " [801, 887, 608, 167, 411, 193, 152],\n",
       " [851, 161],\n",
       " [434, 170],\n",
       " [573, 509, 846, 174],\n",
       " [427, 685, 177],\n",
       " [649, 178],\n",
       " [929, 727, 953, 391, 410, 185],\n",
       " [745, 197],\n",
       " [416, 200],\n",
       " [457, 204],\n",
       " [288, 577, 970, 933, 206],\n",
       " [860, 447, 212],\n",
       " [381, 220],\n",
       " [678, 232],\n",
       " [544, 348, 382, 236],\n",
       " [743, 984, 237],\n",
       " [990, 874, 239],\n",
       " [343, 241],\n",
       " [476, 242],\n",
       " [735, 792, 799, 246],\n",
       " [726, 248],\n",
       " [930, 253],\n",
       " [516, 264],\n",
       " [827, 279],\n",
       " [566, 282],\n",
       " [770, 290],\n",
       " [351, 292],\n",
       " [764, 300],\n",
       " [305, 302],\n",
       " [831, 306],\n",
       " [893, 307],\n",
       " [889, 321],\n",
       " [671, 733, 331],\n",
       " [949, 334],\n",
       " [584, 822, 342, 335],\n",
       " [715, 338],\n",
       " [437, 543, 340],\n",
       " [623, 365],\n",
       " [740, 390, 956, 366],\n",
       " [798, 775, 371],\n",
       " [604, 373],\n",
       " [966, 379],\n",
       " [565, 383],\n",
       " [497, 392],\n",
       " [908, 401],\n",
       " [950, 415],\n",
       " [667, 417],\n",
       " [662, 423],\n",
       " [793, 425],\n",
       " [759, 442],\n",
       " [948, 673, 587, 672, 469, 443],\n",
       " [508, 458],\n",
       " [728, 461],\n",
       " [609, 463],\n",
       " [570, 465],\n",
       " [495, 468, 466],\n",
       " [910, 719, 638, 710, 583, 473],\n",
       " [902, 489],\n",
       " [549, 491],\n",
       " [814, 658, 500],\n",
       " [805, 849, 630, 506],\n",
       " [616, 702, 810, 521],\n",
       " [980, 529],\n",
       " [784, 532],\n",
       " [666, 884, 988, 538],\n",
       " [714, 557],\n",
       " [717, 582],\n",
       " [695, 599],\n",
       " [706, 603],\n",
       " [744, 607],\n",
       " [760, 617],\n",
       " [952, 631],\n",
       " [721, 637],\n",
       " [654, 640],\n",
       " [955, 641],\n",
       " [748, 670],\n",
       " [789, 683],\n",
       " [852, 722],\n",
       " [921, 803, 725],\n",
       " [981, 732],\n",
       " [780, 761],\n",
       " [985, 796, 776],\n",
       " [975, 781],\n",
       " [909, 783],\n",
       " [898, 788],\n",
       " [986, 797],\n",
       " [964, 800],\n",
       " [832, 818],\n",
       " [915, 862],\n",
       " [962, 877]]"
      ]
     },
     "execution_count": 11,
     "metadata": {},
     "output_type": "execute_result"
    }
   ],
   "source": [
    "neighborhoods"
   ]
  },
  {
   "cell_type": "code",
   "execution_count": null,
   "metadata": {},
   "outputs": [],
   "source": []
  },
  {
   "cell_type": "code",
   "execution_count": null,
   "metadata": {},
   "outputs": [],
   "source": []
  },
  {
   "cell_type": "code",
   "execution_count": null,
   "metadata": {},
   "outputs": [],
   "source": []
  },
  {
   "cell_type": "code",
   "execution_count": 332,
   "metadata": {},
   "outputs": [
    {
     "data": {
      "text/plain": [
       "[(755, 663),\n",
       " (974, 176),\n",
       " (903, 187),\n",
       " (998, 755),\n",
       " (446, 355),\n",
       " (375, 365),\n",
       " (528, 498),\n",
       " (604, 273),\n",
       " (893, 692),\n",
       " (906, 203),\n",
       " (203, 169),\n",
       " (793, 647),\n",
       " (716, 618),\n",
       " (941, 752),\n",
       " (662, 212),\n",
       " (582, 6),\n",
       " (460, 326),\n",
       " (967, 166),\n",
       " (275, 48),\n",
       " (540, 438),\n",
       " (288, 42),\n",
       " (728, 582),\n",
       " (860, 785),\n",
       " (366, 167),\n",
       " (659, 401),\n",
       " (632, 47),\n",
       " (945, 191),\n",
       " (774, 327),\n",
       " (904, 489),\n",
       " (597, 328),\n",
       " (185, 63),\n",
       " (891, 186),\n",
       " (503, 468),\n",
       " (733, 664),\n",
       " (508, 214),\n",
       " (959, 520),\n",
       " (921, 577),\n",
       " (970, 518),\n",
       " (850, 180),\n",
       " (958, 195),\n",
       " (514, 416),\n",
       " (762, 568),\n",
       " (812, 762),\n",
       " (744, 319),\n",
       " (154, 148),\n",
       " (854, 226),\n",
       " (515, 220),\n",
       " (601, 25),\n",
       " (878, 629),\n",
       " (755, 292),\n",
       " (887, 289),\n",
       " (852, 796),\n",
       " (361, 215),\n",
       " (779, 132),\n",
       " (576, 99),\n",
       " (958, 413),\n",
       " (910, 129),\n",
       " (853, 464),\n",
       " (941, 92),\n",
       " (705, 330),\n",
       " (553, 156),\n",
       " (857, 614),\n",
       " (746, 72),\n",
       " (921, 505),\n",
       " (717, 525),\n",
       " (511, 437),\n",
       " (835, 224),\n",
       " (809, 278),\n",
       " (322, 176),\n",
       " (929, 690),\n",
       " (645, 294),\n",
       " (285, 19),\n",
       " (769, 588),\n",
       " (929, 51),\n",
       " (520, 508),\n",
       " (557, 423),\n",
       " (551, 407),\n",
       " (767, 287),\n",
       " (804, 305),\n",
       " (573, 113),\n",
       " (661, 121),\n",
       " (538, 206),\n",
       " (921, 749),\n",
       " (258, 62),\n",
       " (528, 372),\n",
       " (950, 511),\n",
       " (882, 666),\n",
       " (900, 796),\n",
       " (493, 76),\n",
       " (446, 4),\n",
       " (742, 12),\n",
       " (747, 649),\n",
       " (684, 601),\n",
       " (966, 823),\n",
       " (847, 139),\n",
       " (181, 87),\n",
       " (954, 875),\n",
       " (604, 260),\n",
       " (595, 202),\n",
       " (591, 217),\n",
       " (853, 560),\n",
       " (875, 850),\n",
       " (810, 280),\n",
       " (728, 449),\n",
       " (960, 219),\n",
       " (783, 544),\n",
       " (695, 278),\n",
       " (862, 139),\n",
       " (997, 418),\n",
       " (868, 315),\n",
       " (571, 254),\n",
       " (918, 875),\n",
       " (463, 136),\n",
       " (899, 26),\n",
       " (326, 43),\n",
       " (430, 62),\n",
       " (50, 10),\n",
       " (577, 297),\n",
       " (771, 422),\n",
       " (703, 137),\n",
       " (666, 661),\n",
       " (891, 410),\n",
       " (947, 323),\n",
       " (726, 61),\n",
       " (889, 320),\n",
       " (804, 408),\n",
       " (213, 167),\n",
       " (917, 885),\n",
       " (951, 929),\n",
       " (855, 383),\n",
       " (885, 882),\n",
       " (742, 74),\n",
       " (498, 484),\n",
       " (341, 173),\n",
       " (817, 258),\n",
       " (805, 538),\n",
       " (774, 388),\n",
       " (499, 487),\n",
       " (876, 794),\n",
       " (974, 807),\n",
       " (633, 176),\n",
       " (978, 101),\n",
       " (810, 701),\n",
       " (474, 241),\n",
       " (500, 364),\n",
       " (91, 0),\n",
       " (673, 581),\n",
       " (922, 675),\n",
       " (595, 47),\n",
       " (621, 563),\n",
       " (415, 228),\n",
       " (693, 689),\n",
       " (824, 632),\n",
       " (190, 93),\n",
       " (639, 528),\n",
       " (857, 782),\n",
       " (844, 805),\n",
       " (826, 16),\n",
       " (958, 264),\n",
       " (327, 127),\n",
       " (649, 525),\n",
       " (819, 128),\n",
       " (950, 846),\n",
       " (168, 55),\n",
       " (822, 27),\n",
       " (866, 676),\n",
       " (852, 789),\n",
       " (678, 302),\n",
       " (770, 660),\n",
       " (523, 183),\n",
       " (588, 576),\n",
       " (892, 303),\n",
       " (359, 358),\n",
       " (733, 35),\n",
       " (432, 255),\n",
       " (893, 145),\n",
       " (673, 601),\n",
       " (973, 632),\n",
       " (803, 721),\n",
       " (868, 854),\n",
       " (716, 478),\n",
       " (824, 685),\n",
       " (58, 1),\n",
       " (961, 710),\n",
       " (895, 477),\n",
       " (313, 127),\n",
       " (707, 701),\n",
       " (892, 550),\n",
       " (868, 150),\n",
       " (961, 658),\n",
       " (837, 66),\n",
       " (122, 119),\n",
       " (423, 359),\n",
       " (227, 171),\n",
       " (625, 184),\n",
       " (933, 48),\n",
       " (799, 773),\n",
       " (252, 144),\n",
       " (182, 76),\n",
       " (482, 139),\n",
       " (569, 217),\n",
       " (928, 251),\n",
       " (576, 116),\n",
       " (756, 621),\n",
       " (884, 139),\n",
       " (458, 151),\n",
       " (550, 352),\n",
       " (933, 427),\n",
       " (831, 689),\n",
       " (867, 158),\n",
       " (929, 329),\n",
       " (601, 341),\n",
       " (660, 273),\n",
       " (755, 88),\n",
       " (216, 103),\n",
       " (911, 817),\n",
       " (329, 88),\n",
       " (874, 811),\n",
       " (889, 183),\n",
       " (138, 70),\n",
       " (416, 387),\n",
       " (600, 208),\n",
       " (895, 527),\n",
       " (659, 55),\n",
       " (842, 141),\n",
       " (894, 864),\n",
       " (614, 372),\n",
       " (923, 733),\n",
       " (732, 356),\n",
       " (825, 639),\n",
       " (820, 102),\n",
       " (942, 790),\n",
       " (456, 317),\n",
       " (544, 151),\n",
       " (796, 439),\n",
       " (855, 328),\n",
       " (532, 91),\n",
       " (465, 391),\n",
       " (758, 362),\n",
       " (708, 395),\n",
       " (542, 1),\n",
       " (781, 1),\n",
       " (977, 54),\n",
       " (987, 344),\n",
       " (793, 357),\n",
       " (776, 680),\n",
       " (856, 744),\n",
       " (924, 20),\n",
       " (374, 131),\n",
       " (661, 476),\n",
       " (558, 384),\n",
       " (866, 437),\n",
       " (596, 532),\n",
       " (53, 12),\n",
       " (938, 458),\n",
       " (690, 658),\n",
       " (385, 333),\n",
       " (995, 187),\n",
       " (920, 545),\n",
       " (874, 575),\n",
       " (346, 119),\n",
       " (911, 244),\n",
       " (743, 136),\n",
       " (945, 257),\n",
       " (232, 55),\n",
       " (245, 82),\n",
       " (832, 612),\n",
       " (483, 422),\n",
       " (249, 211),\n",
       " (667, 55),\n",
       " (642, 109),\n",
       " (864, 798),\n",
       " (477, 208),\n",
       " (965, 280),\n",
       " (974, 386),\n",
       " (701, 290),\n",
       " (839, 439),\n",
       " (296, 267),\n",
       " (305, 235),\n",
       " (975, 706),\n",
       " (978, 676),\n",
       " (807, 654),\n",
       " (269, 61),\n",
       " (760, 138),\n",
       " (885, 163),\n",
       " (534, 256),\n",
       " (838, 107),\n",
       " (537, 99),\n",
       " (417, 166),\n",
       " (863, 297),\n",
       " (575, 418),\n",
       " (790, 58),\n",
       " (783, 430),\n",
       " (978, 869),\n",
       " (642, 505),\n",
       " (885, 263),\n",
       " (822, 53),\n",
       " (771, 197),\n",
       " (371, 265),\n",
       " (791, 691),\n",
       " (866, 607),\n",
       " (355, 6),\n",
       " (984, 972),\n",
       " (775, 360),\n",
       " (601, 460),\n",
       " (314, 219),\n",
       " (212, 126),\n",
       " (625, 244),\n",
       " (567, 131),\n",
       " (708, 660),\n",
       " (585, 384),\n",
       " (447, 97),\n",
       " (681, 565),\n",
       " (944, 348),\n",
       " (505, 443),\n",
       " (144, 114),\n",
       " (941, 762),\n",
       " (478, 34),\n",
       " (407, 92),\n",
       " (877, 390),\n",
       " (963, 827),\n",
       " (492, 222),\n",
       " (870, 103),\n",
       " (956, 604),\n",
       " (199, 162),\n",
       " (742, 587),\n",
       " (118, 86),\n",
       " (195, 46),\n",
       " (317, 54),\n",
       " (885, 545),\n",
       " (393, 370),\n",
       " (921, 693),\n",
       " (941, 86),\n",
       " (825, 38),\n",
       " (554, 211),\n",
       " (734, 99),\n",
       " (941, 714),\n",
       " (712, 647),\n",
       " (712, 55),\n",
       " (930, 364),\n",
       " (907, 612),\n",
       " (984, 23),\n",
       " (318, 128),\n",
       " (521, 268),\n",
       " (957, 601),\n",
       " (896, 303),\n",
       " (38, 7),\n",
       " (596, 36),\n",
       " (446, 50),\n",
       " (453, 353),\n",
       " (503, 240),\n",
       " (994, 180),\n",
       " (981, 447),\n",
       " (819, 481),\n",
       " (651, 35),\n",
       " (775, 340),\n",
       " (735, 27),\n",
       " (497, 470),\n",
       " (769, 675),\n",
       " (800, 336),\n",
       " (946, 854),\n",
       " (862, 523),\n",
       " (80, 37),\n",
       " (471, 280),\n",
       " (526, 385),\n",
       " (796, 475),\n",
       " (742, 383),\n",
       " (279, 215),\n",
       " (221, 188),\n",
       " (545, 216),\n",
       " (927, 591),\n",
       " (288, 116),\n",
       " (870, 855),\n",
       " (749, 662),\n",
       " (264, 216),\n",
       " (902, 234),\n",
       " (952, 843),\n",
       " (72, 70),\n",
       " (621, 590),\n",
       " (895, 376),\n",
       " (647, 449),\n",
       " (585, 344),\n",
       " (767, 676),\n",
       " (232, 137),\n",
       " (992, 613),\n",
       " (913, 834),\n",
       " (367, 286),\n",
       " (867, 636),\n",
       " (325, 169),\n",
       " (864, 787),\n",
       " (791, 437),\n",
       " (712, 293),\n",
       " (633, 313),\n",
       " (590, 482),\n",
       " (979, 356),\n",
       " (683, 674),\n",
       " (799, 556),\n",
       " (646, 277),\n",
       " (852, 383),\n",
       " (388, 134),\n",
       " (644, 591),\n",
       " (857, 210),\n",
       " (941, 559),\n",
       " (781, 222),\n",
       " (678, 564),\n",
       " (551, 418),\n",
       " (794, 279),\n",
       " (905, 782),\n",
       " (960, 403),\n",
       " (729, 473),\n",
       " (896, 317),\n",
       " (377, 354),\n",
       " (531, 408),\n",
       " (953, 765),\n",
       " (875, 91),\n",
       " (184, 118),\n",
       " (981, 899),\n",
       " (661, 360),\n",
       " (815, 231),\n",
       " (813, 187),\n",
       " (917, 247),\n",
       " (684, 307),\n",
       " (210, 32),\n",
       " (969, 694),\n",
       " (991, 477),\n",
       " (710, 447),\n",
       " (973, 611),\n",
       " (962, 761),\n",
       " (146, 20),\n",
       " (749, 343),\n",
       " (932, 699),\n",
       " (867, 479),\n",
       " (266, 112),\n",
       " (774, 411),\n",
       " (646, 548),\n",
       " (449, 73),\n",
       " (483, 474),\n",
       " (909, 382),\n",
       " (557, 215),\n",
       " (764, 111),\n",
       " (362, 25),\n",
       " (951, 199),\n",
       " (443, 256),\n",
       " (840, 126),\n",
       " (673, 110),\n",
       " (877, 393),\n",
       " (766, 416),\n",
       " (95, 73),\n",
       " (617, 350)]"
      ]
     },
     "execution_count": 332,
     "metadata": {},
     "output_type": "execute_result"
    }
   ],
   "source": [
    "cl"
   ]
  },
  {
   "cell_type": "code",
   "execution_count": 333,
   "metadata": {},
   "outputs": [],
   "source": [
    "from sklearn.preprocessing import StandardScaler, MinMaxScaler\n",
    "X = StandardScaler().fit_transform(X)\n",
    "#X = MinMaxScaler().fit_transform(X)"
   ]
  },
  {
   "cell_type": "code",
   "execution_count": 334,
   "metadata": {},
   "outputs": [],
   "source": [
    "from sklearn.decomposition import PCA\n",
    "pca = PCA(n_components=10)\n",
    "X = pca.fit_transform(X)"
   ]
  },
  {
   "cell_type": "code",
   "execution_count": 12,
   "metadata": {},
   "outputs": [
    {
     "ename": "FloatingPointError",
     "evalue": "overflow encountered in det",
     "output_type": "error",
     "traceback": [
      "\u001b[1;31m---------------------------------------------------------------------------\u001b[0m",
      "\u001b[1;31mFloatingPointError\u001b[0m                        Traceback (most recent call last)",
      "\u001b[1;32m~\\AppData\\Local\\Temp\\ipykernel_13364\\2141616178.py\u001b[0m in \u001b[0;36m<module>\u001b[1;34m\u001b[0m\n\u001b[0;32m      1\u001b[0m \u001b[0mclusterer\u001b[0m \u001b[1;33m=\u001b[0m \u001b[0mMPCKMeans\u001b[0m\u001b[1;33m(\u001b[0m\u001b[0mn_clusters\u001b[0m\u001b[1;33m=\u001b[0m\u001b[1;36m10\u001b[0m\u001b[1;33m,\u001b[0m \u001b[0mmax_iter\u001b[0m\u001b[1;33m=\u001b[0m\u001b[1;36m10\u001b[0m\u001b[1;33m,\u001b[0m \u001b[0mw\u001b[0m\u001b[1;33m=\u001b[0m\u001b[1;36m1\u001b[0m\u001b[1;33m)\u001b[0m\u001b[1;33m\u001b[0m\u001b[1;33m\u001b[0m\u001b[0m\n\u001b[1;32m----> 2\u001b[1;33m \u001b[0mclusterer\u001b[0m\u001b[1;33m.\u001b[0m\u001b[0mfit\u001b[0m\u001b[1;33m(\u001b[0m\u001b[0mX\u001b[0m\u001b[1;33m,\u001b[0m \u001b[0my\u001b[0m\u001b[1;33m,\u001b[0m \u001b[0mml\u001b[0m\u001b[1;33m,\u001b[0m \u001b[0mcl\u001b[0m\u001b[1;33m)\u001b[0m\u001b[1;33m\u001b[0m\u001b[1;33m\u001b[0m\u001b[0m\n\u001b[0m",
      "\u001b[1;32mc:\\github_projects\\active-semi-supervised-clustering\\active_semi_clustering\\semi_supervised\\pairwise_constraints\\mpckmeans.py\u001b[0m in \u001b[0;36mfit\u001b[1;34m(self, X, y, ml, cl)\u001b[0m\n\u001b[0;32m     35\u001b[0m \u001b[1;33m\u001b[0m\u001b[0m\n\u001b[0;32m     36\u001b[0m             \u001b[1;31m# Assign clusters\u001b[0m\u001b[1;33m\u001b[0m\u001b[1;33m\u001b[0m\u001b[0m\n\u001b[1;32m---> 37\u001b[1;33m             \u001b[0mlabels\u001b[0m \u001b[1;33m=\u001b[0m \u001b[0mself\u001b[0m\u001b[1;33m.\u001b[0m\u001b[0m_assign_clusters\u001b[0m\u001b[1;33m(\u001b[0m\u001b[0mX\u001b[0m\u001b[1;33m,\u001b[0m \u001b[0my\u001b[0m\u001b[1;33m,\u001b[0m \u001b[0mcluster_centers\u001b[0m\u001b[1;33m,\u001b[0m \u001b[0mA\u001b[0m\u001b[1;33m,\u001b[0m \u001b[0mfarthest\u001b[0m\u001b[1;33m,\u001b[0m \u001b[0mml_graph\u001b[0m\u001b[1;33m,\u001b[0m \u001b[0mcl_graph\u001b[0m\u001b[1;33m,\u001b[0m \u001b[0mself\u001b[0m\u001b[1;33m.\u001b[0m\u001b[0mw\u001b[0m\u001b[1;33m)\u001b[0m\u001b[1;33m\u001b[0m\u001b[1;33m\u001b[0m\u001b[0m\n\u001b[0m\u001b[0;32m     38\u001b[0m \u001b[1;33m\u001b[0m\u001b[0m\n\u001b[0;32m     39\u001b[0m             \u001b[1;31m# Estimate means\u001b[0m\u001b[1;33m\u001b[0m\u001b[1;33m\u001b[0m\u001b[0m\n",
      "\u001b[1;32mc:\\github_projects\\active-semi-supervised-clustering\\active_semi_clustering\\semi_supervised\\pairwise_constraints\\mpckmeans.py\u001b[0m in \u001b[0;36m_assign_clusters\u001b[1;34m(self, X, y, cluster_centers, A, farthest, ml_graph, cl_graph, w)\u001b[0m\n\u001b[0;32m    126\u001b[0m         \u001b[0mnp\u001b[0m\u001b[1;33m.\u001b[0m\u001b[0mrandom\u001b[0m\u001b[1;33m.\u001b[0m\u001b[0mshuffle\u001b[0m\u001b[1;33m(\u001b[0m\u001b[0mindex\u001b[0m\u001b[1;33m)\u001b[0m\u001b[1;33m\u001b[0m\u001b[1;33m\u001b[0m\u001b[0m\n\u001b[0;32m    127\u001b[0m         \u001b[1;32mfor\u001b[0m \u001b[0mi\u001b[0m \u001b[1;32min\u001b[0m \u001b[0mindex\u001b[0m\u001b[1;33m:\u001b[0m\u001b[1;33m\u001b[0m\u001b[1;33m\u001b[0m\u001b[0m\n\u001b[1;32m--> 128\u001b[1;33m             \u001b[0mlabels\u001b[0m\u001b[1;33m[\u001b[0m\u001b[0mi\u001b[0m\u001b[1;33m]\u001b[0m \u001b[1;33m=\u001b[0m \u001b[0mnp\u001b[0m\u001b[1;33m.\u001b[0m\u001b[0margmin\u001b[0m\u001b[1;33m(\u001b[0m\u001b[1;33m[\u001b[0m\u001b[0mself\u001b[0m\u001b[1;33m.\u001b[0m\u001b[0m_objective_fn\u001b[0m\u001b[1;33m(\u001b[0m\u001b[0mX\u001b[0m\u001b[1;33m,\u001b[0m \u001b[0mi\u001b[0m\u001b[1;33m,\u001b[0m \u001b[0mlabels\u001b[0m\u001b[1;33m,\u001b[0m \u001b[0mcluster_centers\u001b[0m\u001b[1;33m,\u001b[0m \u001b[0mcluster_id\u001b[0m\u001b[1;33m,\u001b[0m \u001b[0mA\u001b[0m\u001b[1;33m,\u001b[0m \u001b[0mfarthest\u001b[0m\u001b[1;33m,\u001b[0m \u001b[0mml_graph\u001b[0m\u001b[1;33m,\u001b[0m \u001b[0mcl_graph\u001b[0m\u001b[1;33m,\u001b[0m \u001b[0mw\u001b[0m\u001b[1;33m)\u001b[0m \u001b[1;32mfor\u001b[0m \u001b[0mcluster_id\u001b[0m\u001b[1;33m,\u001b[0m \u001b[0mcluster_center\u001b[0m \u001b[1;32min\u001b[0m \u001b[0menumerate\u001b[0m\u001b[1;33m(\u001b[0m\u001b[0mcluster_centers\u001b[0m\u001b[1;33m)\u001b[0m\u001b[1;33m]\u001b[0m\u001b[1;33m)\u001b[0m\u001b[1;33m\u001b[0m\u001b[1;33m\u001b[0m\u001b[0m\n\u001b[0m\u001b[0;32m    129\u001b[0m \u001b[1;33m\u001b[0m\u001b[0m\n\u001b[0;32m    130\u001b[0m         \u001b[1;31m# Handle empty clusters\u001b[0m\u001b[1;33m\u001b[0m\u001b[1;33m\u001b[0m\u001b[0m\n",
      "\u001b[1;32mc:\\github_projects\\active-semi-supervised-clustering\\active_semi_clustering\\semi_supervised\\pairwise_constraints\\mpckmeans.py\u001b[0m in \u001b[0;36m<listcomp>\u001b[1;34m(.0)\u001b[0m\n\u001b[0;32m    126\u001b[0m         \u001b[0mnp\u001b[0m\u001b[1;33m.\u001b[0m\u001b[0mrandom\u001b[0m\u001b[1;33m.\u001b[0m\u001b[0mshuffle\u001b[0m\u001b[1;33m(\u001b[0m\u001b[0mindex\u001b[0m\u001b[1;33m)\u001b[0m\u001b[1;33m\u001b[0m\u001b[1;33m\u001b[0m\u001b[0m\n\u001b[0;32m    127\u001b[0m         \u001b[1;32mfor\u001b[0m \u001b[0mi\u001b[0m \u001b[1;32min\u001b[0m \u001b[0mindex\u001b[0m\u001b[1;33m:\u001b[0m\u001b[1;33m\u001b[0m\u001b[1;33m\u001b[0m\u001b[0m\n\u001b[1;32m--> 128\u001b[1;33m             \u001b[0mlabels\u001b[0m\u001b[1;33m[\u001b[0m\u001b[0mi\u001b[0m\u001b[1;33m]\u001b[0m \u001b[1;33m=\u001b[0m \u001b[0mnp\u001b[0m\u001b[1;33m.\u001b[0m\u001b[0margmin\u001b[0m\u001b[1;33m(\u001b[0m\u001b[1;33m[\u001b[0m\u001b[0mself\u001b[0m\u001b[1;33m.\u001b[0m\u001b[0m_objective_fn\u001b[0m\u001b[1;33m(\u001b[0m\u001b[0mX\u001b[0m\u001b[1;33m,\u001b[0m \u001b[0mi\u001b[0m\u001b[1;33m,\u001b[0m \u001b[0mlabels\u001b[0m\u001b[1;33m,\u001b[0m \u001b[0mcluster_centers\u001b[0m\u001b[1;33m,\u001b[0m \u001b[0mcluster_id\u001b[0m\u001b[1;33m,\u001b[0m \u001b[0mA\u001b[0m\u001b[1;33m,\u001b[0m \u001b[0mfarthest\u001b[0m\u001b[1;33m,\u001b[0m \u001b[0mml_graph\u001b[0m\u001b[1;33m,\u001b[0m \u001b[0mcl_graph\u001b[0m\u001b[1;33m,\u001b[0m \u001b[0mw\u001b[0m\u001b[1;33m)\u001b[0m \u001b[1;32mfor\u001b[0m \u001b[0mcluster_id\u001b[0m\u001b[1;33m,\u001b[0m \u001b[0mcluster_center\u001b[0m \u001b[1;32min\u001b[0m \u001b[0menumerate\u001b[0m\u001b[1;33m(\u001b[0m\u001b[0mcluster_centers\u001b[0m\u001b[1;33m)\u001b[0m\u001b[1;33m]\u001b[0m\u001b[1;33m)\u001b[0m\u001b[1;33m\u001b[0m\u001b[1;33m\u001b[0m\u001b[0m\n\u001b[0m\u001b[0;32m    129\u001b[0m \u001b[1;33m\u001b[0m\u001b[0m\n\u001b[0;32m    130\u001b[0m         \u001b[1;31m# Handle empty clusters\u001b[0m\u001b[1;33m\u001b[0m\u001b[1;33m\u001b[0m\u001b[0m\n",
      "\u001b[1;32mc:\\github_projects\\active-semi-supervised-clustering\\active_semi_clustering\\semi_supervised\\pairwise_constraints\\mpckmeans.py\u001b[0m in \u001b[0;36m_objective_fn\u001b[1;34m(self, X, i, labels, cluster_centers, cluster_id, A, farthest, ml_graph, cl_graph, w)\u001b[0m\n\u001b[0;32m     99\u001b[0m \u001b[1;33m\u001b[0m\u001b[0m\n\u001b[0;32m    100\u001b[0m     \u001b[1;32mdef\u001b[0m \u001b[0m_objective_fn\u001b[0m\u001b[1;33m(\u001b[0m\u001b[0mself\u001b[0m\u001b[1;33m,\u001b[0m \u001b[0mX\u001b[0m\u001b[1;33m,\u001b[0m \u001b[0mi\u001b[0m\u001b[1;33m,\u001b[0m \u001b[0mlabels\u001b[0m\u001b[1;33m,\u001b[0m \u001b[0mcluster_centers\u001b[0m\u001b[1;33m,\u001b[0m \u001b[0mcluster_id\u001b[0m\u001b[1;33m,\u001b[0m \u001b[0mA\u001b[0m\u001b[1;33m,\u001b[0m \u001b[0mfarthest\u001b[0m\u001b[1;33m,\u001b[0m \u001b[0mml_graph\u001b[0m\u001b[1;33m,\u001b[0m \u001b[0mcl_graph\u001b[0m\u001b[1;33m,\u001b[0m \u001b[0mw\u001b[0m\u001b[1;33m)\u001b[0m\u001b[1;33m:\u001b[0m\u001b[1;33m\u001b[0m\u001b[1;33m\u001b[0m\u001b[0m\n\u001b[1;32m--> 101\u001b[1;33m         \u001b[0mterm_d\u001b[0m \u001b[1;33m=\u001b[0m \u001b[0mself\u001b[0m\u001b[1;33m.\u001b[0m\u001b[0m_dist\u001b[0m\u001b[1;33m(\u001b[0m\u001b[0mX\u001b[0m\u001b[1;33m[\u001b[0m\u001b[0mi\u001b[0m\u001b[1;33m]\u001b[0m\u001b[1;33m,\u001b[0m \u001b[0mcluster_centers\u001b[0m\u001b[1;33m[\u001b[0m\u001b[0mcluster_id\u001b[0m\u001b[1;33m]\u001b[0m\u001b[1;33m,\u001b[0m \u001b[0mA\u001b[0m\u001b[1;33m)\u001b[0m \u001b[1;33m-\u001b[0m \u001b[0mnp\u001b[0m\u001b[1;33m.\u001b[0m\u001b[0mlog\u001b[0m\u001b[1;33m(\u001b[0m\u001b[0mnp\u001b[0m\u001b[1;33m.\u001b[0m\u001b[0mlinalg\u001b[0m\u001b[1;33m.\u001b[0m\u001b[0mdet\u001b[0m\u001b[1;33m(\u001b[0m\u001b[0mA\u001b[0m\u001b[1;33m)\u001b[0m\u001b[1;33m)\u001b[0m \u001b[1;33m/\u001b[0m \u001b[0mnp\u001b[0m\u001b[1;33m.\u001b[0m\u001b[0mlog\u001b[0m\u001b[1;33m(\u001b[0m\u001b[1;36m2\u001b[0m\u001b[1;33m)\u001b[0m  \u001b[1;31m# FIXME is it okay that it might be negative?\u001b[0m\u001b[1;33m\u001b[0m\u001b[1;33m\u001b[0m\u001b[0m\n\u001b[0m\u001b[0;32m    102\u001b[0m \u001b[1;33m\u001b[0m\u001b[0m\n\u001b[0;32m    103\u001b[0m         \u001b[1;32mdef\u001b[0m \u001b[0mf_m\u001b[0m\u001b[1;33m(\u001b[0m\u001b[0mi\u001b[0m\u001b[1;33m,\u001b[0m \u001b[0mj\u001b[0m\u001b[1;33m,\u001b[0m \u001b[0mA\u001b[0m\u001b[1;33m)\u001b[0m\u001b[1;33m:\u001b[0m\u001b[1;33m\u001b[0m\u001b[1;33m\u001b[0m\u001b[0m\n",
      "\u001b[1;32m<__array_function__ internals>\u001b[0m in \u001b[0;36mdet\u001b[1;34m(*args, **kwargs)\u001b[0m\n",
      "\u001b[1;32mc:\\Users\\Linus\\anaconda3\\lib\\site-packages\\numpy\\linalg\\linalg.py\u001b[0m in \u001b[0;36mdet\u001b[1;34m(a)\u001b[0m\n\u001b[0;32m   2156\u001b[0m     \u001b[0mt\u001b[0m\u001b[1;33m,\u001b[0m \u001b[0mresult_t\u001b[0m \u001b[1;33m=\u001b[0m \u001b[0m_commonType\u001b[0m\u001b[1;33m(\u001b[0m\u001b[0ma\u001b[0m\u001b[1;33m)\u001b[0m\u001b[1;33m\u001b[0m\u001b[1;33m\u001b[0m\u001b[0m\n\u001b[0;32m   2157\u001b[0m     \u001b[0msignature\u001b[0m \u001b[1;33m=\u001b[0m \u001b[1;34m'D->D'\u001b[0m \u001b[1;32mif\u001b[0m \u001b[0misComplexType\u001b[0m\u001b[1;33m(\u001b[0m\u001b[0mt\u001b[0m\u001b[1;33m)\u001b[0m \u001b[1;32melse\u001b[0m \u001b[1;34m'd->d'\u001b[0m\u001b[1;33m\u001b[0m\u001b[1;33m\u001b[0m\u001b[0m\n\u001b[1;32m-> 2158\u001b[1;33m     \u001b[0mr\u001b[0m \u001b[1;33m=\u001b[0m \u001b[0m_umath_linalg\u001b[0m\u001b[1;33m.\u001b[0m\u001b[0mdet\u001b[0m\u001b[1;33m(\u001b[0m\u001b[0ma\u001b[0m\u001b[1;33m,\u001b[0m \u001b[0msignature\u001b[0m\u001b[1;33m=\u001b[0m\u001b[0msignature\u001b[0m\u001b[1;33m)\u001b[0m\u001b[1;33m\u001b[0m\u001b[1;33m\u001b[0m\u001b[0m\n\u001b[0m\u001b[0;32m   2159\u001b[0m     \u001b[0mr\u001b[0m \u001b[1;33m=\u001b[0m \u001b[0mr\u001b[0m\u001b[1;33m.\u001b[0m\u001b[0mastype\u001b[0m\u001b[1;33m(\u001b[0m\u001b[0mresult_t\u001b[0m\u001b[1;33m,\u001b[0m \u001b[0mcopy\u001b[0m\u001b[1;33m=\u001b[0m\u001b[1;32mFalse\u001b[0m\u001b[1;33m)\u001b[0m\u001b[1;33m\u001b[0m\u001b[1;33m\u001b[0m\u001b[0m\n\u001b[0;32m   2160\u001b[0m     \u001b[1;32mreturn\u001b[0m \u001b[0mr\u001b[0m\u001b[1;33m\u001b[0m\u001b[1;33m\u001b[0m\u001b[0m\n",
      "\u001b[1;31mFloatingPointError\u001b[0m: overflow encountered in det"
     ]
    }
   ],
   "source": [
    "clusterer = MPCKMeans(n_clusters=10, max_iter=10, w=1)\n",
    "clusterer.fit(X, y, ml, cl)"
   ]
  },
  {
   "cell_type": "code",
   "execution_count": 340,
   "metadata": {},
   "outputs": [
    {
     "data": {
      "text/plain": [
       "10"
      ]
     },
     "execution_count": 340,
     "metadata": {},
     "output_type": "execute_result"
    }
   ],
   "source": [
    "len(np.unique(y))"
   ]
  },
  {
   "cell_type": "code",
   "execution_count": 338,
   "metadata": {},
   "outputs": [
    {
     "data": {
      "text/plain": [
       "0.9757615832890811"
      ]
     },
     "execution_count": 338,
     "metadata": {},
     "output_type": "execute_result"
    }
   ],
   "source": [
    "metrics.adjusted_rand_score(y, clusterer.labels_)"
   ]
  },
  {
   "cell_type": "code",
   "execution_count": 247,
   "metadata": {},
   "outputs": [
    {
     "data": {
      "text/plain": [
       "<active_semi_clustering.semi_supervised.pairwise_constraints.copkmeans.COPKMeans at 0x24cf482d310>"
      ]
     },
     "execution_count": 247,
     "metadata": {},
     "output_type": "execute_result"
    }
   ],
   "source": [
    "clusterer2 = COPKMeans(n_clusters=5)\n",
    "clusterer2.fit(X=X, y=y, ml=ml, cl=cl)"
   ]
  },
  {
   "cell_type": "code",
   "execution_count": 248,
   "metadata": {},
   "outputs": [
    {
     "data": {
      "text/plain": [
       "0.6166288563335512"
      ]
     },
     "execution_count": 248,
     "metadata": {},
     "output_type": "execute_result"
    }
   ],
   "source": [
    "metrics.adjusted_rand_score(y, clusterer2.labels_)"
   ]
  },
  {
   "cell_type": "code",
   "execution_count": 271,
   "metadata": {},
   "outputs": [
    {
     "data": {
      "text/plain": [
       "<active_semi_clustering.semi_supervised.pairwise_constraints.pckmeans.PCKMeans at 0x24ce89c51f0>"
      ]
     },
     "execution_count": 271,
     "metadata": {},
     "output_type": "execute_result"
    }
   ],
   "source": [
    "clusterer3 = PCKMeans(n_clusters=4)\n",
    "clusterer3.fit(X=X, y=y, ml=ml, cl=cl)"
   ]
  },
  {
   "cell_type": "code",
   "execution_count": 272,
   "metadata": {},
   "outputs": [
    {
     "data": {
      "text/plain": [
       "0.7054615619182371"
      ]
     },
     "execution_count": 272,
     "metadata": {},
     "output_type": "execute_result"
    }
   ],
   "source": [
    "metrics.adjusted_rand_score(y, clusterer3.labels_)"
   ]
  },
  {
   "cell_type": "code",
   "execution_count": null,
   "metadata": {},
   "outputs": [],
   "source": []
  },
  {
   "cell_type": "code",
   "execution_count": 335,
   "metadata": {},
   "outputs": [
    {
     "data": {
      "text/plain": [
       "0.9540048625671941"
      ]
     },
     "execution_count": 335,
     "metadata": {},
     "output_type": "execute_result"
    }
   ],
   "source": [
    "from sklearn.cluster import KMeans\n",
    "kmeans = KMeans(n_clusters=10, random_state=0).fit(X)\n",
    "metrics.adjusted_rand_score(y, kmeans.labels_)"
   ]
  },
  {
   "cell_type": "code",
   "execution_count": null,
   "metadata": {},
   "outputs": [],
   "source": []
  }
 ],
 "metadata": {
  "kernelspec": {
   "display_name": "base",
   "language": "python",
   "name": "python3"
  },
  "language_info": {
   "codemirror_mode": {
    "name": "ipython",
    "version": 3
   },
   "file_extension": ".py",
   "mimetype": "text/x-python",
   "name": "python",
   "nbconvert_exporter": "python",
   "pygments_lexer": "ipython3",
   "version": "3.9.13"
  },
  "orig_nbformat": 4
 },
 "nbformat": 4,
 "nbformat_minor": 2
}
