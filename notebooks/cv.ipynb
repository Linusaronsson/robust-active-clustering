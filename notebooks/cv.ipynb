{
 "cells": [
  {
   "cell_type": "code",
   "execution_count": 1,
   "metadata": {},
   "outputs": [],
   "source": [
    "import torch\n",
    "import torchvision\n",
    "import torchvision.transforms as transforms"
   ]
  },
  {
   "cell_type": "code",
   "execution_count": 2,
   "metadata": {},
   "outputs": [
    {
     "name": "stdout",
     "output_type": "stream",
     "text": [
      "Files already downloaded and verified\n",
      "Files already downloaded and verified\n"
     ]
    }
   ],
   "source": [
    "transform = transforms.Compose([\n",
    "            transforms.RandomCrop(32, padding=4),\n",
    "            transforms.RandomHorizontalFlip(),\n",
    "            transforms.ToTensor(),\n",
    "            transforms.Normalize((0.4914, 0.4822, 0.4465), (0.2023, 0.1994, 0.2010))\n",
    "        ])\n",
    "\n",
    "batch_size = 128\n",
    "\n",
    "trainset = torchvision.datasets.CIFAR10(root='../datasets/cifar10_original_data', train=True,\n",
    "                                        download=True, transform=transform)\n",
    "#trainset.data = trainset.data[:]\n",
    "#trainset.targets = trainset.targets[:]\n",
    "trainloader = torch.utils.data.DataLoader(trainset, batch_size=batch_size,\n",
    "                                          shuffle=True, num_workers=2)\n",
    "\n",
    "testset = torchvision.datasets.CIFAR10(root='../datasets/cifar10_original_data', train=False,\n",
    "                                       download=True, transform=transform)\n",
    "testloader = torch.utils.data.DataLoader(testset, batch_size=batch_size,\n",
    "                                         shuffle=False, num_workers=2)\n",
    "\n",
    "classes = ('plane', 'car', 'bird', 'cat',\n",
    "           'deer', 'dog', 'frog', 'horse', 'ship', 'truck')"
   ]
  },
  {
   "cell_type": "code",
   "execution_count": 3,
   "metadata": {},
   "outputs": [],
   "source": [
    "from rac.utils.models import cifar10net, resnet"
   ]
  },
  {
   "cell_type": "code",
   "execution_count": 4,
   "metadata": {},
   "outputs": [],
   "source": [
    "import torch.nn as nn\n",
    "import torch.nn.functional as F"
   ]
  },
  {
   "cell_type": "code",
   "execution_count": 20,
   "metadata": {},
   "outputs": [
    {
     "name": "stdout",
     "output_type": "stream",
     "text": [
      "torch.Size([128, 10]) torch.Size([128, 512])\n"
     ]
    }
   ],
   "source": [
    "model1 = resnet.ResNet18()\n",
    "for i, data in enumerate(trainloader, 0):\n",
    "    inputs, labels = data\n",
    "    outputs, e = model1(inputs, last=True)\n",
    "    print(outputs.shape, e.shape)\n",
    "    break"
   ]
  },
  {
   "cell_type": "code",
   "execution_count": 11,
   "metadata": {},
   "outputs": [
    {
     "name": "stdout",
     "output_type": "stream",
     "text": [
      "torch.Size([256, 10]) torch.Size([256, 256])\n"
     ]
    }
   ],
   "source": [
    "model1 = cifar10net.CifarNet()\n",
    "for i, data in enumerate(trainloader, 0):\n",
    "    inputs, labels = data\n",
    "    outputs, e = model1(inputs, last=True)\n",
    "    print(outputs.shape, e.shape)\n",
    "    break"
   ]
  },
  {
   "cell_type": "code",
   "execution_count": 5,
   "metadata": {},
   "outputs": [],
   "source": [
    "device = torch.device('cuda:0' if torch.cuda.is_available() else 'cpu')"
   ]
  },
  {
   "cell_type": "code",
   "execution_count": 6,
   "metadata": {},
   "outputs": [
    {
     "data": {
      "text/plain": [
       "device(type='cuda', index=0)"
      ]
     },
     "execution_count": 6,
     "metadata": {},
     "output_type": "execute_result"
    }
   ],
   "source": [
    "device"
   ]
  },
  {
   "cell_type": "code",
   "execution_count": 9,
   "metadata": {},
   "outputs": [],
   "source": [
    "import torch.optim as optim\n",
    "model1 = cifar10net.CifarNet().to(device)\n",
    "#model1 = resnet.ResNet18().to(device)\n",
    "criterion = nn.CrossEntropyLoss()\n",
    "optimizer = optim.SGD(model1.parameters(), lr=0.001, momentum=0.9)"
   ]
  },
  {
   "cell_type": "code",
   "execution_count": null,
   "metadata": {},
   "outputs": [],
   "source": []
  },
  {
   "cell_type": "code",
   "execution_count": 10,
   "metadata": {},
   "outputs": [
    {
     "name": "stdout",
     "output_type": "stream",
     "text": [
      "0\n",
      "loss:  2.296664716642531\n",
      "1\n",
      "loss:  2.2365966172474425\n",
      "2\n",
      "loss:  2.03174294199785\n",
      "3\n",
      "loss:  1.9081820999569905\n",
      "4\n",
      "loss:  1.7904420981321798\n",
      "5\n",
      "loss:  1.715658109816139\n",
      "6\n",
      "loss:  1.6478865817379769\n",
      "7\n",
      "loss:  1.5760574374357452\n",
      "8\n",
      "loss:  1.5115844840588777\n",
      "9\n",
      "loss:  1.455801753436818\n",
      "10\n",
      "loss:  1.4060164504039012\n",
      "11\n",
      "loss:  1.3685591449518033\n",
      "12\n",
      "loss:  1.32496985724515\n",
      "13\n",
      "loss:  1.2915046577868254\n",
      "14\n",
      "loss:  1.2607482848569864\n",
      "15\n",
      "loss:  1.2300487753680296\n",
      "16\n",
      "loss:  1.1966816587826175\n",
      "17\n",
      "loss:  1.1678809767488934\n",
      "18\n",
      "loss:  1.1500399871860318\n",
      "19\n",
      "loss:  1.1133978112274423\n",
      "20\n",
      "loss:  1.0983266359399957\n",
      "21\n",
      "loss:  1.0671409903584843\n",
      "22\n",
      "loss:  1.044033279046988\n",
      "23\n",
      "loss:  1.019218028353913\n",
      "24\n",
      "loss:  1.0086806829628128\n",
      "25\n",
      "loss:  0.9854861558855647\n",
      "26\n",
      "loss:  0.9690406677668052\n",
      "27\n",
      "loss:  0.9543325539745028\n",
      "28\n",
      "loss:  0.9363260459716972\n",
      "29\n",
      "loss:  0.914919696195656\n",
      "30\n",
      "loss:  0.907658660045975\n",
      "31\n",
      "loss:  0.8953567657934125\n",
      "32\n",
      "loss:  0.8730667513959548\n",
      "33\n",
      "loss:  0.8690412764049247\n",
      "34\n",
      "loss:  0.8475872218761298\n",
      "35\n",
      "loss:  0.8381708945764605\n",
      "36\n",
      "loss:  0.8245807761121589\n",
      "37\n",
      "loss:  0.8115353352578399\n",
      "38\n",
      "loss:  0.8020686389845045\n",
      "39\n",
      "loss:  0.7918335705462014\n",
      "40\n",
      "loss:  0.7740767585956837\n",
      "41\n",
      "loss:  0.7687293884089536\n",
      "42\n",
      "loss:  0.7588084750163281\n",
      "43\n",
      "loss:  0.7475013958523645\n",
      "44\n",
      "loss:  0.7413608158945733\n",
      "45\n",
      "loss:  0.7308369477843994\n",
      "46\n",
      "loss:  0.7189669656326704\n",
      "47\n",
      "loss:  0.7172208972599196\n",
      "48\n",
      "loss:  0.7054157644281607\n",
      "49\n",
      "loss:  0.6966897528189833\n",
      "50\n",
      "loss:  0.685764097344235\n",
      "51\n",
      "loss:  0.6773966070636154\n",
      "52\n",
      "loss:  0.6720393102644654\n",
      "53\n",
      "loss:  0.6657718250056361\n",
      "54\n",
      "loss:  0.6620620719307219\n",
      "55\n",
      "loss:  0.6477712612322835\n",
      "56\n",
      "loss:  0.6531560997981245\n",
      "57\n",
      "loss:  0.6391187050305974\n",
      "58\n",
      "loss:  0.6367586102632\n",
      "59\n",
      "loss:  0.6259496333196645\n",
      "60\n",
      "loss:  0.6151491718371506\n",
      "61\n",
      "loss:  0.6107558501346032\n",
      "62\n",
      "loss:  0.6119290520163143\n",
      "63\n",
      "loss:  0.5990503479910019\n",
      "64\n",
      "loss:  0.5976219801494228\n",
      "65\n",
      "loss:  0.5924136805564851\n",
      "66\n",
      "loss:  0.5818053150116025\n",
      "67\n",
      "loss:  0.5760444091713947\n",
      "68\n",
      "loss:  0.5752527922620554\n",
      "69\n",
      "loss:  0.5660654397114463\n",
      "70\n",
      "loss:  0.5620778860033625\n",
      "71\n",
      "loss:  0.5567820374008334\n",
      "72\n",
      "loss:  0.5513026311879268\n",
      "73\n",
      "loss:  0.5515879066398991\n",
      "74\n",
      "loss:  0.5427601991407097\n",
      "75\n",
      "loss:  0.5369084547547733\n",
      "76\n",
      "loss:  0.5302797998003947\n",
      "77\n",
      "loss:  0.5240981934777916\n",
      "78\n",
      "loss:  0.5264390884610393\n",
      "79\n",
      "loss:  0.5185050455962911\n",
      "80\n",
      "loss:  0.5117751628998906\n",
      "81\n",
      "loss:  0.5137178595261196\n",
      "82\n",
      "loss:  0.5038402170476401\n",
      "83\n",
      "loss:  0.5027831552735985\n",
      "84\n",
      "loss:  0.4954737816625239\n",
      "85\n",
      "loss:  0.4942751530643619\n",
      "86\n",
      "loss:  0.48306638642650124\n",
      "87\n",
      "loss:  0.4809904165585023\n",
      "88\n",
      "loss:  0.4824553263919128\n",
      "89\n",
      "loss:  0.47841931105879565\n",
      "90\n",
      "loss:  0.47482074800964513\n",
      "91\n",
      "loss:  0.4717697572830083\n",
      "92\n",
      "loss:  0.4668751507616409\n",
      "93\n",
      "loss:  0.4671147487809896\n",
      "94\n",
      "loss:  0.4573042480384602\n",
      "95\n",
      "loss:  0.4562572769801635\n",
      "96\n",
      "loss:  0.45210265091922885\n",
      "97\n",
      "loss:  0.44936557499039204\n",
      "98\n",
      "loss:  0.4505639532414239\n",
      "99\n",
      "loss:  0.4397223217941611\n",
      "Finished Training\n"
     ]
    }
   ],
   "source": [
    "for epoch in range(100):  # loop over the dataset multiple times\n",
    "    print(epoch)\n",
    "\n",
    "    running_loss = 0.0\n",
    "    step = 0\n",
    "    for i, data in enumerate(trainloader, 0):\n",
    "        # get the inputs; data is a list of [inputs, labels]\n",
    "        inputs, labels = data[0].to(device), data[1].to(device),\n",
    "\n",
    "        # zero the parameter gradients\n",
    "        optimizer.zero_grad()\n",
    "\n",
    "        # forward + backward + optimize\n",
    "        outputs = model1(inputs)\n",
    "        loss = criterion(outputs, labels)\n",
    "        loss.backward()\n",
    "        optimizer.step()\n",
    "\n",
    "        # print statistics\n",
    "        running_loss += loss.item()\n",
    "        step += 1\n",
    "    print(\"loss: \", running_loss/step)\n",
    "    step = 0\n",
    "    running_loss = 0.0\n",
    "print('Finished Training')"
   ]
  },
  {
   "cell_type": "code",
   "execution_count": 11,
   "metadata": {
    "tags": []
   },
   "outputs": [
    {
     "name": "stdout",
     "output_type": "stream",
     "text": [
      "Accuracy of the network on the 10000 test images: 79 %\n"
     ]
    }
   ],
   "source": [
    "correct = 0\n",
    "total = 0\n",
    "# since we're not training, we don't need to calculate the gradients for our outputs\n",
    "with torch.no_grad():\n",
    "    for data in testloader:\n",
    "        images, labels = data[0].to(device), data[1].to(device)\n",
    "        # calculate outputs by running images through the network\n",
    "        outputs = model1(images)\n",
    "        # the class with the highest energy is what we choose as prediction\n",
    "        _, predicted = torch.max(outputs.data, 1)\n",
    "        total += labels.size(0)\n",
    "        correct += (predicted == labels).sum().item()\n",
    "\n",
    "print(f'Accuracy of the network on the 10000 test images: {100 * correct // total} %')"
   ]
  },
  {
   "cell_type": "code",
   "execution_count": null,
   "metadata": {},
   "outputs": [],
   "source": []
  }
 ],
 "metadata": {
  "kernelspec": {
   "display_name": "My Python",
   "language": "python",
   "name": "my_python"
  },
  "language_info": {
   "codemirror_mode": {
    "name": "ipython",
    "version": 3
   },
   "file_extension": ".py",
   "mimetype": "text/x-python",
   "name": "python",
   "nbconvert_exporter": "python",
   "pygments_lexer": "ipython3",
   "version": "3.10.4"
  }
 },
 "nbformat": 4,
 "nbformat_minor": 4
}
