{
 "cells": [
  {
   "cell_type": "code",
   "execution_count": 25,
   "metadata": {},
   "outputs": [],
   "source": [
    "import torch\n",
    "import torchvision\n",
    "import torchvision.transforms as transforms"
   ]
  },
  {
   "cell_type": "code",
   "execution_count": 26,
   "metadata": {},
   "outputs": [
    {
     "name": "stdout",
     "output_type": "stream",
     "text": [
      "Files already downloaded and verified\n",
      "Files already downloaded and verified\n"
     ]
    }
   ],
   "source": [
    "transform = transforms.Compose([\n",
    "            transforms.RandomCrop(32, padding=4),\n",
    "            transforms.RandomHorizontalFlip(),\n",
    "            transforms.ToTensor(),\n",
    "            transforms.Normalize((0.4914, 0.4822, 0.4465), (0.2023, 0.1994, 0.2010))\n",
    "        ])\n",
    "\n",
    "batch_size = 128\n",
    "\n",
    "trainset = torchvision.datasets.CIFAR10(root='../datasets/cifar10_original_data', train=True,\n",
    "                                        download=True, transform=transform)\n",
    "#trainset.data = trainset.data[:]\n",
    "#trainset.targets = trainset.targets[:]\n",
    "trainloader = torch.utils.data.DataLoader(trainset, batch_size=batch_size,\n",
    "                                          shuffle=True, num_workers=2)\n",
    "\n",
    "testset = torchvision.datasets.CIFAR10(root='../datasets/cifar10_original_data', train=False,\n",
    "                                       download=True, transform=transform)\n",
    "testloader = torch.utils.data.DataLoader(testset, batch_size=batch_size,\n",
    "                                         shuffle=False, num_workers=2)\n",
    "\n",
    "classes = ('plane', 'car', 'bird', 'cat',\n",
    "           'deer', 'dog', 'frog', 'horse', 'ship', 'truck')"
   ]
  },
  {
   "cell_type": "code",
   "execution_count": 27,
   "metadata": {},
   "outputs": [],
   "source": [
    "from rac.utils.models import cifar10net, resnet"
   ]
  },
  {
   "cell_type": "code",
   "execution_count": 28,
   "metadata": {},
   "outputs": [],
   "source": [
    "import torch.nn as nn\n",
    "import torch.nn.functional as F"
   ]
  },
  {
   "cell_type": "code",
   "execution_count": 20,
   "metadata": {},
   "outputs": [
    {
     "name": "stdout",
     "output_type": "stream",
     "text": [
      "torch.Size([128, 10]) torch.Size([128, 512])\n"
     ]
    }
   ],
   "source": [
    "model1 = resnet.ResNet18()\n",
    "for i, data in enumerate(trainloader, 0):\n",
    "    inputs, labels = data\n",
    "    outputs, e = model1(inputs, last=True)\n",
    "    print(outputs.shape, e.shape)\n",
    "    break"
   ]
  },
  {
   "cell_type": "code",
   "execution_count": 11,
   "metadata": {},
   "outputs": [
    {
     "name": "stdout",
     "output_type": "stream",
     "text": [
      "torch.Size([256, 10]) torch.Size([256, 256])\n"
     ]
    }
   ],
   "source": [
    "model1 = cifar10net.CifarNet()\n",
    "for i, data in enumerate(trainloader, 0):\n",
    "    inputs, labels = data\n",
    "    outputs, e = model1(inputs, last=True)\n",
    "    print(outputs.shape, e.shape)\n",
    "    break"
   ]
  },
  {
   "cell_type": "code",
   "execution_count": 29,
   "metadata": {},
   "outputs": [],
   "source": [
    "device = torch.device('cuda:0' if torch.cuda.is_available() else 'cpu')"
   ]
  },
  {
   "cell_type": "code",
   "execution_count": 30,
   "metadata": {},
   "outputs": [
    {
     "data": {
      "text/plain": [
       "device(type='cuda', index=0)"
      ]
     },
     "execution_count": 30,
     "metadata": {},
     "output_type": "execute_result"
    }
   ],
   "source": [
    "device"
   ]
  },
  {
   "cell_type": "code",
   "execution_count": 31,
   "metadata": {},
   "outputs": [],
   "source": [
    "import torch.optim as optim\n",
    "#model1 = cifar10net.CifarNet()\n",
    "model1 = resnet.ResNet18().to(device)\n",
    "criterion = nn.CrossEntropyLoss()\n",
    "optimizer = optim.SGD(model1.parameters(), lr=0.001, momentum=0.9)"
   ]
  },
  {
   "cell_type": "code",
   "execution_count": null,
   "metadata": {},
   "outputs": [],
   "source": []
  },
  {
   "cell_type": "code",
   "execution_count": 34,
   "metadata": {},
   "outputs": [
    {
     "name": "stdout",
     "output_type": "stream",
     "text": [
      "0\n",
      "loss:  0.7348631565528148\n",
      "1\n",
      "loss:  0.6614138560984141\n",
      "2\n",
      "loss:  0.6002557455273845\n",
      "3\n",
      "loss:  0.5546936908798754\n",
      "4\n",
      "loss:  0.5155701359824452\n",
      "5\n",
      "loss:  0.47662327341411426\n",
      "6\n",
      "loss:  0.4573782105427569\n",
      "7\n",
      "loss:  0.42360721806735946\n",
      "8\n",
      "loss:  0.40217307667293206\n",
      "9\n",
      "loss:  0.38211964772028084\n",
      "10\n",
      "loss:  0.3593208087069909\n",
      "11\n",
      "loss:  0.3418885225149067\n",
      "12\n",
      "loss:  0.32182869761038924\n",
      "13\n",
      "loss:  0.30784662300363524\n",
      "14\n",
      "loss:  0.29128827089848724\n",
      "15\n",
      "loss:  0.27800126131766895\n",
      "16\n",
      "loss:  0.2666052648478457\n",
      "17\n",
      "loss:  0.2545077907269263\n",
      "18\n",
      "loss:  0.24272228272445975\n",
      "19\n",
      "loss:  0.2323410873446623\n",
      "20\n",
      "loss:  0.22880115255218028\n",
      "21\n",
      "loss:  0.21130731012052892\n",
      "22\n",
      "loss:  0.2014266756527564\n",
      "23\n",
      "loss:  0.19171059708994673\n",
      "24\n",
      "loss:  0.18309223680468775\n",
      "25\n",
      "loss:  0.17345810243312051\n",
      "26\n",
      "loss:  0.16821913497374796\n",
      "27\n",
      "loss:  0.1575790066891314\n",
      "28\n",
      "loss:  0.15677520485066088\n",
      "29\n",
      "loss:  0.14264267703989889\n",
      "30\n",
      "loss:  0.1414374805548612\n",
      "31\n",
      "loss:  0.13334055825153276\n",
      "32\n",
      "loss:  0.1271929840040405\n",
      "33\n",
      "loss:  0.12054512515435438\n",
      "34\n",
      "loss:  0.11565783096815618\n",
      "35\n",
      "loss:  0.11285279054775872\n",
      "36\n",
      "loss:  0.1092095759118457\n",
      "37\n",
      "loss:  0.10217238746850235\n",
      "38\n",
      "loss:  0.09675050010461636\n",
      "39\n",
      "loss:  0.09787455895710784\n",
      "40\n",
      "loss:  0.09063606106144997\n",
      "41\n",
      "loss:  0.08724535242809206\n",
      "42\n",
      "loss:  0.08038153515561768\n",
      "43\n",
      "loss:  0.07887295845781675\n",
      "44\n",
      "loss:  0.07655150324696927\n",
      "45\n",
      "loss:  0.0784861161838026\n",
      "46\n",
      "loss:  0.07198652357834837\n",
      "47\n",
      "loss:  0.07012563324807321\n",
      "48\n",
      "loss:  0.0634170875258153\n",
      "49\n",
      "loss:  0.059601819083151764\n",
      "50\n",
      "loss:  0.058053641939712\n",
      "51\n",
      "loss:  0.05904433124548639\n",
      "52\n",
      "loss:  0.0560969949683265\n",
      "53\n",
      "loss:  0.05309015974316679\n",
      "54\n",
      "loss:  0.049934393492863154\n",
      "55\n",
      "loss:  0.05003924607096807\n",
      "56\n",
      "loss:  0.04796334268892055\n",
      "57\n",
      "loss:  0.0490264511855362\n",
      "58\n",
      "loss:  0.04591723269952075\n",
      "59\n",
      "loss:  0.04377103347898177\n",
      "60\n",
      "loss:  0.040887287516585165\n",
      "61\n",
      "loss:  0.041025481185616205\n",
      "62\n",
      "loss:  0.03793808148787988\n",
      "63\n",
      "loss:  0.03757337986341561\n",
      "64\n",
      "loss:  0.0386342222777331\n",
      "65\n",
      "loss:  0.03615247141665129\n",
      "66\n",
      "loss:  0.03211103421707383\n",
      "67\n",
      "loss:  0.03345291541122338\n",
      "68\n",
      "loss:  0.031847118794241604\n",
      "69\n",
      "loss:  0.035959824844075325\n",
      "70\n",
      "loss:  0.027765726232948852\n",
      "71\n",
      "loss:  0.025423296818943203\n",
      "72\n",
      "loss:  0.028947576929879426\n",
      "73\n",
      "loss:  0.025844558351732733\n",
      "74\n",
      "loss:  0.030624037055010475\n",
      "75\n",
      "loss:  0.02736036714090182\n",
      "76\n",
      "loss:  0.027055319496894926\n",
      "77\n",
      "loss:  0.02598728822357238\n",
      "78\n",
      "loss:  0.02291634935907105\n",
      "79\n",
      "loss:  0.023919188952081793\n",
      "80\n",
      "loss:  0.02032873823064501\n",
      "81\n",
      "loss:  0.02083685303248627\n",
      "82\n",
      "loss:  0.018053556821914032\n",
      "83\n",
      "loss:  0.021265821636814022\n",
      "84\n",
      "loss:  0.017674727894305048\n",
      "85\n",
      "loss:  0.01702803836645954\n",
      "86\n",
      "loss:  0.018467916575882135\n",
      "87\n",
      "loss:  0.018826778991209804\n",
      "88\n",
      "loss:  0.017441873887048848\n",
      "89\n",
      "loss:  0.016659821370405756\n",
      "90\n",
      "loss:  0.0161749260067461\n",
      "91\n",
      "loss:  0.017328122457729942\n",
      "92\n",
      "loss:  0.01983578345628784\n",
      "93\n",
      "loss:  0.01696845085289844\n",
      "94\n",
      "loss:  0.01739610218719277\n",
      "95\n",
      "loss:  0.016611385673386953\n",
      "96\n",
      "loss:  0.013092031885061146\n",
      "97\n",
      "loss:  0.015002542299657936\n",
      "98\n",
      "loss:  0.01615243314144909\n",
      "99\n",
      "loss:  0.016035239160110903\n",
      "Finished Training\n"
     ]
    }
   ],
   "source": [
    "for epoch in range(100):  # loop over the dataset multiple times\n",
    "    print(epoch)\n",
    "\n",
    "    running_loss = 0.0\n",
    "    step = 0\n",
    "    for i, data in enumerate(trainloader, 0):\n",
    "        # get the inputs; data is a list of [inputs, labels]\n",
    "        inputs, labels = data[0].to(device), data[1].to(device),\n",
    "\n",
    "        # zero the parameter gradients\n",
    "        optimizer.zero_grad()\n",
    "\n",
    "        # forward + backward + optimize\n",
    "        outputs = model1(inputs)\n",
    "        loss = criterion(outputs, labels)\n",
    "        loss.backward()\n",
    "        optimizer.step()\n",
    "\n",
    "        # print statistics\n",
    "        running_loss += loss.item()\n",
    "        step += 1\n",
    "    print(\"loss: \", running_loss/step)\n",
    "    step = 0\n",
    "    running_loss = 0.0\n",
    "print('Finished Training')"
   ]
  },
  {
   "cell_type": "code",
   "execution_count": 36,
   "metadata": {
    "tags": []
   },
   "outputs": [
    {
     "name": "stdout",
     "output_type": "stream",
     "text": [
      "Accuracy of the network on the 10000 test images: 89 %\n"
     ]
    }
   ],
   "source": [
    "correct = 0\n",
    "total = 0\n",
    "# since we're not training, we don't need to calculate the gradients for our outputs\n",
    "with torch.no_grad():\n",
    "    for data in testloader:\n",
    "        images, labels = data[0].to(device), data[1].to(device)\n",
    "        # calculate outputs by running images through the network\n",
    "        outputs = model1(images)\n",
    "        # the class with the highest energy is what we choose as prediction\n",
    "        _, predicted = torch.max(outputs.data, 1)\n",
    "        total += labels.size(0)\n",
    "        correct += (predicted == labels).sum().item()\n",
    "\n",
    "print(f'Accuracy of the network on the 10000 test images: {100 * correct // total} %')"
   ]
  },
  {
   "cell_type": "code",
   "execution_count": null,
   "metadata": {},
   "outputs": [],
   "source": []
  }
 ],
 "metadata": {
  "kernelspec": {
   "display_name": "My Python",
   "language": "python",
   "name": "my_python"
  },
  "language_info": {
   "codemirror_mode": {
    "name": "ipython",
    "version": 3
   },
   "file_extension": ".py",
   "mimetype": "text/x-python",
   "name": "python",
   "nbconvert_exporter": "python",
   "pygments_lexer": "ipython3",
   "version": "3.10.4"
  }
 },
 "nbformat": 4,
 "nbformat_minor": 4
}
