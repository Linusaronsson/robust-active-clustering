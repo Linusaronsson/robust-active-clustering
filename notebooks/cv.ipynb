{
 "cells": [
  {
   "cell_type": "code",
   "execution_count": 8,
   "metadata": {},
   "outputs": [],
   "source": [
    "import torch\n",
    "import torchvision\n",
    "import torchvision.transforms as transforms"
   ]
  },
  {
   "cell_type": "code",
   "execution_count": 9,
   "metadata": {},
   "outputs": [
    {
     "name": "stdout",
     "output_type": "stream",
     "text": [
      "Files already downloaded and verified\n",
      "Files already downloaded and verified\n"
     ]
    }
   ],
   "source": [
    "transform = transforms.Compose([\n",
    "            transforms.RandomCrop(32, padding=4),\n",
    "            transforms.RandomHorizontalFlip(),\n",
    "            transforms.ToTensor(),\n",
    "            transforms.Normalize((0.4914, 0.4822, 0.4465), (0.2023, 0.1994, 0.2010))\n",
    "        ])\n",
    "\n",
    "batch_size = 128\n",
    "\n",
    "trainset = torchvision.datasets.CIFAR10(root='../datasets/cifar10_original_data', train=True,\n",
    "                                        download=True, transform=transform)\n",
    "#trainset.data = trainset.data[:]\n",
    "#trainset.targets = trainset.targets[:]\n",
    "trainloader = torch.utils.data.DataLoader(trainset, batch_size=batch_size,\n",
    "                                          shuffle=True, num_workers=2)\n",
    "\n",
    "testset = torchvision.datasets.CIFAR10(root='../datasets/cifar10_original_data', train=False,\n",
    "                                       download=True, transform=transform)\n",
    "testloader = torch.utils.data.DataLoader(testset, batch_size=batch_size,\n",
    "                                         shuffle=False, num_workers=2)\n",
    "\n",
    "classes = ('plane', 'car', 'bird', 'cat',\n",
    "           'deer', 'dog', 'frog', 'horse', 'ship', 'truck')"
   ]
  },
  {
   "cell_type": "code",
   "execution_count": 10,
   "metadata": {},
   "outputs": [],
   "source": [
    "import numpy as np\n",
    "X_train = trainset.data\n",
    "y_train = np.array(trainset.targets)\n",
    "X_test = testset.data\n",
    "y_test = np.array(testset.targets)"
   ]
  },
  {
   "cell_type": "code",
   "execution_count": 11,
   "metadata": {},
   "outputs": [
    {
     "data": {
      "text/plain": [
       "numpy.ndarray"
      ]
     },
     "execution_count": 11,
     "metadata": {},
     "output_type": "execute_result"
    }
   ],
   "source": [
    "type(X_train)"
   ]
  },
  {
   "cell_type": "code",
   "execution_count": 3,
   "metadata": {},
   "outputs": [
    {
     "data": {
      "text/plain": [
       "0.7219280948873623"
      ]
     },
     "execution_count": 3,
     "metadata": {},
     "output_type": "execute_result"
    }
   ],
   "source": [
    "import numpy as np\n",
    "from scipy.stats import entropy\n",
    "base = 2  # work in units of bits\n",
    "pk = np.array([0.2, 0.8])  # fair coin\n",
    "H = entropy(pk, base=base)\n",
    "H\n"
   ]
  },
  {
   "cell_type": "code",
   "execution_count": 6,
   "metadata": {},
   "outputs": [
    {
     "data": {
      "text/plain": [
       "0.0"
      ]
     },
     "execution_count": 6,
     "metadata": {},
     "output_type": "execute_result"
    }
   ],
   "source": [
    "import numpy as np\n",
    "from scipy.stats import entropy\n",
    "base = 2  # work in units of bits\n",
    "pk = np.array([0.2])  # fair coin\n",
    "H = entropy(pk, base=base)\n",
    "H"
   ]
  },
  {
   "cell_type": "code",
   "execution_count": 12,
   "metadata": {},
   "outputs": [
    {
     "data": {
      "text/plain": [
       "(10000,)"
      ]
     },
     "execution_count": 12,
     "metadata": {},
     "output_type": "execute_result"
    }
   ],
   "source": [
    "y_test.shape"
   ]
  },
  {
   "cell_type": "code",
   "execution_count": 13,
   "metadata": {},
   "outputs": [
    {
     "data": {
      "text/plain": [
       "(32, 32, 3)"
      ]
     },
     "execution_count": 13,
     "metadata": {},
     "output_type": "execute_result"
    }
   ],
   "source": [
    "X_train[0].shape"
   ]
  },
  {
   "cell_type": "code",
   "execution_count": 14,
   "metadata": {},
   "outputs": [],
   "source": [
    "from torch.utils.data import Dataset, TensorDataset\n",
    "class CustomTensorDataset(Dataset):\n",
    "    \"\"\"TensorDataset with support of transforms.\n",
    "    \"\"\"\n",
    "    def __init__(self, x, y, transform=None):\n",
    "        self.x = x\n",
    "        self.y = y\n",
    "        self.transform = transform\n",
    "\n",
    "    def __getitem__(self, index):\n",
    "        x = self.x[index]\n",
    "\n",
    "        if self.transform:\n",
    "            x = self.transform(x)\n",
    "\n",
    "        y = self.y[index]\n",
    "\n",
    "        return x, y\n",
    "\n",
    "    def __len__(self):\n",
    "        return len(self.x)"
   ]
  },
  {
   "cell_type": "code",
   "execution_count": null,
   "metadata": {},
   "outputs": [],
   "source": []
  },
  {
   "cell_type": "code",
   "execution_count": 15,
   "metadata": {},
   "outputs": [],
   "source": [
    "from torch.utils.data import Dataset, TensorDataset\n",
    "transform1 = transforms.Compose([\n",
    "            transforms.ToPILImage(),\n",
    "            transforms.RandomCrop(32, padding=4),\n",
    "            transforms.RandomHorizontalFlip(),\n",
    "            transforms.ToTensor(),\n",
    "            transforms.Normalize((0.4914, 0.4822, 0.4465), (0.2023, 0.1994, 0.2010))\n",
    "        ])\n",
    "\n",
    "transform2 = transforms.Compose([\n",
    "            #transforms.ToPILImage(),\n",
    "            transforms.ToTensor(),\n",
    "            transforms.Normalize((0.4914, 0.4822, 0.4465), (0.2023, 0.1994, 0.2010))\n",
    "        ])\n",
    "trainset = CustomTensorDataset(X_train, y_train, transform=transform1)\n",
    "testset = CustomTensorDataset(X_test, y_test, transform=transform2)"
   ]
  },
  {
   "cell_type": "code",
   "execution_count": null,
   "metadata": {},
   "outputs": [],
   "source": []
  },
  {
   "cell_type": "code",
   "execution_count": 16,
   "metadata": {},
   "outputs": [],
   "source": [
    "trainloader = torch.utils.data.DataLoader(trainset, batch_size=batch_size,\n",
    "                                          shuffle=True, num_workers=2)"
   ]
  },
  {
   "cell_type": "code",
   "execution_count": 17,
   "metadata": {},
   "outputs": [],
   "source": [
    "testloader = torch.utils.data.DataLoader(testset, batch_size=batch_size,\n",
    "                                         shuffle=False, num_workers=2)"
   ]
  },
  {
   "cell_type": "code",
   "execution_count": 18,
   "metadata": {},
   "outputs": [],
   "source": [
    "from rac.utils.models import cifar10net, resnet"
   ]
  },
  {
   "cell_type": "code",
   "execution_count": 19,
   "metadata": {},
   "outputs": [],
   "source": [
    "import torch.nn as nn\n",
    "import torch.nn.functional as F"
   ]
  },
  {
   "cell_type": "code",
   "execution_count": 172,
   "metadata": {},
   "outputs": [
    {
     "name": "stdout",
     "output_type": "stream",
     "text": [
      "torch.Size([128, 10]) torch.Size([128, 512])\n"
     ]
    }
   ],
   "source": [
    "model1 = resnet.ResNet18()\n",
    "for i, data in enumerate(trainloader, 0):\n",
    "    inputs, labels = data\n",
    "    outputs, e = model1(inputs, last=True)\n",
    "    print(outputs.shape, e.shape)\n",
    "    break"
   ]
  },
  {
   "cell_type": "code",
   "execution_count": 11,
   "metadata": {},
   "outputs": [
    {
     "name": "stdout",
     "output_type": "stream",
     "text": [
      "torch.Size([256, 10]) torch.Size([256, 256])\n"
     ]
    }
   ],
   "source": [
    "model1 = cifar10net.CifarNet()\n",
    "for i, data in enumerate(trainloader, 0):\n",
    "    inputs, labels = data\n",
    "    outputs, e = model1(inputs, last=True)\n",
    "    print(outputs.shape, e.shape)\n",
    "    break"
   ]
  },
  {
   "cell_type": "code",
   "execution_count": 20,
   "metadata": {},
   "outputs": [],
   "source": [
    "device = torch.device('cuda:0' if torch.cuda.is_available() else 'cpu')"
   ]
  },
  {
   "cell_type": "code",
   "execution_count": 21,
   "metadata": {},
   "outputs": [
    {
     "data": {
      "text/plain": [
       "device(type='cuda', index=0)"
      ]
     },
     "execution_count": 21,
     "metadata": {},
     "output_type": "execute_result"
    }
   ],
   "source": [
    "device"
   ]
  },
  {
   "cell_type": "code",
   "execution_count": 23,
   "metadata": {},
   "outputs": [],
   "source": [
    "import torch.optim as optim\n",
    "#model1 = cifar10net.CifarNet().to(device)\n",
    "resnet_model = resnet.ResNet18().to(device)\n",
    "criterion = nn.CrossEntropyLoss()\n",
    "optimizer = optim.SGD(resnet_model.parameters(), lr=0.001, momentum=0.9)"
   ]
  },
  {
   "cell_type": "code",
   "execution_count": 24,
   "metadata": {},
   "outputs": [
    {
     "name": "stdout",
     "output_type": "stream",
     "text": [
      "0\n",
      "loss:  1.6301084482456412\n",
      "1\n",
      "loss:  1.2052332870185833\n",
      "2\n",
      "loss:  0.9880083224657551\n",
      "3\n",
      "loss:  0.8417643240040831\n",
      "4\n",
      "loss:  0.7413882800685171\n",
      "5\n",
      "loss:  0.6650938836052595\n",
      "6\n",
      "loss:  0.604618360624289\n",
      "7\n",
      "loss:  0.5501956445024446\n",
      "8\n",
      "loss:  0.511761770376464\n",
      "9\n",
      "loss:  0.4791406128565064\n",
      "10\n",
      "loss:  0.448650045620511\n",
      "11\n",
      "loss:  0.4191503155490626\n",
      "12\n",
      "loss:  0.39869052968214236\n",
      "13\n",
      "loss:  0.37352940455422073\n",
      "14\n",
      "loss:  0.35493854000745223\n",
      "15\n",
      "loss:  0.3374041950001436\n",
      "16\n",
      "loss:  0.3185030119422147\n",
      "17\n",
      "loss:  0.3074923846346643\n",
      "18\n",
      "loss:  0.29109362434700625\n",
      "19\n",
      "loss:  0.27397948099524166\n",
      "20\n",
      "loss:  0.26201940350749\n",
      "21\n",
      "loss:  0.2489969413489332\n",
      "22\n",
      "loss:  0.23962745028536034\n",
      "23\n",
      "loss:  0.23146832682897367\n",
      "24\n",
      "loss:  0.21733764987772383\n",
      "25\n",
      "loss:  0.20742623692811907\n",
      "26\n",
      "loss:  0.20030033636047406\n",
      "27\n",
      "loss:  0.18682997904317764\n",
      "28\n",
      "loss:  0.18573372923504666\n",
      "29\n",
      "loss:  0.175299566725026\n",
      "30\n",
      "loss:  0.1690196701708962\n",
      "31\n",
      "loss:  0.15615444054917607\n",
      "32\n",
      "loss:  0.1543192547338698\n",
      "33\n",
      "loss:  0.14599033137378487\n",
      "34\n",
      "loss:  0.14007118296668963\n",
      "35\n",
      "loss:  0.1335184655683425\n",
      "36\n",
      "loss:  0.12994377198807724\n",
      "37\n",
      "loss:  0.12373485995451812\n",
      "38\n",
      "loss:  0.11422562247613811\n",
      "39\n",
      "loss:  0.1102676513364248\n",
      "40\n",
      "loss:  0.10766127151544289\n",
      "41\n",
      "loss:  0.10430653388028407\n",
      "42\n",
      "loss:  0.1009536170260147\n",
      "43\n",
      "loss:  0.09494099409683891\n",
      "44\n",
      "loss:  0.08710823429133886\n",
      "45\n",
      "loss:  0.08495972156905762\n",
      "46\n",
      "loss:  0.08029368923276739\n",
      "47\n",
      "loss:  0.07891051308311464\n",
      "48\n",
      "loss:  0.08169751377095041\n",
      "49\n",
      "loss:  0.07102582360262913\n",
      "50\n",
      "loss:  0.06940534059196482\n",
      "51\n",
      "loss:  0.06845944669440655\n",
      "52\n",
      "loss:  0.06289650799225435\n",
      "53\n",
      "loss:  0.06306246913197781\n",
      "54\n",
      "loss:  0.06243744577564623\n",
      "55\n",
      "loss:  0.05812565699133955\n",
      "56\n",
      "loss:  0.05873311508227797\n",
      "57\n",
      "loss:  0.056579186800209916\n",
      "58\n",
      "loss:  0.05353362699899146\n",
      "59\n",
      "loss:  0.049227725103487975\n",
      "60\n",
      "loss:  0.04861593391636715\n",
      "61\n",
      "loss:  0.04832709277801387\n",
      "62\n",
      "loss:  0.04371171186456595\n",
      "63\n",
      "loss:  0.04334865640277219\n",
      "64\n",
      "loss:  0.039614087597126396\n",
      "65\n",
      "loss:  0.040636235216865914\n",
      "66\n",
      "loss:  0.03789713295817356\n",
      "67\n",
      "loss:  0.03745356136504227\n",
      "68\n",
      "loss:  0.03287324194481973\n",
      "69\n",
      "loss:  0.033602733552084325\n",
      "70\n",
      "loss:  0.03408577763404021\n",
      "71\n",
      "loss:  0.033774434335772756\n",
      "72\n",
      "loss:  0.03397915867524093\n",
      "73\n",
      "loss:  0.03237476626701672\n",
      "74\n",
      "loss:  0.03067910725094826\n",
      "75\n",
      "loss:  0.031350728068405484\n",
      "76\n",
      "loss:  0.02837682511333538\n",
      "77\n",
      "loss:  0.028827085607516033\n",
      "78\n",
      "loss:  0.026513889692175913\n",
      "79\n",
      "loss:  0.026065996295148434\n",
      "80\n",
      "loss:  0.02567391928054316\n",
      "81\n",
      "loss:  0.025150197050760468\n",
      "82\n",
      "loss:  0.022739087556288732\n",
      "83\n",
      "loss:  0.02230079326858444\n",
      "84\n",
      "loss:  0.023770896841764755\n",
      "85\n",
      "loss:  0.022788148914949725\n",
      "86\n",
      "loss:  0.023218925714211733\n",
      "87\n",
      "loss:  0.019458880458953682\n",
      "88\n",
      "loss:  0.019547304690248617\n",
      "89\n",
      "loss:  0.02604198545340182\n",
      "90\n",
      "loss:  0.02153521234019543\n",
      "91\n",
      "loss:  0.021251234569220002\n",
      "92\n",
      "loss:  0.019800662378068355\n",
      "93\n",
      "loss:  0.022228252803049315\n",
      "94\n",
      "loss:  0.018226894009929828\n",
      "95\n",
      "loss:  0.016598714841589274\n",
      "96\n",
      "loss:  0.01565210180907317\n",
      "97\n",
      "loss:  0.014584958126061046\n",
      "98\n",
      "loss:  0.015773169134798294\n",
      "99\n",
      "loss:  0.015137449003663152\n",
      "100\n",
      "loss:  0.01835030424372886\n",
      "101\n",
      "loss:  0.018159427022968737\n",
      "102\n",
      "loss:  0.014527243466692312\n",
      "103\n",
      "loss:  0.015832070095400275\n",
      "104\n",
      "loss:  0.014090110352524863\n",
      "105\n",
      "loss:  0.014113261749672578\n",
      "106\n",
      "loss:  0.014556970891972665\n",
      "107\n",
      "loss:  0.013004126996361672\n",
      "108\n",
      "loss:  0.015280753554528594\n",
      "109\n",
      "loss:  0.013276966533425938\n",
      "110\n",
      "loss:  0.013410567985493284\n",
      "111\n",
      "loss:  0.013537977059619486\n",
      "112\n",
      "loss:  0.012936711503380953\n",
      "113\n",
      "loss:  0.0108053823834752\n",
      "114\n",
      "loss:  0.011447834545675583\n",
      "115\n",
      "loss:  0.011401392996672642\n",
      "116\n",
      "loss:  0.010993967281298382\n",
      "117\n",
      "loss:  0.011887919537879675\n",
      "118\n",
      "loss:  0.011502417604676555\n",
      "119\n",
      "loss:  0.010493351785374371\n",
      "120\n",
      "loss:  0.011576858188142962\n",
      "121\n",
      "loss:  0.00809249164768235\n",
      "122\n",
      "loss:  0.008532202703377489\n",
      "123\n",
      "loss:  0.009235446293251183\n",
      "124\n",
      "loss:  0.008307148322827466\n",
      "125\n",
      "loss:  0.00843860720750391\n",
      "126\n",
      "loss:  0.008286745482868136\n",
      "127\n",
      "loss:  0.009138973654218643\n",
      "128\n",
      "loss:  0.008085022600407265\n",
      "129\n",
      "loss:  0.008905796914251552\n",
      "130\n",
      "loss:  0.011554386891463958\n",
      "131\n",
      "loss:  0.008384988510735866\n",
      "132\n",
      "loss:  0.008101118941884547\n",
      "133\n",
      "loss:  0.007094409253806723\n",
      "134\n",
      "loss:  0.00944389024166726\n",
      "135\n",
      "loss:  0.008371739280651278\n",
      "136\n",
      "loss:  0.00989240816819048\n",
      "137\n",
      "loss:  0.007611511282169062\n",
      "138\n",
      "loss:  0.009477220428296212\n",
      "139\n",
      "loss:  0.011107322123066029\n",
      "140\n",
      "loss:  0.008293829072648517\n",
      "141\n",
      "loss:  0.01036898318901146\n",
      "142\n",
      "loss:  0.009395323540343095\n",
      "143\n",
      "loss:  0.007082014324833089\n",
      "144\n",
      "loss:  0.008415607052021231\n",
      "145\n",
      "loss:  0.008587452206023596\n",
      "146\n",
      "loss:  0.006369910024277999\n",
      "147\n",
      "loss:  0.0066524992228451105\n",
      "148\n",
      "loss:  0.005569736126547113\n",
      "149\n",
      "loss:  0.005944117542926122\n",
      "150\n",
      "loss:  0.008781077761097057\n",
      "151\n",
      "loss:  0.006803525088373107\n",
      "152\n",
      "loss:  0.006717382525929007\n",
      "153\n",
      "loss:  0.007082232923926952\n",
      "154\n",
      "loss:  0.0055452811028658\n",
      "155\n",
      "loss:  0.006603969167783985\n",
      "156\n",
      "loss:  0.007222374339047296\n",
      "157\n",
      "loss:  0.006590273657888401\n",
      "158\n",
      "loss:  0.005455184235672831\n",
      "159\n",
      "loss:  0.006722030205358995\n",
      "160\n",
      "loss:  0.005846898990880955\n",
      "161\n",
      "loss:  0.006595451073312258\n",
      "162\n",
      "loss:  0.005555003557367312\n",
      "163\n",
      "loss:  0.005228826704689914\n",
      "164\n",
      "loss:  0.006111453775220606\n",
      "165\n",
      "loss:  0.00538709659754332\n",
      "166\n",
      "loss:  0.006200666054803402\n",
      "167\n",
      "loss:  0.005106226585836976\n",
      "168\n",
      "loss:  0.004591024556571482\n",
      "169\n",
      "loss:  0.0037765783233814597\n",
      "170\n",
      "loss:  0.00423505735274552\n",
      "171\n",
      "loss:  0.0054610300692431914\n",
      "172\n",
      "loss:  0.004245222283648881\n",
      "173\n",
      "loss:  0.004321654153744514\n",
      "174\n",
      "loss:  0.005009745879963254\n",
      "175\n",
      "loss:  0.006183708104027478\n",
      "176\n",
      "loss:  0.005623283728612098\n",
      "177\n",
      "loss:  0.00654362944886535\n",
      "178\n",
      "loss:  0.004993673691185444\n",
      "179\n",
      "loss:  0.004564970368532824\n",
      "180\n",
      "loss:  0.004254737412659726\n",
      "181\n",
      "loss:  0.005350398643271607\n",
      "182\n",
      "loss:  0.005024879540660945\n",
      "183\n",
      "loss:  0.0033560229296287786\n",
      "184\n",
      "loss:  0.004523851018992391\n",
      "185\n",
      "loss:  0.0049489251970972386\n",
      "186\n",
      "loss:  0.004639991602632325\n",
      "187\n",
      "loss:  0.004882782774456643\n",
      "188\n",
      "loss:  0.005005817205324034\n",
      "189\n",
      "loss:  0.0049985628209241765\n",
      "190\n",
      "loss:  0.0064490326510756\n",
      "191\n",
      "loss:  0.0044335770127682085\n",
      "192\n",
      "loss:  0.0042582235484094596\n",
      "193\n",
      "loss:  0.003564247302353725\n",
      "194\n",
      "loss:  0.00361889219983011\n",
      "195\n",
      "loss:  0.0036801887230481357\n",
      "196\n",
      "loss:  0.0023750608931603734\n",
      "197\n",
      "loss:  0.0036310583073616057\n",
      "198\n",
      "loss:  0.002207307088876005\n",
      "199\n",
      "loss:  0.0037780955103989705\n",
      "Finished Training\n"
     ]
    }
   ],
   "source": [
    "for epoch in range(200):  # loop over the dataset multiple times\n",
    "    print(epoch)\n",
    "\n",
    "    running_loss = 0.0\n",
    "    step = 0\n",
    "    for i, data in enumerate(trainloader, 0):\n",
    "        # get the inputs; data is a list of [inputs, labels]\n",
    "        inputs, labels = data[0].to(device), data[1].to(device),\n",
    "\n",
    "        # zero the parameter gradients\n",
    "        optimizer.zero_grad()\n",
    "\n",
    "        # forward + backward + optimize\n",
    "        outputs = resnet_model(inputs)\n",
    "        loss = criterion(outputs, labels)\n",
    "        loss.backward()\n",
    "        optimizer.step()\n",
    "\n",
    "        # print statistics\n",
    "        running_loss += loss.item()\n",
    "        step += 1\n",
    "    print(\"loss: \", running_loss/step)\n",
    "    step = 0\n",
    "    running_loss = 0.0\n",
    "print('Finished Training')"
   ]
  },
  {
   "cell_type": "code",
   "execution_count": 25,
   "metadata": {
    "tags": []
   },
   "outputs": [
    {
     "name": "stdout",
     "output_type": "stream",
     "text": [
      "Accuracy of the network on the 10000 test images: 88 %\n"
     ]
    }
   ],
   "source": [
    "correct = 0\n",
    "total = 0\n",
    "# since we're not training, we don't need to calculate the gradients for our outputs\n",
    "with torch.no_grad():\n",
    "    for data in testloader:\n",
    "        images, labels = data[0].to(device), data[1].to(device)\n",
    "        # calculate outputs by running images through the network\n",
    "        outputs = resnet_model(images)\n",
    "        # the class with the highest energy is what we choose as prediction\n",
    "        _, predicted = torch.max(outputs.data, 1)\n",
    "        total += labels.size(0)\n",
    "        correct += (predicted == labels).sum().item()\n",
    "\n",
    "print(f'Accuracy of the network on the 10000 test images: {100 * correct // total} %')"
   ]
  },
  {
   "cell_type": "code",
   "execution_count": 311,
   "metadata": {},
   "outputs": [
    {
     "data": {
      "text/plain": [
       "391"
      ]
     },
     "execution_count": 311,
     "metadata": {},
     "output_type": "execute_result"
    }
   ],
   "source": [
    "len(trainloader)"
   ]
  },
  {
   "cell_type": "code",
   "execution_count": 31,
   "metadata": {},
   "outputs": [],
   "source": [
    "def get_embedding(model, dataset, dataloader, device=\"cuda\"):\n",
    "    # Ensure model is on right device and is in eval. mode\n",
    "    model.eval()\n",
    "    model = model.to(device)\n",
    "\n",
    "    # Create a tensor to hold embeddings\n",
    "    embedding = torch.zeros([len(dataset), model.get_embedding_dim()]).to(device)\n",
    "    evaluated_instances = 0\n",
    "    labels = []\n",
    "    with torch.no_grad():\n",
    "        for batch_idx, data in enumerate(dataloader):\n",
    "            # Calculate softmax (probabilities) of predictions\n",
    "            x, y = data[0].to(device), data[1].to(device)\n",
    "            #out, l1 = model(elements_to_predict, return_embedding=True)\n",
    "            out, l1 = model(x, last=True)\n",
    "            labels.extend(y.tolist())\n",
    "            # Insert the calculated batch of probabilities into the tensor to return\n",
    "            #print(data)\n",
    "            l1 = torch.Tensor(l1)\n",
    "            start_slice = evaluated_instances\n",
    "            end_slice = start_slice + x.shape[0]\n",
    "            embedding[start_slice:end_slice] = l1\n",
    "            evaluated_instances = end_slice\n",
    "\n",
    "    return embedding, labels"
   ]
  },
  {
   "cell_type": "code",
   "execution_count": 33,
   "metadata": {},
   "outputs": [],
   "source": [
    "X_train_embedding, y_train_ = get_embedding(resnet_model, trainset, trainloader)"
   ]
  },
  {
   "cell_type": "code",
   "execution_count": 34,
   "metadata": {},
   "outputs": [
    {
     "data": {
      "text/plain": [
       "torch.Size([50000, 512])"
      ]
     },
     "execution_count": 34,
     "metadata": {},
     "output_type": "execute_result"
    }
   ],
   "source": [
    "X_train_embedding.shape"
   ]
  },
  {
   "cell_type": "code",
   "execution_count": 36,
   "metadata": {},
   "outputs": [],
   "source": [
    "#np.save(\"X_train_cifar.npy\", X_train_embedding.cpu().numpy())\n",
    "#np.save(\"Y_train_cifar.npy\", y_train_)"
   ]
  },
  {
   "cell_type": "code",
   "execution_count": 38,
   "metadata": {},
   "outputs": [],
   "source": [
    "X_test_embedding, y_test_ = get_embedding(resnet_model, testset, testloader)"
   ]
  },
  {
   "cell_type": "code",
   "execution_count": 39,
   "metadata": {},
   "outputs": [],
   "source": [
    "#np.save(\"X_test_cifar.npy\", X_test_embedding.cpu().numpy())\n",
    "#np.save(\"Y_test_cifar.npy\", y_test_)"
   ]
  },
  {
   "cell_type": "code",
   "execution_count": 44,
   "metadata": {},
   "outputs": [],
   "source": [
    "X_train = np.load(\"X_train_cifar.npy\")\n",
    "y_train = np.load(\"Y_train_cifar.npy\")"
   ]
  },
  {
   "cell_type": "code",
   "execution_count": 45,
   "metadata": {},
   "outputs": [],
   "source": [
    "X_test = np.load(\"X_test_cifar.npy\")\n",
    "y_test = np.load(\"Y_test_cifar.npy\")"
   ]
  },
  {
   "cell_type": "code",
   "execution_count": 349,
   "metadata": {},
   "outputs": [],
   "source": [
    "#from sklearn import preprocessing\n",
    "#scaler = preprocessing.StandardScaler()\n",
    "#X_train = scaler.fit_transform(X_train)"
   ]
  },
  {
   "cell_type": "code",
   "execution_count": 47,
   "metadata": {},
   "outputs": [
    {
     "name": "stdout",
     "output_type": "stream",
     "text": [
      "(50000, 512) (50000,) (10000, 512) (10000,)\n"
     ]
    }
   ],
   "source": [
    "print(X_train.shape, y_train.shape, X_test.shape, y_test.shape)"
   ]
  },
  {
   "cell_type": "code",
   "execution_count": 219,
   "metadata": {},
   "outputs": [
    {
     "data": {
      "text/plain": [
       "(50000, 512)"
      ]
     },
     "execution_count": 219,
     "metadata": {},
     "output_type": "execute_result"
    }
   ],
   "source": [
    "X.shape"
   ]
  },
  {
   "cell_type": "code",
   "execution_count": 220,
   "metadata": {},
   "outputs": [],
   "source": [
    "from sklearn.model_selection import train_test_split\n",
    "X_train, X_test, y_train, y_test = train_test_split(X, Y, test_size=0.2, random_state=42)"
   ]
  },
  {
   "cell_type": "code",
   "execution_count": 48,
   "metadata": {},
   "outputs": [],
   "source": [
    "from torch.utils.data import Dataset, TensorDataset\n",
    "trainset = TensorDataset(torch.Tensor(X_train), torch.Tensor(y_train).double())\n",
    "testset = TensorDataset(torch.Tensor(X_test), torch.Tensor(y_test).double())"
   ]
  },
  {
   "cell_type": "code",
   "execution_count": 49,
   "metadata": {},
   "outputs": [],
   "source": [
    "trainloader = torch.utils.data.DataLoader(trainset, batch_size=batch_size, shuffle=True, num_workers=2)\n",
    "testloader = torch.utils.data.DataLoader(testset, batch_size=batch_size, shuffle=False, num_workers=2)"
   ]
  },
  {
   "cell_type": "code",
   "execution_count": 50,
   "metadata": {},
   "outputs": [],
   "source": [
    "device = torch.device('cuda:0' if torch.cuda.is_available() else 'cpu')"
   ]
  },
  {
   "cell_type": "code",
   "execution_count": 51,
   "metadata": {},
   "outputs": [],
   "source": [
    "import torch.optim as optim\n",
    "from rac.utils.models import simpleNN_net\n",
    "model1 = simpleNN_net.ThreeLayerNet(512, 10, 1024, 256).to(device)\n",
    "#model1 = resnet.ResNet18().to(device)\n",
    "criterion = nn.CrossEntropyLoss()\n",
    "optimizer = optim.SGD(model1.parameters(), lr=0.001, momentum=0.9)"
   ]
  },
  {
   "cell_type": "code",
   "execution_count": 52,
   "metadata": {},
   "outputs": [
    {
     "name": "stdout",
     "output_type": "stream",
     "text": [
      "0\n",
      "loss:  0.7050782884173381\n",
      "1\n",
      "loss:  0.08211004949362992\n",
      "2\n",
      "loss:  0.054712639959610024\n",
      "3\n",
      "loss:  0.04483557282172886\n",
      "4\n",
      "loss:  0.03954413725668207\n",
      "5\n",
      "loss:  0.036161978533753504\n",
      "6\n",
      "loss:  0.03407068403147142\n",
      "7\n",
      "loss:  0.03227394548914088\n",
      "8\n",
      "loss:  0.03086422065563519\n",
      "9\n",
      "loss:  0.02984059114030579\n",
      "10\n",
      "loss:  0.02899590012905619\n",
      "11\n",
      "loss:  0.02805830869714127\n",
      "12\n",
      "loss:  0.027532402859510058\n",
      "13\n",
      "loss:  0.02690451638594441\n",
      "14\n",
      "loss:  0.026426743766616866\n",
      "15\n",
      "loss:  0.025991626241056207\n",
      "16\n",
      "loss:  0.025535073595793198\n",
      "17\n",
      "loss:  0.02519928564822487\n",
      "18\n",
      "loss:  0.024804587002553027\n",
      "19\n",
      "loss:  0.024544678166951706\n",
      "20\n",
      "loss:  0.024249407458607385\n",
      "21\n",
      "loss:  0.023892022961991197\n",
      "22\n",
      "loss:  0.02365243533218894\n",
      "23\n",
      "loss:  0.023412759134145762\n",
      "24\n",
      "loss:  0.023181603163899972\n",
      "25\n",
      "loss:  0.0229562884900788\n",
      "26\n",
      "loss:  0.022699490386654465\n",
      "27\n",
      "loss:  0.02243053791699145\n",
      "28\n",
      "loss:  0.022356244465967408\n",
      "29\n",
      "loss:  0.02205462851847434\n",
      "30\n",
      "loss:  0.02190571526899729\n",
      "31\n",
      "loss:  0.021819669250136866\n",
      "32\n",
      "loss:  0.021527218961995335\n",
      "33\n",
      "loss:  0.021507498922536287\n",
      "34\n",
      "loss:  0.021308326803426474\n",
      "35\n",
      "loss:  0.021108396553501125\n",
      "36\n",
      "loss:  0.020843696015615427\n",
      "37\n",
      "loss:  0.02091712611691688\n",
      "38\n",
      "loss:  0.02063249883091892\n",
      "39\n",
      "loss:  0.020517243705677996\n",
      "40\n",
      "loss:  0.020424745861402787\n",
      "41\n",
      "loss:  0.02028343371917134\n",
      "42\n",
      "loss:  0.020091640196688226\n",
      "43\n",
      "loss:  0.01992040330200525\n",
      "44\n",
      "loss:  0.019895322637988582\n",
      "45\n",
      "loss:  0.0196522911413587\n",
      "46\n",
      "loss:  0.01970842584808026\n",
      "47\n",
      "loss:  0.019476109046770065\n",
      "48\n",
      "loss:  0.019252217534031536\n",
      "49\n",
      "loss:  0.019264980395416232\n",
      "50\n",
      "loss:  0.018958975793421626\n",
      "51\n",
      "loss:  0.01900984734877982\n",
      "52\n",
      "loss:  0.01889740712056413\n",
      "53\n",
      "loss:  0.01879282439198426\n",
      "54\n",
      "loss:  0.018659928406495243\n",
      "55\n",
      "loss:  0.018668715942852306\n",
      "56\n",
      "loss:  0.01842583875398716\n",
      "57\n",
      "loss:  0.018465702506520635\n",
      "58\n",
      "loss:  0.01825094034703558\n",
      "59\n",
      "loss:  0.018225814041215926\n",
      "60\n",
      "loss:  0.01808119307780076\n",
      "61\n",
      "loss:  0.017954970583292273\n",
      "62\n",
      "loss:  0.01786452036119028\n",
      "63\n",
      "loss:  0.017726800127891\n",
      "64\n",
      "loss:  0.01777994200897515\n",
      "65\n",
      "loss:  0.017525155408679487\n",
      "66\n",
      "loss:  0.01748681646418017\n",
      "67\n",
      "loss:  0.01737050930141707\n",
      "68\n",
      "loss:  0.01738198653466123\n",
      "69\n",
      "loss:  0.01726944687495799\n",
      "70\n",
      "loss:  0.01710341134271763\n",
      "71\n",
      "loss:  0.016988321647668482\n",
      "72\n",
      "loss:  0.016876555298326438\n",
      "73\n",
      "loss:  0.016853001119647548\n",
      "74\n",
      "loss:  0.016892998072076375\n",
      "75\n",
      "loss:  0.016579451047956214\n",
      "76\n",
      "loss:  0.016651824944863416\n",
      "77\n",
      "loss:  0.016540452742072588\n",
      "78\n",
      "loss:  0.016376164518659957\n",
      "79\n",
      "loss:  0.016344893173656432\n",
      "80\n",
      "loss:  0.016402755595703165\n",
      "81\n",
      "loss:  0.016205330220762107\n",
      "82\n",
      "loss:  0.016083821283190098\n",
      "83\n",
      "loss:  0.01608732018335139\n",
      "84\n",
      "loss:  0.015998825157844863\n",
      "85\n",
      "loss:  0.015774098508830523\n",
      "86\n",
      "loss:  0.015645219931912507\n",
      "87\n",
      "loss:  0.01573639636968865\n",
      "88\n",
      "loss:  0.01568821782280174\n",
      "89\n",
      "loss:  0.015451393286323013\n",
      "90\n",
      "loss:  0.015552131582231348\n",
      "91\n",
      "loss:  0.015456149047014334\n",
      "92\n",
      "loss:  0.015347729033321295\n",
      "93\n",
      "loss:  0.015177960325356411\n",
      "94\n",
      "loss:  0.01516804044284379\n",
      "95\n",
      "loss:  0.014982536669595458\n",
      "96\n",
      "loss:  0.015090273915985932\n",
      "97\n",
      "loss:  0.014896120303524826\n",
      "98\n",
      "loss:  0.014876062031034405\n",
      "99\n",
      "loss:  0.014756749487494517\n",
      "Finished Training\n"
     ]
    }
   ],
   "source": [
    "for epoch in range(100):  # loop over the dataset multiple times\n",
    "    print(epoch)\n",
    "\n",
    "    running_loss = 0.0\n",
    "    step = 0\n",
    "    for i, data in enumerate(trainloader, 0):\n",
    "        # get the inputs; data is a list of [inputs, labels]\n",
    "        inputs, labels = data[0].to(device), data[1].type(torch.LongTensor).to(device),\n",
    "\n",
    "        # zero the parameter gradients\n",
    "        optimizer.zero_grad()\n",
    "\n",
    "        # forward + backward + optimize\n",
    "        outputs = model1(inputs)\n",
    "        loss = criterion(outputs, labels)\n",
    "        loss.backward()\n",
    "        optimizer.step()\n",
    "\n",
    "        # print statistics\n",
    "        running_loss += loss.item()\n",
    "        step += 1\n",
    "    print(\"loss: \", running_loss/step)\n",
    "    step = 0\n",
    "    running_loss = 0.0\n",
    "print('Finished Training')"
   ]
  },
  {
   "cell_type": "code",
   "execution_count": 53,
   "metadata": {},
   "outputs": [
    {
     "name": "stdout",
     "output_type": "stream",
     "text": [
      "Accuracy of the network on the 10000 test images: 89 %\n"
     ]
    }
   ],
   "source": [
    "correct = 0\n",
    "total = 0\n",
    "# since we're not training, we don't need to calculate the gradients for our outputs\n",
    "with torch.no_grad():\n",
    "    for data in testloader:\n",
    "        images, labels = data[0].to(device), data[1].to(device)\n",
    "        # calculate outputs by running images through the network\n",
    "        outputs = model1(images)\n",
    "        # the class with the highest energy is what we choose as prediction\n",
    "        _, predicted = torch.max(outputs.data, 1)\n",
    "        total += labels.size(0)\n",
    "        correct += (predicted == labels).sum().item()\n",
    "\n",
    "print(f'Accuracy of the network on the 10000 test images: {100 * correct // total} %')"
   ]
  },
  {
   "cell_type": "code",
   "execution_count": 208,
   "metadata": {},
   "outputs": [
    {
     "data": {
      "text/plain": [
       "(1000, 100)"
      ]
     },
     "execution_count": 208,
     "metadata": {},
     "output_type": "execute_result"
    }
   ],
   "source": [
    "X.shape"
   ]
  },
  {
   "cell_type": "code",
   "execution_count": 213,
   "metadata": {},
   "outputs": [
    {
     "data": {
      "text/plain": [
       "(1000, 2)"
      ]
     },
     "execution_count": 213,
     "metadata": {},
     "output_type": "execute_result"
    }
   ],
   "source": [
    "import matplotlib.pyplot as plt\n",
    "from sklearn.decomposition import PCA\n",
    "pca = PCA(n_components=2)\n",
    "X_new = pca.fit_transform(X)\n",
    "X_new.shape"
   ]
  },
  {
   "cell_type": "code",
   "execution_count": 217,
   "metadata": {},
   "outputs": [
    {
     "data": {
      "image/png": "[encoded data removed]",
      "text/plain": [
       "<Figure size 432x288 with 1 Axes>"
      ]
     },
     "metadata": {
      "needs_background": "light"
     },
     "output_type": "display_data"
    }
   ],
   "source": [
    "for i in range(0,9):\n",
    "    inds = np.where(Y == i)\n",
    "    plt.scatter(X_new[inds,0], X_new[inds,1])"
   ]
  },
  {
   "cell_type": "code",
   "execution_count": null,
   "metadata": {},
   "outputs": [],
   "source": []
  }
 ],
 "metadata": {
  "kernelspec": {
   "display_name": "base",
   "language": "python",
   "name": "python3"
  },
  "language_info": {
   "codemirror_mode": {
    "name": "ipython",
    "version": 3
   },
   "file_extension": ".py",
   "mimetype": "text/x-python",
   "name": "python",
   "nbconvert_exporter": "python",
   "pygments_lexer": "ipython3",
   "version": "3.9.13"
  }
 },
 "nbformat": 4,
 "nbformat_minor": 4
}
