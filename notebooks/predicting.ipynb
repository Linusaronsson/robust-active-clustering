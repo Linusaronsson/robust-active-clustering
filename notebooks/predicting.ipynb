{
 "cells": [
  {
   "cell_type": "code",
   "execution_count": 1,
   "metadata": {},
   "outputs": [],
   "source": [
    "start_index = 1\n",
    "datasets = \"cifar10_original\"\n",
    "from rac.experiment_data import ExperimentReader\n",
    "exp_reader = ExperimentReader([\"rand\"])\n",
    "config = {\n",
    "    \"general_options\": {\n",
    "        \"experiment_name\": \"predicting_exp\",\n",
    "        \"num_repeats\": 10,\n",
    "        \"n_workers\": 5,\n",
    "        \"local\": True,\n",
    "        \"verbose\": False\n",
    "    },\n",
    "    \"experiment_options\": {\n",
    "        \"seed\": 33,\n",
    "        \"num_feedback\": 0.01,\n",
    "        \"noise_level\": [0.0, 0.4, 0.6],\n",
    "        \"persistent_noise_level\": 0.0,\n",
    "        \"force_global_update\": True,\n",
    "        \"save_matrix_data\": False,\n",
    "        \"infer_sims\": False,\n",
    "        \"predict_sims\": [True],\n",
    "        \"base_net\": \"cifarnet\",\n",
    "        \"siamese\": True,\n",
    "        \"criterion\": \"bce\"\n",
    "    },\n",
    "    \"sim_init_options\": {\n",
    "        \"K_init\": [20],\n",
    "        \"sim_init\": [0.1],\n",
    "        \"sim_init_type\": [\"random_clustering\"]\n",
    "    },\n",
    "    \"query_strategy_options\": {\n",
    "        \"acq_fn\": [\"freq\"],\n",
    "        \"local_regions\": \"pairs\",\n",
    "        \"eps\": [0.3],\n",
    "        \"beta\": 1,\n",
    "        \"tau\": [7],\n",
    "        \"alpha\": 1\n",
    "    },\n",
    "    \"dataset_options\": {\n",
    "        \"dataset\": datasets,\n",
    "    }\n",
    "}\n",
    "\n",
    "start_index = exp_reader.generate_experiments(\n",
    "    folder=\"../configs/predicting_exp/\", \n",
    "    options_to_keep=[],\n",
    "    start_index=start_index,\n",
    "    **config\n",
    ")"
   ]
  },
  {
   "cell_type": "code",
   "execution_count": 2,
   "metadata": {},
   "outputs": [],
   "source": [
    "datasets = \"cifar10_original\"\n",
    "from rac.experiment_data import ExperimentReader\n",
    "exp_reader = ExperimentReader([\"rand\"])\n",
    "config = {\n",
    "    \"general_options\": {\n",
    "        \"experiment_name\": \"predicting_exp\",\n",
    "        \"num_repeats\": 10,\n",
    "        \"n_workers\": 10,\n",
    "        \"local\": True,\n",
    "        \"verbose\": False\n",
    "    },\n",
    "    \"experiment_options\": {\n",
    "        \"seed\": 33,\n",
    "        \"num_feedback\": 0.01,\n",
    "        \"noise_level\": [0.0, 0.4, 0.6],\n",
    "        \"persistent_noise_level\": 0.0,\n",
    "        \"force_global_update\": True,\n",
    "        \"save_matrix_data\": False,\n",
    "        \"infer_sims\": False,\n",
    "        \"predict_sims\": [False],\n",
    "        \"base_net\": \"cifarnet\",\n",
    "        \"siamese\": True,\n",
    "        \"criterion\": \"bce\"\n",
    "    },\n",
    "    \"sim_init_options\": {\n",
    "        \"K_init\": [20],\n",
    "        \"sim_init\": [0.1],\n",
    "        \"sim_init_type\": [\"random_clustering\"]\n",
    "    },\n",
    "    \"query_strategy_options\": {\n",
    "        \"acq_fn\": [\"freq\"],\n",
    "        \"local_regions\": \"pairs\",\n",
    "        \"eps\": [0.3],\n",
    "        \"beta\": 1,\n",
    "        \"tau\": [7],\n",
    "        \"alpha\": 1\n",
    "    },\n",
    "    \"dataset_options\": {\n",
    "        \"dataset\": datasets,\n",
    "    }\n",
    "}\n",
    "\n",
    "start_index = exp_reader.generate_experiments(\n",
    "    folder=\"../configs/predicting_exp/\", \n",
    "    options_to_keep=[],\n",
    "    start_index=start_index,\n",
    "    **config\n",
    ")"
   ]
  },
  {
   "cell_type": "code",
   "execution_count": 1,
   "metadata": {},
   "outputs": [
    {
     "name": "stderr",
     "output_type": "stream",
     "text": [
      "c:\\github_projects\\robust-active-clustering\\rac\\experiment_data.py:571: UserWarning: FixedFormatter should only be used together with FixedLocator\n",
      "  ax.set_xticklabels(labels)\n",
      "c:\\github_projects\\robust-active-clustering\\rac\\experiment_data.py:571: UserWarning: FixedFormatter should only be used together with FixedLocator\n",
      "  ax.set_xticklabels(labels)\n",
      "c:\\github_projects\\robust-active-clustering\\rac\\experiment_data.py:571: UserWarning: FixedFormatter should only be used together with FixedLocator\n",
      "  ax.set_xticklabels(labels)\n",
      "c:\\github_projects\\robust-active-clustering\\rac\\experiment_data.py:571: UserWarning: FixedFormatter should only be used together with FixedLocator\n",
      "  ax.set_xticklabels(labels)\n",
      "c:\\github_projects\\robust-active-clustering\\rac\\experiment_data.py:571: UserWarning: FixedFormatter should only be used together with FixedLocator\n",
      "  ax.set_xticklabels(labels)\n",
      "c:\\github_projects\\robust-active-clustering\\rac\\experiment_data.py:571: UserWarning: FixedFormatter should only be used together with FixedLocator\n",
      "  ax.set_xticklabels(labels)\n"
     ]
    },
    {
     "data": {
      "text/plain": [
       "<Figure size 1200x1200 with 0 Axes>"
      ]
     },
     "metadata": {},
     "output_type": "display_data"
    }
   ],
   "source": [
    "from rac.experiment_data import ExperimentReader\n",
    "metrics = [\"rand\", \"ami\"]\n",
    "ac = ExperimentReader(metrics=metrics)\n",
    "datasets = \"cifar10_original\"\n",
    "config = {\n",
    "    \"general_options\": {\n",
    "        \"experiment_name\": \"predicting_exp\",\n",
    "        \"num_repeats\": 5,\n",
    "        \"n_workers\": 1,\n",
    "        \"local\": True,\n",
    "        \"verbose\": False\n",
    "    },\n",
    "    \"experiment_options\": {\n",
    "        \"seed\": 33,\n",
    "        \"num_feedback\": 0.001,\n",
    "        \"noise_level\": [0.0, 0.4, 0.6],\n",
    "        \"persistent_noise_level\": 0.0,\n",
    "        \"force_global_update\": True,\n",
    "        \"save_matrix_data\": False,\n",
    "        \"infer_sims\": False,\n",
    "        \"predict_sims\": [False, True]\n",
    "    },\n",
    "    \"sim_init_options\": {\n",
    "        \"K_init\": [20],\n",
    "        \"sim_init\": [0.1],\n",
    "        \"sim_init_type\": [\"random_clustering\"]\n",
    "    },\n",
    "    \"query_strategy_options\": {\n",
    "        \"acq_fn\": [\"freq\"],\n",
    "        \"local_regions\": \"pairs\",\n",
    "        \"eps\": [0.3],\n",
    "        \"beta\": 1,\n",
    "        \"tau\": [7],\n",
    "        \"alpha\": 1\n",
    "    },\n",
    "    \"dataset_options\": {\n",
    "        \"dataset\": datasets,\n",
    "    }\n",
    "}\n",
    "\n",
    "data = ac.read_all_data(folder=\"../experiment_results_local/predicting_exp\")\n",
    "ac.generate_AL_curves(\n",
    "    data,\n",
    "    save_location=\"../plots/predicting_exp\",\n",
    "    categorize=[\"dataset\", \"noise_level\"],\n",
    "    compare=[\"acq_fn\", \"local_regions\", \"predict_sims\"], \n",
    "    vary=[\"x\"],\n",
    "    auc=True,\n",
    "    summary_method=\"auc_max_ind\",\n",
    "    indices=[], \n",
    "    threshold=1,\n",
    "    err_style=\"band\",\n",
    "    marker=\"o\",\n",
    "    markersize=6,\n",
    "    capsize=6,\n",
    "    linestyle=\"solid\",\n",
    "    **config\n",
    ")"
   ]
  },
  {
   "cell_type": "code",
   "execution_count": null,
   "metadata": {},
   "outputs": [],
   "source": []
  },
  {
   "cell_type": "code",
   "execution_count": null,
   "metadata": {},
   "outputs": [],
   "source": []
  },
  {
   "cell_type": "code",
   "execution_count": 2,
   "metadata": {},
   "outputs": [],
   "source": [
    "from sklearn import datasets, metrics\n",
    "from active_semi_clustering.semi_supervised.pairwise_constraints import PCKMeans\n",
    "from active_semi_clustering.active.pairwise_constraints import ExampleOracle, ExploreConsolidate, MinMax"
   ]
  },
  {
   "cell_type": "code",
   "execution_count": 3,
   "metadata": {},
   "outputs": [],
   "source": [
    "X, y = datasets.load_iris(return_X_y=True)"
   ]
  },
  {
   "cell_type": "code",
   "execution_count": 4,
   "metadata": {},
   "outputs": [],
   "source": [
    "# TODO implement your own oracle that will, for example, query a domain expert via GUI or CLI\n",
    "oracle = ExampleOracle(y, max_queries_cnt=10)\n",
    "\n",
    "active_learner = MinMax(n_clusters=3)\n",
    "active_learner.fit(X, oracle=oracle)\n",
    "pairwise_constraints = active_learner.pairwise_constraints_"
   ]
  },
  {
   "cell_type": "code",
   "execution_count": 9,
   "metadata": {},
   "outputs": [
    {
     "data": {
      "text/plain": [
       "[(37, 118),\n",
       " (37, 106),\n",
       " (37, 100),\n",
       " (37, 50),\n",
       " (37, 98),\n",
       " (37, 62),\n",
       " (118, 37),\n",
       " (106, 37),\n",
       " (100, 37),\n",
       " (118, 50),\n",
       " (118, 98),\n",
       " (118, 62),\n",
       " (106, 50),\n",
       " (106, 98),\n",
       " (106, 62),\n",
       " (100, 50),\n",
       " (100, 98),\n",
       " (100, 62),\n",
       " (50, 37),\n",
       " (98, 37),\n",
       " (62, 37),\n",
       " (50, 118),\n",
       " (50, 106),\n",
       " (50, 100),\n",
       " (98, 118),\n",
       " (98, 106),\n",
       " (98, 100),\n",
       " (62, 118),\n",
       " (62, 106),\n",
       " (62, 100)]"
      ]
     },
     "execution_count": 9,
     "metadata": {},
     "output_type": "execute_result"
    }
   ],
   "source": [
    "pairwise_constraints[1]"
   ]
  },
  {
   "cell_type": "code",
   "execution_count": 5,
   "metadata": {},
   "outputs": [
    {
     "data": {
      "text/plain": [
       "<active_semi_clustering.semi_supervised.pairwise_constraints.pckmeans.PCKMeans at 0x19e6000c0a0>"
      ]
     },
     "execution_count": 5,
     "metadata": {},
     "output_type": "execute_result"
    }
   ],
   "source": [
    "clusterer = PCKMeans(n_clusters=3)\n",
    "clusterer.fit(X, ml=pairwise_constraints[0], cl=pairwise_constraints[1])"
   ]
  },
  {
   "cell_type": "code",
   "execution_count": 6,
   "metadata": {},
   "outputs": [
    {
     "data": {
      "text/plain": [
       "0.7436826319432358"
      ]
     },
     "execution_count": 6,
     "metadata": {},
     "output_type": "execute_result"
    }
   ],
   "source": [
    "metrics.adjusted_rand_score(y, clusterer.labels_)"
   ]
  },
  {
   "cell_type": "code",
   "execution_count": null,
   "metadata": {},
   "outputs": [],
   "source": []
  }
 ],
 "metadata": {
  "kernelspec": {
   "display_name": "base",
   "language": "python",
   "name": "python3"
  },
  "language_info": {
   "codemirror_mode": {
    "name": "ipython",
    "version": 3
   },
   "file_extension": ".py",
   "mimetype": "text/x-python",
   "name": "python",
   "nbconvert_exporter": "python",
   "pygments_lexer": "ipython3",
   "version": "3.9.13"
  },
  "orig_nbformat": 4
 },
 "nbformat": 4,
 "nbformat_minor": 2
}
