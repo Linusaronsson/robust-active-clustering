{
 "cells": [
  {
   "cell_type": "code",
   "execution_count": null,
   "metadata": {},
   "outputs": [],
   "source": [
    "start_index = 1\n",
    "from rac.experiment_data import ExperimentReader\n",
    "exp_reader = ExperimentReader([\"rand\"])\n",
    "config = {\n",
    "    \"general_options\": {\n",
    "        \"experiment_name\": \"prediction_exp\",\n",
    "        \"num_repeats\": 10,\n",
    "        \"n_workers\": 10,\n",
    "        \"local\": False,\n",
    "        \"verbose\": False\n",
    "    },\n",
    "    \"experiment_options\": {\n",
    "        \"seed\": 33,\n",
    "        \"num_feedback\": 0.001,\n",
    "        \"noise_level\": [0.6, 0.8, 0.85],\n",
    "        \"persistent_noise_level\": 0.0,\n",
    "        \"force_global_update\": True,\n",
    "        \"save_matrix_data\": False,\n",
    "        \"infer_sims\": False,\n",
    "    },\n",
    "    \"sim_init_options\": {\n",
    "        \"K_init\": [20],\n",
    "        \"sim_init\": [0.1],\n",
    "        \"sim_init_type\": [\"uniform_random\"]\n",
    "    },\n",
    "    \"query_strategy_options\": {\n",
    "        \"acq_fn\": [\"unif\", \"freq\", \"uncert\"],\n",
    "        \"local_regions\": \"pairs\",\n",
    "        \"eps\": [0.3],\n",
    "        \"beta\": 1,\n",
    "        \"tau\": [7],\n",
    "        \"alpha\": 1\n",
    "    },\n",
    "    \"dataset_options\": {\n",
    "        \"dataset\": \"cifar10\",\n",
    "    }\n",
    "}\n",
    "\n",
    "start_index = exp_reader.generate_experiments(\n",
    "    folder=\"../configs/prediction_exp/\", \n",
    "    options_to_keep=[],\n",
    "    start_index=start_index,\n",
    "    **config\n",
    ")"
   ]
  }
 ],
 "metadata": {
  "language_info": {
   "name": "python"
  },
  "orig_nbformat": 4
 },
 "nbformat": 4,
 "nbformat_minor": 2
}
