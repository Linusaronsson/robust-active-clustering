{
 "cells": [
  {
   "cell_type": "code",
   "execution_count": 52,
   "metadata": {},
   "outputs": [],
   "source": [
    "from rac.experiment_data import ExperimentReader\n",
    "er = ExperimentReader(metrics=[\"rand\"])\n",
    "\n",
    "start_index = 1\n",
    "config = {\n",
    "    \"_experiment_name\": \"test_experiment\",\n",
    "    \"_num_repeats\": 14,\n",
    "    \"_n_workers\": 14,\n",
    "    \"_local\": True,\n",
    "    \"_verbose\": True,\n",
    "    \"_overwrite\": False,\n",
    "    \"_mode\": \"ac\",\n",
    "\n",
    "    \"seed\": 14,\n",
    "    \"batch_size\": [5],\n",
    "    \"noise_level\": [0.1, 0.4],\n",
    "    \"clustering_alg\": \"CC\",\n",
    "    \"warm_start\": [0, 0.1],\n",
    "    \"K_init\": 10,\n",
    "    \"sim_init\": [0.01],\n",
    "    \"sim_init_type\": [\"zeros\"],\n",
    "    \"sample_size\": 1,\n",
    "    \"infer_threshold\": [-1],\n",
    "    \"start_inferring\": [0],\n",
    "\n",
    "    \"acq_fn\": [\"freq\", \"entropy\", \"info_gain_object\", \"bald\"],\n",
    "    \"eps\": [0.8],\n",
    "    \"beta\": [1],\n",
    "    \"tau\": [100],\n",
    "\n",
    "    \"alpha1\": [1],\n",
    "    \"alpha2\": [0.5],\n",
    "    \"alpha3\": [1],\n",
    "\n",
    "    \"r\": [0],\n",
    "    \"num_mc_samples\": [100],\n",
    "    \"num_mc\": [30],\n",
    "    \"num_mc_entropy\": [1, 10, 50],\n",
    "\n",
    "    \"num_maxmin_edges\": -1,\n",
    "    \"acq_noise\": [False, True],\n",
    "    \"fix_neg\": [False, True],\n",
    "    \"use_power\": True,\n",
    "    \"power_beta\": 1,\n",
    "    \"sparse_sim_matrix\": True,\n",
    "    \"mean_field_beta\": [1, 3, 30],\n",
    "    \"info_gain_lambda\": 1,\n",
    "    \"num_edges_info_gain\": [-1],\n",
    "    \"info_gain_pair_mode\": [\"uniform\"],\n",
    "    \"mf_iterations\": 100,\n",
    "\n",
    "    \"dataset_name\": \"synthetic\",\n",
    "    \"dataset_n_samples\": 70,\n",
    "    \"dataset_n_clusters\": [5],\n",
    "    \"dataset_class_balance\": None,\n",
    "    \"dataset_class_sep\": [1.5],\n",
    "    \"dataset_n_features\": [10],\n",
    "    \"dataset_y_flip\": [0],\n",
    "}\n",
    "\n",
    "\n",
    "\n",
    "start_index = er.generate_experiments(\n",
    "    folder=\"../configs/test_experiment\",\n",
    "    options_to_keep=[],\n",
    "    start_index=start_index, \n",
    "    **config\n",
    ")"
   ]
  },
  {
   "cell_type": "code",
   "execution_count": null,
   "metadata": {},
   "outputs": [],
   "source": []
  },
  {
   "cell_type": "code",
   "execution_count": 4,
   "metadata": {},
   "outputs": [],
   "source": [
    "from rac.experiment_data import ExperimentReader\n",
    "er = ExperimentReader(metrics=[\"rand\", \"num_repeat_queries\", \"num_violations\"])\n",
    "data = er.read_all_data(folder=\"../experiment_results_local/test_experiment/\")"
   ]
  },
  {
   "cell_type": "markdown",
   "metadata": {},
   "source": []
  },
  {
   "cell_type": "code",
   "execution_count": 7,
   "metadata": {},
   "outputs": [
    {
     "name": "stderr",
     "output_type": "stream",
     "text": [
      "c:\\github_projects\\robust-active-clustering\\rac\\experiment_data.py:441: UserWarning: The palette list has more values (36) than needed (5), which may not be intended.\n",
      "  ax = sns.lineplot(\n"
     ]
    },
    {
     "name": "stdout",
     "output_type": "stream",
     "text": [
      "70\n"
     ]
    },
    {
     "name": "stderr",
     "output_type": "stream",
     "text": [
      "c:\\github_projects\\robust-active-clustering\\rac\\experiment_data.py:475: UserWarning: FixedFormatter should only be used together with FixedLocator\n",
      "  ax.set_xticklabels(labels)\n",
      "c:\\github_projects\\robust-active-clustering\\rac\\experiment_data.py:441: UserWarning: The palette list has more values (36) than needed (5), which may not be intended.\n",
      "  ax = sns.lineplot(\n"
     ]
    },
    {
     "name": "stdout",
     "output_type": "stream",
     "text": [
      "70\n"
     ]
    },
    {
     "name": "stderr",
     "output_type": "stream",
     "text": [
      "c:\\github_projects\\robust-active-clustering\\rac\\experiment_data.py:475: UserWarning: FixedFormatter should only be used together with FixedLocator\n",
      "  ax.set_xticklabels(labels)\n",
      "c:\\github_projects\\robust-active-clustering\\rac\\experiment_data.py:441: UserWarning: The palette list has more values (36) than needed (5), which may not be intended.\n",
      "  ax = sns.lineplot(\n"
     ]
    },
    {
     "name": "stdout",
     "output_type": "stream",
     "text": [
      "70\n"
     ]
    },
    {
     "name": "stderr",
     "output_type": "stream",
     "text": [
      "c:\\github_projects\\robust-active-clustering\\rac\\experiment_data.py:475: UserWarning: FixedFormatter should only be used together with FixedLocator\n",
      "  ax.set_xticklabels(labels)\n",
      "c:\\github_projects\\robust-active-clustering\\rac\\experiment_data.py:441: UserWarning: The palette list has more values (36) than needed (5), which may not be intended.\n",
      "  ax = sns.lineplot(\n"
     ]
    },
    {
     "name": "stdout",
     "output_type": "stream",
     "text": [
      "70\n"
     ]
    },
    {
     "name": "stderr",
     "output_type": "stream",
     "text": [
      "c:\\github_projects\\robust-active-clustering\\rac\\experiment_data.py:475: UserWarning: FixedFormatter should only be used together with FixedLocator\n",
      "  ax.set_xticklabels(labels)\n",
      "c:\\github_projects\\robust-active-clustering\\rac\\experiment_data.py:441: UserWarning: The palette list has more values (36) than needed (5), which may not be intended.\n",
      "  ax = sns.lineplot(\n"
     ]
    },
    {
     "name": "stdout",
     "output_type": "stream",
     "text": [
      "70\n"
     ]
    },
    {
     "name": "stderr",
     "output_type": "stream",
     "text": [
      "c:\\github_projects\\robust-active-clustering\\rac\\experiment_data.py:475: UserWarning: FixedFormatter should only be used together with FixedLocator\n",
      "  ax.set_xticklabels(labels)\n",
      "c:\\github_projects\\robust-active-clustering\\rac\\experiment_data.py:441: UserWarning: The palette list has more values (36) than needed (5), which may not be intended.\n",
      "  ax = sns.lineplot(\n"
     ]
    },
    {
     "name": "stdout",
     "output_type": "stream",
     "text": [
      "70\n"
     ]
    },
    {
     "name": "stderr",
     "output_type": "stream",
     "text": [
      "c:\\github_projects\\robust-active-clustering\\rac\\experiment_data.py:475: UserWarning: FixedFormatter should only be used together with FixedLocator\n",
      "  ax.set_xticklabels(labels)\n",
      "c:\\github_projects\\robust-active-clustering\\rac\\experiment_data.py:441: UserWarning: The palette list has more values (36) than needed (5), which may not be intended.\n",
      "  ax = sns.lineplot(\n"
     ]
    },
    {
     "name": "stdout",
     "output_type": "stream",
     "text": [
      "70\n"
     ]
    },
    {
     "name": "stderr",
     "output_type": "stream",
     "text": [
      "c:\\github_projects\\robust-active-clustering\\rac\\experiment_data.py:475: UserWarning: FixedFormatter should only be used together with FixedLocator\n",
      "  ax.set_xticklabels(labels)\n",
      "c:\\github_projects\\robust-active-clustering\\rac\\experiment_data.py:441: UserWarning: The palette list has more values (36) than needed (5), which may not be intended.\n",
      "  ax = sns.lineplot(\n"
     ]
    },
    {
     "name": "stdout",
     "output_type": "stream",
     "text": [
      "70\n"
     ]
    },
    {
     "name": "stderr",
     "output_type": "stream",
     "text": [
      "c:\\github_projects\\robust-active-clustering\\rac\\experiment_data.py:475: UserWarning: FixedFormatter should only be used together with FixedLocator\n",
      "  ax.set_xticklabels(labels)\n",
      "c:\\github_projects\\robust-active-clustering\\rac\\experiment_data.py:441: UserWarning: The palette list has more values (36) than needed (5), which may not be intended.\n",
      "  ax = sns.lineplot(\n"
     ]
    },
    {
     "name": "stdout",
     "output_type": "stream",
     "text": [
      "70\n"
     ]
    },
    {
     "name": "stderr",
     "output_type": "stream",
     "text": [
      "c:\\github_projects\\robust-active-clustering\\rac\\experiment_data.py:475: UserWarning: FixedFormatter should only be used together with FixedLocator\n",
      "  ax.set_xticklabels(labels)\n",
      "c:\\github_projects\\robust-active-clustering\\rac\\experiment_data.py:441: UserWarning: The palette list has more values (36) than needed (5), which may not be intended.\n",
      "  ax = sns.lineplot(\n"
     ]
    },
    {
     "name": "stdout",
     "output_type": "stream",
     "text": [
      "70\n"
     ]
    },
    {
     "name": "stderr",
     "output_type": "stream",
     "text": [
      "c:\\github_projects\\robust-active-clustering\\rac\\experiment_data.py:475: UserWarning: FixedFormatter should only be used together with FixedLocator\n",
      "  ax.set_xticklabels(labels)\n",
      "c:\\github_projects\\robust-active-clustering\\rac\\experiment_data.py:441: UserWarning: The palette list has more values (36) than needed (5), which may not be intended.\n",
      "  ax = sns.lineplot(\n"
     ]
    },
    {
     "name": "stdout",
     "output_type": "stream",
     "text": [
      "70\n"
     ]
    },
    {
     "name": "stderr",
     "output_type": "stream",
     "text": [
      "c:\\github_projects\\robust-active-clustering\\rac\\experiment_data.py:475: UserWarning: FixedFormatter should only be used together with FixedLocator\n",
      "  ax.set_xticklabels(labels)\n",
      "c:\\github_projects\\robust-active-clustering\\rac\\experiment_data.py:441: UserWarning: The palette list has more values (36) than needed (5), which may not be intended.\n",
      "  ax = sns.lineplot(\n"
     ]
    },
    {
     "name": "stdout",
     "output_type": "stream",
     "text": [
      "70\n"
     ]
    },
    {
     "name": "stderr",
     "output_type": "stream",
     "text": [
      "c:\\github_projects\\robust-active-clustering\\rac\\experiment_data.py:475: UserWarning: FixedFormatter should only be used together with FixedLocator\n",
      "  ax.set_xticklabels(labels)\n",
      "c:\\github_projects\\robust-active-clustering\\rac\\experiment_data.py:441: UserWarning: The palette list has more values (36) than needed (5), which may not be intended.\n",
      "  ax = sns.lineplot(\n"
     ]
    },
    {
     "name": "stdout",
     "output_type": "stream",
     "text": [
      "70\n"
     ]
    },
    {
     "name": "stderr",
     "output_type": "stream",
     "text": [
      "c:\\github_projects\\robust-active-clustering\\rac\\experiment_data.py:475: UserWarning: FixedFormatter should only be used together with FixedLocator\n",
      "  ax.set_xticklabels(labels)\n",
      "c:\\github_projects\\robust-active-clustering\\rac\\experiment_data.py:441: UserWarning: The palette list has more values (36) than needed (5), which may not be intended.\n",
      "  ax = sns.lineplot(\n"
     ]
    },
    {
     "name": "stdout",
     "output_type": "stream",
     "text": [
      "70\n"
     ]
    },
    {
     "name": "stderr",
     "output_type": "stream",
     "text": [
      "c:\\github_projects\\robust-active-clustering\\rac\\experiment_data.py:475: UserWarning: FixedFormatter should only be used together with FixedLocator\n",
      "  ax.set_xticklabels(labels)\n",
      "c:\\github_projects\\robust-active-clustering\\rac\\experiment_data.py:441: UserWarning: The palette list has more values (36) than needed (5), which may not be intended.\n",
      "  ax = sns.lineplot(\n"
     ]
    },
    {
     "name": "stdout",
     "output_type": "stream",
     "text": [
      "70\n"
     ]
    },
    {
     "name": "stderr",
     "output_type": "stream",
     "text": [
      "c:\\github_projects\\robust-active-clustering\\rac\\experiment_data.py:475: UserWarning: FixedFormatter should only be used together with FixedLocator\n",
      "  ax.set_xticklabels(labels)\n",
      "c:\\github_projects\\robust-active-clustering\\rac\\experiment_data.py:441: UserWarning: The palette list has more values (36) than needed (5), which may not be intended.\n",
      "  ax = sns.lineplot(\n"
     ]
    },
    {
     "name": "stdout",
     "output_type": "stream",
     "text": [
      "70\n"
     ]
    },
    {
     "name": "stderr",
     "output_type": "stream",
     "text": [
      "c:\\github_projects\\robust-active-clustering\\rac\\experiment_data.py:475: UserWarning: FixedFormatter should only be used together with FixedLocator\n",
      "  ax.set_xticklabels(labels)\n",
      "c:\\github_projects\\robust-active-clustering\\rac\\experiment_data.py:441: UserWarning: The palette list has more values (36) than needed (5), which may not be intended.\n",
      "  ax = sns.lineplot(\n"
     ]
    },
    {
     "name": "stdout",
     "output_type": "stream",
     "text": [
      "70\n"
     ]
    },
    {
     "name": "stderr",
     "output_type": "stream",
     "text": [
      "c:\\github_projects\\robust-active-clustering\\rac\\experiment_data.py:475: UserWarning: FixedFormatter should only be used together with FixedLocator\n",
      "  ax.set_xticklabels(labels)\n",
      "c:\\github_projects\\robust-active-clustering\\rac\\experiment_data.py:441: UserWarning: The palette list has more values (36) than needed (5), which may not be intended.\n",
      "  ax = sns.lineplot(\n"
     ]
    },
    {
     "name": "stdout",
     "output_type": "stream",
     "text": [
      "70\n"
     ]
    },
    {
     "name": "stderr",
     "output_type": "stream",
     "text": [
      "c:\\github_projects\\robust-active-clustering\\rac\\experiment_data.py:475: UserWarning: FixedFormatter should only be used together with FixedLocator\n",
      "  ax.set_xticklabels(labels)\n",
      "c:\\github_projects\\robust-active-clustering\\rac\\experiment_data.py:441: UserWarning: The palette list has more values (36) than needed (5), which may not be intended.\n",
      "  ax = sns.lineplot(\n"
     ]
    },
    {
     "name": "stdout",
     "output_type": "stream",
     "text": [
      "70\n"
     ]
    },
    {
     "name": "stderr",
     "output_type": "stream",
     "text": [
      "c:\\github_projects\\robust-active-clustering\\rac\\experiment_data.py:475: UserWarning: FixedFormatter should only be used together with FixedLocator\n",
      "  ax.set_xticklabels(labels)\n",
      "c:\\github_projects\\robust-active-clustering\\rac\\experiment_data.py:441: UserWarning: The palette list has more values (36) than needed (5), which may not be intended.\n",
      "  ax = sns.lineplot(\n"
     ]
    },
    {
     "name": "stdout",
     "output_type": "stream",
     "text": [
      "70\n"
     ]
    },
    {
     "name": "stderr",
     "output_type": "stream",
     "text": [
      "c:\\github_projects\\robust-active-clustering\\rac\\experiment_data.py:475: UserWarning: FixedFormatter should only be used together with FixedLocator\n",
      "  ax.set_xticklabels(labels)\n",
      "c:\\github_projects\\robust-active-clustering\\rac\\experiment_data.py:441: UserWarning: The palette list has more values (36) than needed (5), which may not be intended.\n",
      "  ax = sns.lineplot(\n"
     ]
    },
    {
     "name": "stdout",
     "output_type": "stream",
     "text": [
      "70\n"
     ]
    },
    {
     "name": "stderr",
     "output_type": "stream",
     "text": [
      "c:\\github_projects\\robust-active-clustering\\rac\\experiment_data.py:475: UserWarning: FixedFormatter should only be used together with FixedLocator\n",
      "  ax.set_xticklabels(labels)\n",
      "c:\\github_projects\\robust-active-clustering\\rac\\experiment_data.py:441: UserWarning: The palette list has more values (36) than needed (5), which may not be intended.\n",
      "  ax = sns.lineplot(\n"
     ]
    },
    {
     "name": "stdout",
     "output_type": "stream",
     "text": [
      "70\n"
     ]
    },
    {
     "name": "stderr",
     "output_type": "stream",
     "text": [
      "c:\\github_projects\\robust-active-clustering\\rac\\experiment_data.py:475: UserWarning: FixedFormatter should only be used together with FixedLocator\n",
      "  ax.set_xticklabels(labels)\n",
      "c:\\github_projects\\robust-active-clustering\\rac\\experiment_data.py:441: UserWarning: The palette list has more values (36) than needed (5), which may not be intended.\n",
      "  ax = sns.lineplot(\n"
     ]
    },
    {
     "name": "stdout",
     "output_type": "stream",
     "text": [
      "70\n"
     ]
    },
    {
     "name": "stderr",
     "output_type": "stream",
     "text": [
      "c:\\github_projects\\robust-active-clustering\\rac\\experiment_data.py:475: UserWarning: FixedFormatter should only be used together with FixedLocator\n",
      "  ax.set_xticklabels(labels)\n",
      "c:\\github_projects\\robust-active-clustering\\rac\\experiment_data.py:441: UserWarning: The palette list has more values (36) than needed (5), which may not be intended.\n",
      "  ax = sns.lineplot(\n"
     ]
    },
    {
     "name": "stdout",
     "output_type": "stream",
     "text": [
      "70\n"
     ]
    },
    {
     "name": "stderr",
     "output_type": "stream",
     "text": [
      "c:\\github_projects\\robust-active-clustering\\rac\\experiment_data.py:475: UserWarning: FixedFormatter should only be used together with FixedLocator\n",
      "  ax.set_xticklabels(labels)\n",
      "c:\\github_projects\\robust-active-clustering\\rac\\experiment_data.py:441: UserWarning: The palette list has more values (36) than needed (5), which may not be intended.\n",
      "  ax = sns.lineplot(\n"
     ]
    },
    {
     "name": "stdout",
     "output_type": "stream",
     "text": [
      "70\n"
     ]
    },
    {
     "name": "stderr",
     "output_type": "stream",
     "text": [
      "c:\\github_projects\\robust-active-clustering\\rac\\experiment_data.py:475: UserWarning: FixedFormatter should only be used together with FixedLocator\n",
      "  ax.set_xticklabels(labels)\n",
      "c:\\github_projects\\robust-active-clustering\\rac\\experiment_data.py:441: UserWarning: The palette list has more values (36) than needed (5), which may not be intended.\n",
      "  ax = sns.lineplot(\n"
     ]
    },
    {
     "name": "stdout",
     "output_type": "stream",
     "text": [
      "70\n"
     ]
    },
    {
     "name": "stderr",
     "output_type": "stream",
     "text": [
      "c:\\github_projects\\robust-active-clustering\\rac\\experiment_data.py:475: UserWarning: FixedFormatter should only be used together with FixedLocator\n",
      "  ax.set_xticklabels(labels)\n",
      "c:\\github_projects\\robust-active-clustering\\rac\\experiment_data.py:441: UserWarning: The palette list has more values (36) than needed (5), which may not be intended.\n",
      "  ax = sns.lineplot(\n"
     ]
    },
    {
     "name": "stdout",
     "output_type": "stream",
     "text": [
      "70\n"
     ]
    },
    {
     "name": "stderr",
     "output_type": "stream",
     "text": [
      "c:\\github_projects\\robust-active-clustering\\rac\\experiment_data.py:475: UserWarning: FixedFormatter should only be used together with FixedLocator\n",
      "  ax.set_xticklabels(labels)\n",
      "c:\\github_projects\\robust-active-clustering\\rac\\experiment_data.py:441: UserWarning: The palette list has more values (36) than needed (5), which may not be intended.\n",
      "  ax = sns.lineplot(\n"
     ]
    },
    {
     "name": "stdout",
     "output_type": "stream",
     "text": [
      "70\n"
     ]
    },
    {
     "name": "stderr",
     "output_type": "stream",
     "text": [
      "c:\\github_projects\\robust-active-clustering\\rac\\experiment_data.py:475: UserWarning: FixedFormatter should only be used together with FixedLocator\n",
      "  ax.set_xticklabels(labels)\n",
      "c:\\github_projects\\robust-active-clustering\\rac\\experiment_data.py:441: UserWarning: The palette list has more values (36) than needed (5), which may not be intended.\n",
      "  ax = sns.lineplot(\n"
     ]
    },
    {
     "name": "stdout",
     "output_type": "stream",
     "text": [
      "70\n"
     ]
    },
    {
     "name": "stderr",
     "output_type": "stream",
     "text": [
      "c:\\github_projects\\robust-active-clustering\\rac\\experiment_data.py:475: UserWarning: FixedFormatter should only be used together with FixedLocator\n",
      "  ax.set_xticklabels(labels)\n",
      "c:\\github_projects\\robust-active-clustering\\rac\\experiment_data.py:441: UserWarning: The palette list has more values (36) than needed (5), which may not be intended.\n",
      "  ax = sns.lineplot(\n"
     ]
    },
    {
     "name": "stdout",
     "output_type": "stream",
     "text": [
      "70\n"
     ]
    },
    {
     "name": "stderr",
     "output_type": "stream",
     "text": [
      "c:\\github_projects\\robust-active-clustering\\rac\\experiment_data.py:475: UserWarning: FixedFormatter should only be used together with FixedLocator\n",
      "  ax.set_xticklabels(labels)\n",
      "c:\\github_projects\\robust-active-clustering\\rac\\experiment_data.py:441: UserWarning: The palette list has more values (36) than needed (5), which may not be intended.\n",
      "  ax = sns.lineplot(\n"
     ]
    },
    {
     "name": "stdout",
     "output_type": "stream",
     "text": [
      "70\n"
     ]
    },
    {
     "name": "stderr",
     "output_type": "stream",
     "text": [
      "c:\\github_projects\\robust-active-clustering\\rac\\experiment_data.py:475: UserWarning: FixedFormatter should only be used together with FixedLocator\n",
      "  ax.set_xticklabels(labels)\n",
      "c:\\github_projects\\robust-active-clustering\\rac\\experiment_data.py:441: UserWarning: The palette list has more values (36) than needed (5), which may not be intended.\n",
      "  ax = sns.lineplot(\n"
     ]
    },
    {
     "name": "stdout",
     "output_type": "stream",
     "text": [
      "70\n"
     ]
    },
    {
     "name": "stderr",
     "output_type": "stream",
     "text": [
      "c:\\github_projects\\robust-active-clustering\\rac\\experiment_data.py:475: UserWarning: FixedFormatter should only be used together with FixedLocator\n",
      "  ax.set_xticklabels(labels)\n",
      "c:\\github_projects\\robust-active-clustering\\rac\\experiment_data.py:441: UserWarning: The palette list has more values (36) than needed (5), which may not be intended.\n",
      "  ax = sns.lineplot(\n"
     ]
    },
    {
     "name": "stdout",
     "output_type": "stream",
     "text": [
      "70\n"
     ]
    },
    {
     "name": "stderr",
     "output_type": "stream",
     "text": [
      "c:\\github_projects\\robust-active-clustering\\rac\\experiment_data.py:475: UserWarning: FixedFormatter should only be used together with FixedLocator\n",
      "  ax.set_xticklabels(labels)\n",
      "c:\\github_projects\\robust-active-clustering\\rac\\experiment_data.py:441: UserWarning: The palette list has more values (36) than needed (5), which may not be intended.\n",
      "  ax = sns.lineplot(\n"
     ]
    },
    {
     "name": "stdout",
     "output_type": "stream",
     "text": [
      "70\n"
     ]
    },
    {
     "name": "stderr",
     "output_type": "stream",
     "text": [
      "c:\\github_projects\\robust-active-clustering\\rac\\experiment_data.py:475: UserWarning: FixedFormatter should only be used together with FixedLocator\n",
      "  ax.set_xticklabels(labels)\n",
      "c:\\github_projects\\robust-active-clustering\\rac\\experiment_data.py:441: UserWarning: The palette list has more values (36) than needed (5), which may not be intended.\n",
      "  ax = sns.lineplot(\n"
     ]
    },
    {
     "name": "stdout",
     "output_type": "stream",
     "text": [
      "70\n"
     ]
    },
    {
     "name": "stderr",
     "output_type": "stream",
     "text": [
      "c:\\github_projects\\robust-active-clustering\\rac\\experiment_data.py:475: UserWarning: FixedFormatter should only be used together with FixedLocator\n",
      "  ax.set_xticklabels(labels)\n",
      "c:\\github_projects\\robust-active-clustering\\rac\\experiment_data.py:441: UserWarning: The palette list has more values (36) than needed (5), which may not be intended.\n",
      "  ax = sns.lineplot(\n"
     ]
    },
    {
     "name": "stdout",
     "output_type": "stream",
     "text": [
      "70\n"
     ]
    },
    {
     "name": "stderr",
     "output_type": "stream",
     "text": [
      "c:\\github_projects\\robust-active-clustering\\rac\\experiment_data.py:475: UserWarning: FixedFormatter should only be used together with FixedLocator\n",
      "  ax.set_xticklabels(labels)\n",
      "c:\\github_projects\\robust-active-clustering\\rac\\experiment_data.py:441: UserWarning: The palette list has more values (36) than needed (5), which may not be intended.\n",
      "  ax = sns.lineplot(\n"
     ]
    },
    {
     "name": "stdout",
     "output_type": "stream",
     "text": [
      "70\n"
     ]
    },
    {
     "name": "stderr",
     "output_type": "stream",
     "text": [
      "c:\\github_projects\\robust-active-clustering\\rac\\experiment_data.py:475: UserWarning: FixedFormatter should only be used together with FixedLocator\n",
      "  ax.set_xticklabels(labels)\n",
      "c:\\github_projects\\robust-active-clustering\\rac\\experiment_data.py:441: UserWarning: The palette list has more values (36) than needed (5), which may not be intended.\n",
      "  ax = sns.lineplot(\n"
     ]
    },
    {
     "name": "stdout",
     "output_type": "stream",
     "text": [
      "70\n"
     ]
    },
    {
     "name": "stderr",
     "output_type": "stream",
     "text": [
      "c:\\github_projects\\robust-active-clustering\\rac\\experiment_data.py:475: UserWarning: FixedFormatter should only be used together with FixedLocator\n",
      "  ax.set_xticklabels(labels)\n",
      "c:\\github_projects\\robust-active-clustering\\rac\\experiment_data.py:441: UserWarning: The palette list has more values (36) than needed (5), which may not be intended.\n",
      "  ax = sns.lineplot(\n"
     ]
    },
    {
     "name": "stdout",
     "output_type": "stream",
     "text": [
      "70\n"
     ]
    },
    {
     "name": "stderr",
     "output_type": "stream",
     "text": [
      "c:\\github_projects\\robust-active-clustering\\rac\\experiment_data.py:475: UserWarning: FixedFormatter should only be used together with FixedLocator\n",
      "  ax.set_xticklabels(labels)\n",
      "c:\\github_projects\\robust-active-clustering\\rac\\experiment_data.py:441: UserWarning: The palette list has more values (36) than needed (5), which may not be intended.\n",
      "  ax = sns.lineplot(\n"
     ]
    },
    {
     "name": "stdout",
     "output_type": "stream",
     "text": [
      "70\n"
     ]
    },
    {
     "name": "stderr",
     "output_type": "stream",
     "text": [
      "c:\\github_projects\\robust-active-clustering\\rac\\experiment_data.py:475: UserWarning: FixedFormatter should only be used together with FixedLocator\n",
      "  ax.set_xticklabels(labels)\n",
      "c:\\github_projects\\robust-active-clustering\\rac\\experiment_data.py:441: UserWarning: The palette list has more values (36) than needed (5), which may not be intended.\n",
      "  ax = sns.lineplot(\n"
     ]
    },
    {
     "name": "stdout",
     "output_type": "stream",
     "text": [
      "70\n"
     ]
    },
    {
     "name": "stderr",
     "output_type": "stream",
     "text": [
      "c:\\github_projects\\robust-active-clustering\\rac\\experiment_data.py:475: UserWarning: FixedFormatter should only be used together with FixedLocator\n",
      "  ax.set_xticklabels(labels)\n",
      "c:\\github_projects\\robust-active-clustering\\rac\\experiment_data.py:441: UserWarning: The palette list has more values (36) than needed (5), which may not be intended.\n",
      "  ax = sns.lineplot(\n"
     ]
    },
    {
     "name": "stdout",
     "output_type": "stream",
     "text": [
      "70\n"
     ]
    },
    {
     "name": "stderr",
     "output_type": "stream",
     "text": [
      "c:\\github_projects\\robust-active-clustering\\rac\\experiment_data.py:475: UserWarning: FixedFormatter should only be used together with FixedLocator\n",
      "  ax.set_xticklabels(labels)\n",
      "c:\\github_projects\\robust-active-clustering\\rac\\experiment_data.py:441: UserWarning: The palette list has more values (36) than needed (5), which may not be intended.\n",
      "  ax = sns.lineplot(\n"
     ]
    },
    {
     "name": "stdout",
     "output_type": "stream",
     "text": [
      "70\n"
     ]
    },
    {
     "name": "stderr",
     "output_type": "stream",
     "text": [
      "c:\\github_projects\\robust-active-clustering\\rac\\experiment_data.py:475: UserWarning: FixedFormatter should only be used together with FixedLocator\n",
      "  ax.set_xticklabels(labels)\n",
      "c:\\github_projects\\robust-active-clustering\\rac\\experiment_data.py:441: UserWarning: The palette list has more values (36) than needed (5), which may not be intended.\n",
      "  ax = sns.lineplot(\n"
     ]
    },
    {
     "name": "stdout",
     "output_type": "stream",
     "text": [
      "70\n"
     ]
    },
    {
     "name": "stderr",
     "output_type": "stream",
     "text": [
      "c:\\github_projects\\robust-active-clustering\\rac\\experiment_data.py:475: UserWarning: FixedFormatter should only be used together with FixedLocator\n",
      "  ax.set_xticklabels(labels)\n",
      "c:\\github_projects\\robust-active-clustering\\rac\\experiment_data.py:441: UserWarning: The palette list has more values (36) than needed (5), which may not be intended.\n",
      "  ax = sns.lineplot(\n"
     ]
    },
    {
     "name": "stdout",
     "output_type": "stream",
     "text": [
      "70\n"
     ]
    },
    {
     "name": "stderr",
     "output_type": "stream",
     "text": [
      "c:\\github_projects\\robust-active-clustering\\rac\\experiment_data.py:475: UserWarning: FixedFormatter should only be used together with FixedLocator\n",
      "  ax.set_xticklabels(labels)\n",
      "c:\\github_projects\\robust-active-clustering\\rac\\experiment_data.py:441: UserWarning: The palette list has more values (36) than needed (5), which may not be intended.\n",
      "  ax = sns.lineplot(\n"
     ]
    },
    {
     "name": "stdout",
     "output_type": "stream",
     "text": [
      "70\n"
     ]
    },
    {
     "name": "stderr",
     "output_type": "stream",
     "text": [
      "c:\\github_projects\\robust-active-clustering\\rac\\experiment_data.py:475: UserWarning: FixedFormatter should only be used together with FixedLocator\n",
      "  ax.set_xticklabels(labels)\n",
      "c:\\github_projects\\robust-active-clustering\\rac\\experiment_data.py:441: UserWarning: The palette list has more values (36) than needed (5), which may not be intended.\n",
      "  ax = sns.lineplot(\n"
     ]
    },
    {
     "name": "stdout",
     "output_type": "stream",
     "text": [
      "70\n"
     ]
    },
    {
     "name": "stderr",
     "output_type": "stream",
     "text": [
      "c:\\github_projects\\robust-active-clustering\\rac\\experiment_data.py:475: UserWarning: FixedFormatter should only be used together with FixedLocator\n",
      "  ax.set_xticklabels(labels)\n",
      "c:\\github_projects\\robust-active-clustering\\rac\\experiment_data.py:441: UserWarning: The palette list has more values (36) than needed (5), which may not be intended.\n",
      "  ax = sns.lineplot(\n"
     ]
    },
    {
     "name": "stdout",
     "output_type": "stream",
     "text": [
      "70\n"
     ]
    },
    {
     "name": "stderr",
     "output_type": "stream",
     "text": [
      "c:\\github_projects\\robust-active-clustering\\rac\\experiment_data.py:475: UserWarning: FixedFormatter should only be used together with FixedLocator\n",
      "  ax.set_xticklabels(labels)\n",
      "c:\\github_projects\\robust-active-clustering\\rac\\experiment_data.py:441: UserWarning: The palette list has more values (36) than needed (5), which may not be intended.\n",
      "  ax = sns.lineplot(\n"
     ]
    },
    {
     "name": "stdout",
     "output_type": "stream",
     "text": [
      "70\n"
     ]
    },
    {
     "name": "stderr",
     "output_type": "stream",
     "text": [
      "c:\\github_projects\\robust-active-clustering\\rac\\experiment_data.py:475: UserWarning: FixedFormatter should only be used together with FixedLocator\n",
      "  ax.set_xticklabels(labels)\n",
      "c:\\github_projects\\robust-active-clustering\\rac\\experiment_data.py:441: UserWarning: The palette list has more values (36) than needed (5), which may not be intended.\n",
      "  ax = sns.lineplot(\n"
     ]
    },
    {
     "name": "stdout",
     "output_type": "stream",
     "text": [
      "70\n"
     ]
    },
    {
     "name": "stderr",
     "output_type": "stream",
     "text": [
      "c:\\github_projects\\robust-active-clustering\\rac\\experiment_data.py:475: UserWarning: FixedFormatter should only be used together with FixedLocator\n",
      "  ax.set_xticklabels(labels)\n",
      "c:\\github_projects\\robust-active-clustering\\rac\\experiment_data.py:441: UserWarning: The palette list has more values (36) than needed (5), which may not be intended.\n",
      "  ax = sns.lineplot(\n"
     ]
    },
    {
     "name": "stdout",
     "output_type": "stream",
     "text": [
      "70\n"
     ]
    },
    {
     "name": "stderr",
     "output_type": "stream",
     "text": [
      "c:\\github_projects\\robust-active-clustering\\rac\\experiment_data.py:475: UserWarning: FixedFormatter should only be used together with FixedLocator\n",
      "  ax.set_xticklabels(labels)\n",
      "c:\\github_projects\\robust-active-clustering\\rac\\experiment_data.py:441: UserWarning: The palette list has more values (36) than needed (4), which may not be intended.\n",
      "  ax = sns.lineplot(\n"
     ]
    },
    {
     "name": "stdout",
     "output_type": "stream",
     "text": [
      "70\n"
     ]
    },
    {
     "name": "stderr",
     "output_type": "stream",
     "text": [
      "c:\\github_projects\\robust-active-clustering\\rac\\experiment_data.py:475: UserWarning: FixedFormatter should only be used together with FixedLocator\n",
      "  ax.set_xticklabels(labels)\n",
      "c:\\github_projects\\robust-active-clustering\\rac\\experiment_data.py:441: UserWarning: The palette list has more values (36) than needed (5), which may not be intended.\n",
      "  ax = sns.lineplot(\n"
     ]
    },
    {
     "name": "stdout",
     "output_type": "stream",
     "text": [
      "70\n"
     ]
    },
    {
     "name": "stderr",
     "output_type": "stream",
     "text": [
      "c:\\github_projects\\robust-active-clustering\\rac\\experiment_data.py:475: UserWarning: FixedFormatter should only be used together with FixedLocator\n",
      "  ax.set_xticklabels(labels)\n",
      "c:\\github_projects\\robust-active-clustering\\rac\\experiment_data.py:441: UserWarning: The palette list has more values (36) than needed (5), which may not be intended.\n",
      "  ax = sns.lineplot(\n"
     ]
    },
    {
     "name": "stdout",
     "output_type": "stream",
     "text": [
      "70\n"
     ]
    },
    {
     "name": "stderr",
     "output_type": "stream",
     "text": [
      "c:\\github_projects\\robust-active-clustering\\rac\\experiment_data.py:475: UserWarning: FixedFormatter should only be used together with FixedLocator\n",
      "  ax.set_xticklabels(labels)\n",
      "c:\\github_projects\\robust-active-clustering\\rac\\experiment_data.py:441: UserWarning: The palette list has more values (36) than needed (5), which may not be intended.\n",
      "  ax = sns.lineplot(\n"
     ]
    },
    {
     "name": "stdout",
     "output_type": "stream",
     "text": [
      "70\n"
     ]
    },
    {
     "name": "stderr",
     "output_type": "stream",
     "text": [
      "c:\\github_projects\\robust-active-clustering\\rac\\experiment_data.py:475: UserWarning: FixedFormatter should only be used together with FixedLocator\n",
      "  ax.set_xticklabels(labels)\n",
      "c:\\github_projects\\robust-active-clustering\\rac\\experiment_data.py:441: UserWarning: The palette list has more values (36) than needed (5), which may not be intended.\n",
      "  ax = sns.lineplot(\n"
     ]
    },
    {
     "name": "stdout",
     "output_type": "stream",
     "text": [
      "70\n"
     ]
    },
    {
     "name": "stderr",
     "output_type": "stream",
     "text": [
      "c:\\github_projects\\robust-active-clustering\\rac\\experiment_data.py:475: UserWarning: FixedFormatter should only be used together with FixedLocator\n",
      "  ax.set_xticklabels(labels)\n",
      "c:\\github_projects\\robust-active-clustering\\rac\\experiment_data.py:441: UserWarning: The palette list has more values (36) than needed (5), which may not be intended.\n",
      "  ax = sns.lineplot(\n"
     ]
    },
    {
     "name": "stdout",
     "output_type": "stream",
     "text": [
      "70\n"
     ]
    },
    {
     "name": "stderr",
     "output_type": "stream",
     "text": [
      "c:\\github_projects\\robust-active-clustering\\rac\\experiment_data.py:475: UserWarning: FixedFormatter should only be used together with FixedLocator\n",
      "  ax.set_xticklabels(labels)\n",
      "c:\\github_projects\\robust-active-clustering\\rac\\experiment_data.py:441: UserWarning: The palette list has more values (36) than needed (5), which may not be intended.\n",
      "  ax = sns.lineplot(\n"
     ]
    },
    {
     "name": "stdout",
     "output_type": "stream",
     "text": [
      "70\n"
     ]
    },
    {
     "name": "stderr",
     "output_type": "stream",
     "text": [
      "c:\\github_projects\\robust-active-clustering\\rac\\experiment_data.py:475: UserWarning: FixedFormatter should only be used together with FixedLocator\n",
      "  ax.set_xticklabels(labels)\n",
      "c:\\github_projects\\robust-active-clustering\\rac\\experiment_data.py:441: UserWarning: The palette list has more values (36) than needed (5), which may not be intended.\n",
      "  ax = sns.lineplot(\n"
     ]
    },
    {
     "name": "stdout",
     "output_type": "stream",
     "text": [
      "70\n"
     ]
    },
    {
     "name": "stderr",
     "output_type": "stream",
     "text": [
      "c:\\github_projects\\robust-active-clustering\\rac\\experiment_data.py:475: UserWarning: FixedFormatter should only be used together with FixedLocator\n",
      "  ax.set_xticklabels(labels)\n",
      "c:\\github_projects\\robust-active-clustering\\rac\\experiment_data.py:441: UserWarning: The palette list has more values (36) than needed (5), which may not be intended.\n",
      "  ax = sns.lineplot(\n"
     ]
    },
    {
     "name": "stdout",
     "output_type": "stream",
     "text": [
      "70\n"
     ]
    },
    {
     "name": "stderr",
     "output_type": "stream",
     "text": [
      "c:\\github_projects\\robust-active-clustering\\rac\\experiment_data.py:475: UserWarning: FixedFormatter should only be used together with FixedLocator\n",
      "  ax.set_xticklabels(labels)\n",
      "c:\\github_projects\\robust-active-clustering\\rac\\experiment_data.py:441: UserWarning: The palette list has more values (36) than needed (5), which may not be intended.\n",
      "  ax = sns.lineplot(\n"
     ]
    },
    {
     "name": "stdout",
     "output_type": "stream",
     "text": [
      "70\n"
     ]
    },
    {
     "name": "stderr",
     "output_type": "stream",
     "text": [
      "c:\\github_projects\\robust-active-clustering\\rac\\experiment_data.py:475: UserWarning: FixedFormatter should only be used together with FixedLocator\n",
      "  ax.set_xticklabels(labels)\n",
      "c:\\github_projects\\robust-active-clustering\\rac\\experiment_data.py:441: UserWarning: The palette list has more values (36) than needed (5), which may not be intended.\n",
      "  ax = sns.lineplot(\n"
     ]
    },
    {
     "name": "stdout",
     "output_type": "stream",
     "text": [
      "70\n"
     ]
    },
    {
     "name": "stderr",
     "output_type": "stream",
     "text": [
      "c:\\github_projects\\robust-active-clustering\\rac\\experiment_data.py:475: UserWarning: FixedFormatter should only be used together with FixedLocator\n",
      "  ax.set_xticklabels(labels)\n",
      "c:\\github_projects\\robust-active-clustering\\rac\\experiment_data.py:441: UserWarning: The palette list has more values (36) than needed (5), which may not be intended.\n",
      "  ax = sns.lineplot(\n"
     ]
    },
    {
     "name": "stdout",
     "output_type": "stream",
     "text": [
      "70\n"
     ]
    },
    {
     "name": "stderr",
     "output_type": "stream",
     "text": [
      "c:\\github_projects\\robust-active-clustering\\rac\\experiment_data.py:475: UserWarning: FixedFormatter should only be used together with FixedLocator\n",
      "  ax.set_xticklabels(labels)\n",
      "c:\\github_projects\\robust-active-clustering\\rac\\experiment_data.py:441: UserWarning: The palette list has more values (36) than needed (5), which may not be intended.\n",
      "  ax = sns.lineplot(\n"
     ]
    },
    {
     "name": "stdout",
     "output_type": "stream",
     "text": [
      "70\n"
     ]
    },
    {
     "name": "stderr",
     "output_type": "stream",
     "text": [
      "c:\\github_projects\\robust-active-clustering\\rac\\experiment_data.py:475: UserWarning: FixedFormatter should only be used together with FixedLocator\n",
      "  ax.set_xticklabels(labels)\n",
      "c:\\github_projects\\robust-active-clustering\\rac\\experiment_data.py:441: UserWarning: The palette list has more values (36) than needed (5), which may not be intended.\n",
      "  ax = sns.lineplot(\n"
     ]
    },
    {
     "name": "stdout",
     "output_type": "stream",
     "text": [
      "70\n"
     ]
    },
    {
     "name": "stderr",
     "output_type": "stream",
     "text": [
      "c:\\github_projects\\robust-active-clustering\\rac\\experiment_data.py:475: UserWarning: FixedFormatter should only be used together with FixedLocator\n",
      "  ax.set_xticklabels(labels)\n",
      "c:\\github_projects\\robust-active-clustering\\rac\\experiment_data.py:441: UserWarning: The palette list has more values (36) than needed (5), which may not be intended.\n",
      "  ax = sns.lineplot(\n"
     ]
    },
    {
     "name": "stdout",
     "output_type": "stream",
     "text": [
      "70\n"
     ]
    },
    {
     "name": "stderr",
     "output_type": "stream",
     "text": [
      "c:\\github_projects\\robust-active-clustering\\rac\\experiment_data.py:475: UserWarning: FixedFormatter should only be used together with FixedLocator\n",
      "  ax.set_xticklabels(labels)\n",
      "c:\\github_projects\\robust-active-clustering\\rac\\experiment_data.py:441: UserWarning: The palette list has more values (36) than needed (5), which may not be intended.\n",
      "  ax = sns.lineplot(\n"
     ]
    },
    {
     "name": "stdout",
     "output_type": "stream",
     "text": [
      "70\n"
     ]
    },
    {
     "name": "stderr",
     "output_type": "stream",
     "text": [
      "c:\\github_projects\\robust-active-clustering\\rac\\experiment_data.py:475: UserWarning: FixedFormatter should only be used together with FixedLocator\n",
      "  ax.set_xticklabels(labels)\n",
      "c:\\github_projects\\robust-active-clustering\\rac\\experiment_data.py:441: UserWarning: The palette list has more values (36) than needed (5), which may not be intended.\n",
      "  ax = sns.lineplot(\n"
     ]
    },
    {
     "name": "stdout",
     "output_type": "stream",
     "text": [
      "70\n"
     ]
    },
    {
     "name": "stderr",
     "output_type": "stream",
     "text": [
      "c:\\github_projects\\robust-active-clustering\\rac\\experiment_data.py:475: UserWarning: FixedFormatter should only be used together with FixedLocator\n",
      "  ax.set_xticklabels(labels)\n",
      "c:\\github_projects\\robust-active-clustering\\rac\\experiment_data.py:441: UserWarning: The palette list has more values (36) than needed (5), which may not be intended.\n",
      "  ax = sns.lineplot(\n"
     ]
    },
    {
     "name": "stdout",
     "output_type": "stream",
     "text": [
      "70\n"
     ]
    },
    {
     "name": "stderr",
     "output_type": "stream",
     "text": [
      "c:\\github_projects\\robust-active-clustering\\rac\\experiment_data.py:475: UserWarning: FixedFormatter should only be used together with FixedLocator\n",
      "  ax.set_xticklabels(labels)\n",
      "c:\\github_projects\\robust-active-clustering\\rac\\experiment_data.py:441: UserWarning: The palette list has more values (36) than needed (5), which may not be intended.\n",
      "  ax = sns.lineplot(\n"
     ]
    },
    {
     "name": "stdout",
     "output_type": "stream",
     "text": [
      "70\n"
     ]
    },
    {
     "name": "stderr",
     "output_type": "stream",
     "text": [
      "c:\\github_projects\\robust-active-clustering\\rac\\experiment_data.py:475: UserWarning: FixedFormatter should only be used together with FixedLocator\n",
      "  ax.set_xticklabels(labels)\n",
      "c:\\github_projects\\robust-active-clustering\\rac\\experiment_data.py:441: UserWarning: The palette list has more values (36) than needed (5), which may not be intended.\n",
      "  ax = sns.lineplot(\n"
     ]
    },
    {
     "name": "stdout",
     "output_type": "stream",
     "text": [
      "70\n"
     ]
    },
    {
     "name": "stderr",
     "output_type": "stream",
     "text": [
      "c:\\github_projects\\robust-active-clustering\\rac\\experiment_data.py:475: UserWarning: FixedFormatter should only be used together with FixedLocator\n",
      "  ax.set_xticklabels(labels)\n",
      "c:\\github_projects\\robust-active-clustering\\rac\\experiment_data.py:441: UserWarning: The palette list has more values (36) than needed (5), which may not be intended.\n",
      "  ax = sns.lineplot(\n"
     ]
    },
    {
     "name": "stdout",
     "output_type": "stream",
     "text": [
      "70\n"
     ]
    },
    {
     "name": "stderr",
     "output_type": "stream",
     "text": [
      "c:\\github_projects\\robust-active-clustering\\rac\\experiment_data.py:475: UserWarning: FixedFormatter should only be used together with FixedLocator\n",
      "  ax.set_xticklabels(labels)\n",
      "c:\\github_projects\\robust-active-clustering\\rac\\experiment_data.py:441: UserWarning: The palette list has more values (36) than needed (5), which may not be intended.\n",
      "  ax = sns.lineplot(\n"
     ]
    },
    {
     "name": "stdout",
     "output_type": "stream",
     "text": [
      "70\n"
     ]
    },
    {
     "name": "stderr",
     "output_type": "stream",
     "text": [
      "c:\\github_projects\\robust-active-clustering\\rac\\experiment_data.py:475: UserWarning: FixedFormatter should only be used together with FixedLocator\n",
      "  ax.set_xticklabels(labels)\n",
      "c:\\github_projects\\robust-active-clustering\\rac\\experiment_data.py:441: UserWarning: The palette list has more values (36) than needed (5), which may not be intended.\n",
      "  ax = sns.lineplot(\n"
     ]
    },
    {
     "name": "stdout",
     "output_type": "stream",
     "text": [
      "70\n"
     ]
    },
    {
     "name": "stderr",
     "output_type": "stream",
     "text": [
      "c:\\github_projects\\robust-active-clustering\\rac\\experiment_data.py:475: UserWarning: FixedFormatter should only be used together with FixedLocator\n",
      "  ax.set_xticklabels(labels)\n",
      "c:\\github_projects\\robust-active-clustering\\rac\\experiment_data.py:441: UserWarning: The palette list has more values (36) than needed (5), which may not be intended.\n",
      "  ax = sns.lineplot(\n"
     ]
    },
    {
     "name": "stdout",
     "output_type": "stream",
     "text": [
      "70\n"
     ]
    },
    {
     "name": "stderr",
     "output_type": "stream",
     "text": [
      "c:\\github_projects\\robust-active-clustering\\rac\\experiment_data.py:475: UserWarning: FixedFormatter should only be used together with FixedLocator\n",
      "  ax.set_xticklabels(labels)\n",
      "c:\\github_projects\\robust-active-clustering\\rac\\experiment_data.py:441: UserWarning: The palette list has more values (36) than needed (5), which may not be intended.\n",
      "  ax = sns.lineplot(\n"
     ]
    },
    {
     "name": "stdout",
     "output_type": "stream",
     "text": [
      "70\n"
     ]
    },
    {
     "name": "stderr",
     "output_type": "stream",
     "text": [
      "c:\\github_projects\\robust-active-clustering\\rac\\experiment_data.py:475: UserWarning: FixedFormatter should only be used together with FixedLocator\n",
      "  ax.set_xticklabels(labels)\n",
      "c:\\github_projects\\robust-active-clustering\\rac\\experiment_data.py:441: UserWarning: The palette list has more values (36) than needed (5), which may not be intended.\n",
      "  ax = sns.lineplot(\n"
     ]
    },
    {
     "name": "stdout",
     "output_type": "stream",
     "text": [
      "70\n"
     ]
    },
    {
     "name": "stderr",
     "output_type": "stream",
     "text": [
      "c:\\github_projects\\robust-active-clustering\\rac\\experiment_data.py:475: UserWarning: FixedFormatter should only be used together with FixedLocator\n",
      "  ax.set_xticklabels(labels)\n",
      "c:\\github_projects\\robust-active-clustering\\rac\\experiment_data.py:441: UserWarning: The palette list has more values (36) than needed (5), which may not be intended.\n",
      "  ax = sns.lineplot(\n"
     ]
    },
    {
     "name": "stdout",
     "output_type": "stream",
     "text": [
      "70\n"
     ]
    },
    {
     "name": "stderr",
     "output_type": "stream",
     "text": [
      "c:\\github_projects\\robust-active-clustering\\rac\\experiment_data.py:475: UserWarning: FixedFormatter should only be used together with FixedLocator\n",
      "  ax.set_xticklabels(labels)\n",
      "c:\\github_projects\\robust-active-clustering\\rac\\experiment_data.py:441: UserWarning: The palette list has more values (36) than needed (5), which may not be intended.\n",
      "  ax = sns.lineplot(\n"
     ]
    },
    {
     "name": "stdout",
     "output_type": "stream",
     "text": [
      "70\n"
     ]
    },
    {
     "name": "stderr",
     "output_type": "stream",
     "text": [
      "c:\\github_projects\\robust-active-clustering\\rac\\experiment_data.py:475: UserWarning: FixedFormatter should only be used together with FixedLocator\n",
      "  ax.set_xticklabels(labels)\n",
      "c:\\github_projects\\robust-active-clustering\\rac\\experiment_data.py:441: UserWarning: The palette list has more values (36) than needed (5), which may not be intended.\n",
      "  ax = sns.lineplot(\n"
     ]
    },
    {
     "name": "stdout",
     "output_type": "stream",
     "text": [
      "70\n"
     ]
    },
    {
     "name": "stderr",
     "output_type": "stream",
     "text": [
      "c:\\github_projects\\robust-active-clustering\\rac\\experiment_data.py:475: UserWarning: FixedFormatter should only be used together with FixedLocator\n",
      "  ax.set_xticklabels(labels)\n",
      "c:\\github_projects\\robust-active-clustering\\rac\\experiment_data.py:441: UserWarning: The palette list has more values (36) than needed (5), which may not be intended.\n",
      "  ax = sns.lineplot(\n"
     ]
    },
    {
     "name": "stdout",
     "output_type": "stream",
     "text": [
      "70\n"
     ]
    },
    {
     "name": "stderr",
     "output_type": "stream",
     "text": [
      "c:\\github_projects\\robust-active-clustering\\rac\\experiment_data.py:475: UserWarning: FixedFormatter should only be used together with FixedLocator\n",
      "  ax.set_xticklabels(labels)\n",
      "c:\\github_projects\\robust-active-clustering\\rac\\experiment_data.py:441: UserWarning: The palette list has more values (36) than needed (5), which may not be intended.\n",
      "  ax = sns.lineplot(\n"
     ]
    },
    {
     "name": "stdout",
     "output_type": "stream",
     "text": [
      "70\n"
     ]
    },
    {
     "name": "stderr",
     "output_type": "stream",
     "text": [
      "c:\\github_projects\\robust-active-clustering\\rac\\experiment_data.py:475: UserWarning: FixedFormatter should only be used together with FixedLocator\n",
      "  ax.set_xticklabels(labels)\n",
      "c:\\github_projects\\robust-active-clustering\\rac\\experiment_data.py:441: UserWarning: The palette list has more values (36) than needed (5), which may not be intended.\n",
      "  ax = sns.lineplot(\n"
     ]
    },
    {
     "name": "stdout",
     "output_type": "stream",
     "text": [
      "70\n"
     ]
    },
    {
     "name": "stderr",
     "output_type": "stream",
     "text": [
      "c:\\github_projects\\robust-active-clustering\\rac\\experiment_data.py:475: UserWarning: FixedFormatter should only be used together with FixedLocator\n",
      "  ax.set_xticklabels(labels)\n",
      "c:\\github_projects\\robust-active-clustering\\rac\\experiment_data.py:441: UserWarning: The palette list has more values (36) than needed (5), which may not be intended.\n",
      "  ax = sns.lineplot(\n"
     ]
    },
    {
     "name": "stdout",
     "output_type": "stream",
     "text": [
      "70\n"
     ]
    },
    {
     "name": "stderr",
     "output_type": "stream",
     "text": [
      "c:\\github_projects\\robust-active-clustering\\rac\\experiment_data.py:475: UserWarning: FixedFormatter should only be used together with FixedLocator\n",
      "  ax.set_xticklabels(labels)\n",
      "c:\\github_projects\\robust-active-clustering\\rac\\experiment_data.py:441: UserWarning: The palette list has more values (36) than needed (5), which may not be intended.\n",
      "  ax = sns.lineplot(\n"
     ]
    },
    {
     "name": "stdout",
     "output_type": "stream",
     "text": [
      "70\n"
     ]
    },
    {
     "name": "stderr",
     "output_type": "stream",
     "text": [
      "c:\\github_projects\\robust-active-clustering\\rac\\experiment_data.py:475: UserWarning: FixedFormatter should only be used together with FixedLocator\n",
      "  ax.set_xticklabels(labels)\n",
      "c:\\github_projects\\robust-active-clustering\\rac\\experiment_data.py:441: UserWarning: The palette list has more values (36) than needed (5), which may not be intended.\n",
      "  ax = sns.lineplot(\n"
     ]
    },
    {
     "name": "stdout",
     "output_type": "stream",
     "text": [
      "70\n"
     ]
    },
    {
     "name": "stderr",
     "output_type": "stream",
     "text": [
      "c:\\github_projects\\robust-active-clustering\\rac\\experiment_data.py:475: UserWarning: FixedFormatter should only be used together with FixedLocator\n",
      "  ax.set_xticklabels(labels)\n",
      "c:\\github_projects\\robust-active-clustering\\rac\\experiment_data.py:441: UserWarning: The palette list has more values (36) than needed (5), which may not be intended.\n",
      "  ax = sns.lineplot(\n"
     ]
    },
    {
     "name": "stdout",
     "output_type": "stream",
     "text": [
      "70\n"
     ]
    },
    {
     "name": "stderr",
     "output_type": "stream",
     "text": [
      "c:\\github_projects\\robust-active-clustering\\rac\\experiment_data.py:475: UserWarning: FixedFormatter should only be used together with FixedLocator\n",
      "  ax.set_xticklabels(labels)\n",
      "c:\\github_projects\\robust-active-clustering\\rac\\experiment_data.py:441: UserWarning: The palette list has more values (36) than needed (5), which may not be intended.\n",
      "  ax = sns.lineplot(\n"
     ]
    },
    {
     "name": "stdout",
     "output_type": "stream",
     "text": [
      "70\n"
     ]
    },
    {
     "name": "stderr",
     "output_type": "stream",
     "text": [
      "c:\\github_projects\\robust-active-clustering\\rac\\experiment_data.py:475: UserWarning: FixedFormatter should only be used together with FixedLocator\n",
      "  ax.set_xticklabels(labels)\n",
      "c:\\github_projects\\robust-active-clustering\\rac\\experiment_data.py:441: UserWarning: The palette list has more values (36) than needed (5), which may not be intended.\n",
      "  ax = sns.lineplot(\n"
     ]
    },
    {
     "name": "stdout",
     "output_type": "stream",
     "text": [
      "70\n"
     ]
    },
    {
     "name": "stderr",
     "output_type": "stream",
     "text": [
      "c:\\github_projects\\robust-active-clustering\\rac\\experiment_data.py:475: UserWarning: FixedFormatter should only be used together with FixedLocator\n",
      "  ax.set_xticklabels(labels)\n",
      "c:\\github_projects\\robust-active-clustering\\rac\\experiment_data.py:441: UserWarning: The palette list has more values (36) than needed (5), which may not be intended.\n",
      "  ax = sns.lineplot(\n"
     ]
    },
    {
     "name": "stdout",
     "output_type": "stream",
     "text": [
      "70\n"
     ]
    },
    {
     "name": "stderr",
     "output_type": "stream",
     "text": [
      "c:\\github_projects\\robust-active-clustering\\rac\\experiment_data.py:475: UserWarning: FixedFormatter should only be used together with FixedLocator\n",
      "  ax.set_xticklabels(labels)\n",
      "c:\\github_projects\\robust-active-clustering\\rac\\experiment_data.py:441: UserWarning: The palette list has more values (36) than needed (5), which may not be intended.\n",
      "  ax = sns.lineplot(\n"
     ]
    },
    {
     "name": "stdout",
     "output_type": "stream",
     "text": [
      "70\n"
     ]
    },
    {
     "name": "stderr",
     "output_type": "stream",
     "text": [
      "c:\\github_projects\\robust-active-clustering\\rac\\experiment_data.py:475: UserWarning: FixedFormatter should only be used together with FixedLocator\n",
      "  ax.set_xticklabels(labels)\n",
      "c:\\github_projects\\robust-active-clustering\\rac\\experiment_data.py:441: UserWarning: The palette list has more values (36) than needed (5), which may not be intended.\n",
      "  ax = sns.lineplot(\n"
     ]
    },
    {
     "name": "stdout",
     "output_type": "stream",
     "text": [
      "70\n"
     ]
    },
    {
     "name": "stderr",
     "output_type": "stream",
     "text": [
      "c:\\github_projects\\robust-active-clustering\\rac\\experiment_data.py:475: UserWarning: FixedFormatter should only be used together with FixedLocator\n",
      "  ax.set_xticklabels(labels)\n",
      "c:\\github_projects\\robust-active-clustering\\rac\\experiment_data.py:441: UserWarning: The palette list has more values (36) than needed (5), which may not be intended.\n",
      "  ax = sns.lineplot(\n"
     ]
    },
    {
     "name": "stdout",
     "output_type": "stream",
     "text": [
      "70\n"
     ]
    },
    {
     "name": "stderr",
     "output_type": "stream",
     "text": [
      "c:\\github_projects\\robust-active-clustering\\rac\\experiment_data.py:475: UserWarning: FixedFormatter should only be used together with FixedLocator\n",
      "  ax.set_xticklabels(labels)\n",
      "c:\\github_projects\\robust-active-clustering\\rac\\experiment_data.py:441: UserWarning: The palette list has more values (36) than needed (5), which may not be intended.\n",
      "  ax = sns.lineplot(\n"
     ]
    },
    {
     "name": "stdout",
     "output_type": "stream",
     "text": [
      "70\n"
     ]
    },
    {
     "name": "stderr",
     "output_type": "stream",
     "text": [
      "c:\\github_projects\\robust-active-clustering\\rac\\experiment_data.py:475: UserWarning: FixedFormatter should only be used together with FixedLocator\n",
      "  ax.set_xticklabels(labels)\n",
      "c:\\github_projects\\robust-active-clustering\\rac\\experiment_data.py:441: UserWarning: The palette list has more values (36) than needed (5), which may not be intended.\n",
      "  ax = sns.lineplot(\n"
     ]
    },
    {
     "name": "stdout",
     "output_type": "stream",
     "text": [
      "70\n"
     ]
    },
    {
     "name": "stderr",
     "output_type": "stream",
     "text": [
      "c:\\github_projects\\robust-active-clustering\\rac\\experiment_data.py:475: UserWarning: FixedFormatter should only be used together with FixedLocator\n",
      "  ax.set_xticklabels(labels)\n",
      "c:\\github_projects\\robust-active-clustering\\rac\\experiment_data.py:441: UserWarning: The palette list has more values (36) than needed (5), which may not be intended.\n",
      "  ax = sns.lineplot(\n"
     ]
    },
    {
     "name": "stdout",
     "output_type": "stream",
     "text": [
      "70\n"
     ]
    },
    {
     "name": "stderr",
     "output_type": "stream",
     "text": [
      "c:\\github_projects\\robust-active-clustering\\rac\\experiment_data.py:475: UserWarning: FixedFormatter should only be used together with FixedLocator\n",
      "  ax.set_xticklabels(labels)\n",
      "c:\\github_projects\\robust-active-clustering\\rac\\experiment_data.py:441: UserWarning: The palette list has more values (36) than needed (5), which may not be intended.\n",
      "  ax = sns.lineplot(\n"
     ]
    },
    {
     "name": "stdout",
     "output_type": "stream",
     "text": [
      "70\n"
     ]
    },
    {
     "name": "stderr",
     "output_type": "stream",
     "text": [
      "c:\\github_projects\\robust-active-clustering\\rac\\experiment_data.py:475: UserWarning: FixedFormatter should only be used together with FixedLocator\n",
      "  ax.set_xticklabels(labels)\n",
      "c:\\github_projects\\robust-active-clustering\\rac\\experiment_data.py:441: UserWarning: The palette list has more values (36) than needed (5), which may not be intended.\n",
      "  ax = sns.lineplot(\n",
      "c:\\github_projects\\robust-active-clustering\\rac\\experiment_data.py:475: UserWarning: FixedFormatter should only be used together with FixedLocator\n",
      "  ax.set_xticklabels(labels)\n"
     ]
    },
    {
     "name": "stdout",
     "output_type": "stream",
     "text": [
      "70\n"
     ]
    },
    {
     "name": "stderr",
     "output_type": "stream",
     "text": [
      "c:\\github_projects\\robust-active-clustering\\rac\\experiment_data.py:441: UserWarning: The palette list has more values (36) than needed (5), which may not be intended.\n",
      "  ax = sns.lineplot(\n"
     ]
    },
    {
     "name": "stdout",
     "output_type": "stream",
     "text": [
      "70\n"
     ]
    },
    {
     "name": "stderr",
     "output_type": "stream",
     "text": [
      "c:\\github_projects\\robust-active-clustering\\rac\\experiment_data.py:475: UserWarning: FixedFormatter should only be used together with FixedLocator\n",
      "  ax.set_xticklabels(labels)\n",
      "c:\\github_projects\\robust-active-clustering\\rac\\experiment_data.py:441: UserWarning: The palette list has more values (36) than needed (5), which may not be intended.\n",
      "  ax = sns.lineplot(\n"
     ]
    },
    {
     "name": "stdout",
     "output_type": "stream",
     "text": [
      "70\n"
     ]
    },
    {
     "name": "stderr",
     "output_type": "stream",
     "text": [
      "c:\\github_projects\\robust-active-clustering\\rac\\experiment_data.py:475: UserWarning: FixedFormatter should only be used together with FixedLocator\n",
      "  ax.set_xticklabels(labels)\n",
      "c:\\github_projects\\robust-active-clustering\\rac\\experiment_data.py:441: UserWarning: The palette list has more values (36) than needed (5), which may not be intended.\n",
      "  ax = sns.lineplot(\n",
      "c:\\github_projects\\robust-active-clustering\\rac\\experiment_data.py:475: UserWarning: FixedFormatter should only be used together with FixedLocator\n",
      "  ax.set_xticklabels(labels)\n"
     ]
    },
    {
     "name": "stdout",
     "output_type": "stream",
     "text": [
      "70\n"
     ]
    },
    {
     "name": "stderr",
     "output_type": "stream",
     "text": [
      "c:\\github_projects\\robust-active-clustering\\rac\\experiment_data.py:441: UserWarning: The palette list has more values (36) than needed (5), which may not be intended.\n",
      "  ax = sns.lineplot(\n"
     ]
    },
    {
     "name": "stdout",
     "output_type": "stream",
     "text": [
      "70\n"
     ]
    },
    {
     "name": "stderr",
     "output_type": "stream",
     "text": [
      "c:\\github_projects\\robust-active-clustering\\rac\\experiment_data.py:475: UserWarning: FixedFormatter should only be used together with FixedLocator\n",
      "  ax.set_xticklabels(labels)\n",
      "c:\\github_projects\\robust-active-clustering\\rac\\experiment_data.py:441: UserWarning: The palette list has more values (36) than needed (5), which may not be intended.\n",
      "  ax = sns.lineplot(\n"
     ]
    },
    {
     "name": "stdout",
     "output_type": "stream",
     "text": [
      "70\n"
     ]
    },
    {
     "name": "stderr",
     "output_type": "stream",
     "text": [
      "c:\\github_projects\\robust-active-clustering\\rac\\experiment_data.py:475: UserWarning: FixedFormatter should only be used together with FixedLocator\n",
      "  ax.set_xticklabels(labels)\n",
      "c:\\github_projects\\robust-active-clustering\\rac\\experiment_data.py:441: UserWarning: The palette list has more values (36) than needed (5), which may not be intended.\n",
      "  ax = sns.lineplot(\n",
      "c:\\github_projects\\robust-active-clustering\\rac\\experiment_data.py:475: UserWarning: FixedFormatter should only be used together with FixedLocator\n",
      "  ax.set_xticklabels(labels)\n"
     ]
    },
    {
     "name": "stdout",
     "output_type": "stream",
     "text": [
      "70\n"
     ]
    },
    {
     "name": "stderr",
     "output_type": "stream",
     "text": [
      "c:\\github_projects\\robust-active-clustering\\rac\\experiment_data.py:441: UserWarning: The palette list has more values (36) than needed (5), which may not be intended.\n",
      "  ax = sns.lineplot(\n",
      "c:\\github_projects\\robust-active-clustering\\rac\\experiment_data.py:475: UserWarning: FixedFormatter should only be used together with FixedLocator\n",
      "  ax.set_xticklabels(labels)\n"
     ]
    },
    {
     "name": "stdout",
     "output_type": "stream",
     "text": [
      "70\n"
     ]
    },
    {
     "name": "stderr",
     "output_type": "stream",
     "text": [
      "c:\\github_projects\\robust-active-clustering\\rac\\experiment_data.py:441: UserWarning: The palette list has more values (36) than needed (5), which may not be intended.\n",
      "  ax = sns.lineplot(\n"
     ]
    },
    {
     "name": "stdout",
     "output_type": "stream",
     "text": [
      "70\n"
     ]
    },
    {
     "name": "stderr",
     "output_type": "stream",
     "text": [
      "c:\\github_projects\\robust-active-clustering\\rac\\experiment_data.py:475: UserWarning: FixedFormatter should only be used together with FixedLocator\n",
      "  ax.set_xticklabels(labels)\n",
      "c:\\github_projects\\robust-active-clustering\\rac\\experiment_data.py:441: UserWarning: The palette list has more values (36) than needed (5), which may not be intended.\n",
      "  ax = sns.lineplot(\n",
      "c:\\github_projects\\robust-active-clustering\\rac\\experiment_data.py:475: UserWarning: FixedFormatter should only be used together with FixedLocator\n",
      "  ax.set_xticklabels(labels)\n"
     ]
    },
    {
     "name": "stdout",
     "output_type": "stream",
     "text": [
      "70\n"
     ]
    },
    {
     "name": "stderr",
     "output_type": "stream",
     "text": [
      "c:\\github_projects\\robust-active-clustering\\rac\\experiment_data.py:441: UserWarning: The palette list has more values (36) than needed (5), which may not be intended.\n",
      "  ax = sns.lineplot(\n",
      "c:\\github_projects\\robust-active-clustering\\rac\\experiment_data.py:475: UserWarning: FixedFormatter should only be used together with FixedLocator\n",
      "  ax.set_xticklabels(labels)\n"
     ]
    },
    {
     "name": "stdout",
     "output_type": "stream",
     "text": [
      "70\n"
     ]
    },
    {
     "name": "stderr",
     "output_type": "stream",
     "text": [
      "c:\\github_projects\\robust-active-clustering\\rac\\experiment_data.py:441: UserWarning: The palette list has more values (36) than needed (5), which may not be intended.\n",
      "  ax = sns.lineplot(\n"
     ]
    },
    {
     "name": "stdout",
     "output_type": "stream",
     "text": [
      "70\n"
     ]
    },
    {
     "name": "stderr",
     "output_type": "stream",
     "text": [
      "c:\\github_projects\\robust-active-clustering\\rac\\experiment_data.py:475: UserWarning: FixedFormatter should only be used together with FixedLocator\n",
      "  ax.set_xticklabels(labels)\n",
      "c:\\github_projects\\robust-active-clustering\\rac\\experiment_data.py:441: UserWarning: The palette list has more values (36) than needed (5), which may not be intended.\n",
      "  ax = sns.lineplot(\n",
      "c:\\github_projects\\robust-active-clustering\\rac\\experiment_data.py:475: UserWarning: FixedFormatter should only be used together with FixedLocator\n",
      "  ax.set_xticklabels(labels)\n"
     ]
    },
    {
     "name": "stdout",
     "output_type": "stream",
     "text": [
      "70\n"
     ]
    },
    {
     "name": "stderr",
     "output_type": "stream",
     "text": [
      "c:\\github_projects\\robust-active-clustering\\rac\\experiment_data.py:441: UserWarning: The palette list has more values (36) than needed (5), which may not be intended.\n",
      "  ax = sns.lineplot(\n",
      "c:\\github_projects\\robust-active-clustering\\rac\\experiment_data.py:475: UserWarning: FixedFormatter should only be used together with FixedLocator\n",
      "  ax.set_xticklabels(labels)\n"
     ]
    },
    {
     "name": "stdout",
     "output_type": "stream",
     "text": [
      "70\n"
     ]
    },
    {
     "name": "stderr",
     "output_type": "stream",
     "text": [
      "c:\\github_projects\\robust-active-clustering\\rac\\experiment_data.py:441: UserWarning: The palette list has more values (36) than needed (5), which may not be intended.\n",
      "  ax = sns.lineplot(\n"
     ]
    },
    {
     "name": "stdout",
     "output_type": "stream",
     "text": [
      "70\n"
     ]
    },
    {
     "name": "stderr",
     "output_type": "stream",
     "text": [
      "c:\\github_projects\\robust-active-clustering\\rac\\experiment_data.py:475: UserWarning: FixedFormatter should only be used together with FixedLocator\n",
      "  ax.set_xticklabels(labels)\n",
      "c:\\github_projects\\robust-active-clustering\\rac\\experiment_data.py:441: UserWarning: The palette list has more values (36) than needed (5), which may not be intended.\n",
      "  ax = sns.lineplot(\n",
      "c:\\github_projects\\robust-active-clustering\\rac\\experiment_data.py:475: UserWarning: FixedFormatter should only be used together with FixedLocator\n",
      "  ax.set_xticklabels(labels)\n"
     ]
    },
    {
     "name": "stdout",
     "output_type": "stream",
     "text": [
      "70\n"
     ]
    },
    {
     "name": "stderr",
     "output_type": "stream",
     "text": [
      "c:\\github_projects\\robust-active-clustering\\rac\\experiment_data.py:441: UserWarning: The palette list has more values (36) than needed (5), which may not be intended.\n",
      "  ax = sns.lineplot(\n",
      "c:\\github_projects\\robust-active-clustering\\rac\\experiment_data.py:475: UserWarning: FixedFormatter should only be used together with FixedLocator\n",
      "  ax.set_xticklabels(labels)\n"
     ]
    },
    {
     "name": "stdout",
     "output_type": "stream",
     "text": [
      "70\n"
     ]
    },
    {
     "name": "stderr",
     "output_type": "stream",
     "text": [
      "c:\\github_projects\\robust-active-clustering\\rac\\experiment_data.py:441: UserWarning: The palette list has more values (36) than needed (5), which may not be intended.\n",
      "  ax = sns.lineplot(\n"
     ]
    },
    {
     "name": "stdout",
     "output_type": "stream",
     "text": [
      "70\n"
     ]
    },
    {
     "name": "stderr",
     "output_type": "stream",
     "text": [
      "c:\\github_projects\\robust-active-clustering\\rac\\experiment_data.py:475: UserWarning: FixedFormatter should only be used together with FixedLocator\n",
      "  ax.set_xticklabels(labels)\n",
      "c:\\github_projects\\robust-active-clustering\\rac\\experiment_data.py:441: UserWarning: The palette list has more values (36) than needed (5), which may not be intended.\n",
      "  ax = sns.lineplot(\n",
      "c:\\github_projects\\robust-active-clustering\\rac\\experiment_data.py:475: UserWarning: FixedFormatter should only be used together with FixedLocator\n",
      "  ax.set_xticklabels(labels)\n"
     ]
    },
    {
     "name": "stdout",
     "output_type": "stream",
     "text": [
      "70\n"
     ]
    },
    {
     "name": "stderr",
     "output_type": "stream",
     "text": [
      "c:\\github_projects\\robust-active-clustering\\rac\\experiment_data.py:441: UserWarning: The palette list has more values (36) than needed (5), which may not be intended.\n",
      "  ax = sns.lineplot(\n",
      "c:\\github_projects\\robust-active-clustering\\rac\\experiment_data.py:475: UserWarning: FixedFormatter should only be used together with FixedLocator\n",
      "  ax.set_xticklabels(labels)\n"
     ]
    },
    {
     "name": "stdout",
     "output_type": "stream",
     "text": [
      "70\n"
     ]
    },
    {
     "name": "stderr",
     "output_type": "stream",
     "text": [
      "c:\\github_projects\\robust-active-clustering\\rac\\experiment_data.py:441: UserWarning: The palette list has more values (36) than needed (5), which may not be intended.\n",
      "  ax = sns.lineplot(\n"
     ]
    },
    {
     "name": "stdout",
     "output_type": "stream",
     "text": [
      "70\n"
     ]
    },
    {
     "name": "stderr",
     "output_type": "stream",
     "text": [
      "c:\\github_projects\\robust-active-clustering\\rac\\experiment_data.py:475: UserWarning: FixedFormatter should only be used together with FixedLocator\n",
      "  ax.set_xticklabels(labels)\n",
      "c:\\github_projects\\robust-active-clustering\\rac\\experiment_data.py:441: UserWarning: The palette list has more values (36) than needed (5), which may not be intended.\n",
      "  ax = sns.lineplot(\n"
     ]
    },
    {
     "name": "stdout",
     "output_type": "stream",
     "text": [
      "70\n"
     ]
    },
    {
     "name": "stderr",
     "output_type": "stream",
     "text": [
      "c:\\github_projects\\robust-active-clustering\\rac\\experiment_data.py:475: UserWarning: FixedFormatter should only be used together with FixedLocator\n",
      "  ax.set_xticklabels(labels)\n",
      "c:\\github_projects\\robust-active-clustering\\rac\\experiment_data.py:441: UserWarning: The palette list has more values (36) than needed (5), which may not be intended.\n",
      "  ax = sns.lineplot(\n"
     ]
    },
    {
     "name": "stdout",
     "output_type": "stream",
     "text": [
      "70\n"
     ]
    },
    {
     "name": "stderr",
     "output_type": "stream",
     "text": [
      "c:\\github_projects\\robust-active-clustering\\rac\\experiment_data.py:475: UserWarning: FixedFormatter should only be used together with FixedLocator\n",
      "  ax.set_xticklabels(labels)\n",
      "c:\\github_projects\\robust-active-clustering\\rac\\experiment_data.py:441: UserWarning: The palette list has more values (36) than needed (5), which may not be intended.\n",
      "  ax = sns.lineplot(\n"
     ]
    },
    {
     "name": "stdout",
     "output_type": "stream",
     "text": [
      "70\n"
     ]
    },
    {
     "name": "stderr",
     "output_type": "stream",
     "text": [
      "c:\\github_projects\\robust-active-clustering\\rac\\experiment_data.py:475: UserWarning: FixedFormatter should only be used together with FixedLocator\n",
      "  ax.set_xticklabels(labels)\n",
      "c:\\github_projects\\robust-active-clustering\\rac\\experiment_data.py:441: UserWarning: The palette list has more values (36) than needed (5), which may not be intended.\n",
      "  ax = sns.lineplot(\n",
      "c:\\github_projects\\robust-active-clustering\\rac\\experiment_data.py:475: UserWarning: FixedFormatter should only be used together with FixedLocator\n",
      "  ax.set_xticklabels(labels)\n"
     ]
    },
    {
     "name": "stdout",
     "output_type": "stream",
     "text": [
      "70\n"
     ]
    },
    {
     "name": "stderr",
     "output_type": "stream",
     "text": [
      "c:\\github_projects\\robust-active-clustering\\rac\\experiment_data.py:441: UserWarning: The palette list has more values (36) than needed (5), which may not be intended.\n",
      "  ax = sns.lineplot(\n",
      "c:\\github_projects\\robust-active-clustering\\rac\\experiment_data.py:475: UserWarning: FixedFormatter should only be used together with FixedLocator\n",
      "  ax.set_xticklabels(labels)\n"
     ]
    },
    {
     "name": "stdout",
     "output_type": "stream",
     "text": [
      "70\n"
     ]
    },
    {
     "name": "stderr",
     "output_type": "stream",
     "text": [
      "c:\\github_projects\\robust-active-clustering\\rac\\experiment_data.py:441: UserWarning: The palette list has more values (36) than needed (5), which may not be intended.\n",
      "  ax = sns.lineplot(\n"
     ]
    },
    {
     "name": "stdout",
     "output_type": "stream",
     "text": [
      "70\n"
     ]
    },
    {
     "name": "stderr",
     "output_type": "stream",
     "text": [
      "c:\\github_projects\\robust-active-clustering\\rac\\experiment_data.py:475: UserWarning: FixedFormatter should only be used together with FixedLocator\n",
      "  ax.set_xticklabels(labels)\n",
      "c:\\github_projects\\robust-active-clustering\\rac\\experiment_data.py:441: UserWarning: The palette list has more values (36) than needed (5), which may not be intended.\n",
      "  ax = sns.lineplot(\n",
      "c:\\github_projects\\robust-active-clustering\\rac\\experiment_data.py:475: UserWarning: FixedFormatter should only be used together with FixedLocator\n",
      "  ax.set_xticklabels(labels)\n"
     ]
    },
    {
     "name": "stdout",
     "output_type": "stream",
     "text": [
      "70\n"
     ]
    },
    {
     "name": "stderr",
     "output_type": "stream",
     "text": [
      "c:\\github_projects\\robust-active-clustering\\rac\\experiment_data.py:441: UserWarning: The palette list has more values (36) than needed (5), which may not be intended.\n",
      "  ax = sns.lineplot(\n"
     ]
    },
    {
     "name": "stdout",
     "output_type": "stream",
     "text": [
      "70\n"
     ]
    },
    {
     "name": "stderr",
     "output_type": "stream",
     "text": [
      "c:\\github_projects\\robust-active-clustering\\rac\\experiment_data.py:475: UserWarning: FixedFormatter should only be used together with FixedLocator\n",
      "  ax.set_xticklabels(labels)\n",
      "c:\\github_projects\\robust-active-clustering\\rac\\experiment_data.py:441: UserWarning: The palette list has more values (36) than needed (5), which may not be intended.\n",
      "  ax = sns.lineplot(\n"
     ]
    },
    {
     "name": "stdout",
     "output_type": "stream",
     "text": [
      "70\n"
     ]
    },
    {
     "name": "stderr",
     "output_type": "stream",
     "text": [
      "c:\\github_projects\\robust-active-clustering\\rac\\experiment_data.py:475: UserWarning: FixedFormatter should only be used together with FixedLocator\n",
      "  ax.set_xticklabels(labels)\n",
      "c:\\github_projects\\robust-active-clustering\\rac\\experiment_data.py:441: UserWarning: The palette list has more values (36) than needed (5), which may not be intended.\n",
      "  ax = sns.lineplot(\n",
      "c:\\github_projects\\robust-active-clustering\\rac\\experiment_data.py:475: UserWarning: FixedFormatter should only be used together with FixedLocator\n",
      "  ax.set_xticklabels(labels)\n"
     ]
    },
    {
     "name": "stdout",
     "output_type": "stream",
     "text": [
      "70\n"
     ]
    },
    {
     "name": "stderr",
     "output_type": "stream",
     "text": [
      "c:\\github_projects\\robust-active-clustering\\rac\\experiment_data.py:441: UserWarning: The palette list has more values (36) than needed (5), which may not be intended.\n",
      "  ax = sns.lineplot(\n",
      "c:\\github_projects\\robust-active-clustering\\rac\\experiment_data.py:475: UserWarning: FixedFormatter should only be used together with FixedLocator\n",
      "  ax.set_xticklabels(labels)\n"
     ]
    },
    {
     "name": "stdout",
     "output_type": "stream",
     "text": [
      "70\n"
     ]
    },
    {
     "name": "stderr",
     "output_type": "stream",
     "text": [
      "c:\\github_projects\\robust-active-clustering\\rac\\experiment_data.py:441: UserWarning: The palette list has more values (36) than needed (5), which may not be intended.\n",
      "  ax = sns.lineplot(\n"
     ]
    },
    {
     "name": "stdout",
     "output_type": "stream",
     "text": [
      "70\n"
     ]
    },
    {
     "name": "stderr",
     "output_type": "stream",
     "text": [
      "c:\\github_projects\\robust-active-clustering\\rac\\experiment_data.py:475: UserWarning: FixedFormatter should only be used together with FixedLocator\n",
      "  ax.set_xticklabels(labels)\n",
      "c:\\github_projects\\robust-active-clustering\\rac\\experiment_data.py:441: UserWarning: The palette list has more values (36) than needed (5), which may not be intended.\n",
      "  ax = sns.lineplot(\n",
      "c:\\github_projects\\robust-active-clustering\\rac\\experiment_data.py:475: UserWarning: FixedFormatter should only be used together with FixedLocator\n",
      "  ax.set_xticklabels(labels)\n"
     ]
    },
    {
     "name": "stdout",
     "output_type": "stream",
     "text": [
      "70\n"
     ]
    },
    {
     "name": "stderr",
     "output_type": "stream",
     "text": [
      "c:\\github_projects\\robust-active-clustering\\rac\\experiment_data.py:441: UserWarning: The palette list has more values (36) than needed (5), which may not be intended.\n",
      "  ax = sns.lineplot(\n",
      "c:\\github_projects\\robust-active-clustering\\rac\\experiment_data.py:475: UserWarning: FixedFormatter should only be used together with FixedLocator\n",
      "  ax.set_xticklabels(labels)\n"
     ]
    },
    {
     "name": "stdout",
     "output_type": "stream",
     "text": [
      "70\n"
     ]
    },
    {
     "name": "stderr",
     "output_type": "stream",
     "text": [
      "c:\\github_projects\\robust-active-clustering\\rac\\experiment_data.py:441: UserWarning: The palette list has more values (36) than needed (5), which may not be intended.\n",
      "  ax = sns.lineplot(\n"
     ]
    },
    {
     "name": "stdout",
     "output_type": "stream",
     "text": [
      "70\n"
     ]
    },
    {
     "name": "stderr",
     "output_type": "stream",
     "text": [
      "c:\\github_projects\\robust-active-clustering\\rac\\experiment_data.py:475: UserWarning: FixedFormatter should only be used together with FixedLocator\n",
      "  ax.set_xticklabels(labels)\n",
      "c:\\github_projects\\robust-active-clustering\\rac\\experiment_data.py:441: UserWarning: The palette list has more values (36) than needed (5), which may not be intended.\n",
      "  ax = sns.lineplot(\n",
      "c:\\github_projects\\robust-active-clustering\\rac\\experiment_data.py:475: UserWarning: FixedFormatter should only be used together with FixedLocator\n",
      "  ax.set_xticklabels(labels)\n"
     ]
    },
    {
     "name": "stdout",
     "output_type": "stream",
     "text": [
      "70\n"
     ]
    },
    {
     "name": "stderr",
     "output_type": "stream",
     "text": [
      "c:\\github_projects\\robust-active-clustering\\rac\\experiment_data.py:441: UserWarning: The palette list has more values (36) than needed (5), which may not be intended.\n",
      "  ax = sns.lineplot(\n"
     ]
    },
    {
     "name": "stdout",
     "output_type": "stream",
     "text": [
      "70\n"
     ]
    },
    {
     "name": "stderr",
     "output_type": "stream",
     "text": [
      "c:\\github_projects\\robust-active-clustering\\rac\\experiment_data.py:475: UserWarning: FixedFormatter should only be used together with FixedLocator\n",
      "  ax.set_xticklabels(labels)\n",
      "c:\\github_projects\\robust-active-clustering\\rac\\experiment_data.py:441: UserWarning: The palette list has more values (36) than needed (5), which may not be intended.\n",
      "  ax = sns.lineplot(\n"
     ]
    },
    {
     "name": "stdout",
     "output_type": "stream",
     "text": [
      "70\n"
     ]
    },
    {
     "name": "stderr",
     "output_type": "stream",
     "text": [
      "c:\\github_projects\\robust-active-clustering\\rac\\experiment_data.py:475: UserWarning: FixedFormatter should only be used together with FixedLocator\n",
      "  ax.set_xticklabels(labels)\n",
      "c:\\github_projects\\robust-active-clustering\\rac\\experiment_data.py:441: UserWarning: The palette list has more values (36) than needed (5), which may not be intended.\n",
      "  ax = sns.lineplot(\n",
      "c:\\github_projects\\robust-active-clustering\\rac\\experiment_data.py:475: UserWarning: FixedFormatter should only be used together with FixedLocator\n",
      "  ax.set_xticklabels(labels)\n"
     ]
    },
    {
     "name": "stdout",
     "output_type": "stream",
     "text": [
      "70\n"
     ]
    },
    {
     "name": "stderr",
     "output_type": "stream",
     "text": [
      "c:\\github_projects\\robust-active-clustering\\rac\\experiment_data.py:441: UserWarning: The palette list has more values (36) than needed (5), which may not be intended.\n",
      "  ax = sns.lineplot(\n"
     ]
    },
    {
     "name": "stdout",
     "output_type": "stream",
     "text": [
      "70\n"
     ]
    },
    {
     "name": "stderr",
     "output_type": "stream",
     "text": [
      "c:\\github_projects\\robust-active-clustering\\rac\\experiment_data.py:475: UserWarning: FixedFormatter should only be used together with FixedLocator\n",
      "  ax.set_xticklabels(labels)\n",
      "c:\\github_projects\\robust-active-clustering\\rac\\experiment_data.py:441: UserWarning: The palette list has more values (36) than needed (5), which may not be intended.\n",
      "  ax = sns.lineplot(\n"
     ]
    },
    {
     "name": "stdout",
     "output_type": "stream",
     "text": [
      "70\n"
     ]
    },
    {
     "name": "stderr",
     "output_type": "stream",
     "text": [
      "c:\\github_projects\\robust-active-clustering\\rac\\experiment_data.py:475: UserWarning: FixedFormatter should only be used together with FixedLocator\n",
      "  ax.set_xticklabels(labels)\n",
      "c:\\github_projects\\robust-active-clustering\\rac\\experiment_data.py:441: UserWarning: The palette list has more values (36) than needed (5), which may not be intended.\n",
      "  ax = sns.lineplot(\n",
      "c:\\github_projects\\robust-active-clustering\\rac\\experiment_data.py:475: UserWarning: FixedFormatter should only be used together with FixedLocator\n",
      "  ax.set_xticklabels(labels)\n"
     ]
    },
    {
     "name": "stdout",
     "output_type": "stream",
     "text": [
      "70\n"
     ]
    },
    {
     "name": "stderr",
     "output_type": "stream",
     "text": [
      "c:\\github_projects\\robust-active-clustering\\rac\\experiment_data.py:441: UserWarning: The palette list has more values (36) than needed (5), which may not be intended.\n",
      "  ax = sns.lineplot(\n"
     ]
    },
    {
     "name": "stdout",
     "output_type": "stream",
     "text": [
      "70\n"
     ]
    },
    {
     "name": "stderr",
     "output_type": "stream",
     "text": [
      "c:\\github_projects\\robust-active-clustering\\rac\\experiment_data.py:475: UserWarning: FixedFormatter should only be used together with FixedLocator\n",
      "  ax.set_xticklabels(labels)\n",
      "c:\\github_projects\\robust-active-clustering\\rac\\experiment_data.py:441: UserWarning: The palette list has more values (36) than needed (5), which may not be intended.\n",
      "  ax = sns.lineplot(\n"
     ]
    },
    {
     "name": "stdout",
     "output_type": "stream",
     "text": [
      "70\n"
     ]
    },
    {
     "name": "stderr",
     "output_type": "stream",
     "text": [
      "c:\\github_projects\\robust-active-clustering\\rac\\experiment_data.py:475: UserWarning: FixedFormatter should only be used together with FixedLocator\n",
      "  ax.set_xticklabels(labels)\n",
      "c:\\github_projects\\robust-active-clustering\\rac\\experiment_data.py:441: UserWarning: The palette list has more values (36) than needed (5), which may not be intended.\n",
      "  ax = sns.lineplot(\n",
      "c:\\github_projects\\robust-active-clustering\\rac\\experiment_data.py:475: UserWarning: FixedFormatter should only be used together with FixedLocator\n",
      "  ax.set_xticklabels(labels)\n"
     ]
    },
    {
     "name": "stdout",
     "output_type": "stream",
     "text": [
      "70\n"
     ]
    },
    {
     "name": "stderr",
     "output_type": "stream",
     "text": [
      "c:\\github_projects\\robust-active-clustering\\rac\\experiment_data.py:441: UserWarning: The palette list has more values (36) than needed (5), which may not be intended.\n",
      "  ax = sns.lineplot(\n"
     ]
    },
    {
     "name": "stdout",
     "output_type": "stream",
     "text": [
      "70\n"
     ]
    },
    {
     "name": "stderr",
     "output_type": "stream",
     "text": [
      "c:\\github_projects\\robust-active-clustering\\rac\\experiment_data.py:475: UserWarning: FixedFormatter should only be used together with FixedLocator\n",
      "  ax.set_xticklabels(labels)\n",
      "c:\\github_projects\\robust-active-clustering\\rac\\experiment_data.py:441: UserWarning: The palette list has more values (36) than needed (5), which may not be intended.\n",
      "  ax = sns.lineplot(\n"
     ]
    },
    {
     "name": "stdout",
     "output_type": "stream",
     "text": [
      "70\n"
     ]
    },
    {
     "name": "stderr",
     "output_type": "stream",
     "text": [
      "c:\\github_projects\\robust-active-clustering\\rac\\experiment_data.py:475: UserWarning: FixedFormatter should only be used together with FixedLocator\n",
      "  ax.set_xticklabels(labels)\n",
      "c:\\github_projects\\robust-active-clustering\\rac\\experiment_data.py:441: UserWarning: The palette list has more values (36) than needed (5), which may not be intended.\n",
      "  ax = sns.lineplot(\n",
      "c:\\github_projects\\robust-active-clustering\\rac\\experiment_data.py:475: UserWarning: FixedFormatter should only be used together with FixedLocator\n",
      "  ax.set_xticklabels(labels)\n"
     ]
    },
    {
     "name": "stdout",
     "output_type": "stream",
     "text": [
      "70\n"
     ]
    },
    {
     "name": "stderr",
     "output_type": "stream",
     "text": [
      "c:\\github_projects\\robust-active-clustering\\rac\\experiment_data.py:441: UserWarning: The palette list has more values (36) than needed (5), which may not be intended.\n",
      "  ax = sns.lineplot(\n"
     ]
    },
    {
     "name": "stdout",
     "output_type": "stream",
     "text": [
      "70\n"
     ]
    },
    {
     "name": "stderr",
     "output_type": "stream",
     "text": [
      "c:\\github_projects\\robust-active-clustering\\rac\\experiment_data.py:475: UserWarning: FixedFormatter should only be used together with FixedLocator\n",
      "  ax.set_xticklabels(labels)\n",
      "c:\\github_projects\\robust-active-clustering\\rac\\experiment_data.py:441: UserWarning: The palette list has more values (36) than needed (5), which may not be intended.\n",
      "  ax = sns.lineplot(\n"
     ]
    },
    {
     "name": "stdout",
     "output_type": "stream",
     "text": [
      "70\n"
     ]
    },
    {
     "name": "stderr",
     "output_type": "stream",
     "text": [
      "c:\\github_projects\\robust-active-clustering\\rac\\experiment_data.py:475: UserWarning: FixedFormatter should only be used together with FixedLocator\n",
      "  ax.set_xticklabels(labels)\n",
      "c:\\github_projects\\robust-active-clustering\\rac\\experiment_data.py:441: UserWarning: The palette list has more values (36) than needed (5), which may not be intended.\n",
      "  ax = sns.lineplot(\n",
      "c:\\github_projects\\robust-active-clustering\\rac\\experiment_data.py:475: UserWarning: FixedFormatter should only be used together with FixedLocator\n",
      "  ax.set_xticklabels(labels)\n"
     ]
    },
    {
     "name": "stdout",
     "output_type": "stream",
     "text": [
      "70\n"
     ]
    },
    {
     "name": "stderr",
     "output_type": "stream",
     "text": [
      "c:\\github_projects\\robust-active-clustering\\rac\\experiment_data.py:441: UserWarning: The palette list has more values (36) than needed (5), which may not be intended.\n",
      "  ax = sns.lineplot(\n"
     ]
    },
    {
     "name": "stdout",
     "output_type": "stream",
     "text": [
      "70\n"
     ]
    },
    {
     "name": "stderr",
     "output_type": "stream",
     "text": [
      "c:\\github_projects\\robust-active-clustering\\rac\\experiment_data.py:475: UserWarning: FixedFormatter should only be used together with FixedLocator\n",
      "  ax.set_xticklabels(labels)\n",
      "c:\\github_projects\\robust-active-clustering\\rac\\experiment_data.py:441: UserWarning: The palette list has more values (36) than needed (5), which may not be intended.\n",
      "  ax = sns.lineplot(\n"
     ]
    },
    {
     "name": "stdout",
     "output_type": "stream",
     "text": [
      "70\n"
     ]
    },
    {
     "name": "stderr",
     "output_type": "stream",
     "text": [
      "c:\\github_projects\\robust-active-clustering\\rac\\experiment_data.py:475: UserWarning: FixedFormatter should only be used together with FixedLocator\n",
      "  ax.set_xticklabels(labels)\n",
      "c:\\github_projects\\robust-active-clustering\\rac\\experiment_data.py:441: UserWarning: The palette list has more values (36) than needed (5), which may not be intended.\n",
      "  ax = sns.lineplot(\n",
      "c:\\github_projects\\robust-active-clustering\\rac\\experiment_data.py:475: UserWarning: FixedFormatter should only be used together with FixedLocator\n",
      "  ax.set_xticklabels(labels)\n"
     ]
    },
    {
     "name": "stdout",
     "output_type": "stream",
     "text": [
      "70\n"
     ]
    },
    {
     "name": "stderr",
     "output_type": "stream",
     "text": [
      "c:\\github_projects\\robust-active-clustering\\rac\\experiment_data.py:441: UserWarning: The palette list has more values (36) than needed (5), which may not be intended.\n",
      "  ax = sns.lineplot(\n"
     ]
    },
    {
     "name": "stdout",
     "output_type": "stream",
     "text": [
      "70\n"
     ]
    },
    {
     "name": "stderr",
     "output_type": "stream",
     "text": [
      "c:\\github_projects\\robust-active-clustering\\rac\\experiment_data.py:475: UserWarning: FixedFormatter should only be used together with FixedLocator\n",
      "  ax.set_xticklabels(labels)\n",
      "c:\\github_projects\\robust-active-clustering\\rac\\experiment_data.py:441: UserWarning: The palette list has more values (36) than needed (5), which may not be intended.\n",
      "  ax = sns.lineplot(\n"
     ]
    },
    {
     "name": "stdout",
     "output_type": "stream",
     "text": [
      "70\n"
     ]
    },
    {
     "name": "stderr",
     "output_type": "stream",
     "text": [
      "c:\\github_projects\\robust-active-clustering\\rac\\experiment_data.py:475: UserWarning: FixedFormatter should only be used together with FixedLocator\n",
      "  ax.set_xticklabels(labels)\n",
      "c:\\github_projects\\robust-active-clustering\\rac\\experiment_data.py:441: UserWarning: The palette list has more values (36) than needed (5), which may not be intended.\n",
      "  ax = sns.lineplot(\n",
      "c:\\github_projects\\robust-active-clustering\\rac\\experiment_data.py:475: UserWarning: FixedFormatter should only be used together with FixedLocator\n",
      "  ax.set_xticklabels(labels)\n"
     ]
    },
    {
     "name": "stdout",
     "output_type": "stream",
     "text": [
      "70\n"
     ]
    },
    {
     "name": "stderr",
     "output_type": "stream",
     "text": [
      "c:\\github_projects\\robust-active-clustering\\rac\\experiment_data.py:441: UserWarning: The palette list has more values (36) than needed (5), which may not be intended.\n",
      "  ax = sns.lineplot(\n"
     ]
    },
    {
     "name": "stdout",
     "output_type": "stream",
     "text": [
      "70\n"
     ]
    },
    {
     "name": "stderr",
     "output_type": "stream",
     "text": [
      "c:\\github_projects\\robust-active-clustering\\rac\\experiment_data.py:475: UserWarning: FixedFormatter should only be used together with FixedLocator\n",
      "  ax.set_xticklabels(labels)\n",
      "c:\\github_projects\\robust-active-clustering\\rac\\experiment_data.py:441: UserWarning: The palette list has more values (36) than needed (5), which may not be intended.\n",
      "  ax = sns.lineplot(\n"
     ]
    },
    {
     "name": "stdout",
     "output_type": "stream",
     "text": [
      "70\n"
     ]
    },
    {
     "name": "stderr",
     "output_type": "stream",
     "text": [
      "c:\\github_projects\\robust-active-clustering\\rac\\experiment_data.py:475: UserWarning: FixedFormatter should only be used together with FixedLocator\n",
      "  ax.set_xticklabels(labels)\n",
      "c:\\github_projects\\robust-active-clustering\\rac\\experiment_data.py:441: UserWarning: The palette list has more values (36) than needed (5), which may not be intended.\n",
      "  ax = sns.lineplot(\n",
      "c:\\github_projects\\robust-active-clustering\\rac\\experiment_data.py:475: UserWarning: FixedFormatter should only be used together with FixedLocator\n",
      "  ax.set_xticklabels(labels)\n"
     ]
    },
    {
     "name": "stdout",
     "output_type": "stream",
     "text": [
      "70\n"
     ]
    },
    {
     "name": "stderr",
     "output_type": "stream",
     "text": [
      "c:\\github_projects\\robust-active-clustering\\rac\\experiment_data.py:441: UserWarning: The palette list has more values (36) than needed (5), which may not be intended.\n",
      "  ax = sns.lineplot(\n"
     ]
    },
    {
     "name": "stdout",
     "output_type": "stream",
     "text": [
      "70\n"
     ]
    },
    {
     "name": "stderr",
     "output_type": "stream",
     "text": [
      "c:\\github_projects\\robust-active-clustering\\rac\\experiment_data.py:475: UserWarning: FixedFormatter should only be used together with FixedLocator\n",
      "  ax.set_xticklabels(labels)\n",
      "c:\\github_projects\\robust-active-clustering\\rac\\experiment_data.py:441: UserWarning: The palette list has more values (36) than needed (5), which may not be intended.\n",
      "  ax = sns.lineplot(\n"
     ]
    },
    {
     "name": "stdout",
     "output_type": "stream",
     "text": [
      "70\n"
     ]
    },
    {
     "name": "stderr",
     "output_type": "stream",
     "text": [
      "c:\\github_projects\\robust-active-clustering\\rac\\experiment_data.py:475: UserWarning: FixedFormatter should only be used together with FixedLocator\n",
      "  ax.set_xticklabels(labels)\n",
      "c:\\github_projects\\robust-active-clustering\\rac\\experiment_data.py:441: UserWarning: The palette list has more values (36) than needed (5), which may not be intended.\n",
      "  ax = sns.lineplot(\n",
      "c:\\github_projects\\robust-active-clustering\\rac\\experiment_data.py:475: UserWarning: FixedFormatter should only be used together with FixedLocator\n",
      "  ax.set_xticklabels(labels)\n"
     ]
    },
    {
     "name": "stdout",
     "output_type": "stream",
     "text": [
      "70\n"
     ]
    },
    {
     "name": "stderr",
     "output_type": "stream",
     "text": [
      "c:\\github_projects\\robust-active-clustering\\rac\\experiment_data.py:441: UserWarning: The palette list has more values (36) than needed (5), which may not be intended.\n",
      "  ax = sns.lineplot(\n"
     ]
    },
    {
     "name": "stdout",
     "output_type": "stream",
     "text": [
      "70\n"
     ]
    },
    {
     "name": "stderr",
     "output_type": "stream",
     "text": [
      "c:\\github_projects\\robust-active-clustering\\rac\\experiment_data.py:475: UserWarning: FixedFormatter should only be used together with FixedLocator\n",
      "  ax.set_xticklabels(labels)\n",
      "c:\\github_projects\\robust-active-clustering\\rac\\experiment_data.py:441: UserWarning: The palette list has more values (36) than needed (5), which may not be intended.\n",
      "  ax = sns.lineplot(\n"
     ]
    },
    {
     "name": "stdout",
     "output_type": "stream",
     "text": [
      "70\n"
     ]
    },
    {
     "name": "stderr",
     "output_type": "stream",
     "text": [
      "c:\\github_projects\\robust-active-clustering\\rac\\experiment_data.py:475: UserWarning: FixedFormatter should only be used together with FixedLocator\n",
      "  ax.set_xticklabels(labels)\n",
      "c:\\github_projects\\robust-active-clustering\\rac\\experiment_data.py:441: UserWarning: The palette list has more values (36) than needed (5), which may not be intended.\n",
      "  ax = sns.lineplot(\n",
      "c:\\github_projects\\robust-active-clustering\\rac\\experiment_data.py:475: UserWarning: FixedFormatter should only be used together with FixedLocator\n",
      "  ax.set_xticklabels(labels)\n"
     ]
    },
    {
     "name": "stdout",
     "output_type": "stream",
     "text": [
      "70\n"
     ]
    },
    {
     "name": "stderr",
     "output_type": "stream",
     "text": [
      "c:\\github_projects\\robust-active-clustering\\rac\\experiment_data.py:441: UserWarning: The palette list has more values (36) than needed (5), which may not be intended.\n",
      "  ax = sns.lineplot(\n"
     ]
    },
    {
     "name": "stdout",
     "output_type": "stream",
     "text": [
      "70\n"
     ]
    },
    {
     "name": "stderr",
     "output_type": "stream",
     "text": [
      "c:\\github_projects\\robust-active-clustering\\rac\\experiment_data.py:475: UserWarning: FixedFormatter should only be used together with FixedLocator\n",
      "  ax.set_xticklabels(labels)\n",
      "c:\\github_projects\\robust-active-clustering\\rac\\experiment_data.py:441: UserWarning: The palette list has more values (36) than needed (5), which may not be intended.\n",
      "  ax = sns.lineplot(\n"
     ]
    },
    {
     "name": "stdout",
     "output_type": "stream",
     "text": [
      "70\n"
     ]
    },
    {
     "name": "stderr",
     "output_type": "stream",
     "text": [
      "c:\\github_projects\\robust-active-clustering\\rac\\experiment_data.py:475: UserWarning: FixedFormatter should only be used together with FixedLocator\n",
      "  ax.set_xticklabels(labels)\n",
      "c:\\github_projects\\robust-active-clustering\\rac\\experiment_data.py:441: UserWarning: The palette list has more values (36) than needed (5), which may not be intended.\n",
      "  ax = sns.lineplot(\n",
      "c:\\github_projects\\robust-active-clustering\\rac\\experiment_data.py:475: UserWarning: FixedFormatter should only be used together with FixedLocator\n",
      "  ax.set_xticklabels(labels)\n"
     ]
    },
    {
     "name": "stdout",
     "output_type": "stream",
     "text": [
      "70\n"
     ]
    },
    {
     "name": "stderr",
     "output_type": "stream",
     "text": [
      "c:\\github_projects\\robust-active-clustering\\rac\\experiment_data.py:441: UserWarning: The palette list has more values (36) than needed (5), which may not be intended.\n",
      "  ax = sns.lineplot(\n",
      "c:\\github_projects\\robust-active-clustering\\rac\\experiment_data.py:475: UserWarning: FixedFormatter should only be used together with FixedLocator\n",
      "  ax.set_xticklabels(labels)\n"
     ]
    },
    {
     "name": "stdout",
     "output_type": "stream",
     "text": [
      "70\n"
     ]
    },
    {
     "data": {
      "text/plain": [
       "<Figure size 1200x800 with 0 Axes>"
      ]
     },
     "metadata": {},
     "output_type": "display_data"
    }
   ],
   "source": [
    "config = {\n",
    "    \"_experiment_name\": \"test_experiment\",\n",
    "    \"_num_repeats\": 14,\n",
    "    \"_n_workers\": 14,\n",
    "    \"_local\": True,\n",
    "    \"_verbose\": True,\n",
    "    \"_overwrite\": False,\n",
    "    \"_mode\": \"ac\",\n",
    "\n",
    "    \"seed\": 14,\n",
    "    \"batch_size\": [5],\n",
    "    \"noise_level\": [0.4],\n",
    "    \"clustering_alg\": \"CC\",\n",
    "    \"warm_start\": [0, 0.1],\n",
    "    \"K_init\": 10,\n",
    "    \"sim_init\": [0.01],\n",
    "    \"sim_init_type\": [\"zeros\"],\n",
    "    \"sample_size\": 1,\n",
    "    \"infer_threshold\": [-1],\n",
    "    \"start_inferring\": [0],\n",
    "\n",
    "    \"acq_fn\": [\"freq\", \"entropy\", \"info_gain_object\", \"info_gain_objects_all\", \"info_gain_objects_random\", \"info_gain_pairs_all\", \"info_gain_pairs_random\"],\n",
    "    \"eps\": [0.8],\n",
    "    \"beta\": [1],\n",
    "    \"tau\": [100],\n",
    "\n",
    "    \"alpha1\": [1],\n",
    "    \"alpha2\": [0.5],\n",
    "    \"alpha3\": [1],\n",
    "\n",
    "    \"r\": [0, 1, 10, 200, 0.1],\n",
    "    \"num_mc_samples\": [100],\n",
    "    \"num_mc\": [30],\n",
    "\n",
    "    \"num_maxmin_edges\": -1,\n",
    "    \"acq_noise\": [False, True],\n",
    "    \"fix_neg\": [False, True],\n",
    "    \"use_power\": True,\n",
    "    \"power_beta\": 1,\n",
    "    \"sparse_sim_matrix\": True,\n",
    "    \"mean_field_beta\": [1, 3, 30],\n",
    "    \"info_gain_lambda\": 1,\n",
    "    \"num_edges_info_gain\": [-1],\n",
    "    \"info_gain_pair_mode\": [\"uniform\"],\n",
    "    \"mf_iterations\": 100,\n",
    "\n",
    "    \"dataset_name\": \"synthetic\",\n",
    "    \"dataset_n_samples\": 70,\n",
    "    \"dataset_n_clusters\": [5],\n",
    "    \"dataset_class_balance\": None,\n",
    "    \"dataset_class_sep\": [1.5],\n",
    "    \"dataset_n_features\": [10],\n",
    "    \"dataset_y_flip\": [0],\n",
    "}\n",
    "\n",
    "\n",
    "\n",
    "er.generate_AL_curves(\n",
    "    data,\n",
    "    save_location=\"../plots/test_experiment2/\",\n",
    "    categorize=[\"acq_fn\"],\n",
    "    compare=[\"r\"],\n",
    "    vary=[\"x\"],\n",
    "    options_in_file_name=[\"warm_start\", \"acq_noise\", \"fix_neg\", \"mean_field_beta\"],\n",
    "    auc=True,\n",
    "    summary_method=\"auc_max_ind\",\n",
    "    indices=[], \n",
    "    threshold=1,\n",
    "    err_style=\"band\",\n",
    "    marker=\"o\",\n",
    "    markersize=6,\n",
    "    capsize=6,\n",
    "    linestyle=\"solid\",\n",
    "    prop=True,\n",
    "    **config\n",
    ")"
   ]
  },
  {
   "cell_type": "code",
   "execution_count": 20,
   "metadata": {},
   "outputs": [
    {
     "data": {
      "text/plain": [
       "array([[0.42363078, 0.36546929, 0.21089993],\n",
       "       [0.04773471, 0.45169987, 0.50056542],\n",
       "       [0.19900596, 0.34549744, 0.45549659],\n",
       "       [0.32282257, 0.13019177, 0.54698566],\n",
       "       [0.07404459, 0.62562501, 0.3003304 ],\n",
       "       [0.40622515, 0.35756114, 0.23621371],\n",
       "       [0.25898352, 0.43673317, 0.30428331],\n",
       "       [0.12702785, 0.66565559, 0.20731656],\n",
       "       [0.32077448, 0.36853348, 0.31069203],\n",
       "       [0.3484228 , 0.25471921, 0.39685799]])"
      ]
     },
     "execution_count": 20,
     "metadata": {},
     "output_type": "execute_result"
    }
   ],
   "source": [
    "q"
   ]
  },
  {
   "cell_type": "code",
   "execution_count": 21,
   "metadata": {},
   "outputs": [
    {
     "data": {
      "text/plain": [
       "array([1., 1., 1., 1., 1., 1., 1., 1., 1., 1.])"
      ]
     },
     "execution_count": 21,
     "metadata": {},
     "output_type": "execute_result"
    }
   ],
   "source": [
    "np.sum(q, axis=1)"
   ]
  },
  {
   "cell_type": "code",
   "execution_count": null,
   "metadata": {},
   "outputs": [],
   "source": []
  },
  {
   "cell_type": "code",
   "execution_count": null,
   "metadata": {},
   "outputs": [],
   "source": []
  },
  {
   "cell_type": "code",
   "execution_count": null,
   "metadata": {},
   "outputs": [
    {
     "data": {
      "text/plain": [
       "(array([[23,  2,  3],\n",
       "        [ 8, 30,  1],\n",
       "        [ 6,  4, 23]], dtype=int64),\n",
       " 0.76)"
      ]
     },
     "execution_count": 190,
     "metadata": {},
     "output_type": "execute_result"
    }
   ],
   "source": [
    "import numpy as np\n",
    "from sklearn.metrics import confusion_matrix, accuracy_score\n",
    "\n",
    "# Simulate a scenario\n",
    "np.random.seed(42)  # For reproducibility\n",
    "\n",
    "num_points = 100  # Number of data points\n",
    "num_classes = 3   # Number of classes\n",
    "\n",
    "# Generate random softmax probabilities\n",
    "Y_softmax = np.random.rand(num_points, num_classes)\n",
    "Y_softmax = Y_softmax / np.sum(Y_softmax, axis=1)[:, None]  # Normalize to make them proper probabilities\n",
    "\n",
    "# Compute hard label predictions from softmax probabilities\n",
    "Y_preds = np.argmax(Y_softmax, axis=1)\n",
    "\n",
    "# Simulate the similarity matrix S based on softmax probabilities\n",
    "S = np.dot(Y_softmax, Y_softmax.T)  # Dot product for simplicity in simulation\n",
    "\n",
    "# Simulate CC.predict(S) by slightly perturbing Y_preds for simulation\n",
    "perturbation = np.random.choice([-1, 0, 1], size=num_points, p=[0.1, 0.8, 0.1])  # Mostly unchanged, some perturbations\n",
    "Y_CC = (Y_preds + perturbation) % num_classes  # Ensure it remains a valid class label\n",
    "\n",
    "# Compare Y_CC and Y_preds\n",
    "conf_matrix = confusion_matrix(Y_preds, Y_CC)\n",
    "accuracy = accuracy_score(Y_preds, Y_CC)\n",
    "\n",
    "conf_matrix, accuracy"
   ]
  },
  {
   "cell_type": "code",
   "execution_count": null,
   "metadata": {},
   "outputs": [],
   "source": []
  }
 ],
 "metadata": {
  "kernelspec": {
   "display_name": "base",
   "language": "python",
   "name": "python3"
  },
  "language_info": {
   "codemirror_mode": {
    "name": "ipython",
    "version": 3
   },
   "file_extension": ".py",
   "mimetype": "text/x-python",
   "name": "python",
   "nbconvert_exporter": "python",
   "pygments_lexer": "ipython3",
   "version": "3.9.13"
  }
 },
 "nbformat": 4,
 "nbformat_minor": 2
}
