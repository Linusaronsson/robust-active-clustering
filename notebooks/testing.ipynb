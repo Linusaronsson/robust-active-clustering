{
 "cells": [
  {
   "cell_type": "code",
   "execution_count": 15,
   "metadata": {},
   "outputs": [],
   "source": [
    "from rac.experiment_data import ExperimentReader\n",
    "er = ExperimentReader(metrics=[\"rand\"])\n",
    "\n",
    "start_index = 1\n",
    "config = {\n",
    "    \"_experiment_name\": \"test_experiment\",\n",
    "    \"_num_repeats\": 14,\n",
    "    \"_n_workers\": 14,\n",
    "    \"_local\": True,\n",
    "    \"_verbose\": True,\n",
    "    \"_overwrite\": False,\n",
    "    \"_mode\": \"ac\",\n",
    "\n",
    "    \"seed\": 14,\n",
    "    \"batch_size\": [0.0025, 0.005],\n",
    "    \"noise_level\": [0.1, 0.4],\n",
    "    \"clustering_alg\": \"CC\",\n",
    "    \"warm_start\": [0, 0.05],\n",
    "    \"K_init\": 10,\n",
    "    \"sim_init\": [0.01, 0.001],\n",
    "    \"sim_init_type\": [\"uniform_random\", \"zeros\", \"kmeans\"],\n",
    "    \"sample_size\": 1,\n",
    "    \"infer_threshold\": [-1],\n",
    "    \"start_inferring\": [0],\n",
    "\n",
    "    \"acq_fn\": [\"freq\", \"entropy\", \"cluster_incon\"],\n",
    "    \"eps\": 0.3,\n",
    "    \"beta\": 1,\n",
    "    \"tau\": [7],\n",
    "    \"alpha\": [0, 0.2, 0.5, 1],\n",
    "    \"num_maxmin_edges\": -1,\n",
    "    \"acq_noise\": [True, False],\n",
    "    \"fix_neg\": [False],\n",
    "    \"use_power\": True,\n",
    "    \"power_beta\": 1,\n",
    "    \"sparse_sim_matrix\": True,\n",
    "    \"mean_field_beta\": 3,\n",
    "    \"info_gain_lambda\": 1,\n",
    "    \"num_edges_info_gain\": [-1],\n",
    "    \"info_gain_pair_mode\": [\"uniform\"],\n",
    "    \"mf_iterations\": 50,\n",
    "\n",
    "    \"dataset_name\": \"synthetic\",\n",
    "    \"dataset_n_samples\": 500,\n",
    "    \"dataset_n_clusters\": 10,\n",
    "    \"dataset_class_balance\": None,\n",
    "    \"dataset_class_sep\": [1.5],\n",
    "    \"dataset_n_features\": [10],\n",
    "    \"dataset_y_flip\": [0],\n",
    "}\n",
    "\n",
    "\n",
    "start_index = er.generate_experiments(\n",
    "    folder=\"../configs/test_experiment\",\n",
    "    options_to_keep=[],\n",
    "    start_index=start_index, \n",
    "    **config\n",
    ")"
   ]
  },
  {
   "cell_type": "code",
   "execution_count": 4,
   "metadata": {},
   "outputs": [],
   "source": [
    "from rac.experiment_data import ExperimentReader\n",
    "er = ExperimentReader(metrics=[\"rand\", \"num_repeat_queries\", \"num_violations\"])\n",
    "data = er.read_all_data(folder=\"../experiment_results_local/test_experiment/\")"
   ]
  },
  {
   "cell_type": "markdown",
   "metadata": {},
   "source": []
  },
  {
   "cell_type": "code",
   "execution_count": 11,
   "metadata": {},
   "outputs": [
    {
     "name": "stdout",
     "output_type": "stream",
     "text": [
      "500\n"
     ]
    },
    {
     "name": "stderr",
     "output_type": "stream",
     "text": [
      "c:\\github_projects\\robust-active-clustering\\rac\\experiment_data.py:466: UserWarning: FixedFormatter should only be used together with FixedLocator\n",
      "  #    #labels.append(round((int(item)*self.batch_size+rest)/len(self.Y), 2))\n"
     ]
    },
    {
     "name": "stdout",
     "output_type": "stream",
     "text": [
      "500\n"
     ]
    },
    {
     "name": "stderr",
     "output_type": "stream",
     "text": [
      "c:\\github_projects\\robust-active-clustering\\rac\\experiment_data.py:466: UserWarning: FixedFormatter should only be used together with FixedLocator\n",
      "  #    #labels.append(round((int(item)*self.batch_size+rest)/len(self.Y), 2))\n"
     ]
    },
    {
     "name": "stdout",
     "output_type": "stream",
     "text": [
      "500\n"
     ]
    },
    {
     "name": "stderr",
     "output_type": "stream",
     "text": [
      "c:\\github_projects\\robust-active-clustering\\rac\\experiment_data.py:466: UserWarning: FixedFormatter should only be used together with FixedLocator\n",
      "  #    #labels.append(round((int(item)*self.batch_size+rest)/len(self.Y), 2))\n"
     ]
    },
    {
     "name": "stdout",
     "output_type": "stream",
     "text": [
      "500\n"
     ]
    },
    {
     "name": "stderr",
     "output_type": "stream",
     "text": [
      "c:\\github_projects\\robust-active-clustering\\rac\\experiment_data.py:466: UserWarning: FixedFormatter should only be used together with FixedLocator\n",
      "  #    #labels.append(round((int(item)*self.batch_size+rest)/len(self.Y), 2))\n"
     ]
    },
    {
     "name": "stdout",
     "output_type": "stream",
     "text": [
      "500\n"
     ]
    },
    {
     "name": "stderr",
     "output_type": "stream",
     "text": [
      "c:\\github_projects\\robust-active-clustering\\rac\\experiment_data.py:466: UserWarning: FixedFormatter should only be used together with FixedLocator\n",
      "  #    #labels.append(round((int(item)*self.batch_size+rest)/len(self.Y), 2))\n"
     ]
    },
    {
     "name": "stdout",
     "output_type": "stream",
     "text": [
      "500\n"
     ]
    },
    {
     "name": "stderr",
     "output_type": "stream",
     "text": [
      "c:\\github_projects\\robust-active-clustering\\rac\\experiment_data.py:466: UserWarning: FixedFormatter should only be used together with FixedLocator\n",
      "  #    #labels.append(round((int(item)*self.batch_size+rest)/len(self.Y), 2))\n"
     ]
    },
    {
     "name": "stdout",
     "output_type": "stream",
     "text": [
      "500\n"
     ]
    },
    {
     "name": "stderr",
     "output_type": "stream",
     "text": [
      "c:\\github_projects\\robust-active-clustering\\rac\\experiment_data.py:466: UserWarning: FixedFormatter should only be used together with FixedLocator\n",
      "  #    #labels.append(round((int(item)*self.batch_size+rest)/len(self.Y), 2))\n"
     ]
    },
    {
     "name": "stdout",
     "output_type": "stream",
     "text": [
      "500\n"
     ]
    },
    {
     "name": "stderr",
     "output_type": "stream",
     "text": [
      "c:\\github_projects\\robust-active-clustering\\rac\\experiment_data.py:466: UserWarning: FixedFormatter should only be used together with FixedLocator\n",
      "  #    #labels.append(round((int(item)*self.batch_size+rest)/len(self.Y), 2))\n"
     ]
    },
    {
     "name": "stdout",
     "output_type": "stream",
     "text": [
      "500\n"
     ]
    },
    {
     "name": "stderr",
     "output_type": "stream",
     "text": [
      "c:\\github_projects\\robust-active-clustering\\rac\\experiment_data.py:466: UserWarning: FixedFormatter should only be used together with FixedLocator\n",
      "  #    #labels.append(round((int(item)*self.batch_size+rest)/len(self.Y), 2))\n"
     ]
    },
    {
     "name": "stdout",
     "output_type": "stream",
     "text": [
      "500\n"
     ]
    },
    {
     "name": "stderr",
     "output_type": "stream",
     "text": [
      "c:\\github_projects\\robust-active-clustering\\rac\\experiment_data.py:466: UserWarning: FixedFormatter should only be used together with FixedLocator\n",
      "  #    #labels.append(round((int(item)*self.batch_size+rest)/len(self.Y), 2))\n"
     ]
    },
    {
     "name": "stdout",
     "output_type": "stream",
     "text": [
      "500\n"
     ]
    },
    {
     "name": "stderr",
     "output_type": "stream",
     "text": [
      "c:\\github_projects\\robust-active-clustering\\rac\\experiment_data.py:466: UserWarning: FixedFormatter should only be used together with FixedLocator\n",
      "  #    #labels.append(round((int(item)*self.batch_size+rest)/len(self.Y), 2))\n"
     ]
    },
    {
     "name": "stdout",
     "output_type": "stream",
     "text": [
      "500\n"
     ]
    },
    {
     "name": "stderr",
     "output_type": "stream",
     "text": [
      "c:\\github_projects\\robust-active-clustering\\rac\\experiment_data.py:466: UserWarning: FixedFormatter should only be used together with FixedLocator\n",
      "  #    #labels.append(round((int(item)*self.batch_size+rest)/len(self.Y), 2))\n"
     ]
    },
    {
     "name": "stdout",
     "output_type": "stream",
     "text": [
      "500\n"
     ]
    },
    {
     "name": "stderr",
     "output_type": "stream",
     "text": [
      "c:\\github_projects\\robust-active-clustering\\rac\\experiment_data.py:466: UserWarning: FixedFormatter should only be used together with FixedLocator\n",
      "  #    #labels.append(round((int(item)*self.batch_size+rest)/len(self.Y), 2))\n"
     ]
    },
    {
     "name": "stdout",
     "output_type": "stream",
     "text": [
      "500\n"
     ]
    },
    {
     "name": "stderr",
     "output_type": "stream",
     "text": [
      "c:\\github_projects\\robust-active-clustering\\rac\\experiment_data.py:466: UserWarning: FixedFormatter should only be used together with FixedLocator\n",
      "  #    #labels.append(round((int(item)*self.batch_size+rest)/len(self.Y), 2))\n"
     ]
    },
    {
     "name": "stdout",
     "output_type": "stream",
     "text": [
      "500\n"
     ]
    },
    {
     "name": "stderr",
     "output_type": "stream",
     "text": [
      "c:\\github_projects\\robust-active-clustering\\rac\\experiment_data.py:466: UserWarning: FixedFormatter should only be used together with FixedLocator\n",
      "  #    #labels.append(round((int(item)*self.batch_size+rest)/len(self.Y), 2))\n"
     ]
    },
    {
     "name": "stdout",
     "output_type": "stream",
     "text": [
      "500\n"
     ]
    },
    {
     "name": "stderr",
     "output_type": "stream",
     "text": [
      "c:\\github_projects\\robust-active-clustering\\rac\\experiment_data.py:466: UserWarning: FixedFormatter should only be used together with FixedLocator\n",
      "  #    #labels.append(round((int(item)*self.batch_size+rest)/len(self.Y), 2))\n"
     ]
    },
    {
     "name": "stdout",
     "output_type": "stream",
     "text": [
      "500\n"
     ]
    },
    {
     "name": "stderr",
     "output_type": "stream",
     "text": [
      "c:\\github_projects\\robust-active-clustering\\rac\\experiment_data.py:466: UserWarning: FixedFormatter should only be used together with FixedLocator\n",
      "  #    #labels.append(round((int(item)*self.batch_size+rest)/len(self.Y), 2))\n"
     ]
    },
    {
     "name": "stdout",
     "output_type": "stream",
     "text": [
      "500\n"
     ]
    },
    {
     "name": "stderr",
     "output_type": "stream",
     "text": [
      "c:\\github_projects\\robust-active-clustering\\rac\\experiment_data.py:466: UserWarning: FixedFormatter should only be used together with FixedLocator\n",
      "  #    #labels.append(round((int(item)*self.batch_size+rest)/len(self.Y), 2))\n"
     ]
    },
    {
     "name": "stdout",
     "output_type": "stream",
     "text": [
      "500\n"
     ]
    },
    {
     "name": "stderr",
     "output_type": "stream",
     "text": [
      "c:\\github_projects\\robust-active-clustering\\rac\\experiment_data.py:466: UserWarning: FixedFormatter should only be used together with FixedLocator\n",
      "  #    #labels.append(round((int(item)*self.batch_size+rest)/len(self.Y), 2))\n"
     ]
    },
    {
     "name": "stdout",
     "output_type": "stream",
     "text": [
      "500\n"
     ]
    },
    {
     "name": "stderr",
     "output_type": "stream",
     "text": [
      "c:\\github_projects\\robust-active-clustering\\rac\\experiment_data.py:466: UserWarning: FixedFormatter should only be used together with FixedLocator\n",
      "  #    #labels.append(round((int(item)*self.batch_size+rest)/len(self.Y), 2))\n"
     ]
    },
    {
     "name": "stdout",
     "output_type": "stream",
     "text": [
      "500\n"
     ]
    },
    {
     "name": "stderr",
     "output_type": "stream",
     "text": [
      "c:\\github_projects\\robust-active-clustering\\rac\\experiment_data.py:466: UserWarning: FixedFormatter should only be used together with FixedLocator\n",
      "  #    #labels.append(round((int(item)*self.batch_size+rest)/len(self.Y), 2))\n"
     ]
    },
    {
     "name": "stdout",
     "output_type": "stream",
     "text": [
      "500\n"
     ]
    },
    {
     "name": "stderr",
     "output_type": "stream",
     "text": [
      "c:\\github_projects\\robust-active-clustering\\rac\\experiment_data.py:466: UserWarning: FixedFormatter should only be used together with FixedLocator\n",
      "  #    #labels.append(round((int(item)*self.batch_size+rest)/len(self.Y), 2))\n"
     ]
    },
    {
     "name": "stdout",
     "output_type": "stream",
     "text": [
      "500\n"
     ]
    },
    {
     "name": "stderr",
     "output_type": "stream",
     "text": [
      "c:\\github_projects\\robust-active-clustering\\rac\\experiment_data.py:466: UserWarning: FixedFormatter should only be used together with FixedLocator\n",
      "  #    #labels.append(round((int(item)*self.batch_size+rest)/len(self.Y), 2))\n"
     ]
    },
    {
     "name": "stdout",
     "output_type": "stream",
     "text": [
      "500\n"
     ]
    },
    {
     "name": "stderr",
     "output_type": "stream",
     "text": [
      "c:\\github_projects\\robust-active-clustering\\rac\\experiment_data.py:466: UserWarning: FixedFormatter should only be used together with FixedLocator\n",
      "  #    #labels.append(round((int(item)*self.batch_size+rest)/len(self.Y), 2))\n"
     ]
    },
    {
     "name": "stdout",
     "output_type": "stream",
     "text": [
      "500\n"
     ]
    },
    {
     "name": "stderr",
     "output_type": "stream",
     "text": [
      "c:\\github_projects\\robust-active-clustering\\rac\\experiment_data.py:466: UserWarning: FixedFormatter should only be used together with FixedLocator\n",
      "  #    #labels.append(round((int(item)*self.batch_size+rest)/len(self.Y), 2))\n"
     ]
    },
    {
     "name": "stdout",
     "output_type": "stream",
     "text": [
      "500\n"
     ]
    },
    {
     "name": "stderr",
     "output_type": "stream",
     "text": [
      "c:\\github_projects\\robust-active-clustering\\rac\\experiment_data.py:466: UserWarning: FixedFormatter should only be used together with FixedLocator\n",
      "  #    #labels.append(round((int(item)*self.batch_size+rest)/len(self.Y), 2))\n"
     ]
    },
    {
     "name": "stdout",
     "output_type": "stream",
     "text": [
      "500\n"
     ]
    },
    {
     "name": "stderr",
     "output_type": "stream",
     "text": [
      "c:\\github_projects\\robust-active-clustering\\rac\\experiment_data.py:466: UserWarning: FixedFormatter should only be used together with FixedLocator\n",
      "  #    #labels.append(round((int(item)*self.batch_size+rest)/len(self.Y), 2))\n"
     ]
    },
    {
     "name": "stdout",
     "output_type": "stream",
     "text": [
      "500\n"
     ]
    },
    {
     "name": "stderr",
     "output_type": "stream",
     "text": [
      "c:\\github_projects\\robust-active-clustering\\rac\\experiment_data.py:466: UserWarning: FixedFormatter should only be used together with FixedLocator\n",
      "  #    #labels.append(round((int(item)*self.batch_size+rest)/len(self.Y), 2))\n"
     ]
    },
    {
     "name": "stdout",
     "output_type": "stream",
     "text": [
      "500\n"
     ]
    },
    {
     "name": "stderr",
     "output_type": "stream",
     "text": [
      "c:\\github_projects\\robust-active-clustering\\rac\\experiment_data.py:466: UserWarning: FixedFormatter should only be used together with FixedLocator\n",
      "  #    #labels.append(round((int(item)*self.batch_size+rest)/len(self.Y), 2))\n"
     ]
    },
    {
     "name": "stdout",
     "output_type": "stream",
     "text": [
      "500\n"
     ]
    },
    {
     "name": "stderr",
     "output_type": "stream",
     "text": [
      "c:\\github_projects\\robust-active-clustering\\rac\\experiment_data.py:466: UserWarning: FixedFormatter should only be used together with FixedLocator\n",
      "  #    #labels.append(round((int(item)*self.batch_size+rest)/len(self.Y), 2))\n"
     ]
    },
    {
     "name": "stdout",
     "output_type": "stream",
     "text": [
      "500\n"
     ]
    },
    {
     "name": "stderr",
     "output_type": "stream",
     "text": [
      "c:\\github_projects\\robust-active-clustering\\rac\\experiment_data.py:466: UserWarning: FixedFormatter should only be used together with FixedLocator\n",
      "  #    #labels.append(round((int(item)*self.batch_size+rest)/len(self.Y), 2))\n"
     ]
    },
    {
     "name": "stdout",
     "output_type": "stream",
     "text": [
      "500\n"
     ]
    },
    {
     "name": "stderr",
     "output_type": "stream",
     "text": [
      "c:\\github_projects\\robust-active-clustering\\rac\\experiment_data.py:466: UserWarning: FixedFormatter should only be used together with FixedLocator\n",
      "  #    #labels.append(round((int(item)*self.batch_size+rest)/len(self.Y), 2))\n"
     ]
    },
    {
     "name": "stdout",
     "output_type": "stream",
     "text": [
      "500\n"
     ]
    },
    {
     "name": "stderr",
     "output_type": "stream",
     "text": [
      "c:\\github_projects\\robust-active-clustering\\rac\\experiment_data.py:466: UserWarning: FixedFormatter should only be used together with FixedLocator\n",
      "  #    #labels.append(round((int(item)*self.batch_size+rest)/len(self.Y), 2))\n"
     ]
    },
    {
     "name": "stdout",
     "output_type": "stream",
     "text": [
      "500\n"
     ]
    },
    {
     "name": "stderr",
     "output_type": "stream",
     "text": [
      "c:\\github_projects\\robust-active-clustering\\rac\\experiment_data.py:466: UserWarning: FixedFormatter should only be used together with FixedLocator\n",
      "  #    #labels.append(round((int(item)*self.batch_size+rest)/len(self.Y), 2))\n"
     ]
    },
    {
     "name": "stdout",
     "output_type": "stream",
     "text": [
      "500\n"
     ]
    },
    {
     "name": "stderr",
     "output_type": "stream",
     "text": [
      "c:\\github_projects\\robust-active-clustering\\rac\\experiment_data.py:466: UserWarning: FixedFormatter should only be used together with FixedLocator\n",
      "  #    #labels.append(round((int(item)*self.batch_size+rest)/len(self.Y), 2))\n"
     ]
    },
    {
     "name": "stdout",
     "output_type": "stream",
     "text": [
      "500\n",
      "No data for these options @@@@@@@\n"
     ]
    },
    {
     "name": "stderr",
     "output_type": "stream",
     "text": [
      "c:\\github_projects\\robust-active-clustering\\rac\\experiment_data.py:466: UserWarning: FixedFormatter should only be used together with FixedLocator\n",
      "  #    #labels.append(round((int(item)*self.batch_size+rest)/len(self.Y), 2))\n"
     ]
    },
    {
     "name": "stdout",
     "output_type": "stream",
     "text": [
      "500\n",
      "No data for these options @@@@@@@\n"
     ]
    },
    {
     "name": "stderr",
     "output_type": "stream",
     "text": [
      "c:\\github_projects\\robust-active-clustering\\rac\\experiment_data.py:466: UserWarning: FixedFormatter should only be used together with FixedLocator\n",
      "  #    #labels.append(round((int(item)*self.batch_size+rest)/len(self.Y), 2))\n"
     ]
    },
    {
     "name": "stdout",
     "output_type": "stream",
     "text": [
      "500\n"
     ]
    },
    {
     "name": "stderr",
     "output_type": "stream",
     "text": [
      "c:\\github_projects\\robust-active-clustering\\rac\\experiment_data.py:466: UserWarning: FixedFormatter should only be used together with FixedLocator\n",
      "  #    #labels.append(round((int(item)*self.batch_size+rest)/len(self.Y), 2))\n"
     ]
    },
    {
     "name": "stdout",
     "output_type": "stream",
     "text": [
      "500\n"
     ]
    },
    {
     "name": "stderr",
     "output_type": "stream",
     "text": [
      "c:\\github_projects\\robust-active-clustering\\rac\\experiment_data.py:466: UserWarning: FixedFormatter should only be used together with FixedLocator\n",
      "  #    #labels.append(round((int(item)*self.batch_size+rest)/len(self.Y), 2))\n"
     ]
    },
    {
     "name": "stdout",
     "output_type": "stream",
     "text": [
      "500\n"
     ]
    },
    {
     "name": "stderr",
     "output_type": "stream",
     "text": [
      "c:\\github_projects\\robust-active-clustering\\rac\\experiment_data.py:466: UserWarning: FixedFormatter should only be used together with FixedLocator\n",
      "  #    #labels.append(round((int(item)*self.batch_size+rest)/len(self.Y), 2))\n"
     ]
    },
    {
     "name": "stdout",
     "output_type": "stream",
     "text": [
      "500\n"
     ]
    },
    {
     "name": "stderr",
     "output_type": "stream",
     "text": [
      "c:\\github_projects\\robust-active-clustering\\rac\\experiment_data.py:466: UserWarning: FixedFormatter should only be used together with FixedLocator\n",
      "  #    #labels.append(round((int(item)*self.batch_size+rest)/len(self.Y), 2))\n"
     ]
    },
    {
     "name": "stdout",
     "output_type": "stream",
     "text": [
      "500\n"
     ]
    },
    {
     "name": "stderr",
     "output_type": "stream",
     "text": [
      "c:\\github_projects\\robust-active-clustering\\rac\\experiment_data.py:466: UserWarning: FixedFormatter should only be used together with FixedLocator\n",
      "  #    #labels.append(round((int(item)*self.batch_size+rest)/len(self.Y), 2))\n"
     ]
    },
    {
     "name": "stdout",
     "output_type": "stream",
     "text": [
      "500\n"
     ]
    },
    {
     "name": "stderr",
     "output_type": "stream",
     "text": [
      "c:\\github_projects\\robust-active-clustering\\rac\\experiment_data.py:466: UserWarning: FixedFormatter should only be used together with FixedLocator\n",
      "  #    #labels.append(round((int(item)*self.batch_size+rest)/len(self.Y), 2))\n"
     ]
    },
    {
     "name": "stdout",
     "output_type": "stream",
     "text": [
      "500\n"
     ]
    },
    {
     "name": "stderr",
     "output_type": "stream",
     "text": [
      "c:\\github_projects\\robust-active-clustering\\rac\\experiment_data.py:466: UserWarning: FixedFormatter should only be used together with FixedLocator\n",
      "  #    #labels.append(round((int(item)*self.batch_size+rest)/len(self.Y), 2))\n"
     ]
    },
    {
     "name": "stdout",
     "output_type": "stream",
     "text": [
      "500\n"
     ]
    },
    {
     "name": "stderr",
     "output_type": "stream",
     "text": [
      "c:\\github_projects\\robust-active-clustering\\rac\\experiment_data.py:466: UserWarning: FixedFormatter should only be used together with FixedLocator\n",
      "  #    #labels.append(round((int(item)*self.batch_size+rest)/len(self.Y), 2))\n"
     ]
    },
    {
     "name": "stdout",
     "output_type": "stream",
     "text": [
      "500\n"
     ]
    },
    {
     "name": "stderr",
     "output_type": "stream",
     "text": [
      "c:\\github_projects\\robust-active-clustering\\rac\\experiment_data.py:466: UserWarning: FixedFormatter should only be used together with FixedLocator\n",
      "  #    #labels.append(round((int(item)*self.batch_size+rest)/len(self.Y), 2))\n"
     ]
    },
    {
     "name": "stdout",
     "output_type": "stream",
     "text": [
      "500\n"
     ]
    },
    {
     "name": "stderr",
     "output_type": "stream",
     "text": [
      "c:\\github_projects\\robust-active-clustering\\rac\\experiment_data.py:466: UserWarning: FixedFormatter should only be used together with FixedLocator\n",
      "  #    #labels.append(round((int(item)*self.batch_size+rest)/len(self.Y), 2))\n"
     ]
    },
    {
     "name": "stdout",
     "output_type": "stream",
     "text": [
      "500\n"
     ]
    },
    {
     "name": "stderr",
     "output_type": "stream",
     "text": [
      "c:\\github_projects\\robust-active-clustering\\rac\\experiment_data.py:466: UserWarning: FixedFormatter should only be used together with FixedLocator\n",
      "  #    #labels.append(round((int(item)*self.batch_size+rest)/len(self.Y), 2))\n"
     ]
    },
    {
     "name": "stdout",
     "output_type": "stream",
     "text": [
      "500\n"
     ]
    },
    {
     "name": "stderr",
     "output_type": "stream",
     "text": [
      "c:\\github_projects\\robust-active-clustering\\rac\\experiment_data.py:466: UserWarning: FixedFormatter should only be used together with FixedLocator\n",
      "  #    #labels.append(round((int(item)*self.batch_size+rest)/len(self.Y), 2))\n"
     ]
    },
    {
     "name": "stdout",
     "output_type": "stream",
     "text": [
      "500\n"
     ]
    },
    {
     "name": "stderr",
     "output_type": "stream",
     "text": [
      "c:\\github_projects\\robust-active-clustering\\rac\\experiment_data.py:466: UserWarning: FixedFormatter should only be used together with FixedLocator\n",
      "  #    #labels.append(round((int(item)*self.batch_size+rest)/len(self.Y), 2))\n"
     ]
    },
    {
     "name": "stdout",
     "output_type": "stream",
     "text": [
      "500\n"
     ]
    },
    {
     "name": "stderr",
     "output_type": "stream",
     "text": [
      "c:\\github_projects\\robust-active-clustering\\rac\\experiment_data.py:466: UserWarning: FixedFormatter should only be used together with FixedLocator\n",
      "  #    #labels.append(round((int(item)*self.batch_size+rest)/len(self.Y), 2))\n"
     ]
    },
    {
     "name": "stdout",
     "output_type": "stream",
     "text": [
      "500\n"
     ]
    },
    {
     "name": "stderr",
     "output_type": "stream",
     "text": [
      "c:\\github_projects\\robust-active-clustering\\rac\\experiment_data.py:466: UserWarning: FixedFormatter should only be used together with FixedLocator\n",
      "  #    #labels.append(round((int(item)*self.batch_size+rest)/len(self.Y), 2))\n"
     ]
    },
    {
     "name": "stdout",
     "output_type": "stream",
     "text": [
      "500\n"
     ]
    },
    {
     "name": "stderr",
     "output_type": "stream",
     "text": [
      "c:\\github_projects\\robust-active-clustering\\rac\\experiment_data.py:466: UserWarning: FixedFormatter should only be used together with FixedLocator\n",
      "  #    #labels.append(round((int(item)*self.batch_size+rest)/len(self.Y), 2))\n"
     ]
    },
    {
     "name": "stdout",
     "output_type": "stream",
     "text": [
      "500\n"
     ]
    },
    {
     "name": "stderr",
     "output_type": "stream",
     "text": [
      "c:\\github_projects\\robust-active-clustering\\rac\\experiment_data.py:466: UserWarning: FixedFormatter should only be used together with FixedLocator\n",
      "  #    #labels.append(round((int(item)*self.batch_size+rest)/len(self.Y), 2))\n"
     ]
    },
    {
     "name": "stdout",
     "output_type": "stream",
     "text": [
      "500\n"
     ]
    },
    {
     "name": "stderr",
     "output_type": "stream",
     "text": [
      "c:\\github_projects\\robust-active-clustering\\rac\\experiment_data.py:466: UserWarning: FixedFormatter should only be used together with FixedLocator\n",
      "  #    #labels.append(round((int(item)*self.batch_size+rest)/len(self.Y), 2))\n"
     ]
    },
    {
     "name": "stdout",
     "output_type": "stream",
     "text": [
      "500\n"
     ]
    },
    {
     "name": "stderr",
     "output_type": "stream",
     "text": [
      "c:\\github_projects\\robust-active-clustering\\rac\\experiment_data.py:466: UserWarning: FixedFormatter should only be used together with FixedLocator\n",
      "  #    #labels.append(round((int(item)*self.batch_size+rest)/len(self.Y), 2))\n"
     ]
    },
    {
     "name": "stdout",
     "output_type": "stream",
     "text": [
      "500\n"
     ]
    },
    {
     "name": "stderr",
     "output_type": "stream",
     "text": [
      "c:\\github_projects\\robust-active-clustering\\rac\\experiment_data.py:466: UserWarning: FixedFormatter should only be used together with FixedLocator\n",
      "  #    #labels.append(round((int(item)*self.batch_size+rest)/len(self.Y), 2))\n"
     ]
    },
    {
     "name": "stdout",
     "output_type": "stream",
     "text": [
      "500\n"
     ]
    },
    {
     "name": "stderr",
     "output_type": "stream",
     "text": [
      "c:\\github_projects\\robust-active-clustering\\rac\\experiment_data.py:466: UserWarning: FixedFormatter should only be used together with FixedLocator\n",
      "  #    #labels.append(round((int(item)*self.batch_size+rest)/len(self.Y), 2))\n"
     ]
    },
    {
     "name": "stdout",
     "output_type": "stream",
     "text": [
      "500\n"
     ]
    },
    {
     "name": "stderr",
     "output_type": "stream",
     "text": [
      "c:\\github_projects\\robust-active-clustering\\rac\\experiment_data.py:466: UserWarning: FixedFormatter should only be used together with FixedLocator\n",
      "  #    #labels.append(round((int(item)*self.batch_size+rest)/len(self.Y), 2))\n"
     ]
    },
    {
     "name": "stdout",
     "output_type": "stream",
     "text": [
      "500\n"
     ]
    },
    {
     "name": "stderr",
     "output_type": "stream",
     "text": [
      "c:\\github_projects\\robust-active-clustering\\rac\\experiment_data.py:466: UserWarning: FixedFormatter should only be used together with FixedLocator\n",
      "  #    #labels.append(round((int(item)*self.batch_size+rest)/len(self.Y), 2))\n"
     ]
    },
    {
     "name": "stdout",
     "output_type": "stream",
     "text": [
      "500\n"
     ]
    },
    {
     "name": "stderr",
     "output_type": "stream",
     "text": [
      "c:\\github_projects\\robust-active-clustering\\rac\\experiment_data.py:466: UserWarning: FixedFormatter should only be used together with FixedLocator\n",
      "  #    #labels.append(round((int(item)*self.batch_size+rest)/len(self.Y), 2))\n"
     ]
    },
    {
     "name": "stdout",
     "output_type": "stream",
     "text": [
      "500\n"
     ]
    },
    {
     "name": "stderr",
     "output_type": "stream",
     "text": [
      "c:\\github_projects\\robust-active-clustering\\rac\\experiment_data.py:466: UserWarning: FixedFormatter should only be used together with FixedLocator\n",
      "  #    #labels.append(round((int(item)*self.batch_size+rest)/len(self.Y), 2))\n"
     ]
    },
    {
     "name": "stdout",
     "output_type": "stream",
     "text": [
      "500\n"
     ]
    },
    {
     "name": "stderr",
     "output_type": "stream",
     "text": [
      "c:\\github_projects\\robust-active-clustering\\rac\\experiment_data.py:466: UserWarning: FixedFormatter should only be used together with FixedLocator\n",
      "  #    #labels.append(round((int(item)*self.batch_size+rest)/len(self.Y), 2))\n"
     ]
    },
    {
     "name": "stdout",
     "output_type": "stream",
     "text": [
      "500\n"
     ]
    },
    {
     "name": "stderr",
     "output_type": "stream",
     "text": [
      "c:\\github_projects\\robust-active-clustering\\rac\\experiment_data.py:466: UserWarning: FixedFormatter should only be used together with FixedLocator\n",
      "  #    #labels.append(round((int(item)*self.batch_size+rest)/len(self.Y), 2))\n"
     ]
    },
    {
     "name": "stdout",
     "output_type": "stream",
     "text": [
      "500\n"
     ]
    },
    {
     "name": "stderr",
     "output_type": "stream",
     "text": [
      "c:\\github_projects\\robust-active-clustering\\rac\\experiment_data.py:466: UserWarning: FixedFormatter should only be used together with FixedLocator\n",
      "  #    #labels.append(round((int(item)*self.batch_size+rest)/len(self.Y), 2))\n"
     ]
    },
    {
     "name": "stdout",
     "output_type": "stream",
     "text": [
      "500\n"
     ]
    },
    {
     "name": "stderr",
     "output_type": "stream",
     "text": [
      "c:\\github_projects\\robust-active-clustering\\rac\\experiment_data.py:466: UserWarning: FixedFormatter should only be used together with FixedLocator\n",
      "  #    #labels.append(round((int(item)*self.batch_size+rest)/len(self.Y), 2))\n"
     ]
    },
    {
     "name": "stdout",
     "output_type": "stream",
     "text": [
      "500\n"
     ]
    },
    {
     "name": "stderr",
     "output_type": "stream",
     "text": [
      "c:\\github_projects\\robust-active-clustering\\rac\\experiment_data.py:466: UserWarning: FixedFormatter should only be used together with FixedLocator\n",
      "  #    #labels.append(round((int(item)*self.batch_size+rest)/len(self.Y), 2))\n"
     ]
    },
    {
     "name": "stdout",
     "output_type": "stream",
     "text": [
      "500\n"
     ]
    },
    {
     "name": "stderr",
     "output_type": "stream",
     "text": [
      "c:\\github_projects\\robust-active-clustering\\rac\\experiment_data.py:466: UserWarning: FixedFormatter should only be used together with FixedLocator\n",
      "  #    #labels.append(round((int(item)*self.batch_size+rest)/len(self.Y), 2))\n"
     ]
    },
    {
     "name": "stdout",
     "output_type": "stream",
     "text": [
      "500\n"
     ]
    },
    {
     "name": "stderr",
     "output_type": "stream",
     "text": [
      "c:\\github_projects\\robust-active-clustering\\rac\\experiment_data.py:466: UserWarning: FixedFormatter should only be used together with FixedLocator\n",
      "  #    #labels.append(round((int(item)*self.batch_size+rest)/len(self.Y), 2))\n"
     ]
    },
    {
     "name": "stdout",
     "output_type": "stream",
     "text": [
      "500\n"
     ]
    },
    {
     "name": "stderr",
     "output_type": "stream",
     "text": [
      "c:\\github_projects\\robust-active-clustering\\rac\\experiment_data.py:466: UserWarning: FixedFormatter should only be used together with FixedLocator\n",
      "  #    #labels.append(round((int(item)*self.batch_size+rest)/len(self.Y), 2))\n"
     ]
    },
    {
     "name": "stdout",
     "output_type": "stream",
     "text": [
      "500\n"
     ]
    },
    {
     "name": "stderr",
     "output_type": "stream",
     "text": [
      "c:\\github_projects\\robust-active-clustering\\rac\\experiment_data.py:466: UserWarning: FixedFormatter should only be used together with FixedLocator\n",
      "  #    #labels.append(round((int(item)*self.batch_size+rest)/len(self.Y), 2))\n"
     ]
    },
    {
     "name": "stdout",
     "output_type": "stream",
     "text": [
      "500\n"
     ]
    },
    {
     "name": "stderr",
     "output_type": "stream",
     "text": [
      "c:\\github_projects\\robust-active-clustering\\rac\\experiment_data.py:466: UserWarning: FixedFormatter should only be used together with FixedLocator\n",
      "  #    #labels.append(round((int(item)*self.batch_size+rest)/len(self.Y), 2))\n"
     ]
    },
    {
     "name": "stdout",
     "output_type": "stream",
     "text": [
      "500\n"
     ]
    },
    {
     "name": "stderr",
     "output_type": "stream",
     "text": [
      "c:\\github_projects\\robust-active-clustering\\rac\\experiment_data.py:466: UserWarning: FixedFormatter should only be used together with FixedLocator\n",
      "  #    #labels.append(round((int(item)*self.batch_size+rest)/len(self.Y), 2))\n"
     ]
    },
    {
     "name": "stdout",
     "output_type": "stream",
     "text": [
      "500\n",
      "No data for these options @@@@@@@\n"
     ]
    },
    {
     "name": "stderr",
     "output_type": "stream",
     "text": [
      "c:\\github_projects\\robust-active-clustering\\rac\\experiment_data.py:466: UserWarning: FixedFormatter should only be used together with FixedLocator\n",
      "  #    #labels.append(round((int(item)*self.batch_size+rest)/len(self.Y), 2))\n"
     ]
    },
    {
     "name": "stdout",
     "output_type": "stream",
     "text": [
      "500\n"
     ]
    },
    {
     "name": "stderr",
     "output_type": "stream",
     "text": [
      "c:\\github_projects\\robust-active-clustering\\rac\\experiment_data.py:466: UserWarning: FixedFormatter should only be used together with FixedLocator\n",
      "  #    #labels.append(round((int(item)*self.batch_size+rest)/len(self.Y), 2))\n"
     ]
    },
    {
     "name": "stdout",
     "output_type": "stream",
     "text": [
      "500\n"
     ]
    },
    {
     "name": "stderr",
     "output_type": "stream",
     "text": [
      "c:\\github_projects\\robust-active-clustering\\rac\\experiment_data.py:466: UserWarning: FixedFormatter should only be used together with FixedLocator\n",
      "  #    #labels.append(round((int(item)*self.batch_size+rest)/len(self.Y), 2))\n"
     ]
    },
    {
     "name": "stdout",
     "output_type": "stream",
     "text": [
      "500\n"
     ]
    },
    {
     "name": "stderr",
     "output_type": "stream",
     "text": [
      "c:\\github_projects\\robust-active-clustering\\rac\\experiment_data.py:466: UserWarning: FixedFormatter should only be used together with FixedLocator\n",
      "  #    #labels.append(round((int(item)*self.batch_size+rest)/len(self.Y), 2))\n"
     ]
    },
    {
     "name": "stdout",
     "output_type": "stream",
     "text": [
      "500\n"
     ]
    },
    {
     "name": "stderr",
     "output_type": "stream",
     "text": [
      "c:\\github_projects\\robust-active-clustering\\rac\\experiment_data.py:466: UserWarning: FixedFormatter should only be used together with FixedLocator\n",
      "  #    #labels.append(round((int(item)*self.batch_size+rest)/len(self.Y), 2))\n"
     ]
    },
    {
     "name": "stdout",
     "output_type": "stream",
     "text": [
      "500\n"
     ]
    },
    {
     "name": "stderr",
     "output_type": "stream",
     "text": [
      "c:\\github_projects\\robust-active-clustering\\rac\\experiment_data.py:466: UserWarning: FixedFormatter should only be used together with FixedLocator\n",
      "  #    #labels.append(round((int(item)*self.batch_size+rest)/len(self.Y), 2))\n"
     ]
    },
    {
     "name": "stdout",
     "output_type": "stream",
     "text": [
      "500\n"
     ]
    },
    {
     "name": "stderr",
     "output_type": "stream",
     "text": [
      "c:\\github_projects\\robust-active-clustering\\rac\\experiment_data.py:466: UserWarning: FixedFormatter should only be used together with FixedLocator\n",
      "  #    #labels.append(round((int(item)*self.batch_size+rest)/len(self.Y), 2))\n"
     ]
    },
    {
     "name": "stdout",
     "output_type": "stream",
     "text": [
      "500\n"
     ]
    },
    {
     "name": "stderr",
     "output_type": "stream",
     "text": [
      "c:\\github_projects\\robust-active-clustering\\rac\\experiment_data.py:466: UserWarning: FixedFormatter should only be used together with FixedLocator\n",
      "  #    #labels.append(round((int(item)*self.batch_size+rest)/len(self.Y), 2))\n"
     ]
    },
    {
     "name": "stdout",
     "output_type": "stream",
     "text": [
      "500\n"
     ]
    },
    {
     "name": "stderr",
     "output_type": "stream",
     "text": [
      "c:\\github_projects\\robust-active-clustering\\rac\\experiment_data.py:466: UserWarning: FixedFormatter should only be used together with FixedLocator\n",
      "  #    #labels.append(round((int(item)*self.batch_size+rest)/len(self.Y), 2))\n"
     ]
    },
    {
     "name": "stdout",
     "output_type": "stream",
     "text": [
      "500\n"
     ]
    },
    {
     "name": "stderr",
     "output_type": "stream",
     "text": [
      "c:\\github_projects\\robust-active-clustering\\rac\\experiment_data.py:466: UserWarning: FixedFormatter should only be used together with FixedLocator\n",
      "  #    #labels.append(round((int(item)*self.batch_size+rest)/len(self.Y), 2))\n"
     ]
    },
    {
     "name": "stdout",
     "output_type": "stream",
     "text": [
      "500\n"
     ]
    },
    {
     "name": "stderr",
     "output_type": "stream",
     "text": [
      "c:\\github_projects\\robust-active-clustering\\rac\\experiment_data.py:466: UserWarning: FixedFormatter should only be used together with FixedLocator\n",
      "  #    #labels.append(round((int(item)*self.batch_size+rest)/len(self.Y), 2))\n"
     ]
    },
    {
     "name": "stdout",
     "output_type": "stream",
     "text": [
      "500\n"
     ]
    },
    {
     "name": "stderr",
     "output_type": "stream",
     "text": [
      "c:\\github_projects\\robust-active-clustering\\rac\\experiment_data.py:466: UserWarning: FixedFormatter should only be used together with FixedLocator\n",
      "  #    #labels.append(round((int(item)*self.batch_size+rest)/len(self.Y), 2))\n"
     ]
    },
    {
     "name": "stdout",
     "output_type": "stream",
     "text": [
      "500\n"
     ]
    },
    {
     "name": "stderr",
     "output_type": "stream",
     "text": [
      "c:\\github_projects\\robust-active-clustering\\rac\\experiment_data.py:466: UserWarning: FixedFormatter should only be used together with FixedLocator\n",
      "  #    #labels.append(round((int(item)*self.batch_size+rest)/len(self.Y), 2))\n"
     ]
    },
    {
     "name": "stdout",
     "output_type": "stream",
     "text": [
      "500\n"
     ]
    },
    {
     "name": "stderr",
     "output_type": "stream",
     "text": [
      "c:\\github_projects\\robust-active-clustering\\rac\\experiment_data.py:466: UserWarning: FixedFormatter should only be used together with FixedLocator\n",
      "  #    #labels.append(round((int(item)*self.batch_size+rest)/len(self.Y), 2))\n"
     ]
    },
    {
     "name": "stdout",
     "output_type": "stream",
     "text": [
      "500\n"
     ]
    },
    {
     "name": "stderr",
     "output_type": "stream",
     "text": [
      "c:\\github_projects\\robust-active-clustering\\rac\\experiment_data.py:466: UserWarning: FixedFormatter should only be used together with FixedLocator\n",
      "  #    #labels.append(round((int(item)*self.batch_size+rest)/len(self.Y), 2))\n"
     ]
    },
    {
     "name": "stdout",
     "output_type": "stream",
     "text": [
      "500\n"
     ]
    },
    {
     "name": "stderr",
     "output_type": "stream",
     "text": [
      "c:\\github_projects\\robust-active-clustering\\rac\\experiment_data.py:466: UserWarning: FixedFormatter should only be used together with FixedLocator\n",
      "  #    #labels.append(round((int(item)*self.batch_size+rest)/len(self.Y), 2))\n"
     ]
    },
    {
     "name": "stdout",
     "output_type": "stream",
     "text": [
      "500\n"
     ]
    },
    {
     "name": "stderr",
     "output_type": "stream",
     "text": [
      "c:\\github_projects\\robust-active-clustering\\rac\\experiment_data.py:466: UserWarning: FixedFormatter should only be used together with FixedLocator\n",
      "  #    #labels.append(round((int(item)*self.batch_size+rest)/len(self.Y), 2))\n"
     ]
    },
    {
     "name": "stdout",
     "output_type": "stream",
     "text": [
      "500\n"
     ]
    },
    {
     "name": "stderr",
     "output_type": "stream",
     "text": [
      "c:\\github_projects\\robust-active-clustering\\rac\\experiment_data.py:466: UserWarning: FixedFormatter should only be used together with FixedLocator\n",
      "  #    #labels.append(round((int(item)*self.batch_size+rest)/len(self.Y), 2))\n"
     ]
    },
    {
     "name": "stdout",
     "output_type": "stream",
     "text": [
      "500\n"
     ]
    },
    {
     "name": "stderr",
     "output_type": "stream",
     "text": [
      "c:\\github_projects\\robust-active-clustering\\rac\\experiment_data.py:466: UserWarning: FixedFormatter should only be used together with FixedLocator\n",
      "  #    #labels.append(round((int(item)*self.batch_size+rest)/len(self.Y), 2))\n"
     ]
    },
    {
     "name": "stdout",
     "output_type": "stream",
     "text": [
      "500\n",
      "No data for these options @@@@@@@\n"
     ]
    },
    {
     "name": "stderr",
     "output_type": "stream",
     "text": [
      "c:\\github_projects\\robust-active-clustering\\rac\\experiment_data.py:466: UserWarning: FixedFormatter should only be used together with FixedLocator\n",
      "  #    #labels.append(round((int(item)*self.batch_size+rest)/len(self.Y), 2))\n"
     ]
    },
    {
     "name": "stdout",
     "output_type": "stream",
     "text": [
      "No data for these options @@@@@@@\n",
      "No data for these options @@@@@@@\n",
      "No data for these options @@@@@@@\n",
      "500\n"
     ]
    },
    {
     "name": "stderr",
     "output_type": "stream",
     "text": [
      "c:\\github_projects\\robust-active-clustering\\rac\\experiment_data.py:466: UserWarning: FixedFormatter should only be used together with FixedLocator\n",
      "  #    #labels.append(round((int(item)*self.batch_size+rest)/len(self.Y), 2))\n"
     ]
    },
    {
     "name": "stdout",
     "output_type": "stream",
     "text": [
      "500\n"
     ]
    },
    {
     "name": "stderr",
     "output_type": "stream",
     "text": [
      "c:\\github_projects\\robust-active-clustering\\rac\\experiment_data.py:466: UserWarning: FixedFormatter should only be used together with FixedLocator\n",
      "  #    #labels.append(round((int(item)*self.batch_size+rest)/len(self.Y), 2))\n"
     ]
    },
    {
     "name": "stdout",
     "output_type": "stream",
     "text": [
      "500\n"
     ]
    },
    {
     "name": "stderr",
     "output_type": "stream",
     "text": [
      "c:\\github_projects\\robust-active-clustering\\rac\\experiment_data.py:466: UserWarning: FixedFormatter should only be used together with FixedLocator\n",
      "  #    #labels.append(round((int(item)*self.batch_size+rest)/len(self.Y), 2))\n"
     ]
    },
    {
     "name": "stdout",
     "output_type": "stream",
     "text": [
      "500\n"
     ]
    },
    {
     "name": "stderr",
     "output_type": "stream",
     "text": [
      "c:\\github_projects\\robust-active-clustering\\rac\\experiment_data.py:466: UserWarning: FixedFormatter should only be used together with FixedLocator\n",
      "  #    #labels.append(round((int(item)*self.batch_size+rest)/len(self.Y), 2))\n"
     ]
    },
    {
     "name": "stdout",
     "output_type": "stream",
     "text": [
      "500\n"
     ]
    },
    {
     "name": "stderr",
     "output_type": "stream",
     "text": [
      "c:\\github_projects\\robust-active-clustering\\rac\\experiment_data.py:466: UserWarning: FixedFormatter should only be used together with FixedLocator\n",
      "  #    #labels.append(round((int(item)*self.batch_size+rest)/len(self.Y), 2))\n"
     ]
    },
    {
     "name": "stdout",
     "output_type": "stream",
     "text": [
      "500\n"
     ]
    },
    {
     "name": "stderr",
     "output_type": "stream",
     "text": [
      "c:\\github_projects\\robust-active-clustering\\rac\\experiment_data.py:466: UserWarning: FixedFormatter should only be used together with FixedLocator\n",
      "  #    #labels.append(round((int(item)*self.batch_size+rest)/len(self.Y), 2))\n"
     ]
    },
    {
     "name": "stdout",
     "output_type": "stream",
     "text": [
      "500\n"
     ]
    },
    {
     "name": "stderr",
     "output_type": "stream",
     "text": [
      "c:\\github_projects\\robust-active-clustering\\rac\\experiment_data.py:466: UserWarning: FixedFormatter should only be used together with FixedLocator\n",
      "  #    #labels.append(round((int(item)*self.batch_size+rest)/len(self.Y), 2))\n"
     ]
    },
    {
     "name": "stdout",
     "output_type": "stream",
     "text": [
      "500\n"
     ]
    },
    {
     "name": "stderr",
     "output_type": "stream",
     "text": [
      "c:\\github_projects\\robust-active-clustering\\rac\\experiment_data.py:466: UserWarning: FixedFormatter should only be used together with FixedLocator\n",
      "  #    #labels.append(round((int(item)*self.batch_size+rest)/len(self.Y), 2))\n"
     ]
    },
    {
     "name": "stdout",
     "output_type": "stream",
     "text": [
      "500\n"
     ]
    },
    {
     "name": "stderr",
     "output_type": "stream",
     "text": [
      "c:\\github_projects\\robust-active-clustering\\rac\\experiment_data.py:466: UserWarning: FixedFormatter should only be used together with FixedLocator\n",
      "  #    #labels.append(round((int(item)*self.batch_size+rest)/len(self.Y), 2))\n"
     ]
    },
    {
     "name": "stdout",
     "output_type": "stream",
     "text": [
      "500\n"
     ]
    },
    {
     "name": "stderr",
     "output_type": "stream",
     "text": [
      "c:\\github_projects\\robust-active-clustering\\rac\\experiment_data.py:466: UserWarning: FixedFormatter should only be used together with FixedLocator\n",
      "  #    #labels.append(round((int(item)*self.batch_size+rest)/len(self.Y), 2))\n"
     ]
    },
    {
     "name": "stdout",
     "output_type": "stream",
     "text": [
      "500\n"
     ]
    },
    {
     "name": "stderr",
     "output_type": "stream",
     "text": [
      "c:\\github_projects\\robust-active-clustering\\rac\\experiment_data.py:466: UserWarning: FixedFormatter should only be used together with FixedLocator\n",
      "  #    #labels.append(round((int(item)*self.batch_size+rest)/len(self.Y), 2))\n"
     ]
    },
    {
     "name": "stdout",
     "output_type": "stream",
     "text": [
      "500\n"
     ]
    },
    {
     "name": "stderr",
     "output_type": "stream",
     "text": [
      "c:\\github_projects\\robust-active-clustering\\rac\\experiment_data.py:466: UserWarning: FixedFormatter should only be used together with FixedLocator\n",
      "  #    #labels.append(round((int(item)*self.batch_size+rest)/len(self.Y), 2))\n"
     ]
    },
    {
     "name": "stdout",
     "output_type": "stream",
     "text": [
      "500\n"
     ]
    },
    {
     "name": "stderr",
     "output_type": "stream",
     "text": [
      "c:\\github_projects\\robust-active-clustering\\rac\\experiment_data.py:466: UserWarning: FixedFormatter should only be used together with FixedLocator\n",
      "  #    #labels.append(round((int(item)*self.batch_size+rest)/len(self.Y), 2))\n"
     ]
    },
    {
     "name": "stdout",
     "output_type": "stream",
     "text": [
      "500\n"
     ]
    },
    {
     "name": "stderr",
     "output_type": "stream",
     "text": [
      "c:\\github_projects\\robust-active-clustering\\rac\\experiment_data.py:466: UserWarning: FixedFormatter should only be used together with FixedLocator\n",
      "  #    #labels.append(round((int(item)*self.batch_size+rest)/len(self.Y), 2))\n"
     ]
    },
    {
     "name": "stdout",
     "output_type": "stream",
     "text": [
      "500\n"
     ]
    },
    {
     "name": "stderr",
     "output_type": "stream",
     "text": [
      "c:\\github_projects\\robust-active-clustering\\rac\\experiment_data.py:466: UserWarning: FixedFormatter should only be used together with FixedLocator\n",
      "  #    #labels.append(round((int(item)*self.batch_size+rest)/len(self.Y), 2))\n"
     ]
    },
    {
     "name": "stdout",
     "output_type": "stream",
     "text": [
      "500\n",
      "No data for these options @@@@@@@\n"
     ]
    },
    {
     "name": "stderr",
     "output_type": "stream",
     "text": [
      "c:\\github_projects\\robust-active-clustering\\rac\\experiment_data.py:466: UserWarning: FixedFormatter should only be used together with FixedLocator\n",
      "  #    #labels.append(round((int(item)*self.batch_size+rest)/len(self.Y), 2))\n"
     ]
    },
    {
     "name": "stdout",
     "output_type": "stream",
     "text": [
      "500\n",
      "500\n"
     ]
    },
    {
     "name": "stderr",
     "output_type": "stream",
     "text": [
      "c:\\github_projects\\robust-active-clustering\\rac\\experiment_data.py:466: UserWarning: FixedFormatter should only be used together with FixedLocator\n",
      "  #    #labels.append(round((int(item)*self.batch_size+rest)/len(self.Y), 2))\n",
      "c:\\github_projects\\robust-active-clustering\\rac\\experiment_data.py:466: UserWarning: FixedFormatter should only be used together with FixedLocator\n",
      "  #    #labels.append(round((int(item)*self.batch_size+rest)/len(self.Y), 2))\n"
     ]
    },
    {
     "name": "stdout",
     "output_type": "stream",
     "text": [
      "500\n"
     ]
    },
    {
     "name": "stderr",
     "output_type": "stream",
     "text": [
      "c:\\github_projects\\robust-active-clustering\\rac\\experiment_data.py:466: UserWarning: FixedFormatter should only be used together with FixedLocator\n",
      "  #    #labels.append(round((int(item)*self.batch_size+rest)/len(self.Y), 2))\n"
     ]
    },
    {
     "name": "stdout",
     "output_type": "stream",
     "text": [
      "500\n"
     ]
    },
    {
     "name": "stderr",
     "output_type": "stream",
     "text": [
      "c:\\github_projects\\robust-active-clustering\\rac\\experiment_data.py:466: UserWarning: FixedFormatter should only be used together with FixedLocator\n",
      "  #    #labels.append(round((int(item)*self.batch_size+rest)/len(self.Y), 2))\n"
     ]
    },
    {
     "name": "stdout",
     "output_type": "stream",
     "text": [
      "500\n"
     ]
    },
    {
     "name": "stderr",
     "output_type": "stream",
     "text": [
      "c:\\github_projects\\robust-active-clustering\\rac\\experiment_data.py:466: UserWarning: FixedFormatter should only be used together with FixedLocator\n",
      "  #    #labels.append(round((int(item)*self.batch_size+rest)/len(self.Y), 2))\n"
     ]
    },
    {
     "name": "stdout",
     "output_type": "stream",
     "text": [
      "500\n"
     ]
    },
    {
     "name": "stderr",
     "output_type": "stream",
     "text": [
      "c:\\github_projects\\robust-active-clustering\\rac\\experiment_data.py:466: UserWarning: FixedFormatter should only be used together with FixedLocator\n",
      "  #    #labels.append(round((int(item)*self.batch_size+rest)/len(self.Y), 2))\n"
     ]
    },
    {
     "name": "stdout",
     "output_type": "stream",
     "text": [
      "500\n"
     ]
    },
    {
     "name": "stderr",
     "output_type": "stream",
     "text": [
      "c:\\github_projects\\robust-active-clustering\\rac\\experiment_data.py:466: UserWarning: FixedFormatter should only be used together with FixedLocator\n",
      "  #    #labels.append(round((int(item)*self.batch_size+rest)/len(self.Y), 2))\n"
     ]
    },
    {
     "name": "stdout",
     "output_type": "stream",
     "text": [
      "500\n"
     ]
    },
    {
     "name": "stderr",
     "output_type": "stream",
     "text": [
      "c:\\github_projects\\robust-active-clustering\\rac\\experiment_data.py:466: UserWarning: FixedFormatter should only be used together with FixedLocator\n",
      "  #    #labels.append(round((int(item)*self.batch_size+rest)/len(self.Y), 2))\n"
     ]
    },
    {
     "name": "stdout",
     "output_type": "stream",
     "text": [
      "500\n"
     ]
    },
    {
     "name": "stderr",
     "output_type": "stream",
     "text": [
      "c:\\github_projects\\robust-active-clustering\\rac\\experiment_data.py:466: UserWarning: FixedFormatter should only be used together with FixedLocator\n",
      "  #    #labels.append(round((int(item)*self.batch_size+rest)/len(self.Y), 2))\n"
     ]
    },
    {
     "name": "stdout",
     "output_type": "stream",
     "text": [
      "500\n"
     ]
    },
    {
     "name": "stderr",
     "output_type": "stream",
     "text": [
      "c:\\github_projects\\robust-active-clustering\\rac\\experiment_data.py:466: UserWarning: FixedFormatter should only be used together with FixedLocator\n",
      "  #    #labels.append(round((int(item)*self.batch_size+rest)/len(self.Y), 2))\n"
     ]
    },
    {
     "name": "stdout",
     "output_type": "stream",
     "text": [
      "500\n"
     ]
    },
    {
     "name": "stderr",
     "output_type": "stream",
     "text": [
      "c:\\github_projects\\robust-active-clustering\\rac\\experiment_data.py:466: UserWarning: FixedFormatter should only be used together with FixedLocator\n",
      "  #    #labels.append(round((int(item)*self.batch_size+rest)/len(self.Y), 2))\n"
     ]
    },
    {
     "name": "stdout",
     "output_type": "stream",
     "text": [
      "500\n"
     ]
    },
    {
     "name": "stderr",
     "output_type": "stream",
     "text": [
      "c:\\github_projects\\robust-active-clustering\\rac\\experiment_data.py:466: UserWarning: FixedFormatter should only be used together with FixedLocator\n",
      "  #    #labels.append(round((int(item)*self.batch_size+rest)/len(self.Y), 2))\n"
     ]
    },
    {
     "name": "stdout",
     "output_type": "stream",
     "text": [
      "500\n"
     ]
    },
    {
     "name": "stderr",
     "output_type": "stream",
     "text": [
      "c:\\github_projects\\robust-active-clustering\\rac\\experiment_data.py:466: UserWarning: FixedFormatter should only be used together with FixedLocator\n",
      "  #    #labels.append(round((int(item)*self.batch_size+rest)/len(self.Y), 2))\n"
     ]
    },
    {
     "name": "stdout",
     "output_type": "stream",
     "text": [
      "500\n"
     ]
    },
    {
     "name": "stderr",
     "output_type": "stream",
     "text": [
      "c:\\github_projects\\robust-active-clustering\\rac\\experiment_data.py:466: UserWarning: FixedFormatter should only be used together with FixedLocator\n",
      "  #    #labels.append(round((int(item)*self.batch_size+rest)/len(self.Y), 2))\n"
     ]
    },
    {
     "name": "stdout",
     "output_type": "stream",
     "text": [
      "500\n"
     ]
    },
    {
     "name": "stderr",
     "output_type": "stream",
     "text": [
      "c:\\github_projects\\robust-active-clustering\\rac\\experiment_data.py:466: UserWarning: FixedFormatter should only be used together with FixedLocator\n",
      "  #    #labels.append(round((int(item)*self.batch_size+rest)/len(self.Y), 2))\n"
     ]
    },
    {
     "name": "stdout",
     "output_type": "stream",
     "text": [
      "500\n"
     ]
    },
    {
     "name": "stderr",
     "output_type": "stream",
     "text": [
      "c:\\github_projects\\robust-active-clustering\\rac\\experiment_data.py:466: UserWarning: FixedFormatter should only be used together with FixedLocator\n",
      "  #    #labels.append(round((int(item)*self.batch_size+rest)/len(self.Y), 2))\n"
     ]
    },
    {
     "name": "stdout",
     "output_type": "stream",
     "text": [
      "500\n"
     ]
    },
    {
     "name": "stderr",
     "output_type": "stream",
     "text": [
      "c:\\github_projects\\robust-active-clustering\\rac\\experiment_data.py:466: UserWarning: FixedFormatter should only be used together with FixedLocator\n",
      "  #    #labels.append(round((int(item)*self.batch_size+rest)/len(self.Y), 2))\n"
     ]
    },
    {
     "name": "stdout",
     "output_type": "stream",
     "text": [
      "500\n"
     ]
    },
    {
     "name": "stderr",
     "output_type": "stream",
     "text": [
      "c:\\github_projects\\robust-active-clustering\\rac\\experiment_data.py:466: UserWarning: FixedFormatter should only be used together with FixedLocator\n",
      "  #    #labels.append(round((int(item)*self.batch_size+rest)/len(self.Y), 2))\n"
     ]
    },
    {
     "name": "stdout",
     "output_type": "stream",
     "text": [
      "500\n",
      "No data for these options @@@@@@@\n",
      "No data for these options @@@@@@@\n",
      "No data for these options @@@@@@@\n"
     ]
    },
    {
     "name": "stderr",
     "output_type": "stream",
     "text": [
      "c:\\github_projects\\robust-active-clustering\\rac\\experiment_data.py:466: UserWarning: FixedFormatter should only be used together with FixedLocator\n",
      "  #    #labels.append(round((int(item)*self.batch_size+rest)/len(self.Y), 2))\n"
     ]
    },
    {
     "name": "stdout",
     "output_type": "stream",
     "text": [
      "No data for these options @@@@@@@\n",
      "500\n"
     ]
    },
    {
     "name": "stderr",
     "output_type": "stream",
     "text": [
      "c:\\github_projects\\robust-active-clustering\\rac\\experiment_data.py:466: UserWarning: FixedFormatter should only be used together with FixedLocator\n",
      "  #    #labels.append(round((int(item)*self.batch_size+rest)/len(self.Y), 2))\n"
     ]
    },
    {
     "name": "stdout",
     "output_type": "stream",
     "text": [
      "500\n"
     ]
    },
    {
     "name": "stderr",
     "output_type": "stream",
     "text": [
      "c:\\github_projects\\robust-active-clustering\\rac\\experiment_data.py:466: UserWarning: FixedFormatter should only be used together with FixedLocator\n",
      "  #    #labels.append(round((int(item)*self.batch_size+rest)/len(self.Y), 2))\n"
     ]
    },
    {
     "name": "stdout",
     "output_type": "stream",
     "text": [
      "500\n"
     ]
    },
    {
     "name": "stderr",
     "output_type": "stream",
     "text": [
      "c:\\github_projects\\robust-active-clustering\\rac\\experiment_data.py:466: UserWarning: FixedFormatter should only be used together with FixedLocator\n",
      "  #    #labels.append(round((int(item)*self.batch_size+rest)/len(self.Y), 2))\n"
     ]
    },
    {
     "name": "stdout",
     "output_type": "stream",
     "text": [
      "500\n"
     ]
    },
    {
     "name": "stderr",
     "output_type": "stream",
     "text": [
      "c:\\github_projects\\robust-active-clustering\\rac\\experiment_data.py:466: UserWarning: FixedFormatter should only be used together with FixedLocator\n",
      "  #    #labels.append(round((int(item)*self.batch_size+rest)/len(self.Y), 2))\n"
     ]
    },
    {
     "name": "stdout",
     "output_type": "stream",
     "text": [
      "500\n"
     ]
    },
    {
     "name": "stderr",
     "output_type": "stream",
     "text": [
      "c:\\github_projects\\robust-active-clustering\\rac\\experiment_data.py:466: UserWarning: FixedFormatter should only be used together with FixedLocator\n",
      "  #    #labels.append(round((int(item)*self.batch_size+rest)/len(self.Y), 2))\n"
     ]
    },
    {
     "name": "stdout",
     "output_type": "stream",
     "text": [
      "500\n"
     ]
    },
    {
     "name": "stderr",
     "output_type": "stream",
     "text": [
      "c:\\github_projects\\robust-active-clustering\\rac\\experiment_data.py:466: UserWarning: FixedFormatter should only be used together with FixedLocator\n",
      "  #    #labels.append(round((int(item)*self.batch_size+rest)/len(self.Y), 2))\n"
     ]
    },
    {
     "name": "stdout",
     "output_type": "stream",
     "text": [
      "500\n"
     ]
    },
    {
     "name": "stderr",
     "output_type": "stream",
     "text": [
      "c:\\github_projects\\robust-active-clustering\\rac\\experiment_data.py:466: UserWarning: FixedFormatter should only be used together with FixedLocator\n",
      "  #    #labels.append(round((int(item)*self.batch_size+rest)/len(self.Y), 2))\n"
     ]
    },
    {
     "name": "stdout",
     "output_type": "stream",
     "text": [
      "500\n"
     ]
    },
    {
     "name": "stderr",
     "output_type": "stream",
     "text": [
      "c:\\github_projects\\robust-active-clustering\\rac\\experiment_data.py:466: UserWarning: FixedFormatter should only be used together with FixedLocator\n",
      "  #    #labels.append(round((int(item)*self.batch_size+rest)/len(self.Y), 2))\n"
     ]
    },
    {
     "name": "stdout",
     "output_type": "stream",
     "text": [
      "500\n"
     ]
    },
    {
     "name": "stderr",
     "output_type": "stream",
     "text": [
      "c:\\github_projects\\robust-active-clustering\\rac\\experiment_data.py:466: UserWarning: FixedFormatter should only be used together with FixedLocator\n",
      "  #    #labels.append(round((int(item)*self.batch_size+rest)/len(self.Y), 2))\n"
     ]
    },
    {
     "name": "stdout",
     "output_type": "stream",
     "text": [
      "500\n"
     ]
    },
    {
     "name": "stderr",
     "output_type": "stream",
     "text": [
      "c:\\github_projects\\robust-active-clustering\\rac\\experiment_data.py:466: UserWarning: FixedFormatter should only be used together with FixedLocator\n",
      "  #    #labels.append(round((int(item)*self.batch_size+rest)/len(self.Y), 2))\n"
     ]
    },
    {
     "name": "stdout",
     "output_type": "stream",
     "text": [
      "500\n"
     ]
    },
    {
     "name": "stderr",
     "output_type": "stream",
     "text": [
      "c:\\github_projects\\robust-active-clustering\\rac\\experiment_data.py:466: UserWarning: FixedFormatter should only be used together with FixedLocator\n",
      "  #    #labels.append(round((int(item)*self.batch_size+rest)/len(self.Y), 2))\n"
     ]
    },
    {
     "name": "stdout",
     "output_type": "stream",
     "text": [
      "500\n"
     ]
    },
    {
     "name": "stderr",
     "output_type": "stream",
     "text": [
      "c:\\github_projects\\robust-active-clustering\\rac\\experiment_data.py:466: UserWarning: FixedFormatter should only be used together with FixedLocator\n",
      "  #    #labels.append(round((int(item)*self.batch_size+rest)/len(self.Y), 2))\n"
     ]
    },
    {
     "name": "stdout",
     "output_type": "stream",
     "text": [
      "500\n"
     ]
    },
    {
     "name": "stderr",
     "output_type": "stream",
     "text": [
      "c:\\github_projects\\robust-active-clustering\\rac\\experiment_data.py:466: UserWarning: FixedFormatter should only be used together with FixedLocator\n",
      "  #    #labels.append(round((int(item)*self.batch_size+rest)/len(self.Y), 2))\n"
     ]
    },
    {
     "name": "stdout",
     "output_type": "stream",
     "text": [
      "500\n"
     ]
    },
    {
     "name": "stderr",
     "output_type": "stream",
     "text": [
      "c:\\github_projects\\robust-active-clustering\\rac\\experiment_data.py:466: UserWarning: FixedFormatter should only be used together with FixedLocator\n",
      "  #    #labels.append(round((int(item)*self.batch_size+rest)/len(self.Y), 2))\n"
     ]
    },
    {
     "name": "stdout",
     "output_type": "stream",
     "text": [
      "500\n"
     ]
    },
    {
     "name": "stderr",
     "output_type": "stream",
     "text": [
      "c:\\github_projects\\robust-active-clustering\\rac\\experiment_data.py:466: UserWarning: FixedFormatter should only be used together with FixedLocator\n",
      "  #    #labels.append(round((int(item)*self.batch_size+rest)/len(self.Y), 2))\n"
     ]
    },
    {
     "name": "stdout",
     "output_type": "stream",
     "text": [
      "500\n",
      "No data for these options @@@@@@@\n",
      "No data for these options @@@@@@@\n"
     ]
    },
    {
     "name": "stderr",
     "output_type": "stream",
     "text": [
      "c:\\github_projects\\robust-active-clustering\\rac\\experiment_data.py:466: UserWarning: FixedFormatter should only be used together with FixedLocator\n",
      "  #    #labels.append(round((int(item)*self.batch_size+rest)/len(self.Y), 2))\n"
     ]
    },
    {
     "name": "stdout",
     "output_type": "stream",
     "text": [
      "No data for these options @@@@@@@\n",
      "No data for these options @@@@@@@\n"
     ]
    },
    {
     "data": {
      "text/plain": [
       "<Figure size 1200x800 with 0 Axes>"
      ]
     },
     "metadata": {},
     "output_type": "display_data"
    }
   ],
   "source": [
    "config = {\n",
    "    \"_experiment_name\": \"test_experiment\",\n",
    "    \"_num_repeats\": 14,\n",
    "    \"_n_workers\": 14,\n",
    "    \"_local\": True,\n",
    "    \"_verbose\": True,\n",
    "    \"_overwrite\": False,\n",
    "    \"_mode\": \"ac\",\n",
    "\n",
    "    \"seed\": 14,\n",
    "    \"batch_size\": [0.005],\n",
    "    \"noise_level\": [0.0, 0.4],\n",
    "    \"clustering_alg\": \"CC\",\n",
    "    \"warm_start\": [0, 0.02],\n",
    "    \"K_init\": 10,\n",
    "    \"sim_init\": 0.01,\n",
    "    \"sim_init_type\": [\"zeros\", \"kmeans\"],\n",
    "    \"sample_size\": 1,\n",
    "    \"infer_threshold\": [0, 0.0001, 0.01, 0.05, 0.2],\n",
    "\n",
    "    \"acq_fn\": [\"freq\", \"entropy\", \"cluster_incon\", \"maxexp\", \"maxmin\"],\n",
    "    \"eps\": 0.3,\n",
    "    \"beta\": 1,\n",
    "    \"tau\": [1, 7],\n",
    "    \"alpha\": 0.5,\n",
    "    \"num_maxmin_edges\": -1,\n",
    "    \"acq_noise\": [True, False],\n",
    "    \"fix_neg\": [False],\n",
    "    \"use_power\": True,\n",
    "    \"power_beta\": 1,\n",
    "    \"sparse_sim_matrix\": True,\n",
    "    \"mean_field_beta\": 3,\n",
    "    \"info_gain_lambda\": 1,\n",
    "    \"num_edges_info_gain\": [-1],\n",
    "    \"info_gain_pair_mode\": [\"uniform\"],\n",
    "    \"mf_iterations\": 50,\n",
    "\n",
    "    \"dataset_name\": \"synthetic\",\n",
    "    \"dataset_n_samples\": 500,\n",
    "    \"dataset_n_clusters\": 10,\n",
    "    \"dataset_class_balance\": None,\n",
    "    \"dataset_class_sep\": [1.5],\n",
    "    \"dataset_n_features\": [10],\n",
    "    \"dataset_y_flip\": [0],\n",
    "}\n",
    "\n",
    "\n",
    "er.generate_AL_curves(\n",
    "    data,\n",
    "    save_location=\"../plots/test_experiment2/\",\n",
    "    categorize=[\"infer_threshold\", \"sim_init_type\"],\n",
    "    compare=[\"acq_fn\"],\n",
    "    vary=[\"x\"],\n",
    "    options_in_file_name=[\"noise_level\", \"warm_start\", \"tau\", \"acq_noise\"],\n",
    "    auc=True,\n",
    "    summary_method=\"auc_max_ind\",\n",
    "    indices=[], \n",
    "    threshold=1,\n",
    "    err_style=\"band\",\n",
    "    marker=\"o\",\n",
    "    markersize=6,\n",
    "    capsize=6,\n",
    "    linestyle=\"solid\",\n",
    "    prop=True,\n",
    "    **config\n",
    ")"
   ]
  },
  {
   "cell_type": "code",
   "execution_count": null,
   "metadata": {},
   "outputs": [],
   "source": []
  },
  {
   "cell_type": "code",
   "execution_count": 213,
   "metadata": {},
   "outputs": [
    {
     "data": {
      "image/png": "[encoded data removed]",
      "text/plain": [
       "<Figure size 800x600 with 1 Axes>"
      ]
     },
     "metadata": {},
     "output_type": "display_data"
    }
   ],
   "source": [
    "from sklearn.datasets import make_classification\n",
    "import matplotlib.pyplot as plt\n",
    "from sklearn.datasets import make_blobs\n",
    "from sklearn.preprocessing import StandardScaler\n",
    "# Parameters for the dataset\n",
    "n_samples = 200\n",
    "n_features = 2\n",
    "n_informative = 2\n",
    "n_redundant = 0\n",
    "n_repeated = 0\n",
    "n_clusters = 4\n",
    "class_sep = 5\n",
    "kk = 15  # Example value for kk\n",
    "\n",
    "# Generating the dataset\n",
    "#X, y = make_blobs(n_samples=n_samples, centers=n_clusters, n_features=2, center_box=(-20,20), random_state=None)\n",
    "# Parameters for the dataset\n",
    "\n",
    "n_samples = 300\n",
    "n_features = 2\n",
    "n_informative = 2\n",
    "n_redundant = 0\n",
    "n_repeated = 0\n",
    "n_clusters = 4\n",
    "class_sep = 1\n",
    "kk = 1  # Example value for kk\n",
    "\n",
    "# Generating the dataset\n",
    "X, y = make_classification(\n",
    "    n_samples=n_samples,\n",
    "    n_features=n_features,\n",
    "    n_informative=n_informative,\n",
    "    n_redundant=n_redundant,\n",
    "    # n_repeated=n_repeated,\n",
    "    n_classes=n_clusters,\n",
    "    n_clusters_per_class=1,\n",
    "    flip_y=0.0,  # No noise initially\n",
    "    class_sep=class_sep,\n",
    "    hypercube=True,\n",
    "    shuffle=True,\n",
    "    random_state=None)\n",
    "X = StandardScaler().fit_transform(X)\n",
    "\n",
    "# Plotting the dataset\n",
    "plt.figure(figsize=(8, 6))\n",
    "plt.scatter(X[:, 0], X[:, 1], c=y, s=50)\n",
    "plt.title('2D Data Distribution')\n",
    "plt.xlabel('Feature 1')\n",
    "plt.ylabel('Feature 2')\n",
    "plt.grid(True)\n",
    "plt.show()"
   ]
  },
  {
   "cell_type": "code",
   "execution_count": 155,
   "metadata": {},
   "outputs": [
    {
     "name": "stdout",
     "output_type": "stream",
     "text": [
      "StandardScaler()\n"
     ]
    }
   ],
   "source": [
    "from sklearn.preprocessing import StandardScaler\n",
    "X = StandardScaler().fit(X)\n",
    "print(X)"
   ]
  },
  {
   "cell_type": "code",
   "execution_count": 190,
   "metadata": {},
   "outputs": [
    {
     "data": {
      "text/plain": [
       "(array([[23,  2,  3],\n",
       "        [ 8, 30,  1],\n",
       "        [ 6,  4, 23]], dtype=int64),\n",
       " 0.76)"
      ]
     },
     "execution_count": 190,
     "metadata": {},
     "output_type": "execute_result"
    }
   ],
   "source": [
    "import numpy as np\n",
    "from sklearn.metrics import confusion_matrix, accuracy_score\n",
    "\n",
    "# Simulate a scenario\n",
    "np.random.seed(42)  # For reproducibility\n",
    "\n",
    "num_points = 100  # Number of data points\n",
    "num_classes = 3   # Number of classes\n",
    "\n",
    "# Generate random softmax probabilities\n",
    "Y_softmax = np.random.rand(num_points, num_classes)\n",
    "Y_softmax = Y_softmax / np.sum(Y_softmax, axis=1)[:, None]  # Normalize to make them proper probabilities\n",
    "\n",
    "# Compute hard label predictions from softmax probabilities\n",
    "Y_preds = np.argmax(Y_softmax, axis=1)\n",
    "\n",
    "# Simulate the similarity matrix S based on softmax probabilities\n",
    "S = np.dot(Y_softmax, Y_softmax.T)  # Dot product for simplicity in simulation\n",
    "\n",
    "# Simulate CC.predict(S) by slightly perturbing Y_preds for simulation\n",
    "perturbation = np.random.choice([-1, 0, 1], size=num_points, p=[0.1, 0.8, 0.1])  # Mostly unchanged, some perturbations\n",
    "Y_CC = (Y_preds + perturbation) % num_classes  # Ensure it remains a valid class label\n",
    "\n",
    "# Compare Y_CC and Y_preds\n",
    "conf_matrix = confusion_matrix(Y_preds, Y_CC)\n",
    "accuracy = accuracy_score(Y_preds, Y_CC)\n",
    "\n",
    "conf_matrix, accuracy"
   ]
  },
  {
   "cell_type": "code",
   "execution_count": null,
   "metadata": {},
   "outputs": [],
   "source": []
  }
 ],
 "metadata": {
  "kernelspec": {
   "display_name": "base",
   "language": "python",
   "name": "python3"
  },
  "language_info": {
   "codemirror_mode": {
    "name": "ipython",
    "version": 3
   },
   "file_extension": ".py",
   "mimetype": "text/x-python",
   "name": "python",
   "nbconvert_exporter": "python",
   "pygments_lexer": "ipython3",
   "version": "3.9.13"
  }
 },
 "nbformat": 4,
 "nbformat_minor": 2
}
