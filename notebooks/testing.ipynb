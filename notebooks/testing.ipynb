{
 "cells": [
  {
   "cell_type": "code",
   "execution_count": 65,
   "metadata": {},
   "outputs": [],
   "source": [
    "from rac.experiment_data import ExperimentReader\n",
    "er = ExperimentReader(metrics=[\"rand\"])\n",
    "\n",
    "acq_fns = [\"freq\", \"entropy\"]\n",
    "start_index = 1\n",
    "for af in acq_fns:\n",
    "    if af == \"freq\":\n",
    "        acq_noise = False\n",
    "    else:\n",
    "        acq_noise = True\n",
    "    config = {\n",
    "        \"_experiment_name\": \"test_experiment\",\n",
    "        \"_num_repeats\": 7,\n",
    "        \"_n_workers\": 7,\n",
    "        \"_local\": True,\n",
    "        \"_verbose\": True,\n",
    "        \"_overwrite\": False,\n",
    "\n",
    "        \"seed\": 14,\n",
    "        \"batch_size\": 0.01,\n",
    "        \"noise_level\": [0.4],\n",
    "        \"clustering_alg\": \"CC\",\n",
    "        \"warm_start\": [0.02],\n",
    "        \"K_init\": 10,\n",
    "        \"sim_init\": 0.01,\n",
    "        \"sim_init_type\": \"zeros\",\n",
    "\n",
    "        \"acq_fn\": af,\n",
    "        \"eps\": 0.3,\n",
    "        \"beta\": 1,\n",
    "        \"tau\": 7,\n",
    "        \"alpha\": 0.5,\n",
    "        \"num_maxmin_edges\": -1,\n",
    "        \"acq_noise\": acq_noise,\n",
    "        \"use_power\": True,\n",
    "        \"power_beta\": 1,\n",
    "        \"sparse_sim_matrix\": False,\n",
    "        \"mean_field_beta\": 3,\n",
    "        \"info_gain_lambda\": 1,\n",
    "        \"num_edges_info_gain\": 50,\n",
    "        \"info_gain_pair_mode\": \"uniform\",\n",
    "        \"mf_iterations\": 50,\n",
    "\n",
    "        \"dataset_name\": \"synthetic\",\n",
    "        \"dataset_n_samples\": 500,\n",
    "        \"dataset_n_clusters\": 10,\n",
    "        \"dataset_class_balance\": None\n",
    "    }\n",
    "\n",
    "\n",
    "    start_index = er.generate_experiments(\n",
    "        folder=\"../configs/test_experiment\",\n",
    "        options_to_keep=[\"acq_fn\"],\n",
    "        start_index=start_index, \n",
    "        **config\n",
    "    )"
   ]
  },
  {
   "cell_type": "markdown",
   "metadata": {},
   "source": []
  },
  {
   "cell_type": "markdown",
   "metadata": {},
   "source": []
  },
  {
   "cell_type": "code",
   "execution_count": 11,
   "metadata": {},
   "outputs": [
    {
     "name": "stdout",
     "output_type": "stream",
     "text": [
      "-10.0\n",
      "0.0\n",
      "10.0\n",
      "20.0\n",
      "30.0\n",
      "40.0\n",
      "[-0.1, 0.0, 0.1, 0.2, 0.3, 0.4]\n"
     ]
    },
    {
     "name": "stderr",
     "output_type": "stream",
     "text": [
      "c:\\github_projects\\robust-active-clustering\\rac\\experiment_data.py:433: UserWarning: FixedFormatter should only be used together with FixedLocator\n",
      "  ax.set_xticklabels(labels)\n"
     ]
    },
    {
     "data": {
      "text/plain": [
       "<Figure size 1200x800 with 0 Axes>"
      ]
     },
     "metadata": {},
     "output_type": "display_data"
    }
   ],
   "source": [
    "config = {\n",
    "    \"_experiment_name\": \"test_experiment\",\n",
    "    \"_num_repeats\": 7,\n",
    "    \"_n_workers\": 7,\n",
    "    \"_local\": True,\n",
    "    \"_verbose\": True,\n",
    "    \"_overwrite\": False,\n",
    "\n",
    "    \"seed\": 14,\n",
    "    \"batch_size\": 0.01,\n",
    "    \"noise_level\": [0.4],\n",
    "    \"clustering_alg\": \"CC\",\n",
    "    \"warm_start\": [0.02],\n",
    "    \"K_init\": 10,\n",
    "    \"sim_init\": 0.01,\n",
    "    \"sim_init_type\": \"zeros\",\n",
    "\n",
    "    \"acq_fn\": [\"freq\", \"entropy\"],\n",
    "    \"eps\": 0.3,\n",
    "    \"beta\": 1,\n",
    "    \"tau\": 7,\n",
    "    \"alpha\": 0.5,\n",
    "    \"num_maxmin_edges\": -1,\n",
    "    \"acq_noise\": [False, True],\n",
    "    \"use_power\": True,\n",
    "    \"power_beta\": 1,\n",
    "    \"sparse_sim_matrix\": False,\n",
    "    \"mean_field_beta\": 3,\n",
    "    \"info_gain_lambda\": 1,\n",
    "    \"num_edges_info_gain\": 50,\n",
    "    \"info_gain_pair_mode\": \"uniform\",\n",
    "    \"mf_iterations\": 50,\n",
    "\n",
    "    \"dataset_name\": \"synthetic\",\n",
    "    \"dataset_n_samples\": 500,\n",
    "    \"dataset_n_clusters\": 10,\n",
    "    \"dataset_class_balance\": None\n",
    "}\n",
    "\n",
    "er.generate_AL_curves(\n",
    "    data,\n",
    "    save_location=\"../plots/test_experiment/\",\n",
    "    categorize=[],\n",
    "    compare=[\"acq_fn\", \"acq_noise\"],\n",
    "    vary=[\"x\"],\n",
    "    options_in_file_name=[\"noise_level\"],\n",
    "    auc=True,\n",
    "    summary_method=\"auc_max_ind\",\n",
    "    indices=[], \n",
    "    threshold=1,\n",
    "    err_style=\"band\",\n",
    "    marker=\"o\",\n",
    "    markersize=6,\n",
    "    capsize=6,\n",
    "    linestyle=\"solid\",\n",
    "    prop=False,\n",
    "    **config\n",
    ")"
   ]
  },
  {
   "cell_type": "code",
   "execution_count": null,
   "metadata": {},
   "outputs": [],
   "source": []
  }
 ],
 "metadata": {
  "kernelspec": {
   "display_name": "base",
   "language": "python",
   "name": "python3"
  },
  "language_info": {
   "codemirror_mode": {
    "name": "ipython",
    "version": 3
   },
   "file_extension": ".py",
   "mimetype": "text/x-python",
   "name": "python",
   "nbconvert_exporter": "python",
   "pygments_lexer": "ipython3",
   "version": "3.9.13"
  }
 },
 "nbformat": 4,
 "nbformat_minor": 2
}
