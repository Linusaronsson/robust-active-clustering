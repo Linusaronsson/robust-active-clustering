{
 "cells": [
  {
   "cell_type": "code",
   "execution_count": 3,
   "metadata": {},
   "outputs": [],
   "source": [
    "from rac.experiment_data import ExperimentReader\n",
    "er = ExperimentReader(metrics=[\"rand\"])\n",
    "start_index = 1\n",
    "\n",
    "config = {\n",
    "    \"_experiment_name\": \"test_al\",\n",
    "    \"_num_repeats\": 10,\n",
    "    \"_n_workers\": 1,\n",
    "    \"_local\": True,\n",
    "    \"_verbose\": True,\n",
    "    \"_overwrite\": False,\n",
    "    \"_mode\": \"al\",\n",
    "\n",
    "    \"seed\": 14,\n",
    "    \"batch_size\": 10,\n",
    "    \"noise_level\": 0.0,\n",
    "    \"warm_start\": 0.02,\n",
    "    \"acq_fn\": [\"uniform\", \"entropy\", \"cc_entropy\"],\n",
    "    \"model_name\": \"GP\",\n",
    "\n",
    "    \"acq_noise\": True,\n",
    "    \"power_beta\": 1,\n",
    "    \"use_power\": True,\n",
    "    \"mean_field_beta\": 3,\n",
    "\n",
    "    \"dataset_name\": \"synthetic\",\n",
    "    \"dataset_n_samples\": 500,\n",
    "    \"dataset_n_clusters\": 10,\n",
    "    \"dataset_class_balance\": None\n",
    "}\n",
    "\n",
    "start_index = er.generate_experiments(\n",
    "    folder=\"../configs/test_al\",\n",
    "    options_to_keep=[],\n",
    "    start_index=start_index, \n",
    "    **config\n",
    ")"
   ]
  },
  {
   "cell_type": "code",
   "execution_count": 1,
   "metadata": {},
   "outputs": [
    {
     "ename": "UnpicklingError",
     "evalue": "invalid load key, '\\x00'.",
     "output_type": "error",
     "traceback": [
      "\u001b[1;31m---------------------------------------------------------------------------\u001b[0m",
      "\u001b[1;31mUnpicklingError\u001b[0m                           Traceback (most recent call last)",
      "\u001b[1;32m~\\AppData\\Local\\Temp\\ipykernel_11408\\2622261483.py\u001b[0m in \u001b[0;36m<module>\u001b[1;34m\u001b[0m\n\u001b[0;32m      1\u001b[0m \u001b[1;32mfrom\u001b[0m \u001b[0mrac\u001b[0m\u001b[1;33m.\u001b[0m\u001b[0mexperiment_data\u001b[0m \u001b[1;32mimport\u001b[0m \u001b[0mExperimentReader\u001b[0m\u001b[1;33m\u001b[0m\u001b[1;33m\u001b[0m\u001b[0m\n\u001b[0;32m      2\u001b[0m \u001b[0mer\u001b[0m \u001b[1;33m=\u001b[0m \u001b[0mExperimentReader\u001b[0m\u001b[1;33m(\u001b[0m\u001b[0mmetrics\u001b[0m\u001b[1;33m=\u001b[0m\u001b[1;33m[\u001b[0m\u001b[1;34m\"accuracy\"\u001b[0m\u001b[1;33m]\u001b[0m\u001b[1;33m)\u001b[0m\u001b[1;33m\u001b[0m\u001b[1;33m\u001b[0m\u001b[0m\n\u001b[1;32m----> 3\u001b[1;33m \u001b[0mdata\u001b[0m \u001b[1;33m=\u001b[0m \u001b[0mer\u001b[0m\u001b[1;33m.\u001b[0m\u001b[0mread_all_data\u001b[0m\u001b[1;33m(\u001b[0m\u001b[0mfolder\u001b[0m\u001b[1;33m=\u001b[0m\u001b[1;34m\"../experiment_results_local/test_al/\"\u001b[0m\u001b[1;33m)\u001b[0m\u001b[1;33m\u001b[0m\u001b[1;33m\u001b[0m\u001b[0m\n\u001b[0m",
      "\u001b[1;32mc:\\github_projects\\robust-active-clustering\\rac\\experiment_data.py\u001b[0m in \u001b[0;36mread_all_data\u001b[1;34m(self, folder)\u001b[0m\n\u001b[0;32m     98\u001b[0m                 \u001b[1;32mwith\u001b[0m \u001b[0mopen\u001b[0m\u001b[1;33m(\u001b[0m\u001b[0mpath\u001b[0m \u001b[1;33m+\u001b[0m \u001b[1;34m\"/\"\u001b[0m \u001b[1;33m+\u001b[0m \u001b[0mname\u001b[0m\u001b[1;33m,\u001b[0m \u001b[1;34m'rb'\u001b[0m\u001b[1;33m)\u001b[0m \u001b[1;32mas\u001b[0m \u001b[0mhandle\u001b[0m\u001b[1;33m:\u001b[0m\u001b[1;33m\u001b[0m\u001b[1;33m\u001b[0m\u001b[0m\n\u001b[0;32m     99\u001b[0m                     \u001b[1;32mtry\u001b[0m\u001b[1;33m:\u001b[0m\u001b[1;33m\u001b[0m\u001b[1;33m\u001b[0m\u001b[0m\n\u001b[1;32m--> 100\u001b[1;33m                         \u001b[0mexp\u001b[0m \u001b[1;33m=\u001b[0m \u001b[0mpickle\u001b[0m\u001b[1;33m.\u001b[0m\u001b[0mload\u001b[0m\u001b[1;33m(\u001b[0m\u001b[0mhandle\u001b[0m\u001b[1;33m)\u001b[0m\u001b[1;33m\u001b[0m\u001b[1;33m\u001b[0m\u001b[0m\n\u001b[0m\u001b[0;32m    101\u001b[0m                     \u001b[1;32mexcept\u001b[0m \u001b[0mEOFError\u001b[0m\u001b[1;33m:\u001b[0m\u001b[1;33m\u001b[0m\u001b[1;33m\u001b[0m\u001b[0m\n\u001b[0;32m    102\u001b[0m                         \u001b[0mprint\u001b[0m\u001b[1;33m(\u001b[0m\u001b[1;34m\"EOF error in read data\"\u001b[0m\u001b[1;33m)\u001b[0m\u001b[1;33m\u001b[0m\u001b[1;33m\u001b[0m\u001b[0m\n",
      "\u001b[1;31mUnpicklingError\u001b[0m: invalid load key, '\\x00'."
     ]
    }
   ],
   "source": [
    "from rac.experiment_data import ExperimentReader\n",
    "er = ExperimentReader(metrics=[\"accuracy\"])\n",
    "data = er.read_all_data(folder=\"../experiment_results_local/test_al/\")"
   ]
  },
  {
   "cell_type": "code",
   "execution_count": 1,
   "metadata": {},
   "outputs": [
    {
     "ename": "NameError",
     "evalue": "name 'er' is not defined",
     "output_type": "error",
     "traceback": [
      "\u001b[1;31m---------------------------------------------------------------------------\u001b[0m",
      "\u001b[1;31mNameError\u001b[0m                                 Traceback (most recent call last)",
      "\u001b[1;32m~\\AppData\\Local\\Temp\\ipykernel_15688\\1880864658.py\u001b[0m in \u001b[0;36m<module>\u001b[1;34m\u001b[0m\n\u001b[0;32m     25\u001b[0m }\n\u001b[0;32m     26\u001b[0m \u001b[1;33m\u001b[0m\u001b[0m\n\u001b[1;32m---> 27\u001b[1;33m er.generate_AL_curves(\n\u001b[0m\u001b[0;32m     28\u001b[0m     \u001b[0mdata\u001b[0m\u001b[1;33m,\u001b[0m\u001b[1;33m\u001b[0m\u001b[1;33m\u001b[0m\u001b[0m\n\u001b[0;32m     29\u001b[0m     \u001b[0msave_location\u001b[0m\u001b[1;33m=\u001b[0m\u001b[1;34m\"../plots/test_al/\"\u001b[0m\u001b[1;33m,\u001b[0m\u001b[1;33m\u001b[0m\u001b[1;33m\u001b[0m\u001b[0m\n",
      "\u001b[1;31mNameError\u001b[0m: name 'er' is not defined"
     ]
    }
   ],
   "source": [
    "config = {\n",
    "    \"_experiment_name\": \"test_al\",\n",
    "    \"_num_repeats\": 10,\n",
    "    \"_n_workers\": 4,\n",
    "    \"_local\": True,\n",
    "    \"_verbose\": True,\n",
    "    \"_overwrite\": False,\n",
    "    \"_mode\": \"al\",\n",
    "\n",
    "    \"seed\": 14,\n",
    "    \"batch_size\": 10,\n",
    "    \"noise_level\": 0.0,\n",
    "    \"warm_start\": 0.05,\n",
    "    \"acq_fn\": [\"uniform\", \"entropy\"],\n",
    "    \"model_name\": \"GP\",\n",
    "\n",
    "    \"acq_noise\": False,\n",
    "    \"power_beta\": 1,\n",
    "    \"use_power\": False,\n",
    "\n",
    "    \"dataset_name\": \"synthetic\",\n",
    "    \"dataset_n_samples\": 500,\n",
    "    \"dataset_n_clusters\": 10,\n",
    "    \"dataset_class_balance\": None\n",
    "}\n",
    "\n",
    "er.generate_AL_curves(\n",
    "    data,\n",
    "    save_location=\"../plots/test_al/\",\n",
    "    categorize=[],\n",
    "    compare=[\"acq_fn\"],\n",
    "    vary=[\"x\"],\n",
    "    options_in_file_name=[\"noise_level\"],\n",
    "    auc=True,\n",
    "    summary_method=\"auc_max_ind\",\n",
    "    indices=[], \n",
    "    threshold=1,\n",
    "    err_style=\"band\",\n",
    "    marker=\"o\",\n",
    "    markersize=6,\n",
    "    capsize=6,\n",
    "    linestyle=\"solid\",\n",
    "    prop=True,\n",
    "    **config\n",
    ")"
   ]
  },
  {
   "cell_type": "code",
   "execution_count": null,
   "metadata": {},
   "outputs": [],
   "source": []
  }
 ],
 "metadata": {
  "kernelspec": {
   "display_name": "base",
   "language": "python",
   "name": "python3"
  },
  "language_info": {
   "codemirror_mode": {
    "name": "ipython",
    "version": 3
   },
   "file_extension": ".py",
   "mimetype": "text/x-python",
   "name": "python",
   "nbconvert_exporter": "python",
   "pygments_lexer": "ipython3",
   "version": "3.9.13"
  }
 },
 "nbformat": 4,
 "nbformat_minor": 2
}
