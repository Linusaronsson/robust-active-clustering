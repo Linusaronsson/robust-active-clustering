{
 "cells": [
  {
   "cell_type": "code",
   "execution_count": 8,
   "metadata": {},
   "outputs": [],
   "source": [
    "from rac.experiment_data import ExperimentReader\n",
    "er = ExperimentReader(metrics=[\"rand\"])\n",
    "start_index = 1\n",
    "\n",
    "config = {\n",
    "    \"_experiment_name\": \"test_al2\",\n",
    "    \"_num_repeats\": 10,\n",
    "    \"_n_workers\": 10,\n",
    "    \"_local\": True,\n",
    "    \"_verbose\": True,\n",
    "    \"_overwrite\": False,\n",
    "    \"_mode\": \"al\",\n",
    "\n",
    "    \"seed\": 14,\n",
    "    \"batch_size\": [10, 25, 5],\n",
    "    \"noise_level\": [0.0, 0.1, 0.3, 0.4],\n",
    "    \"warm_start\": [0.025, 0.05],\n",
    "    \"acq_fn\": [\"entropy\", \"cc_entropy\", \"uniform\"],\n",
    "    \"model_name\": \"MLP\",\n",
    "\n",
    "    \"acq_noise\": [False, True],\n",
    "    \"power_beta\": [1],\n",
    "    \"use_power\": [True],\n",
    "    \"mean_field_beta\": [3],\n",
    "    \"allow_requery\": [False, True],\n",
    "\n",
    "    \"dataset_name\": \"synthetic\",\n",
    "    \"dataset_n_samples\": 500,\n",
    "    \"dataset_n_clusters\": 10,\n",
    "    \"dataset_class_balance\": None,\n",
    "    \"dataset_class_sep\": 0.7\n",
    "}\n",
    "\n",
    "start_index = er.generate_experiments(\n",
    "    folder=\"../configs/test_al2\",\n",
    "    options_to_keep=[],\n",
    "    start_index=start_index, \n",
    "    **config\n",
    ")"
   ]
  },
  {
   "cell_type": "code",
   "execution_count": 3,
   "metadata": {},
   "outputs": [],
   "source": [
    "from rac.experiment_data import ExperimentReader\n",
    "er = ExperimentReader(metrics=[\"accuracy\"])\n",
    "data = er.read_all_data(folder=\"../experiment_results_local/test_al2/\")"
   ]
  },
  {
   "cell_type": "code",
   "execution_count": 4,
   "metadata": {},
   "outputs": [
    {
     "data": {
      "text/plain": [
       "<Figure size 1200x800 with 0 Axes>"
      ]
     },
     "metadata": {},
     "output_type": "display_data"
    }
   ],
   "source": [
    "config = {\n",
    "    \"_experiment_name\": \"test_al2\",\n",
    "    \"_num_repeats\": 10,\n",
    "    \"_n_workers\": 10,\n",
    "    \"_local\": True,\n",
    "    \"_verbose\": True,\n",
    "    \"_overwrite\": False,\n",
    "    \"_mode\": \"al\",\n",
    "\n",
    "    \"seed\": 14,\n",
    "    \"batch_size\": [10, 25, 5],\n",
    "    \"noise_level\": [0.0, 0.1, 0.3, 0.4],\n",
    "    \"warm_start\": [0.025, 0.05],\n",
    "    \"acq_fn\": [\"entropy\", \"cc_entropy\"],\n",
    "    \"model_name\": \"MLP\",\n",
    "\n",
    "    \"acq_noise\": [False, True],\n",
    "    \"power_beta\": [1],\n",
    "    \"use_power\": [True],\n",
    "    \"mean_field_beta\": [3],\n",
    "    \"allow_requery\": [False, True],\n",
    "\n",
    "    \"dataset_name\": \"synthetic\",\n",
    "    \"dataset_n_samples\": 500,\n",
    "    \"dataset_n_clusters\": 10,\n",
    "    \"dataset_class_balance\": None,\n",
    "    \"dataset_class_sep\": 0.7\n",
    "}\n",
    "\n",
    "er.generate_AL_curves(\n",
    "    data,\n",
    "    save_location=\"../plots/test_al2/\",\n",
    "    categorize=[\"noise_level\", \"batch_size\", \"allow_requery\", \"warm_start\", \"mean_field_beta\"],\n",
    "    compare=[\"acq_fn\", \"acq_noise\"],\n",
    "    vary=[\"x\"],\n",
    "    options_in_file_name=[\"noise_level\"],\n",
    "    auc=True,\n",
    "    summary_method=\"auc_max_ind\",\n",
    "    indices=[], \n",
    "    threshold=1,\n",
    "    err_style=\"band\",\n",
    "    marker=\"o\",\n",
    "    markersize=6,\n",
    "    capsize=6,\n",
    "    linestyle=\"solid\",\n",
    "    prop=True,\n",
    "    **config\n",
    ")"
   ]
  },
  {
   "cell_type": "code",
   "execution_count": null,
   "metadata": {},
   "outputs": [],
   "source": []
  }
 ],
 "metadata": {
  "kernelspec": {
   "display_name": "base",
   "language": "python",
   "name": "python3"
  },
  "language_info": {
   "codemirror_mode": {
    "name": "ipython",
    "version": 3
   },
   "file_extension": ".py",
   "mimetype": "text/x-python",
   "name": "python",
   "nbconvert_exporter": "python",
   "pygments_lexer": "ipython3",
   "version": "3.9.13"
  }
 },
 "nbformat": 4,
 "nbformat_minor": 2
}
