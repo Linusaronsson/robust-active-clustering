{
 "cells": [
  {
   "cell_type": "code",
   "execution_count": 5,
   "metadata": {},
   "outputs": [],
   "source": [
    "from rac.experiment_data import ExperimentReader\n",
    "er = ExperimentReader(metrics=[\"rand\"])\n",
    "start_index = 1\n",
    "\n",
    "config = {\n",
    "    \"_experiment_name\": \"test_al2\",\n",
    "    \"_num_repeats\": 6,\n",
    "    \"_n_workers\": 1,\n",
    "    \"_local\": True,\n",
    "    \"_verbose\": True,\n",
    "    \"_overwrite\": False,\n",
    "    \"_mode\": \"al\",\n",
    "\n",
    "    \"seed\": 14,\n",
    "    \"batch_size\": [2000],\n",
    "    \"noise_level\": [0.0],\n",
    "    \"warm_start\": [0.025, 0.1],\n",
    "    \"acq_fn\": [\"uniform\", \"entropy\", \"cc_entropy\", \"entropy_mc\", \"bald\", \"cc_entropy_mc\", \"coreset\", \"badge\"],\n",
    "    \"model_name\": \"VGG16\",\n",
    "    \"predictor\": [\"model\"],\n",
    "    \"dynamic_K\": [True, False],\n",
    "    \"sim_init\": [\"t1\", \"t2\"],\n",
    "    \"sample_size\": 0.5,\n",
    "    \"test_sample_size\": 0.5,\n",
    "\n",
    "    \"acq_noise\": [False, True],\n",
    "    \"power_beta\": [1],\n",
    "    \"use_power\": [True],\n",
    "    \"mean_field_beta\": [3],\n",
    "    \"allow_requery\": [True],\n",
    "\n",
    "    \"dataset_name\": \"cifar10_original\"\n",
    "}\n",
    "\n",
    "start_index = er.generate_experiments(\n",
    "    folder=\"../configs/test_al2\",\n",
    "    options_to_keep=[],\n",
    "    start_index=start_index, \n",
    "    **config\n",
    ")"
   ]
  },
  {
   "cell_type": "code",
   "execution_count": 3,
   "metadata": {},
   "outputs": [
    {
     "data": {
      "text/plain": [
       "(50000, 32, 32, 3)"
      ]
     },
     "execution_count": 3,
     "metadata": {},
     "output_type": "execute_result"
    }
   ],
   "source": [
    "import numpy as np\n",
    "X= np.load(\"../datasets/cifar10_original_data/X_train.npy\")\n",
    "X.shape"
   ]
  },
  {
   "cell_type": "code",
   "execution_count": 6,
   "metadata": {},
   "outputs": [],
   "source": [
    "from rac.experiment_data import ExperimentReader\n",
    "er = ExperimentReader(metrics=[\"accuracy\"])\n",
    "data = er.read_all_data(folder=\"../experiment_results_local/test_al2/\")"
   ]
  },
  {
   "cell_type": "code",
   "execution_count": 9,
   "metadata": {},
   "outputs": [
    {
     "name": "stderr",
     "output_type": "stream",
     "text": [
      "c:\\github_projects\\robust-active-clustering\\rac\\experiment_data.py:442: UserWarning: FixedFormatter should only be used together with FixedLocator\n",
      "  ax.set_xticklabels(labels)\n",
      "c:\\github_projects\\robust-active-clustering\\rac\\experiment_data.py:442: UserWarning: FixedFormatter should only be used together with FixedLocator\n",
      "  ax.set_xticklabels(labels)\n",
      "c:\\github_projects\\robust-active-clustering\\rac\\experiment_data.py:442: UserWarning: FixedFormatter should only be used together with FixedLocator\n",
      "  ax.set_xticklabels(labels)\n",
      "c:\\github_projects\\robust-active-clustering\\rac\\experiment_data.py:442: UserWarning: FixedFormatter should only be used together with FixedLocator\n",
      "  ax.set_xticklabels(labels)\n",
      "c:\\github_projects\\robust-active-clustering\\rac\\experiment_data.py:442: UserWarning: FixedFormatter should only be used together with FixedLocator\n",
      "  ax.set_xticklabels(labels)\n",
      "c:\\github_projects\\robust-active-clustering\\rac\\experiment_data.py:442: UserWarning: FixedFormatter should only be used together with FixedLocator\n",
      "  ax.set_xticklabels(labels)\n",
      "c:\\github_projects\\robust-active-clustering\\rac\\experiment_data.py:442: UserWarning: FixedFormatter should only be used together with FixedLocator\n",
      "  ax.set_xticklabels(labels)\n",
      "c:\\github_projects\\robust-active-clustering\\rac\\experiment_data.py:442: UserWarning: FixedFormatter should only be used together with FixedLocator\n",
      "  ax.set_xticklabels(labels)\n",
      "c:\\github_projects\\robust-active-clustering\\rac\\experiment_data.py:442: UserWarning: FixedFormatter should only be used together with FixedLocator\n",
      "  ax.set_xticklabels(labels)\n",
      "c:\\github_projects\\robust-active-clustering\\rac\\experiment_data.py:442: UserWarning: FixedFormatter should only be used together with FixedLocator\n",
      "  ax.set_xticklabels(labels)\n",
      "c:\\github_projects\\robust-active-clustering\\rac\\experiment_data.py:442: UserWarning: FixedFormatter should only be used together with FixedLocator\n",
      "  ax.set_xticklabels(labels)\n",
      "c:\\github_projects\\robust-active-clustering\\rac\\experiment_data.py:442: UserWarning: FixedFormatter should only be used together with FixedLocator\n",
      "  ax.set_xticklabels(labels)\n",
      "c:\\github_projects\\robust-active-clustering\\rac\\experiment_data.py:442: UserWarning: FixedFormatter should only be used together with FixedLocator\n",
      "  ax.set_xticklabels(labels)\n",
      "c:\\github_projects\\robust-active-clustering\\rac\\experiment_data.py:442: UserWarning: FixedFormatter should only be used together with FixedLocator\n",
      "  ax.set_xticklabels(labels)\n",
      "c:\\github_projects\\robust-active-clustering\\rac\\experiment_data.py:442: UserWarning: FixedFormatter should only be used together with FixedLocator\n",
      "  ax.set_xticklabels(labels)\n",
      "c:\\github_projects\\robust-active-clustering\\rac\\experiment_data.py:442: UserWarning: FixedFormatter should only be used together with FixedLocator\n",
      "  ax.set_xticklabels(labels)\n",
      "c:\\github_projects\\robust-active-clustering\\rac\\experiment_data.py:442: UserWarning: FixedFormatter should only be used together with FixedLocator\n",
      "  ax.set_xticklabels(labels)\n",
      "c:\\github_projects\\robust-active-clustering\\rac\\experiment_data.py:442: UserWarning: FixedFormatter should only be used together with FixedLocator\n",
      "  ax.set_xticklabels(labels)\n",
      "c:\\github_projects\\robust-active-clustering\\rac\\experiment_data.py:442: UserWarning: FixedFormatter should only be used together with FixedLocator\n",
      "  ax.set_xticklabels(labels)\n",
      "c:\\github_projects\\robust-active-clustering\\rac\\experiment_data.py:442: UserWarning: FixedFormatter should only be used together with FixedLocator\n",
      "  ax.set_xticklabels(labels)\n",
      "c:\\github_projects\\robust-active-clustering\\rac\\experiment_data.py:442: UserWarning: FixedFormatter should only be used together with FixedLocator\n",
      "  ax.set_xticklabels(labels)\n",
      "c:\\github_projects\\robust-active-clustering\\rac\\experiment_data.py:442: UserWarning: FixedFormatter should only be used together with FixedLocator\n",
      "  ax.set_xticklabels(labels)\n",
      "c:\\github_projects\\robust-active-clustering\\rac\\experiment_data.py:442: UserWarning: FixedFormatter should only be used together with FixedLocator\n",
      "  ax.set_xticklabels(labels)\n",
      "c:\\github_projects\\robust-active-clustering\\rac\\experiment_data.py:442: UserWarning: FixedFormatter should only be used together with FixedLocator\n",
      "  ax.set_xticklabels(labels)\n",
      "c:\\github_projects\\robust-active-clustering\\rac\\experiment_data.py:442: UserWarning: FixedFormatter should only be used together with FixedLocator\n",
      "  ax.set_xticklabels(labels)\n",
      "c:\\github_projects\\robust-active-clustering\\rac\\experiment_data.py:442: UserWarning: FixedFormatter should only be used together with FixedLocator\n",
      "  ax.set_xticklabels(labels)\n",
      "c:\\github_projects\\robust-active-clustering\\rac\\experiment_data.py:442: UserWarning: FixedFormatter should only be used together with FixedLocator\n",
      "  ax.set_xticklabels(labels)\n",
      "c:\\github_projects\\robust-active-clustering\\rac\\experiment_data.py:442: UserWarning: FixedFormatter should only be used together with FixedLocator\n",
      "  ax.set_xticklabels(labels)\n",
      "c:\\github_projects\\robust-active-clustering\\rac\\experiment_data.py:442: UserWarning: FixedFormatter should only be used together with FixedLocator\n",
      "  ax.set_xticklabels(labels)\n",
      "c:\\github_projects\\robust-active-clustering\\rac\\experiment_data.py:442: UserWarning: FixedFormatter should only be used together with FixedLocator\n",
      "  ax.set_xticklabels(labels)\n",
      "c:\\github_projects\\robust-active-clustering\\rac\\experiment_data.py:442: UserWarning: FixedFormatter should only be used together with FixedLocator\n",
      "  ax.set_xticklabels(labels)\n",
      "c:\\github_projects\\robust-active-clustering\\rac\\experiment_data.py:442: UserWarning: FixedFormatter should only be used together with FixedLocator\n",
      "  ax.set_xticklabels(labels)\n",
      "c:\\github_projects\\robust-active-clustering\\rac\\experiment_data.py:442: UserWarning: FixedFormatter should only be used together with FixedLocator\n",
      "  ax.set_xticklabels(labels)\n",
      "c:\\github_projects\\robust-active-clustering\\rac\\experiment_data.py:442: UserWarning: FixedFormatter should only be used together with FixedLocator\n",
      "  ax.set_xticklabels(labels)\n",
      "c:\\github_projects\\robust-active-clustering\\rac\\experiment_data.py:442: UserWarning: FixedFormatter should only be used together with FixedLocator\n",
      "  ax.set_xticklabels(labels)\n",
      "c:\\github_projects\\robust-active-clustering\\rac\\experiment_data.py:442: UserWarning: FixedFormatter should only be used together with FixedLocator\n",
      "  ax.set_xticklabels(labels)\n",
      "c:\\github_projects\\robust-active-clustering\\rac\\experiment_data.py:442: UserWarning: FixedFormatter should only be used together with FixedLocator\n",
      "  ax.set_xticklabels(labels)\n",
      "c:\\github_projects\\robust-active-clustering\\rac\\experiment_data.py:442: UserWarning: FixedFormatter should only be used together with FixedLocator\n",
      "  ax.set_xticklabels(labels)\n",
      "c:\\github_projects\\robust-active-clustering\\rac\\experiment_data.py:442: UserWarning: FixedFormatter should only be used together with FixedLocator\n",
      "  ax.set_xticklabels(labels)\n",
      "c:\\github_projects\\robust-active-clustering\\rac\\experiment_data.py:442: UserWarning: FixedFormatter should only be used together with FixedLocator\n",
      "  ax.set_xticklabels(labels)\n",
      "c:\\github_projects\\robust-active-clustering\\rac\\experiment_data.py:442: UserWarning: FixedFormatter should only be used together with FixedLocator\n",
      "  ax.set_xticklabels(labels)\n",
      "c:\\github_projects\\robust-active-clustering\\rac\\experiment_data.py:442: UserWarning: FixedFormatter should only be used together with FixedLocator\n",
      "  ax.set_xticklabels(labels)\n",
      "c:\\github_projects\\robust-active-clustering\\rac\\experiment_data.py:442: UserWarning: FixedFormatter should only be used together with FixedLocator\n",
      "  ax.set_xticklabels(labels)\n",
      "c:\\github_projects\\robust-active-clustering\\rac\\experiment_data.py:442: UserWarning: FixedFormatter should only be used together with FixedLocator\n",
      "  ax.set_xticklabels(labels)\n",
      "c:\\github_projects\\robust-active-clustering\\rac\\experiment_data.py:442: UserWarning: FixedFormatter should only be used together with FixedLocator\n",
      "  ax.set_xticklabels(labels)\n",
      "c:\\github_projects\\robust-active-clustering\\rac\\experiment_data.py:442: UserWarning: FixedFormatter should only be used together with FixedLocator\n",
      "  ax.set_xticklabels(labels)\n",
      "c:\\github_projects\\robust-active-clustering\\rac\\experiment_data.py:442: UserWarning: FixedFormatter should only be used together with FixedLocator\n",
      "  ax.set_xticklabels(labels)\n",
      "c:\\github_projects\\robust-active-clustering\\rac\\experiment_data.py:442: UserWarning: FixedFormatter should only be used together with FixedLocator\n",
      "  ax.set_xticklabels(labels)\n",
      "c:\\github_projects\\robust-active-clustering\\rac\\experiment_data.py:442: UserWarning: FixedFormatter should only be used together with FixedLocator\n",
      "  ax.set_xticklabels(labels)\n",
      "c:\\github_projects\\robust-active-clustering\\rac\\experiment_data.py:442: UserWarning: FixedFormatter should only be used together with FixedLocator\n",
      "  ax.set_xticklabels(labels)\n",
      "c:\\github_projects\\robust-active-clustering\\rac\\experiment_data.py:442: UserWarning: FixedFormatter should only be used together with FixedLocator\n",
      "  ax.set_xticklabels(labels)\n",
      "c:\\github_projects\\robust-active-clustering\\rac\\experiment_data.py:442: UserWarning: FixedFormatter should only be used together with FixedLocator\n",
      "  ax.set_xticklabels(labels)\n",
      "c:\\github_projects\\robust-active-clustering\\rac\\experiment_data.py:442: UserWarning: FixedFormatter should only be used together with FixedLocator\n",
      "  ax.set_xticklabels(labels)\n",
      "c:\\github_projects\\robust-active-clustering\\rac\\experiment_data.py:442: UserWarning: FixedFormatter should only be used together with FixedLocator\n",
      "  ax.set_xticklabels(labels)\n"
     ]
    },
    {
     "data": {
      "text/plain": [
       "<Figure size 1200x800 with 0 Axes>"
      ]
     },
     "metadata": {},
     "output_type": "display_data"
    }
   ],
   "source": [
    "config = {\n",
    "    \"_experiment_name\": \"test_al2\",\n",
    "    \"_num_repeats\": 10,\n",
    "    \"_n_workers\": 10,\n",
    "    \"_local\": True,\n",
    "    \"_verbose\": True,\n",
    "    \"_overwrite\": False,\n",
    "    \"_mode\": \"al\",\n",
    "\n",
    "    \"seed\": 14,\n",
    "    \"batch_size\": [200],\n",
    "    \"noise_level\": [0.0, 0.2, 0.4],\n",
    "    \"warm_start\": [0.025, 0.1],\n",
    "    \"acq_fn\": [\"uniform\"],\n",
    "    \"model_name\": \"MLP\",\n",
    "    \"predictor\": [\"model\", \"CC\", \"CC2\"],\n",
    "    \"dynamic_K\": True,\n",
    "    \"sim_init\": [\"t1\", \"t2\", \"t3\"],\n",
    "    \"sample_size\": 1,\n",
    "\n",
    "    \"acq_noise\": [False],\n",
    "    \"power_beta\": [1],\n",
    "    \"use_power\": [True],\n",
    "    \"mean_field_beta\": [3],\n",
    "    \"allow_requery\": [True],\n",
    "\n",
    "    \"dataset_name\": \"synthetic\",\n",
    "    \"dataset_n_samples\": 2000,\n",
    "    \"dataset_n_clusters\": 10,\n",
    "    \"dataset_class_balance\": None,\n",
    "    \"dataset_class_sep\": [0.1, 1, 1.3]\n",
    "}\n",
    "\n",
    "er.generate_AL_curves(\n",
    "    data,\n",
    "    save_location=\"../plots/test_al4/\",\n",
    "    categorize=[\"noise_level\", \"warm_start\", \"sim_init\", \"dataset_class_sep\"],\n",
    "    compare=[\"predictor\"],\n",
    "    vary=[\"x\"],\n",
    "    options_in_file_name=[\"noise_level\"],\n",
    "    auc=True,\n",
    "    summary_method=\"auc_max_ind\",\n",
    "    indices=[], \n",
    "    threshold=1,\n",
    "    err_style=\"band\",\n",
    "    marker=\"o\",\n",
    "    markersize=6,\n",
    "    capsize=6,\n",
    "    linestyle=\"solid\",\n",
    "    prop=True,\n",
    "    **config\n",
    ")"
   ]
  },
  {
   "cell_type": "code",
   "execution_count": 56,
   "metadata": {},
   "outputs": [],
   "source": [
    "n_samples = 3000\n",
    "n_clusters = 10\n",
    "class_sep = 0.1\n",
    "from sklearn.datasets import make_classification\n",
    "from sklearn.neural_network import MLPClassifier\n",
    "X, Y = make_classification(\n",
    "    n_samples=n_samples,\n",
    "    n_features=10,\n",
    "    n_informative=7,\n",
    "    n_redundant=3,\n",
    "    n_repeated=0,\n",
    "    n_classes=n_clusters,\n",
    "    n_clusters_per_class=1,\n",
    "    weights=None,\n",
    "    flip_y=0.05,\n",
    "    class_sep=class_sep,\n",
    "    hypercube=False,\n",
    "    shift=0.0,\n",
    "    scale=1.0,\n",
    "    shuffle=True,\n",
    "    random_state=13)"
   ]
  },
  {
   "cell_type": "code",
   "execution_count": 57,
   "metadata": {},
   "outputs": [
    {
     "name": "stderr",
     "output_type": "stream",
     "text": [
      "c:\\Users\\Linus\\anaconda3\\lib\\site-packages\\sklearn\\neural_network\\_multilayer_perceptron.py:692: ConvergenceWarning: Stochastic Optimizer: Maximum iterations (500) reached and the optimization hasn't converged yet.\n",
      "  warnings.warn(\n"
     ]
    },
    {
     "data": {
      "text/plain": [
       "0.872"
      ]
     },
     "execution_count": 57,
     "metadata": {},
     "output_type": "execute_result"
    }
   ],
   "source": [
    "from sklearn.metrics import  accuracy_score\n",
    "model = MLPClassifier(random_state=13, max_iter=500)\n",
    "model.fit(X, Y)\n",
    "accuracy_score(Y, model.predict(X))\n"
   ]
  },
  {
   "cell_type": "code",
   "execution_count": null,
   "metadata": {},
   "outputs": [],
   "source": []
  }
 ],
 "metadata": {
  "kernelspec": {
   "display_name": "base",
   "language": "python",
   "name": "python3"
  },
  "language_info": {
   "codemirror_mode": {
    "name": "ipython",
    "version": 3
   },
   "file_extension": ".py",
   "mimetype": "text/x-python",
   "name": "python",
   "nbconvert_exporter": "python",
   "pygments_lexer": "ipython3",
   "version": "3.9.13"
  }
 },
 "nbformat": 4,
 "nbformat_minor": 2
}
