{
 "cells": [
  {
   "cell_type": "code",
   "execution_count": 1,
   "metadata": {},
   "outputs": [],
   "source": [
    "import numpy as np \n",
    "from itertools import combinations, product\n",
    "from scipy.special import softmax\n",
    "import scipy as sp"
   ]
  },
  {
   "cell_type": "code",
   "execution_count": null,
   "metadata": {},
   "outputs": [],
   "source": []
  },
  {
   "cell_type": "code",
   "execution_count": 2,
   "metadata": {},
   "outputs": [],
   "source": [
    "def is_bad(i, j, k):\n",
    "    if np.sum([i,j,k]) == 1:\n",
    "        return True\n",
    "    else:\n",
    "        return False"
   ]
  },
  {
   "cell_type": "code",
   "execution_count": 3,
   "metadata": {},
   "outputs": [],
   "source": [
    "def clustering_cost(i, j, k, s_i, s_j, s_k):\n",
    "    return np.abs(np.minimum(0, i*s_i)) + np.abs(np.minimum(0, j*s_j)) + np.abs(np.minimum(0, k*s_k))"
   ]
  },
  {
   "cell_type": "code",
   "execution_count": 4,
   "metadata": {},
   "outputs": [],
   "source": [
    "def prob_clustering(s_i, s_j, s_k, beta=1):\n",
    "    clustering_costs = []\n",
    "    for (i, j, k) in product([-1, 1], repeat=3):\n",
    "        if is_bad(i, j, k):\n",
    "            continue\n",
    "        clustering_costs.append(clustering_cost(i, j, k, s_i, s_j, s_k))\n",
    "    \n",
    "    clustering_probs = softmax(-beta*np.array(clustering_costs))\n",
    "\n",
    "    probs = {}\n",
    "    l = 0\n",
    "    for (i, j, k) in product([-1, 1], repeat=3):\n",
    "        if is_bad(i, j, k):\n",
    "            continue\n",
    "        else:\n",
    "            probs[(i, j, k)] = clustering_probs[l]\n",
    "            l += 1\n",
    "    return probs, clustering_costs"
   ]
  },
  {
   "cell_type": "code",
   "execution_count": 5,
   "metadata": {},
   "outputs": [],
   "source": [
    "def marginal_prob(ind, val, probs):\n",
    "    marginal_probability = 0\n",
    "    if len(ind) == 1:\n",
    "        for (i, j, k) in probs.keys():\n",
    "            if ind[0] == 0:\n",
    "                if i == val[0]:\n",
    "                    marginal_probability += probs[(i, j, k)]\n",
    "            elif ind[0] == 1:\n",
    "                if j == val[0]:\n",
    "                    marginal_probability += probs[(i, j, k)]\n",
    "            elif ind[0] == 2:\n",
    "                if k == val[0]:\n",
    "                    marginal_probability += probs[(i, j, k)]\n",
    "    elif len(ind) == 2:\n",
    "        for (i, j, k) in probs.keys():\n",
    "            if ind[0] == 0 and ind[1] == 1:\n",
    "                if i == val[0] and j == val[1]:\n",
    "                    marginal_probability += probs[(i, j, k)]\n",
    "            if ind[0] == 0 and ind[1] == 2:\n",
    "                if i == val[0] and k == val[1]:\n",
    "                    marginal_probability += probs[(i, j, k)]\n",
    "            if ind[0] == 1 and ind[1] == 2:\n",
    "                if j == val[0] and k == val[1]:\n",
    "                    marginal_probability += probs[(i, j, k)]\n",
    "    return marginal_probability\n",
    "\n"
   ]
  },
  {
   "cell_type": "code",
   "execution_count": 183,
   "metadata": {},
   "outputs": [],
   "source": [
    "def info_gain2(e, i, j, k, beta):\n",
    "    probs, costs = prob_clustering(i, j, k, beta=beta)\n",
    "    entropy = sp.stats.entropy(list(probs.values()))    \n",
    "    cond_entropy = 0\n",
    "    for e_val in [-1, 1]:\n",
    "        e_entropy = 0\n",
    "        #for (ii, jj, kk) in probs.keys():\n",
    "        for ijk in probs.keys():\n",
    "            cond_prob_sum = 0\n",
    "            cond_prob = probs[ijk] * (ijk[e] == e_val)\n",
    "            #for (ii2, jj2, kk2) in probs.keys():\n",
    "            for ijk2 in probs.keys():\n",
    "                if ijk2[e] == e_val:\n",
    "                    cond_prob_sum += probs[ijk2]\n",
    "            cond_prob = cond_prob / cond_prob_sum\n",
    "            marg_prob = marginal_prob([e], [e_val], probs)\n",
    "            #print(cond_prob)\n",
    "            #cond_entropy -= marg_prob*cond_prob * np.log(cond_prob+0.00000001)\n",
    "            e_entropy -= cond_prob * np.log(cond_prob+0.00000001)\n",
    "        print(e_val, e_entropy)\n",
    "        cond_entropy += marg_prob*e_entropy\n",
    "            \n",
    "    print(probs)\n",
    "    print(\"e1 marginal: \", marginal_prob([0], [1], probs))\n",
    "    print(\"e2 marginal: \", marginal_prob([1], [1], probs))\n",
    "    print(\"e3 marginal: \", marginal_prob([2], [1], probs))\n",
    "    print(\"entropy: \", entropy)\n",
    "    print(\"cond_entropy: \", cond_entropy)\n",
    "    return entropy - cond_entropy"
   ]
  },
  {
   "cell_type": "code",
   "execution_count": 184,
   "metadata": {},
   "outputs": [
    {
     "data": {
      "text/plain": [
       "-0.0"
      ]
     },
     "execution_count": 184,
     "metadata": {},
     "output_type": "execute_result"
    }
   ],
   "source": [
    "p = 0\n",
    "entropy = -p*np.log(p+0.0000000000000001) - (1-p)*np.log(1-p+0.0000000000000000001)\n",
    "entropy"
   ]
  },
  {
   "cell_type": "code",
   "execution_count": 185,
   "metadata": {},
   "outputs": [
    {
     "name": "stdout",
     "output_type": "stream",
     "text": [
      "-1 0.9753277991662225\n",
      "1 0.36533383508720807\n",
      "{(-1, -1, -1): 0.3482992693129455, (-1, -1, 1): 0.1281321405552681, (-1, 1, -1): 0.1281321405552681, (1, -1, -1): 0.3482992693129455, (1, 1, 1): 0.04713718026357273}\n",
      "e1 marginal:  0.39543644957651825\n",
      "e2 marginal:  0.1752693208188408\n",
      "e3 marginal:  0.1752693208188408\n",
      "entropy:  1.4052318411170015\n",
      "cond_entropy:  0.7341139517477109\n",
      "0.6711178893692906\n"
     ]
    }
   ],
   "source": [
    "inf_gain = info_gain2(e=0, i=0, j=-1, k=-1, beta=1)\n",
    "print(inf_gain)"
   ]
  },
  {
   "cell_type": "code",
   "execution_count": 119,
   "metadata": {},
   "outputs": [
    {
     "name": "stdout",
     "output_type": "stream",
     "text": [
      "-1 1.0173571775552153\n",
      "1 0.36533383508720807\n",
      "{(-1, -1, -1): 0.07516004274497577, (-1, -1, 1): 0.20430617841987275, (-1, 1, -1): 0.20430617841987275, (1, -1, -1): 0.061535838397967335, (1, 1, 1): 0.4546917620173114}\n",
      "e1 marginal:  0.5162276004152787\n",
      "e2 marginal:  0.6589979404371842\n",
      "e3 marginal:  0.6589979404371842\n",
      "entropy:  1.37338517492598\n",
      "cond_entropy:  0.6807647320582064\n",
      "0.6926204428677736\n"
     ]
    }
   ],
   "source": [
    "inf_gain = info_gain2(e=0, i=-0.2, j=1, k=1, beta=1)\n",
    "print(inf_gain)"
   ]
  },
  {
   "cell_type": "code",
   "execution_count": 11,
   "metadata": {},
   "outputs": [
    {
     "name": "stdout",
     "output_type": "stream",
     "text": [
      "{(-1, -1, -1): 0.03419927913484093, (-1, -1, 1): 0.09296327901863667, (-1, 1, -1): 0.09296327901863667, (1, -1, -1): 0.09296327901863667, (1, 1, 1): 0.686910883809249}\n",
      "e1 marginal:  0.7798741628278857\n",
      "e2 marginal:  0.7798741628278857\n",
      "e3 marginal:  0.7798741628278857\n",
      "entropy:  1.0359282245806907\n",
      "cond_entropy:  0.4960470009330862\n",
      "0.5398812236476045\n"
     ]
    }
   ],
   "source": [
    "inf_gain = info_gain2(e=0, i=1, j=1, k=1, beta=1)\n",
    "print(inf_gain)"
   ]
  },
  {
   "cell_type": "code",
   "execution_count": 692,
   "metadata": {},
   "outputs": [
    {
     "name": "stdout",
     "output_type": "stream",
     "text": [
      "{(-1, -1, -1): 0.1677290793574269, (-1, -1, 1): 0.29071693298038, (-1, 1, -1): 0.15176754709532272, (1, -1, -1): 0.15176754709532272, (1, 1, 1): 0.2380188934715477}\n",
      "e1 marginal:  0.3897864405668704\n",
      "e2 marginal:  0.3897864405668704\n",
      "e3 marginal:  0.5287358264519277\n",
      "entropy:  1.572557807692012\n",
      "cond_entropy:  0.9039053183427251\n",
      "0.6686524893492868\n"
     ]
    }
   ],
   "source": [
    "inf_gain = info_gain2(e=0, i=-0.1, j=-0.1, k=0.55, beta=1)\n",
    "print(inf_gain)"
   ]
  },
  {
   "cell_type": "code",
   "execution_count": 700,
   "metadata": {},
   "outputs": [
    {
     "name": "stdout",
     "output_type": "stream",
     "text": [
      "{(-1, -1, -1): 0.21343723080861984, (-1, -1, 1): 0.07104708232078241, (-1, 1, -1): 0.07104708232078241, (1, -1, -1): 0.5801825460236903, (1, 1, 1): 0.06428605852612503}\n",
      "e1 marginal:  0.6444686045498154\n",
      "e2 marginal:  0.13533314084690745\n",
      "e3 marginal:  0.13533314084690745\n",
      "entropy:  1.1976767957499692\n",
      "cond_entropy:  0.5468730657832203\n",
      "0.650803729966749\n"
     ]
    }
   ],
   "source": [
    "inf_gain = info_gain2(e=0, i=0.1, j=-0.55, k=-0.55, beta=2)\n",
    "print(inf_gain)"
   ]
  },
  {
   "cell_type": "code",
   "execution_count": 124,
   "metadata": {},
   "outputs": [
    {
     "name": "stdout",
     "output_type": "stream",
     "text": [
      "probs:  {(-1, -1, -1): 0.08676952671672007, (-1, -1, 1): 0.23586402773805182, (-1, 1, -1): 0.23586402773805182, (1, -1, -1): 0.052628378282445196, (1, 1, 1): 0.38887403952473104}\n",
      "entropy of clustering:  1.4157748680271673\n",
      "marginal prob:  0.5584975821928237\n",
      "expected loss:  0.9712750743780223\n"
     ]
    }
   ],
   "source": [
    "probs, costs = prob_clustering(-0.5, 1, 1, beta=1)\n",
    "expected_loss = np.sum(costs*np.array(list(probs.values())))\n",
    "print(\"probs: \", probs)\n",
    "print(\"entropy of clustering: \", sp.stats.entropy(list(probs.values())))\n",
    "print(\"marginal prob: \", marginal_prob([0], [-1], probs))\n",
    "print(\"expected loss: \", expected_loss)"
   ]
  },
  {
   "cell_type": "code",
   "execution_count": 125,
   "metadata": {},
   "outputs": [
    {
     "name": "stdout",
     "output_type": "stream",
     "text": [
      "probs:  {(-1, -1, -1): 0.4124775207875908, (-1, -1, 1): 0.1517419998431209, (-1, 1, -1): 0.1517419998431209, (1, -1, -1): 0.25018026279992894, (1, 1, 1): 0.03385821672623858}\n",
      "entropy of clustering:  1.3987932426544998\n",
      "marginal prob:  0.7159615204738325\n",
      "expected loss:  0.5132196729018027\n"
     ]
    }
   ],
   "source": [
    "probs, costs = prob_clustering(-0.5, -1, -1, beta=1)\n",
    "expected_loss = np.sum(costs*np.array(list(probs.values())))\n",
    "print(\"probs: \", probs)\n",
    "print(\"entropy of clustering: \", sp.stats.entropy(list(probs.values())))\n",
    "print(\"marginal prob: \", marginal_prob([0], [-1], probs))\n",
    "print(\"expected loss: \", expected_loss)"
   ]
  },
  {
   "cell_type": "code",
   "execution_count": 127,
   "metadata": {},
   "outputs": [
    {
     "name": "stdout",
     "output_type": "stream",
     "text": [
      "probs:  {(-1, -1, -1): 0.04933939754869739, (-1, -1, 1): 0.13411838778374088, (-1, 1, -1): 0.13411838778374088, (1, -1, -1): 0.08134691422206715, (1, 1, 1): 0.6010769126617537}\n",
      "entropy of clustering:  1.1974298638232734\n",
      "marginal prob:  0.31757617311617914\n",
      "expected loss:  0.6883974856671004\n"
     ]
    }
   ],
   "source": [
    "probs, costs = prob_clustering(0.5, 1, 1, beta=1)\n",
    "expected_loss = np.sum(costs*np.array(list(probs.values())))\n",
    "print(\"probs: \", probs)\n",
    "print(\"entropy of clustering: \", sp.stats.entropy(list(probs.values())))\n",
    "print(\"marginal prob: \", marginal_prob([0], [-1], probs))\n",
    "print(\"expected loss: \", expected_loss)"
   ]
  },
  {
   "cell_type": "code",
   "execution_count": 59,
   "metadata": {},
   "outputs": [
    {
     "data": {
      "text/plain": [
       "0.6038169741953447"
      ]
     },
     "execution_count": 59,
     "metadata": {},
     "output_type": "execute_result"
    }
   ],
   "source": [
    "marginal_prob([0], [-1], probs)"
   ]
  },
  {
   "cell_type": "code",
   "execution_count": 187,
   "metadata": {},
   "outputs": [
    {
     "data": {
      "text/plain": [
       "array([0.03511903, 0.25949646, 0.70538451])"
      ]
     },
     "execution_count": 187,
     "metadata": {},
     "output_type": "execute_result"
    }
   ],
   "source": [
    "probs = softmax([0,2,3])\n",
    "probs"
   ]
  },
  {
   "cell_type": "code",
   "execution_count": 116,
   "metadata": {},
   "outputs": [
    {
     "data": {
      "text/plain": [
       "0.2689414213699951"
      ]
     },
     "execution_count": 116,
     "metadata": {},
     "output_type": "execute_result"
    }
   ],
   "source": [
    "probs[1] / (probs[1] + probs[2])"
   ]
  },
  {
   "cell_type": "code",
   "execution_count": 117,
   "metadata": {},
   "outputs": [
    {
     "data": {
      "text/plain": [
       "array([0.26894142, 0.73105858])"
      ]
     },
     "execution_count": 117,
     "metadata": {},
     "output_type": "execute_result"
    }
   ],
   "source": [
    "probs = softmax([2,3])\n",
    "probs"
   ]
  },
  {
   "cell_type": "code",
   "execution_count": 435,
   "metadata": {},
   "outputs": [
    {
     "data": {
      "text/plain": [
       "0.731076429375734"
      ]
     },
     "execution_count": 435,
     "metadata": {},
     "output_type": "execute_result"
    }
   ],
   "source": [
    "marginal_prob([0], [-1], probs)"
   ]
  },
  {
   "cell_type": "code",
   "execution_count": 408,
   "metadata": {},
   "outputs": [
    {
     "data": {
      "text/plain": [
       "0.7310432415706374"
      ]
     },
     "execution_count": 408,
     "metadata": {},
     "output_type": "execute_result"
    }
   ],
   "source": [
    "marginal_prob([0, 2], [-1, -1], probs)"
   ]
  },
  {
   "cell_type": "code",
   "execution_count": 76,
   "metadata": {},
   "outputs": [
    {
     "data": {
      "text/plain": [
       "0.3069411706206717"
      ]
     },
     "execution_count": 76,
     "metadata": {},
     "output_type": "execute_result"
    }
   ],
   "source": [
    "marginal_prob([0], [1], probs)"
   ]
  },
  {
   "cell_type": "code",
   "execution_count": 486,
   "metadata": {},
   "outputs": [],
   "source": [
    "def information_gain(e, i, j, k, beta):\n",
    "    if e == 0:\n",
    "        e1, e2 = 1, 2\n",
    "    if e == 1:\n",
    "        e1, e2 = 0, 2\n",
    "    if e == 2:\n",
    "        e1, e2 = 0, 1\n",
    "    probs, costs = prob_clustering(i, j, k, beta)\n",
    "    #print(probs)\n",
    "    marginal_e = marginal_prob([e], [1], probs)\n",
    "    #print(marginal_e)\n",
    "    marginal_e_dist = np.array([1-marginal_e, marginal_e])\n",
    "    \n",
    "    entropy_e = -np.sum(marginal_e_dist * np.log(marginal_e_dist))# / np.log(2) # divides by 1 is same as np.log(e)\n",
    "    print(entropy_e)\n",
    "    #print(sp.stats.entropy(marginal_e_dist))\n",
    "    conditional_entropy = 0\n",
    "\n",
    "    for (i, j, k) in probs.keys():\n",
    "        e1_val = i if e1 == 0 else j if e1 == 1 else k\n",
    "        e2_val = i if e2 == 0 else j if e2 == 1 else k\n",
    "        #print(e1_val, e2_val, marginal_prob([e1, e2], [e1_val, e2_val], probs), probs[(i, j, k)])\n",
    "        conditional_entropy -= probs[(i, j, k)] * np.log(probs[(i, j, k)] / marginal_prob([e1, e2], [e1_val, e2_val], probs))\n",
    "    \n",
    "    print(conditional_entropy)\n",
    "    return entropy_e - conditional_entropy\n"
   ]
  },
  {
   "cell_type": "code",
   "execution_count": 495,
   "metadata": {},
   "outputs": [
    {
     "name": "stdout",
     "output_type": "stream",
     "text": [
      "0.6801545769159463\n",
      "0.4870643297871179\n",
      "0.19309024712882839\n"
     ]
    }
   ],
   "source": [
    "info_gain = information_gain(e=0, i=0.1, j=-1, k=-1, beta=1)\n",
    "print(info_gain)"
   ]
  },
  {
   "cell_type": "code",
   "execution_count": 336,
   "metadata": {},
   "outputs": [
    {
     "ename": "NameError",
     "evalue": "name 'information_gain' is not defined",
     "output_type": "error",
     "traceback": [
      "\u001b[1;31m---------------------------------------------------------------------------\u001b[0m",
      "\u001b[1;31mNameError\u001b[0m                                 Traceback (most recent call last)",
      "\u001b[1;32m~\\AppData\\Local\\Temp\\ipykernel_17808\\1886889443.py\u001b[0m in \u001b[0;36m<module>\u001b[1;34m\u001b[0m\n\u001b[1;32m----> 1\u001b[1;33m \u001b[0minfo_gain\u001b[0m \u001b[1;33m=\u001b[0m \u001b[0minformation_gain\u001b[0m\u001b[1;33m(\u001b[0m\u001b[0me\u001b[0m\u001b[1;33m=\u001b[0m\u001b[1;36m0\u001b[0m\u001b[1;33m,\u001b[0m \u001b[0mi\u001b[0m\u001b[1;33m=\u001b[0m\u001b[1;36m0.1\u001b[0m\u001b[1;33m,\u001b[0m \u001b[0mj\u001b[0m\u001b[1;33m=\u001b[0m\u001b[1;36m0.1\u001b[0m\u001b[1;33m,\u001b[0m \u001b[0mk\u001b[0m\u001b[1;33m=\u001b[0m\u001b[1;36m0.1\u001b[0m\u001b[1;33m,\u001b[0m \u001b[0mbeta\u001b[0m\u001b[1;33m=\u001b[0m\u001b[1;36m1\u001b[0m\u001b[1;33m)\u001b[0m\u001b[1;33m\u001b[0m\u001b[1;33m\u001b[0m\u001b[0m\n\u001b[0m\u001b[0;32m      2\u001b[0m \u001b[0mprint\u001b[0m\u001b[1;33m(\u001b[0m\u001b[0minfo_gain\u001b[0m\u001b[1;33m)\u001b[0m\u001b[1;33m\u001b[0m\u001b[1;33m\u001b[0m\u001b[0m\n",
      "\u001b[1;31mNameError\u001b[0m: name 'information_gain' is not defined"
     ]
    }
   ],
   "source": [
    "info_gain = information_gain(e=0, i=0.1, j=0.1, k=0.1, beta=1)\n",
    "print(info_gain)"
   ]
  },
  {
   "cell_type": "code",
   "execution_count": 494,
   "metadata": {},
   "outputs": [
    {
     "name": "stdout",
     "output_type": "stream",
     "text": [
      "0.68975833788507\n",
      "0.09395643018641417\n",
      "0.5958019076986558\n"
     ]
    }
   ],
   "source": [
    "info_gain = information_gain(e=0, i=-0.1, j=1, k=1, beta=1)\n",
    "print(info_gain)"
   ]
  },
  {
   "cell_type": "code",
   "execution_count": 351,
   "metadata": {},
   "outputs": [
    {
     "name": "stdout",
     "output_type": "stream",
     "text": [
      "0.0927281617764718\n"
     ]
    }
   ],
   "source": [
    "info_gain = information_gain(e=0, i=0.1, j=1, k=1, beta=1)\n",
    "print(info_gain)"
   ]
  },
  {
   "cell_type": "code",
   "execution_count": 225,
   "metadata": {},
   "outputs": [],
   "source": [
    "import matplotlib.pyplot as plt\n",
    "import numpy as np\n",
    "\n",
    "def heatmap2d(arr: np.ndarray):\n",
    "    plt.imshow(arr, cmap='viridis')\n",
    "    plt.colorbar()\n",
    "    plt.show()"
   ]
  },
  {
   "cell_type": "code",
   "execution_count": 313,
   "metadata": {},
   "outputs": [],
   "source": [
    "def plot_heatmap(e, ks=[1], betas=[1]):\n",
    "    n = 100\n",
    "    data = np.zeros((n, n))\n",
    "    ii = np.linspace(-1, 1, n)\n",
    "    jj = np.linspace(-1, 1, n)\n",
    "\n",
    "    fig, axes = plt.subplots(nrows=len(betas), ncols=len(ks), figsize=(20, 10))\n",
    "    m = 0\n",
    "    for beta in betas:\n",
    "        l = 0\n",
    "        for k in ks:\n",
    "            for i in range(n):\n",
    "                for j in range(n):\n",
    "                    data[i, j] = info_gain2(e=e, i=ii[i], j=jj[j], k=k, beta=beta)\n",
    "            img = axes[m, l].imshow(data, cmap='viridis')\n",
    "            plt.colorbar(img, ax=axes[m, l])\n",
    "            l += 1\n",
    "        m += 1\n",
    "\n",
    "\n",
    "    fig.tight_layout()\n",
    "    plt.show()"
   ]
  },
  {
   "cell_type": "code",
   "execution_count": null,
   "metadata": {},
   "outputs": [],
   "source": [
    "plot_heatmap(e=2, ks=[-1, -0.9, -0.5, -0.1, 0, 0.1, 0.5, 0.9, 1], betas=[1, 2, 5])"
   ]
  },
  {
   "cell_type": "code",
   "execution_count": 59,
   "metadata": {},
   "outputs": [],
   "source": [
    "triangles = np.random.uniform(-1, 1, (100000, 3))\n",
    "triangles[np.abs(triangles) < 0.1] = np.sign(triangles[np.abs(triangles) < 0.1]) * 0.1"
   ]
  },
  {
   "cell_type": "code",
   "execution_count": 97,
   "metadata": {},
   "outputs": [],
   "source": [
    "extended_similarity_values = [1, -1, 0, 0.1]\n",
    "\n",
    "# Compute information gain for (a, b) in all configurations\n",
    "ab_extended_info_gain_corrected = []\n",
    "\n",
    "triangles = []\n",
    "for s_ab, s_ac, s_bc in product(extended_similarity_values, repeat=3):\n",
    "    triangles.append([s_ab, s_ac, s_bc])"
   ]
  },
  {
   "cell_type": "code",
   "execution_count": 98,
   "metadata": {},
   "outputs": [],
   "source": [
    "triangles_info_gains = {}\n",
    "for (i, j, k) in triangles:\n",
    "    triangles_info_gains[(i, j, k)] = info_gain2(e=0, i=i, j=j, k=k, beta=10)"
   ]
  },
  {
   "cell_type": "code",
   "execution_count": 99,
   "metadata": {},
   "outputs": [],
   "source": [
    "triangles_info_gains = {k: v for k, v in sorted(triangles_info_gains.items(), key=lambda item: -item[1])}"
   ]
  },
  {
   "cell_type": "code",
   "execution_count": 100,
   "metadata": {},
   "outputs": [
    {
     "data": {
      "text/plain": [
       "{(0, 0, 0): 0.7725302239683676,\n",
       " (0.1, 0, 0): 0.7482000417111198,\n",
       " (0, 0, 0.1): 0.7291039910927394,\n",
       " (0, 0.1, 0): 0.7291039910927394,\n",
       " (0, 0.1, 0.1): 0.6845381716287489,\n",
       " (0.1, 0, 0.1): 0.6694619050630789,\n",
       " (0.1, 0.1, 0): 0.6694619050630789,\n",
       " (0.1, 0.1, 0.1): 0.5398812236476045,\n",
       " (0.1, -1, 0): 0.5137206988075713,\n",
       " (0.1, 0, -1): 0.5137206988075713,\n",
       " (0, -1, 0): 0.4884406296275041,\n",
       " (0, 0, -1): 0.4884406296275041,\n",
       " (1, 1, -1): 0.4883871592091301,\n",
       " (1, -1, 1): 0.4883871592091301,\n",
       " (-1, 1, 1): 0.4883256361248133,\n",
       " (0.1, 0.1, -1): 0.48654687782026473,\n",
       " (0.1, -1, 0.1): 0.4865468778202645,\n",
       " (0, 0.1, -1): 0.39639346479176185,\n",
       " (0, -1, 0.1): 0.39639346479176163,\n",
       " (0, 1, 0): 0.3469481375969082,\n",
       " (0, 0, 1): 0.3469481375969082,\n",
       " (0, -1, -1): 0.3468233000946832,\n",
       " (0, 1, 0.1): 0.3201827877013531,\n",
       " (0, 0.1, 1): 0.3201827877013531,\n",
       " (0.1, 1, 0): 0.32009106048888475,\n",
       " (0.1, 0, 1): 0.32009106048888475,\n",
       " (0.1, -1, -1): 0.31999546639062987,\n",
       " (0.1, 1, 0.1): 0.23685873785627454,\n",
       " (0.1, 0.1, 1): 0.23685873785627454,\n",
       " (0.1, 1, -1): 0.00222045936285327,\n",
       " (0.1, -1, 1): 0.00222045936285327,\n",
       " (1, -1, 0.1): 0.0015643136421380362,\n",
       " (1, 0.1, -1): 0.0015643136421380362,\n",
       " (-1, 1, 0.1): 0.0011105630498201224,\n",
       " (-1, 0.1, 1): 0.0011105630498200118,\n",
       " (1, -1, 0): 0.0009079196686488301,\n",
       " (1, 0, -1): 0.0009079196686488301,\n",
       " (0, 1, 1): 0.0009079050679630819,\n",
       " (0, 1, -1): 0.0009078820996139043,\n",
       " (0, -1, 1): 0.0009078820996139043,\n",
       " (1, 0, 0): 0.0007753291213963287,\n",
       " (-1, 0.1, 0.1): 0.0006578160359271834,\n",
       " (1, 0, 0.1): 0.0006520574596151629,\n",
       " (1, 0.1, 0): 0.0006520574596151629,\n",
       " (1, 1, 0): 0.00045406875435586376,\n",
       " (1, 0, 1): 0.00045406875435586376,\n",
       " (1, -1, -1): 0.0004540582775535367,\n",
       " (-1, 1, 0): 0.0004540416545844514,\n",
       " (-1, 0, 1): 0.0004540416545844514,\n",
       " (-1, -1, -1): 0.0004540004408903188,\n",
       " (-1, 0.1, 0): 0.0004220270336031673,\n",
       " (-1, 0, 0.1): 0.00042202703360305627,\n",
       " (1, 0.1, 0.1): 0.00040572078338219075,\n",
       " (-1, 0, 0): 0.00036917824513316155,\n",
       " (0.1, 1, 1): 0.0003674446670032203,\n",
       " (-1, -1, 0): 0.00025851013085531616,\n",
       " (-1, 0, -1): 0.00025851013085531616,\n",
       " (1, 1, 0.1): 0.0001837908280657526,\n",
       " (1, 0.1, 1): 0.0001837908280657526,\n",
       " (-1, 0.1, -1): 0.00014530104924459497,\n",
       " (-1, -1, 0.1): 0.00014530104924448395,\n",
       " (-1, 1, -1): 1.0608494725034001e-07,\n",
       " (-1, -1, 1): 1.0608494725034001e-07,\n",
       " (1, 1, 1): 9.609044099295672e-08}"
      ]
     },
     "execution_count": 100,
     "metadata": {},
     "output_type": "execute_result"
    }
   ],
   "source": [
    "triangles_info_gains"
   ]
  },
  {
   "cell_type": "code",
   "execution_count": null,
   "metadata": {},
   "outputs": [],
   "source": []
  },
  {
   "cell_type": "code",
   "execution_count": null,
   "metadata": {},
   "outputs": [],
   "source": []
  }
 ],
 "metadata": {
  "kernelspec": {
   "display_name": "base",
   "language": "python",
   "name": "python3"
  },
  "language_info": {
   "codemirror_mode": {
    "name": "ipython",
    "version": 3
   },
   "file_extension": ".py",
   "mimetype": "text/x-python",
   "name": "python",
   "nbconvert_exporter": "python",
   "pygments_lexer": "ipython3",
   "version": "3.9.13"
  }
 },
 "nbformat": 4,
 "nbformat_minor": 2
}
