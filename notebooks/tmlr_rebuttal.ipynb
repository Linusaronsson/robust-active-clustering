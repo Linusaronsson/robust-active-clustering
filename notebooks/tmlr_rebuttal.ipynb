{
 "cells": [
  {
   "cell_type": "code",
   "execution_count": null,
   "metadata": {},
   "outputs": [],
   "source": [
    "from rac.experiment_data import ExperimentReader\n",
    "start_index = 1\n",
    "exp_reader = ExperimentReader([\"rand\"])\n",
    "config = {\n",
    "    \"general_options\": {\n",
    "        \"experiment_name\": \"tmlr_rebuttal\",\n",
    "        \"num_repeats\": 14,\n",
    "        \"n_workers\": 14,\n",
    "        \"local\": True,\n",
    "        \"verbose\": False\n",
    "    },\n",
    "    \"experiment_options\": {\n",
    "        \"seed\": 33,\n",
    "        \"num_feedback\": 0.001,\n",
    "        \"noise_level\": [0.0, 0.4],\n",
    "        \"persistent_noise_level\": 0.0,\n",
    "        \"save_matrix_data\": False,\n",
    "        \"infer_sims\": False,\n",
    "        \"predict_sims\": False,\n",
    "        \"clustering_alg\": \"CC\",\n",
    "        \"running_avg\": True,\n",
    "        \"num_maxmin_edges\": [1, 2, 5, 10, 20, 50, 10000],\n",
    "    },\n",
    "    \"sim_init_options\": {\n",
    "        \"K_init\": 10,\n",
    "        \"sim_init\": [0.01, 0.1],\n",
    "        \"sim_init_type\": [\"custom\"]\n",
    "    },\n",
    "    \"query_strategy_options\": {\n",
    "        \"acq_fn\": [\"maxmin\", \"maxexp\"],\n",
    "        \"eps\": 0.3,\n",
    "        \"beta\": 1,\n",
    "        \"tau\": [7],\n",
    "        \"alpha\": 1\n",
    "    },\n",
    "    \"dataset_options\": {\n",
    "        \"dataset\": \"synthetic\",\n",
    "        \"n_samples\": 500,\n",
    "        \"n_clusters\": 10,\n",
    "        \"class_balance\": None\n",
    "    }\n",
    "}\n",
    "\n",
    "\n",
    "start_index = exp_reader.generate_experiments(\n",
    "    folder=\"../configs/tmlr_rebuttal/\", \n",
    "    options_to_keep=[],\n",
    "    start_index=start_index,\n",
    "    **config\n",
    ")"
   ]
  }
 ],
 "metadata": {
  "language_info": {
   "name": "python"
  }
 },
 "nbformat": 4,
 "nbformat_minor": 2
}
