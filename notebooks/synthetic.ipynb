{
 "cells": [
  {
   "cell_type": "code",
   "execution_count": 9,
   "metadata": {},
   "outputs": [],
   "source": [
    "start_index = 1"
   ]
  },
  {
   "cell_type": "code",
   "execution_count": 10,
   "metadata": {},
   "outputs": [],
   "source": [
    "from rac.experiment_data import ExperimentReader\n",
    "exp_reader = ExperimentReader([\"rand\"])\n",
    "config = {\n",
    "    \"general_options\": {\n",
    "        \"experiment_name\": \"benchmark_v2\",\n",
    "        \"num_repeats\": 10,\n",
    "        \"n_workers\": 10,\n",
    "        \"local\": False,\n",
    "        \"verbose\": False\n",
    "    },\n",
    "    \"experiment_options\": {\n",
    "        \"seed\": 33,\n",
    "        \"num_feedback\": [10, 50, 100, 500, 1000, 2000, 4000, 8000],\n",
    "        \"noise_level\": [0.2],\n",
    "        \"persistent_noise_level\": 0.0,\n",
    "        \"force_global_update\": True,\n",
    "        \"save_matrix_data\": False,\n",
    "        \"infer_sims\": False,\n",
    "        \"regular_noise\": [False]\n",
    "    },\n",
    "    \"sim_init_options\": {\n",
    "        \"K_init\": 10,\n",
    "        \"sim_init\": [0.1],\n",
    "        \"sim_init_type\": [\"custom\", \"random_clustering\"]\n",
    "    },\n",
    "    \"query_strategy_options\": {\n",
    "        \"acq_fn\": [\"unif\", \"freq\", \"uncert\"],\n",
    "        \"local_regions\": [\"pairs\"],\n",
    "        \"eps\": [0.3],\n",
    "        \"beta\": 1,\n",
    "        \"tau\": [7],\n",
    "        \"alpha\": 1\n",
    "    },\n",
    "    \"dataset_options\": {\n",
    "        \"dataset\": \"synthetic\",\n",
    "        \"n_samples\": 500,\n",
    "        \"n_clusters\": 10,\n",
    "        \"class_balance\": None\n",
    "    }\n",
    "}\n",
    "start_index = exp_reader.generate_experiments(\n",
    "    folder=\"../configs/benchmark_v2/\", \n",
    "    options_to_keep=[],\n",
    "    start_index=start_index,\n",
    "    **config\n",
    ")"
   ]
  },
  {
   "cell_type": "code",
   "execution_count": 11,
   "metadata": {},
   "outputs": [],
   "source": [
    "from rac.experiment_data import ExperimentReader\n",
    "exp_reader = ExperimentReader([\"rand\"])\n",
    "config = {\n",
    "    \"general_options\": {\n",
    "        \"experiment_name\": \"benchmark_v2\",\n",
    "        \"num_repeats\": 10,\n",
    "        \"n_workers\": 10,\n",
    "        \"local\": False,\n",
    "        \"verbose\": False\n",
    "    },\n",
    "    \"experiment_options\": {\n",
    "        \"seed\": 33,\n",
    "        \"num_feedback\": [10, 50, 100, 500, 1000, 2000, 4000, 8000],\n",
    "        \"noise_level\": [0.2],\n",
    "        \"persistent_noise_level\": 0.0,\n",
    "        \"force_global_update\": True,\n",
    "        \"save_matrix_data\": False,\n",
    "        \"infer_sims\": False,\n",
    "        \"regular_noise\": [False]\n",
    "    },\n",
    "    \"sim_init_options\": {\n",
    "        \"K_init\": 10,\n",
    "        \"sim_init\": [0.1],\n",
    "        \"sim_init_type\": [\"custom\", \"random_clustering\"]\n",
    "    },\n",
    "    \"query_strategy_options\": {\n",
    "        \"acq_fn\": [\"maxmin2\", \"maxexp2\"],\n",
    "        \"local_regions\": [\"triangles\"],\n",
    "        \"eps\": [0.3],\n",
    "        \"beta\": 1,\n",
    "        \"tau\": [7],\n",
    "        \"alpha\": 1\n",
    "    },\n",
    "    \"dataset_options\": {\n",
    "        \"dataset\": \"synthetic\",\n",
    "        \"n_samples\": 500,\n",
    "        \"n_clusters\": 10,\n",
    "        \"class_balance\": None\n",
    "    }\n",
    "}\n",
    "start_index = exp_reader.generate_experiments(\n",
    "    folder=\"../configs/benchmark_v2/\", \n",
    "    options_to_keep=[],\n",
    "    start_index=start_index,\n",
    "    **config\n",
    ")"
   ]
  },
  {
   "cell_type": "code",
   "execution_count": 12,
   "metadata": {},
   "outputs": [],
   "source": [
    "from rac.experiment_data import ExperimentReader\n",
    "exp_reader = ExperimentReader([\"rand\"])\n",
    "config = {\n",
    "    \"general_options\": {\n",
    "        \"experiment_name\": \"benchmark_v2\",\n",
    "        \"num_repeats\": 10,\n",
    "        \"n_workers\": 10,\n",
    "        \"local\": False,\n",
    "        \"verbose\": False\n",
    "    },\n",
    "    \"experiment_options\": {\n",
    "        \"seed\": 33,\n",
    "        \"num_feedback\": [10, 50, 100, 500, 1000, 2000, 4000, 8000],\n",
    "        \"noise_level\": [0.2],\n",
    "        \"persistent_noise_level\": 0.0,\n",
    "        \"force_global_update\": True,\n",
    "        \"save_matrix_data\": False,\n",
    "        \"infer_sims\": False,\n",
    "        \"regular_noise\": [False]\n",
    "    },\n",
    "    \"sim_init_options\": {\n",
    "        \"K_init\": 10,\n",
    "        \"sim_init\": [0.1],\n",
    "        \"sim_init_type\": [\"custom\", \"random_clustering\"]\n",
    "    },\n",
    "    \"query_strategy_options\": {\n",
    "        \"acq_fn\": [\"COBRAS\", \"nCOBRAS\", \"QECC\"],\n",
    "        \"local_regions\": [\"none\"],\n",
    "        \"eps\": [0.3],\n",
    "        \"beta\": 1,\n",
    "        \"tau\": [7],\n",
    "        \"alpha\": 1\n",
    "    },\n",
    "    \"dataset_options\": {\n",
    "        \"dataset\": \"synthetic\",\n",
    "        \"n_samples\": 500,\n",
    "        \"n_clusters\": 10,\n",
    "        \"class_balance\": None\n",
    "    }\n",
    "}\n",
    "start_index = exp_reader.generate_experiments(\n",
    "    folder=\"../configs/benchmark_v2/\", \n",
    "    options_to_keep=[],\n",
    "    start_index=start_index,\n",
    "    **config\n",
    ")"
   ]
  },
  {
   "cell_type": "code",
   "execution_count": 13,
   "metadata": {},
   "outputs": [
    {
     "data": {
      "text/plain": [
       "array([0.        , 0.01603206, 0.03206413, 0.04809619, 0.06412826,\n",
       "       0.08016032, 0.09619238, 0.11222445, 0.12825651, 0.14428858,\n",
       "       0.16032064, 0.17635271, 0.19238477, 0.20841683, 0.2244489 ,\n",
       "       0.24048096, 0.25651303, 0.27254509, 0.28857715, 0.30460922,\n",
       "       0.32064128, 0.33667335, 0.35270541, 0.36873747, 0.38476954,\n",
       "       0.4008016 , 0.41683367, 0.43286573, 0.4488978 , 0.46492986,\n",
       "       0.48096192, 0.49699399, 0.51302605, 0.52905812, 0.54509018,\n",
       "       0.56112224, 0.57715431, 0.59318637, 0.60921844, 0.6252505 ])"
      ]
     },
     "execution_count": 13,
     "metadata": {},
     "output_type": "execute_result"
    }
   ],
   "source": [
    "import numpy as np\n",
    "#import math\n",
    "n_edges = (500*499)/2\n",
    "#query_size = math.ceil(n_edges * 0.002)\n",
    "ts = []\n",
    "for i in range(0, 40):\n",
    "    ts.append(i*2000)\n",
    "\n",
    "thresholds = np.array(ts)/n_edges\n",
    "thresholds"
   ]
  },
  {
   "cell_type": "code",
   "execution_count": 75,
   "metadata": {},
   "outputs": [
    {
     "data": {
      "text/plain": [
       "0"
      ]
     },
     "execution_count": 75,
     "metadata": {},
     "output_type": "execute_result"
    }
   ],
   "source": [
    "4000%2000"
   ]
  },
  {
   "cell_type": "code",
   "execution_count": 14,
   "metadata": {},
   "outputs": [],
   "source": [
    "from rac.experiment_data import ExperimentReader\n",
    "exp_reader = ExperimentReader([\"rand\"])\n",
    "config = {\n",
    "    \"general_options\": {\n",
    "        \"experiment_name\": \"benchmark_v2\",\n",
    "        \"num_repeats\": 10,\n",
    "        \"n_workers\": 10,\n",
    "        \"local\": False,\n",
    "        \"verbose\": False\n",
    "    },\n",
    "    \"experiment_options\": {\n",
    "        \"seed\": 33,\n",
    "        \"num_feedback\": 0.001,\n",
    "        \"noise_level\": [0.0, 0.1, 0.2, 0.3, 0.4, 0.5, 0.6, 0.8],\n",
    "        \"persistent_noise_level\": 0.0,\n",
    "        \"force_global_update\": True,\n",
    "        \"save_matrix_data\": False,\n",
    "        \"infer_sims\": False,\n",
    "        \"regular_noise\": [False]\n",
    "    },\n",
    "    \"sim_init_options\": {\n",
    "        \"K_init\": 10,\n",
    "        \"sim_init\": [0.1],\n",
    "        \"sim_init_type\": [\"custom\", \"random_clustering\"]\n",
    "    },\n",
    "    \"query_strategy_options\": {\n",
    "        \"acq_fn\": [\"unif\", \"freq\", \"uncert\"],\n",
    "        \"local_regions\": [\"pairs\"],\n",
    "        \"eps\": [0.3],\n",
    "        \"beta\": 1,\n",
    "        \"tau\": [7],\n",
    "        \"alpha\": 1\n",
    "    },\n",
    "    \"dataset_options\": {\n",
    "        \"dataset\": \"synthetic\",\n",
    "        \"n_samples\": 500,\n",
    "        \"n_clusters\": 10,\n",
    "        \"class_balance\": None\n",
    "    }\n",
    "}\n",
    "start_index = exp_reader.generate_experiments(\n",
    "    folder=\"../configs/benchmark_v2/\", \n",
    "    options_to_keep=[],\n",
    "    start_index=start_index,\n",
    "    **config\n",
    ")"
   ]
  },
  {
   "cell_type": "code",
   "execution_count": 15,
   "metadata": {},
   "outputs": [],
   "source": [
    "from rac.experiment_data import ExperimentReader\n",
    "exp_reader = ExperimentReader([\"rand\"])\n",
    "config = {\n",
    "    \"general_options\": {\n",
    "        \"experiment_name\": \"benchmark_v2\",\n",
    "        \"num_repeats\": 10,\n",
    "        \"n_workers\": 10,\n",
    "        \"local\": False,\n",
    "        \"verbose\": False\n",
    "    },\n",
    "    \"experiment_options\": {\n",
    "        \"seed\": 33,\n",
    "        \"num_feedback\": 0.001,\n",
    "        \"noise_level\": [0.0, 0.1, 0.2, 0.3, 0.4, 0.5, 0.6, 0.8],\n",
    "        \"persistent_noise_level\": 0.0,\n",
    "        \"force_global_update\": True,\n",
    "        \"save_matrix_data\": False,\n",
    "        \"infer_sims\": False,\n",
    "        \"regular_noise\": [False]\n",
    "    },\n",
    "    \"sim_init_options\": {\n",
    "        \"K_init\": 10,\n",
    "        \"sim_init\": [0.1],\n",
    "        \"sim_init_type\": [\"custom\", \"random_clustering\"]\n",
    "    },\n",
    "    \"query_strategy_options\": {\n",
    "        \"acq_fn\": [\"maxmin2\", \"maxexp2\"],\n",
    "        \"local_regions\": [\"triangles\"],\n",
    "        \"eps\": [0.3],\n",
    "        \"beta\": 1,\n",
    "        \"tau\": [7],\n",
    "        \"alpha\": 1\n",
    "    },\n",
    "    \"dataset_options\": {\n",
    "        \"dataset\": \"synthetic\",\n",
    "        \"n_samples\": 500,\n",
    "        \"n_clusters\": 10,\n",
    "        \"class_balance\": None\n",
    "    }\n",
    "}\n",
    "start_index = exp_reader.generate_experiments(\n",
    "    folder=\"../configs/benchmark_v2/\", \n",
    "    options_to_keep=[],\n",
    "    start_index=start_index,\n",
    "    **config\n",
    ")"
   ]
  },
  {
   "cell_type": "code",
   "execution_count": 16,
   "metadata": {},
   "outputs": [],
   "source": [
    "from rac.experiment_data import ExperimentReader\n",
    "exp_reader = ExperimentReader([\"rand\"])\n",
    "config = {\n",
    "    \"general_options\": {\n",
    "        \"experiment_name\": \"benchmark_v2\",\n",
    "        \"num_repeats\": 10,\n",
    "        \"n_workers\": 10,\n",
    "        \"local\": False,\n",
    "        \"verbose\": False\n",
    "    },\n",
    "    \"experiment_options\": {\n",
    "        \"seed\": 33,\n",
    "        \"num_feedback\": 0.001,\n",
    "        \"noise_level\": [0.0, 0.1, 0.2, 0.3, 0.4, 0.5, 0.6, 0.8],\n",
    "        \"persistent_noise_level\": 0.0,\n",
    "        \"force_global_update\": True,\n",
    "        \"save_matrix_data\": False,\n",
    "        \"infer_sims\": False,\n",
    "        \"regular_noise\": [False]\n",
    "    },\n",
    "    \"sim_init_options\": {\n",
    "        \"K_init\": 10,\n",
    "        \"sim_init\": [0.1],\n",
    "        \"sim_init_type\": [\"custom\", \"random_clustering\"]\n",
    "    },\n",
    "    \"query_strategy_options\": {\n",
    "        \"acq_fn\": [\"COBRAS\", \"nCOBRAS\", \"QECC\"],\n",
    "        \"local_regions\": [\"none\"],\n",
    "        \"eps\": [0.3],\n",
    "        \"beta\": 1,\n",
    "        \"tau\": [7],\n",
    "        \"alpha\": 1\n",
    "    },\n",
    "    \"dataset_options\": {\n",
    "        \"dataset\": \"synthetic\",\n",
    "        \"n_samples\": 500,\n",
    "        \"n_clusters\": 10,\n",
    "        \"class_balance\": None\n",
    "    }\n",
    "}\n",
    "start_index = exp_reader.generate_experiments(\n",
    "    folder=\"../configs/benchmark_v2/\", \n",
    "    options_to_keep=[],\n",
    "    start_index=start_index,\n",
    "    **config\n",
    ")"
   ]
  },
  {
   "cell_type": "code",
   "execution_count": null,
   "metadata": {},
   "outputs": [],
   "source": []
  },
  {
   "cell_type": "code",
   "execution_count": null,
   "metadata": {},
   "outputs": [],
   "source": []
  },
  {
   "cell_type": "code",
   "execution_count": 1,
   "metadata": {},
   "outputs": [
    {
     "data": {
      "text/plain": [
       "<Figure size 1200x1200 with 0 Axes>"
      ]
     },
     "metadata": {},
     "output_type": "display_data"
    }
   ],
   "source": [
    "from rac.experiment_data import ExperimentReader\n",
    "metrics = [\"rand\", \"ami\"]\n",
    "ac = ExperimentReader(metrics=metrics)\n",
    "\n",
    "config = {\n",
    "    \"experiment_options\": {\n",
    "        \"seed\": 33,\n",
    "        \"num_feedback\": [10, 50, 100, 500, 1000, 2000],\n",
    "        \"noise_level\": 0.2,\n",
    "        \"persistent_noise_level\": 0.0,\n",
    "        \"force_global_update\": True,\n",
    "        \"save_matrix_data\": False,\n",
    "        \"infer_sims\": False,\n",
    "        \"regular_noise\": False\n",
    "    },\n",
    "    \"sim_init_options\": {\n",
    "        \"K_init\": 10,\n",
    "        \"sim_init\": 0.1,\n",
    "        \"sim_init_type\": \"random_clustering\"\n",
    "    },\n",
    "    \"query_strategy_options\": {\n",
    "        \"acq_fn\": [\"unif\", \"freq\", \"uncert\", \"maxmin2\", \"maxexp2\", \"COBRAS\", \"nCOBRAS\", \"QECC\"],\n",
    "        \"local_regions\": [\"none\", \"pairs\", \"triangles\"],\n",
    "        \"eps\": 0.3,\n",
    "        \"beta\": 1,\n",
    "        \"tau\": 7,\n",
    "        \"alpha\": 1\n",
    "    },\n",
    "    \"dataset_options\": {\n",
    "        \"dataset\": \"synthetic\",\n",
    "        \"n_samples\": 500,\n",
    "        \"n_clusters\": 10,\n",
    "        \"class_balance\": None\n",
    "    }\n",
    "}\n",
    "\n",
    "\n",
    "config2 = {\n",
    "        \"seed\": 33,\n",
    "        \"num_feedback\": [10, 50, 100, 500, 1000, 2000],\n",
    "        \"noise_level\": 0.2,\n",
    "        \"persistent_noise_level\": 0.0,\n",
    "        \"force_global_update\": True,\n",
    "        \"save_matrix_data\": False,\n",
    "        \"infer_sims\": False,\n",
    "        \"regular_noise\": False,\n",
    "        \"K_init\": 10,\n",
    "        \"sim_init\": 0.1,\n",
    "        \"sim_init_type\": \"random_clustering\",\n",
    "        \"acq_fn\": [\"unif\", \"freq\", \"uncert\", \"maxmin2\", \"maxexp2\", \"COBRAS\", \"nCOBRAS\", \"QECC\"],\n",
    "        \"local_regions\": [\"none\", \"pairs\", \"triangles\"],\n",
    "        \"eps\": 0.3,\n",
    "        \"beta\": 1,\n",
    "        \"tau\": 7,\n",
    "        \"alpha\": 1,\n",
    "        \"dataset\": \"synthetic\",\n",
    "        \"n_samples\": 500,\n",
    "        \"n_clusters\": 10,\n",
    "        \"class_balance\": None\n",
    "}\n",
    "\n",
    "\n",
    "data = ac.read_all_data(folder=\"../experiment_results/benchmark_v2/synthetic_500_10_None\")\n",
    "data = ac.filter_dataframe(data, config2).reset_index()\n",
    "\n",
    "ac.generate_AL_curves2(\n",
    "    data,\n",
    "    save_location=\"../plots/benchmark_v2_synthetic/batch_size/\",\n",
    "    categorize=[\"noise_level\", \"sim_init_type\"],\n",
    "    compare=[\"acq_fn\", \"local_regions\"], \n",
    "    vary=[\"num_feedback\"],\n",
    "    auc=True,\n",
    "    summary_method=\"batch_size\",\n",
    "    indices=[], \n",
    "    threshold=1,\n",
    "    err_style=\"bars\",\n",
    "    marker=\"o\",\n",
    "    markersize=6,\n",
    "    capsize=6,\n",
    "    linestyle=\"solid\",\n",
    "    **config\n",
    ")"
   ]
  },
  {
   "cell_type": "code",
   "execution_count": 2,
   "metadata": {},
   "outputs": [
    {
     "data": {
      "text/plain": [
       "<Figure size 1200x1200 with 0 Axes>"
      ]
     },
     "metadata": {},
     "output_type": "display_data"
    }
   ],
   "source": [
    "from rac.experiment_data import ExperimentReader\n",
    "metrics = [\"rand\", \"ami\"]\n",
    "ac = ExperimentReader(metrics=metrics)\n",
    "\n",
    "config = {\n",
    "    \"experiment_options\": {\n",
    "        \"seed\": 33,\n",
    "        \"num_feedback\": 0.001,\n",
    "        \"noise_level\": [0.0, 0.1, 0.2, 0.3, 0.4, 0.5, 0.6, 0.8],\n",
    "        \"persistent_noise_level\": 0.0,\n",
    "        \"force_global_update\": True,\n",
    "        \"save_matrix_data\": False,\n",
    "        \"infer_sims\": False,\n",
    "        \"regular_noise\": False\n",
    "    },\n",
    "    \"sim_init_options\": {\n",
    "        \"K_init\": 10,\n",
    "        \"sim_init\": 0.1,\n",
    "        \"sim_init_type\": \"random_clustering\"\n",
    "    },\n",
    "    \"query_strategy_options\": {\n",
    "        \"acq_fn\": [\"unif\", \"freq\", \"uncert\", \"maxmin2\", \"maxexp2\", \"COBRAS\", \"nCOBRAS\", \"QECC\"],\n",
    "        \"local_regions\": [\"none\", \"pairs\", \"triangles\"],\n",
    "        \"eps\": 0.3,\n",
    "        \"beta\": 1,\n",
    "        \"tau\": 7,\n",
    "        \"alpha\": 1\n",
    "    },\n",
    "    \"dataset_options\": {\n",
    "        \"dataset\": \"synthetic\",\n",
    "        \"n_samples\": 500,\n",
    "        \"n_clusters\": 10,\n",
    "        \"class_balance\": None\n",
    "    }\n",
    "}\n",
    "\n",
    "\n",
    "config2 = {\n",
    "    \"seed\": 33,\n",
    "    \"num_feedback\": 0.001,\n",
    "    \"noise_level\": [0.0, 0.1, 0.2, 0.3, 0.4, 0.5, 0.6, 0.8],\n",
    "    \"persistent_noise_level\": 0.0,\n",
    "    \"force_global_update\": True,\n",
    "    \"save_matrix_data\": False,\n",
    "    \"infer_sims\": False,\n",
    "    \"regular_noise\": False,\n",
    "    \"K_init\": 10,\n",
    "    \"sim_init\": 0.1,\n",
    "    \"sim_init_type\": \"random_clustering\",\n",
    "    \"acq_fn\": [\"unif\", \"freq\", \"uncert\", \"maxmin2\", \"maxexp2\", \"COBRAS\", \"nCOBRAS\", \"QECC\"],\n",
    "    \"local_regions\": [\"none\", \"pairs\", \"triangles\"],\n",
    "    \"eps\": 0.3,\n",
    "    \"beta\": 1,\n",
    "    \"tau\": 7,\n",
    "    \"alpha\": 1,\n",
    "    \"dataset\": \"synthetic\",\n",
    "    \"n_samples\": 500,\n",
    "    \"n_clusters\": 10,\n",
    "    \"class_balance\": None\n",
    "}\n",
    "\n",
    "\n",
    "data = ac.read_all_data(folder=\"../experiment_results/benchmark_v2/synthetic_500_10_None\")\n",
    "data = ac.filter_dataframe(data, config2).reset_index()\n",
    "\n",
    "ac.generate_AL_curves2(\n",
    "    data,\n",
    "    save_location=\"../plots/benchmark_v2_synthetic/noise_level_vary\",\n",
    "    categorize=[\"sim_init_type\"],\n",
    "    compare=[\"acq_fn\", \"local_regions\"], \n",
    "    vary=[\"noise_level\"],\n",
    "    auc=True,\n",
    "    summary_method=\"auc_max_ind\",\n",
    "    indices=[], \n",
    "    threshold=1,\n",
    "    err_style=\"bars\",\n",
    "    marker=\"o\",\n",
    "    markersize=6,\n",
    "    capsize=6,\n",
    "    linestyle=\"solid\",\n",
    "    **config\n",
    ")"
   ]
  },
  {
   "cell_type": "code",
   "execution_count": null,
   "metadata": {},
   "outputs": [],
   "source": []
  },
  {
   "cell_type": "code",
   "execution_count": null,
   "metadata": {},
   "outputs": [],
   "source": []
  },
  {
   "cell_type": "code",
   "execution_count": null,
   "metadata": {},
   "outputs": [],
   "source": []
  },
  {
   "cell_type": "code",
   "execution_count": 62,
   "metadata": {},
   "outputs": [
    {
     "data": {
      "text/plain": [
       "1.0"
      ]
     },
     "execution_count": 62,
     "metadata": {},
     "output_type": "execute_result"
    }
   ],
   "source": [
    "import numpy as np\n",
    "np.trapz(np.array([1,1,1,1,1,1,1,1,1,1,1,1,1]))/12"
   ]
  },
  {
   "cell_type": "code",
   "execution_count": 42,
   "metadata": {},
   "outputs": [
    {
     "data": {
      "text/plain": [
       "(10, 651)"
      ]
     },
     "execution_count": 42,
     "metadata": {},
     "output_type": "execute_result"
    }
   ],
   "source": [
    "data[\"rand\"][1].shape"
   ]
  },
  {
   "cell_type": "code",
   "execution_count": 43,
   "metadata": {},
   "outputs": [],
   "source": [
    "data = ac.summarize_AL_procedure(\n",
    "    data,\n",
    "    auc=True, \n",
    "    method=\"auc_max_ind\", \n",
    "    indices=[], \n",
    "    threshold=1\n",
    ")"
   ]
  },
  {
   "cell_type": "code",
   "execution_count": 45,
   "metadata": {},
   "outputs": [
    {
     "data": {
      "text/plain": [
       "(10, 1)"
      ]
     },
     "execution_count": 45,
     "metadata": {},
     "output_type": "execute_result"
    }
   ],
   "source": [
    "data[\"rand\"][1].shape"
   ]
  },
  {
   "cell_type": "code",
   "execution_count": 18,
   "metadata": {},
   "outputs": [],
   "source": [
    "data = ac.filter_dataframe(data, {\"num_feedback\": 10})"
   ]
  },
  {
   "cell_type": "code",
   "execution_count": 80,
   "metadata": {},
   "outputs": [
    {
     "data": {
      "text/plain": [
       "Index(['seed', 'num_feedback', 'noise_level', 'persistent_noise_level',\n",
       "       'force_global_update', 'save_matrix_data', 'infer_sims',\n",
       "       'regular_noise', 'K_init', 'sim_init', 'sim_init_type', 'acq_fn',\n",
       "       'local_regions', 'eps', 'beta', 'tau', 'alpha', 'dataset', 'n_samples',\n",
       "       'n_clusters', 'class_balance', 'ami', 'rand'],\n",
       "      dtype='object')"
      ]
     },
     "execution_count": 80,
     "metadata": {},
     "output_type": "execute_result"
    }
   ],
   "source": [
    "data.columns"
   ]
  },
  {
   "cell_type": "code",
   "execution_count": 79,
   "metadata": {},
   "outputs": [
    {
     "data": {
      "text/plain": [
       "0      500\n",
       "1      500\n",
       "2      500\n",
       "3      500\n",
       "4      500\n",
       "      ... \n",
       "239    500\n",
       "240    500\n",
       "241    500\n",
       "242    500\n",
       "243    500\n",
       "Name: n_samples, Length: 244, dtype: int64"
      ]
     },
     "execution_count": 79,
     "metadata": {},
     "output_type": "execute_result"
    }
   ],
   "source": [
    "data[\"n_samples\"]"
   ]
  },
  {
   "cell_type": "code",
   "execution_count": 25,
   "metadata": {},
   "outputs": [
    {
     "data": {
      "text/plain": [
       "36     maxmin2\n",
       "38     maxexp2\n",
       "47     nCOBRAS\n",
       "49      COBRAS\n",
       "75      COBRAS\n",
       "89     nCOBRAS\n",
       "106       unif\n",
       "121       QECC\n",
       "140       QECC\n",
       "159     uncert\n",
       "166       freq\n",
       "184       unif\n",
       "212    maxmin2\n",
       "234       freq\n",
       "236    maxexp2\n",
       "243     uncert\n",
       "Name: acq_fn, dtype: object"
      ]
     },
     "execution_count": 25,
     "metadata": {},
     "output_type": "execute_result"
    }
   ],
   "source": [
    "data[\"acq_fn\"]"
   ]
  },
  {
   "cell_type": "code",
   "execution_count": null,
   "metadata": {},
   "outputs": [],
   "source": []
  }
 ],
 "metadata": {
  "kernelspec": {
   "display_name": "base",
   "language": "python",
   "name": "python3"
  },
  "language_info": {
   "codemirror_mode": {
    "name": "ipython",
    "version": 3
   },
   "file_extension": ".py",
   "mimetype": "text/x-python",
   "name": "python",
   "nbconvert_exporter": "python",
   "pygments_lexer": "ipython3",
   "version": "3.9.13"
  }
 },
 "nbformat": 4,
 "nbformat_minor": 2
}
